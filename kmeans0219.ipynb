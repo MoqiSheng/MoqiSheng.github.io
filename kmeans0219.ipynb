{
  "nbformat": 4,
  "nbformat_minor": 0,
  "metadata": {
    "colab": {
      "provenance": [],
      "gpuType": "A100",
      "authorship_tag": "ABX9TyP5prcT1rcZJ6U1SXycR19+",
      "include_colab_link": true
    },
    "kernelspec": {
      "name": "python3",
      "display_name": "Python 3"
    },
    "language_info": {
      "name": "python"
    },
    "accelerator": "GPU",
    "widgets": {
      "application/vnd.jupyter.widget-state+json": {
        "0650cb5a5f5944e39b466861fce25305": {
          "model_module": "@jupyter-widgets/controls",
          "model_name": "HBoxModel",
          "model_module_version": "1.5.0",
          "state": {
            "_dom_classes": [],
            "_model_module": "@jupyter-widgets/controls",
            "_model_module_version": "1.5.0",
            "_model_name": "HBoxModel",
            "_view_count": null,
            "_view_module": "@jupyter-widgets/controls",
            "_view_module_version": "1.5.0",
            "_view_name": "HBoxView",
            "box_style": "",
            "children": [
              "IPY_MODEL_d9323271d61b4b2c927479e01dd4ef55",
              "IPY_MODEL_d887d75d539544e28c1159584f9dc2e0",
              "IPY_MODEL_ff18641969ed499fbbeb1e617261ef06"
            ],
            "layout": "IPY_MODEL_d89a77e1f4da4c269b8b59740d85d9f0"
          }
        },
        "d9323271d61b4b2c927479e01dd4ef55": {
          "model_module": "@jupyter-widgets/controls",
          "model_name": "HTMLModel",
          "model_module_version": "1.5.0",
          "state": {
            "_dom_classes": [],
            "_model_module": "@jupyter-widgets/controls",
            "_model_module_version": "1.5.0",
            "_model_name": "HTMLModel",
            "_view_count": null,
            "_view_module": "@jupyter-widgets/controls",
            "_view_module_version": "1.5.0",
            "_view_name": "HTMLView",
            "description": "",
            "description_tooltip": null,
            "layout": "IPY_MODEL_c5b3602f54dc450a901bd07682a9c4e7",
            "placeholder": "​",
            "style": "IPY_MODEL_b8ed77ffa01944ef82f31458a1d0412d",
            "value": "preprocessor_config.json: 100%"
          }
        },
        "d887d75d539544e28c1159584f9dc2e0": {
          "model_module": "@jupyter-widgets/controls",
          "model_name": "FloatProgressModel",
          "model_module_version": "1.5.0",
          "state": {
            "_dom_classes": [],
            "_model_module": "@jupyter-widgets/controls",
            "_model_module_version": "1.5.0",
            "_model_name": "FloatProgressModel",
            "_view_count": null,
            "_view_module": "@jupyter-widgets/controls",
            "_view_module_version": "1.5.0",
            "_view_name": "ProgressView",
            "bar_style": "success",
            "description": "",
            "description_tooltip": null,
            "layout": "IPY_MODEL_aa7854b09f0340de94bacd6337d8b970",
            "max": 160,
            "min": 0,
            "orientation": "horizontal",
            "style": "IPY_MODEL_2e68bc7853144259827c67f4127901a1",
            "value": 160
          }
        },
        "ff18641969ed499fbbeb1e617261ef06": {
          "model_module": "@jupyter-widgets/controls",
          "model_name": "HTMLModel",
          "model_module_version": "1.5.0",
          "state": {
            "_dom_classes": [],
            "_model_module": "@jupyter-widgets/controls",
            "_model_module_version": "1.5.0",
            "_model_name": "HTMLModel",
            "_view_count": null,
            "_view_module": "@jupyter-widgets/controls",
            "_view_module_version": "1.5.0",
            "_view_name": "HTMLView",
            "description": "",
            "description_tooltip": null,
            "layout": "IPY_MODEL_b1b733571fa94ce79c82cbaecf2438ad",
            "placeholder": "​",
            "style": "IPY_MODEL_d1b0b908e8674dec9089fba8ea7af15e",
            "value": " 160/160 [00:00&lt;00:00, 19.5kB/s]"
          }
        },
        "d89a77e1f4da4c269b8b59740d85d9f0": {
          "model_module": "@jupyter-widgets/base",
          "model_name": "LayoutModel",
          "model_module_version": "1.2.0",
          "state": {
            "_model_module": "@jupyter-widgets/base",
            "_model_module_version": "1.2.0",
            "_model_name": "LayoutModel",
            "_view_count": null,
            "_view_module": "@jupyter-widgets/base",
            "_view_module_version": "1.2.0",
            "_view_name": "LayoutView",
            "align_content": null,
            "align_items": null,
            "align_self": null,
            "border": null,
            "bottom": null,
            "display": null,
            "flex": null,
            "flex_flow": null,
            "grid_area": null,
            "grid_auto_columns": null,
            "grid_auto_flow": null,
            "grid_auto_rows": null,
            "grid_column": null,
            "grid_gap": null,
            "grid_row": null,
            "grid_template_areas": null,
            "grid_template_columns": null,
            "grid_template_rows": null,
            "height": null,
            "justify_content": null,
            "justify_items": null,
            "left": null,
            "margin": null,
            "max_height": null,
            "max_width": null,
            "min_height": null,
            "min_width": null,
            "object_fit": null,
            "object_position": null,
            "order": null,
            "overflow": null,
            "overflow_x": null,
            "overflow_y": null,
            "padding": null,
            "right": null,
            "top": null,
            "visibility": null,
            "width": null
          }
        },
        "c5b3602f54dc450a901bd07682a9c4e7": {
          "model_module": "@jupyter-widgets/base",
          "model_name": "LayoutModel",
          "model_module_version": "1.2.0",
          "state": {
            "_model_module": "@jupyter-widgets/base",
            "_model_module_version": "1.2.0",
            "_model_name": "LayoutModel",
            "_view_count": null,
            "_view_module": "@jupyter-widgets/base",
            "_view_module_version": "1.2.0",
            "_view_name": "LayoutView",
            "align_content": null,
            "align_items": null,
            "align_self": null,
            "border": null,
            "bottom": null,
            "display": null,
            "flex": null,
            "flex_flow": null,
            "grid_area": null,
            "grid_auto_columns": null,
            "grid_auto_flow": null,
            "grid_auto_rows": null,
            "grid_column": null,
            "grid_gap": null,
            "grid_row": null,
            "grid_template_areas": null,
            "grid_template_columns": null,
            "grid_template_rows": null,
            "height": null,
            "justify_content": null,
            "justify_items": null,
            "left": null,
            "margin": null,
            "max_height": null,
            "max_width": null,
            "min_height": null,
            "min_width": null,
            "object_fit": null,
            "object_position": null,
            "order": null,
            "overflow": null,
            "overflow_x": null,
            "overflow_y": null,
            "padding": null,
            "right": null,
            "top": null,
            "visibility": null,
            "width": null
          }
        },
        "b8ed77ffa01944ef82f31458a1d0412d": {
          "model_module": "@jupyter-widgets/controls",
          "model_name": "DescriptionStyleModel",
          "model_module_version": "1.5.0",
          "state": {
            "_model_module": "@jupyter-widgets/controls",
            "_model_module_version": "1.5.0",
            "_model_name": "DescriptionStyleModel",
            "_view_count": null,
            "_view_module": "@jupyter-widgets/base",
            "_view_module_version": "1.2.0",
            "_view_name": "StyleView",
            "description_width": ""
          }
        },
        "aa7854b09f0340de94bacd6337d8b970": {
          "model_module": "@jupyter-widgets/base",
          "model_name": "LayoutModel",
          "model_module_version": "1.2.0",
          "state": {
            "_model_module": "@jupyter-widgets/base",
            "_model_module_version": "1.2.0",
            "_model_name": "LayoutModel",
            "_view_count": null,
            "_view_module": "@jupyter-widgets/base",
            "_view_module_version": "1.2.0",
            "_view_name": "LayoutView",
            "align_content": null,
            "align_items": null,
            "align_self": null,
            "border": null,
            "bottom": null,
            "display": null,
            "flex": null,
            "flex_flow": null,
            "grid_area": null,
            "grid_auto_columns": null,
            "grid_auto_flow": null,
            "grid_auto_rows": null,
            "grid_column": null,
            "grid_gap": null,
            "grid_row": null,
            "grid_template_areas": null,
            "grid_template_columns": null,
            "grid_template_rows": null,
            "height": null,
            "justify_content": null,
            "justify_items": null,
            "left": null,
            "margin": null,
            "max_height": null,
            "max_width": null,
            "min_height": null,
            "min_width": null,
            "object_fit": null,
            "object_position": null,
            "order": null,
            "overflow": null,
            "overflow_x": null,
            "overflow_y": null,
            "padding": null,
            "right": null,
            "top": null,
            "visibility": null,
            "width": null
          }
        },
        "2e68bc7853144259827c67f4127901a1": {
          "model_module": "@jupyter-widgets/controls",
          "model_name": "ProgressStyleModel",
          "model_module_version": "1.5.0",
          "state": {
            "_model_module": "@jupyter-widgets/controls",
            "_model_module_version": "1.5.0",
            "_model_name": "ProgressStyleModel",
            "_view_count": null,
            "_view_module": "@jupyter-widgets/base",
            "_view_module_version": "1.2.0",
            "_view_name": "StyleView",
            "bar_color": null,
            "description_width": ""
          }
        },
        "b1b733571fa94ce79c82cbaecf2438ad": {
          "model_module": "@jupyter-widgets/base",
          "model_name": "LayoutModel",
          "model_module_version": "1.2.0",
          "state": {
            "_model_module": "@jupyter-widgets/base",
            "_model_module_version": "1.2.0",
            "_model_name": "LayoutModel",
            "_view_count": null,
            "_view_module": "@jupyter-widgets/base",
            "_view_module_version": "1.2.0",
            "_view_name": "LayoutView",
            "align_content": null,
            "align_items": null,
            "align_self": null,
            "border": null,
            "bottom": null,
            "display": null,
            "flex": null,
            "flex_flow": null,
            "grid_area": null,
            "grid_auto_columns": null,
            "grid_auto_flow": null,
            "grid_auto_rows": null,
            "grid_column": null,
            "grid_gap": null,
            "grid_row": null,
            "grid_template_areas": null,
            "grid_template_columns": null,
            "grid_template_rows": null,
            "height": null,
            "justify_content": null,
            "justify_items": null,
            "left": null,
            "margin": null,
            "max_height": null,
            "max_width": null,
            "min_height": null,
            "min_width": null,
            "object_fit": null,
            "object_position": null,
            "order": null,
            "overflow": null,
            "overflow_x": null,
            "overflow_y": null,
            "padding": null,
            "right": null,
            "top": null,
            "visibility": null,
            "width": null
          }
        },
        "d1b0b908e8674dec9089fba8ea7af15e": {
          "model_module": "@jupyter-widgets/controls",
          "model_name": "DescriptionStyleModel",
          "model_module_version": "1.5.0",
          "state": {
            "_model_module": "@jupyter-widgets/controls",
            "_model_module_version": "1.5.0",
            "_model_name": "DescriptionStyleModel",
            "_view_count": null,
            "_view_module": "@jupyter-widgets/base",
            "_view_module_version": "1.2.0",
            "_view_name": "StyleView",
            "description_width": ""
          }
        },
        "37db429cce5f4104983d1c85294b712e": {
          "model_module": "@jupyter-widgets/controls",
          "model_name": "HBoxModel",
          "model_module_version": "1.5.0",
          "state": {
            "_dom_classes": [],
            "_model_module": "@jupyter-widgets/controls",
            "_model_module_version": "1.5.0",
            "_model_name": "HBoxModel",
            "_view_count": null,
            "_view_module": "@jupyter-widgets/controls",
            "_view_module_version": "1.5.0",
            "_view_name": "HBoxView",
            "box_style": "",
            "children": [
              "IPY_MODEL_f8c672d9fe374eb789628f24257fbbaf",
              "IPY_MODEL_e726c6af6a804113a29c0fd641dd256f",
              "IPY_MODEL_413b1f5d7d2b4f5c9197278b64c45f79"
            ],
            "layout": "IPY_MODEL_4e72d2dff5e643bfa1820429595bcdfc"
          }
        },
        "f8c672d9fe374eb789628f24257fbbaf": {
          "model_module": "@jupyter-widgets/controls",
          "model_name": "HTMLModel",
          "model_module_version": "1.5.0",
          "state": {
            "_dom_classes": [],
            "_model_module": "@jupyter-widgets/controls",
            "_model_module_version": "1.5.0",
            "_model_name": "HTMLModel",
            "_view_count": null,
            "_view_module": "@jupyter-widgets/controls",
            "_view_module_version": "1.5.0",
            "_view_name": "HTMLView",
            "description": "",
            "description_tooltip": null,
            "layout": "IPY_MODEL_dce02f36673944d5a4a795193dc1b1f5",
            "placeholder": "​",
            "style": "IPY_MODEL_5cb15bda195e44f99e983c1def8401e6",
            "value": "config.json: 100%"
          }
        },
        "e726c6af6a804113a29c0fd641dd256f": {
          "model_module": "@jupyter-widgets/controls",
          "model_name": "FloatProgressModel",
          "model_module_version": "1.5.0",
          "state": {
            "_dom_classes": [],
            "_model_module": "@jupyter-widgets/controls",
            "_model_module_version": "1.5.0",
            "_model_name": "FloatProgressModel",
            "_view_count": null,
            "_view_module": "@jupyter-widgets/controls",
            "_view_module_version": "1.5.0",
            "_view_name": "ProgressView",
            "bar_style": "success",
            "description": "",
            "description_tooltip": null,
            "layout": "IPY_MODEL_b174e76ef4af4976a3ebb6eb69095152",
            "max": 502,
            "min": 0,
            "orientation": "horizontal",
            "style": "IPY_MODEL_d7de7f6a28264b43bc006994d9ef714d",
            "value": 502
          }
        },
        "413b1f5d7d2b4f5c9197278b64c45f79": {
          "model_module": "@jupyter-widgets/controls",
          "model_name": "HTMLModel",
          "model_module_version": "1.5.0",
          "state": {
            "_dom_classes": [],
            "_model_module": "@jupyter-widgets/controls",
            "_model_module_version": "1.5.0",
            "_model_name": "HTMLModel",
            "_view_count": null,
            "_view_module": "@jupyter-widgets/controls",
            "_view_module_version": "1.5.0",
            "_view_name": "HTMLView",
            "description": "",
            "description_tooltip": null,
            "layout": "IPY_MODEL_78ae5a88318b46529a907ce155c46fa4",
            "placeholder": "​",
            "style": "IPY_MODEL_214e4b5b2ea94d408478509c72a16d57",
            "value": " 502/502 [00:00&lt;00:00, 64.1kB/s]"
          }
        },
        "4e72d2dff5e643bfa1820429595bcdfc": {
          "model_module": "@jupyter-widgets/base",
          "model_name": "LayoutModel",
          "model_module_version": "1.2.0",
          "state": {
            "_model_module": "@jupyter-widgets/base",
            "_model_module_version": "1.2.0",
            "_model_name": "LayoutModel",
            "_view_count": null,
            "_view_module": "@jupyter-widgets/base",
            "_view_module_version": "1.2.0",
            "_view_name": "LayoutView",
            "align_content": null,
            "align_items": null,
            "align_self": null,
            "border": null,
            "bottom": null,
            "display": null,
            "flex": null,
            "flex_flow": null,
            "grid_area": null,
            "grid_auto_columns": null,
            "grid_auto_flow": null,
            "grid_auto_rows": null,
            "grid_column": null,
            "grid_gap": null,
            "grid_row": null,
            "grid_template_areas": null,
            "grid_template_columns": null,
            "grid_template_rows": null,
            "height": null,
            "justify_content": null,
            "justify_items": null,
            "left": null,
            "margin": null,
            "max_height": null,
            "max_width": null,
            "min_height": null,
            "min_width": null,
            "object_fit": null,
            "object_position": null,
            "order": null,
            "overflow": null,
            "overflow_x": null,
            "overflow_y": null,
            "padding": null,
            "right": null,
            "top": null,
            "visibility": null,
            "width": null
          }
        },
        "dce02f36673944d5a4a795193dc1b1f5": {
          "model_module": "@jupyter-widgets/base",
          "model_name": "LayoutModel",
          "model_module_version": "1.2.0",
          "state": {
            "_model_module": "@jupyter-widgets/base",
            "_model_module_version": "1.2.0",
            "_model_name": "LayoutModel",
            "_view_count": null,
            "_view_module": "@jupyter-widgets/base",
            "_view_module_version": "1.2.0",
            "_view_name": "LayoutView",
            "align_content": null,
            "align_items": null,
            "align_self": null,
            "border": null,
            "bottom": null,
            "display": null,
            "flex": null,
            "flex_flow": null,
            "grid_area": null,
            "grid_auto_columns": null,
            "grid_auto_flow": null,
            "grid_auto_rows": null,
            "grid_column": null,
            "grid_gap": null,
            "grid_row": null,
            "grid_template_areas": null,
            "grid_template_columns": null,
            "grid_template_rows": null,
            "height": null,
            "justify_content": null,
            "justify_items": null,
            "left": null,
            "margin": null,
            "max_height": null,
            "max_width": null,
            "min_height": null,
            "min_width": null,
            "object_fit": null,
            "object_position": null,
            "order": null,
            "overflow": null,
            "overflow_x": null,
            "overflow_y": null,
            "padding": null,
            "right": null,
            "top": null,
            "visibility": null,
            "width": null
          }
        },
        "5cb15bda195e44f99e983c1def8401e6": {
          "model_module": "@jupyter-widgets/controls",
          "model_name": "DescriptionStyleModel",
          "model_module_version": "1.5.0",
          "state": {
            "_model_module": "@jupyter-widgets/controls",
            "_model_module_version": "1.5.0",
            "_model_name": "DescriptionStyleModel",
            "_view_count": null,
            "_view_module": "@jupyter-widgets/base",
            "_view_module_version": "1.2.0",
            "_view_name": "StyleView",
            "description_width": ""
          }
        },
        "b174e76ef4af4976a3ebb6eb69095152": {
          "model_module": "@jupyter-widgets/base",
          "model_name": "LayoutModel",
          "model_module_version": "1.2.0",
          "state": {
            "_model_module": "@jupyter-widgets/base",
            "_model_module_version": "1.2.0",
            "_model_name": "LayoutModel",
            "_view_count": null,
            "_view_module": "@jupyter-widgets/base",
            "_view_module_version": "1.2.0",
            "_view_name": "LayoutView",
            "align_content": null,
            "align_items": null,
            "align_self": null,
            "border": null,
            "bottom": null,
            "display": null,
            "flex": null,
            "flex_flow": null,
            "grid_area": null,
            "grid_auto_columns": null,
            "grid_auto_flow": null,
            "grid_auto_rows": null,
            "grid_column": null,
            "grid_gap": null,
            "grid_row": null,
            "grid_template_areas": null,
            "grid_template_columns": null,
            "grid_template_rows": null,
            "height": null,
            "justify_content": null,
            "justify_items": null,
            "left": null,
            "margin": null,
            "max_height": null,
            "max_width": null,
            "min_height": null,
            "min_width": null,
            "object_fit": null,
            "object_position": null,
            "order": null,
            "overflow": null,
            "overflow_x": null,
            "overflow_y": null,
            "padding": null,
            "right": null,
            "top": null,
            "visibility": null,
            "width": null
          }
        },
        "d7de7f6a28264b43bc006994d9ef714d": {
          "model_module": "@jupyter-widgets/controls",
          "model_name": "ProgressStyleModel",
          "model_module_version": "1.5.0",
          "state": {
            "_model_module": "@jupyter-widgets/controls",
            "_model_module_version": "1.5.0",
            "_model_name": "ProgressStyleModel",
            "_view_count": null,
            "_view_module": "@jupyter-widgets/base",
            "_view_module_version": "1.2.0",
            "_view_name": "StyleView",
            "bar_color": null,
            "description_width": ""
          }
        },
        "78ae5a88318b46529a907ce155c46fa4": {
          "model_module": "@jupyter-widgets/base",
          "model_name": "LayoutModel",
          "model_module_version": "1.2.0",
          "state": {
            "_model_module": "@jupyter-widgets/base",
            "_model_module_version": "1.2.0",
            "_model_name": "LayoutModel",
            "_view_count": null,
            "_view_module": "@jupyter-widgets/base",
            "_view_module_version": "1.2.0",
            "_view_name": "LayoutView",
            "align_content": null,
            "align_items": null,
            "align_self": null,
            "border": null,
            "bottom": null,
            "display": null,
            "flex": null,
            "flex_flow": null,
            "grid_area": null,
            "grid_auto_columns": null,
            "grid_auto_flow": null,
            "grid_auto_rows": null,
            "grid_column": null,
            "grid_gap": null,
            "grid_row": null,
            "grid_template_areas": null,
            "grid_template_columns": null,
            "grid_template_rows": null,
            "height": null,
            "justify_content": null,
            "justify_items": null,
            "left": null,
            "margin": null,
            "max_height": null,
            "max_width": null,
            "min_height": null,
            "min_width": null,
            "object_fit": null,
            "object_position": null,
            "order": null,
            "overflow": null,
            "overflow_x": null,
            "overflow_y": null,
            "padding": null,
            "right": null,
            "top": null,
            "visibility": null,
            "width": null
          }
        },
        "214e4b5b2ea94d408478509c72a16d57": {
          "model_module": "@jupyter-widgets/controls",
          "model_name": "DescriptionStyleModel",
          "model_module_version": "1.5.0",
          "state": {
            "_model_module": "@jupyter-widgets/controls",
            "_model_module_version": "1.5.0",
            "_model_name": "DescriptionStyleModel",
            "_view_count": null,
            "_view_module": "@jupyter-widgets/base",
            "_view_module_version": "1.2.0",
            "_view_name": "StyleView",
            "description_width": ""
          }
        },
        "3400b101d92a4ead94945f746a4d9b7d": {
          "model_module": "@jupyter-widgets/controls",
          "model_name": "HBoxModel",
          "model_module_version": "1.5.0",
          "state": {
            "_dom_classes": [],
            "_model_module": "@jupyter-widgets/controls",
            "_model_module_version": "1.5.0",
            "_model_name": "HBoxModel",
            "_view_count": null,
            "_view_module": "@jupyter-widgets/controls",
            "_view_module_version": "1.5.0",
            "_view_name": "HBoxView",
            "box_style": "",
            "children": [
              "IPY_MODEL_63dd6b1bdeb64c4b9de02172eb5f20ff",
              "IPY_MODEL_f8924ebd79b6453ab781dcd8f37cc96a",
              "IPY_MODEL_f28f123795a54fe584b220d20e61e308"
            ],
            "layout": "IPY_MODEL_1607834f8e90438b993e8edc5feaed0a"
          }
        },
        "63dd6b1bdeb64c4b9de02172eb5f20ff": {
          "model_module": "@jupyter-widgets/controls",
          "model_name": "HTMLModel",
          "model_module_version": "1.5.0",
          "state": {
            "_dom_classes": [],
            "_model_module": "@jupyter-widgets/controls",
            "_model_module_version": "1.5.0",
            "_model_name": "HTMLModel",
            "_view_count": null,
            "_view_module": "@jupyter-widgets/controls",
            "_view_module_version": "1.5.0",
            "_view_name": "HTMLView",
            "description": "",
            "description_tooltip": null,
            "layout": "IPY_MODEL_871127aa207148f886429bc9055190f5",
            "placeholder": "​",
            "style": "IPY_MODEL_1fc48b91ad214048ad0e25e661bf0afa",
            "value": "model.safetensors: 100%"
          }
        },
        "f8924ebd79b6453ab781dcd8f37cc96a": {
          "model_module": "@jupyter-widgets/controls",
          "model_name": "FloatProgressModel",
          "model_module_version": "1.5.0",
          "state": {
            "_dom_classes": [],
            "_model_module": "@jupyter-widgets/controls",
            "_model_module_version": "1.5.0",
            "_model_name": "FloatProgressModel",
            "_view_count": null,
            "_view_module": "@jupyter-widgets/controls",
            "_view_module_version": "1.5.0",
            "_view_name": "ProgressView",
            "bar_style": "success",
            "description": "",
            "description_tooltip": null,
            "layout": "IPY_MODEL_acf6774c25db4dfc8e04b36feb00131c",
            "max": 345579424,
            "min": 0,
            "orientation": "horizontal",
            "style": "IPY_MODEL_ad1e8e817c0c4b1095923541cd5b2643",
            "value": 345579424
          }
        },
        "f28f123795a54fe584b220d20e61e308": {
          "model_module": "@jupyter-widgets/controls",
          "model_name": "HTMLModel",
          "model_module_version": "1.5.0",
          "state": {
            "_dom_classes": [],
            "_model_module": "@jupyter-widgets/controls",
            "_model_module_version": "1.5.0",
            "_model_name": "HTMLModel",
            "_view_count": null,
            "_view_module": "@jupyter-widgets/controls",
            "_view_module_version": "1.5.0",
            "_view_name": "HTMLView",
            "description": "",
            "description_tooltip": null,
            "layout": "IPY_MODEL_a2c14c287aa445ddae5fe4ef017aa0a7",
            "placeholder": "​",
            "style": "IPY_MODEL_a261613a5b544f0ab7f04ecbef7dd5cd",
            "value": " 346M/346M [00:01&lt;00:00, 253MB/s]"
          }
        },
        "1607834f8e90438b993e8edc5feaed0a": {
          "model_module": "@jupyter-widgets/base",
          "model_name": "LayoutModel",
          "model_module_version": "1.2.0",
          "state": {
            "_model_module": "@jupyter-widgets/base",
            "_model_module_version": "1.2.0",
            "_model_name": "LayoutModel",
            "_view_count": null,
            "_view_module": "@jupyter-widgets/base",
            "_view_module_version": "1.2.0",
            "_view_name": "LayoutView",
            "align_content": null,
            "align_items": null,
            "align_self": null,
            "border": null,
            "bottom": null,
            "display": null,
            "flex": null,
            "flex_flow": null,
            "grid_area": null,
            "grid_auto_columns": null,
            "grid_auto_flow": null,
            "grid_auto_rows": null,
            "grid_column": null,
            "grid_gap": null,
            "grid_row": null,
            "grid_template_areas": null,
            "grid_template_columns": null,
            "grid_template_rows": null,
            "height": null,
            "justify_content": null,
            "justify_items": null,
            "left": null,
            "margin": null,
            "max_height": null,
            "max_width": null,
            "min_height": null,
            "min_width": null,
            "object_fit": null,
            "object_position": null,
            "order": null,
            "overflow": null,
            "overflow_x": null,
            "overflow_y": null,
            "padding": null,
            "right": null,
            "top": null,
            "visibility": null,
            "width": null
          }
        },
        "871127aa207148f886429bc9055190f5": {
          "model_module": "@jupyter-widgets/base",
          "model_name": "LayoutModel",
          "model_module_version": "1.2.0",
          "state": {
            "_model_module": "@jupyter-widgets/base",
            "_model_module_version": "1.2.0",
            "_model_name": "LayoutModel",
            "_view_count": null,
            "_view_module": "@jupyter-widgets/base",
            "_view_module_version": "1.2.0",
            "_view_name": "LayoutView",
            "align_content": null,
            "align_items": null,
            "align_self": null,
            "border": null,
            "bottom": null,
            "display": null,
            "flex": null,
            "flex_flow": null,
            "grid_area": null,
            "grid_auto_columns": null,
            "grid_auto_flow": null,
            "grid_auto_rows": null,
            "grid_column": null,
            "grid_gap": null,
            "grid_row": null,
            "grid_template_areas": null,
            "grid_template_columns": null,
            "grid_template_rows": null,
            "height": null,
            "justify_content": null,
            "justify_items": null,
            "left": null,
            "margin": null,
            "max_height": null,
            "max_width": null,
            "min_height": null,
            "min_width": null,
            "object_fit": null,
            "object_position": null,
            "order": null,
            "overflow": null,
            "overflow_x": null,
            "overflow_y": null,
            "padding": null,
            "right": null,
            "top": null,
            "visibility": null,
            "width": null
          }
        },
        "1fc48b91ad214048ad0e25e661bf0afa": {
          "model_module": "@jupyter-widgets/controls",
          "model_name": "DescriptionStyleModel",
          "model_module_version": "1.5.0",
          "state": {
            "_model_module": "@jupyter-widgets/controls",
            "_model_module_version": "1.5.0",
            "_model_name": "DescriptionStyleModel",
            "_view_count": null,
            "_view_module": "@jupyter-widgets/base",
            "_view_module_version": "1.2.0",
            "_view_name": "StyleView",
            "description_width": ""
          }
        },
        "acf6774c25db4dfc8e04b36feb00131c": {
          "model_module": "@jupyter-widgets/base",
          "model_name": "LayoutModel",
          "model_module_version": "1.2.0",
          "state": {
            "_model_module": "@jupyter-widgets/base",
            "_model_module_version": "1.2.0",
            "_model_name": "LayoutModel",
            "_view_count": null,
            "_view_module": "@jupyter-widgets/base",
            "_view_module_version": "1.2.0",
            "_view_name": "LayoutView",
            "align_content": null,
            "align_items": null,
            "align_self": null,
            "border": null,
            "bottom": null,
            "display": null,
            "flex": null,
            "flex_flow": null,
            "grid_area": null,
            "grid_auto_columns": null,
            "grid_auto_flow": null,
            "grid_auto_rows": null,
            "grid_column": null,
            "grid_gap": null,
            "grid_row": null,
            "grid_template_areas": null,
            "grid_template_columns": null,
            "grid_template_rows": null,
            "height": null,
            "justify_content": null,
            "justify_items": null,
            "left": null,
            "margin": null,
            "max_height": null,
            "max_width": null,
            "min_height": null,
            "min_width": null,
            "object_fit": null,
            "object_position": null,
            "order": null,
            "overflow": null,
            "overflow_x": null,
            "overflow_y": null,
            "padding": null,
            "right": null,
            "top": null,
            "visibility": null,
            "width": null
          }
        },
        "ad1e8e817c0c4b1095923541cd5b2643": {
          "model_module": "@jupyter-widgets/controls",
          "model_name": "ProgressStyleModel",
          "model_module_version": "1.5.0",
          "state": {
            "_model_module": "@jupyter-widgets/controls",
            "_model_module_version": "1.5.0",
            "_model_name": "ProgressStyleModel",
            "_view_count": null,
            "_view_module": "@jupyter-widgets/base",
            "_view_module_version": "1.2.0",
            "_view_name": "StyleView",
            "bar_color": null,
            "description_width": ""
          }
        },
        "a2c14c287aa445ddae5fe4ef017aa0a7": {
          "model_module": "@jupyter-widgets/base",
          "model_name": "LayoutModel",
          "model_module_version": "1.2.0",
          "state": {
            "_model_module": "@jupyter-widgets/base",
            "_model_module_version": "1.2.0",
            "_model_name": "LayoutModel",
            "_view_count": null,
            "_view_module": "@jupyter-widgets/base",
            "_view_module_version": "1.2.0",
            "_view_name": "LayoutView",
            "align_content": null,
            "align_items": null,
            "align_self": null,
            "border": null,
            "bottom": null,
            "display": null,
            "flex": null,
            "flex_flow": null,
            "grid_area": null,
            "grid_auto_columns": null,
            "grid_auto_flow": null,
            "grid_auto_rows": null,
            "grid_column": null,
            "grid_gap": null,
            "grid_row": null,
            "grid_template_areas": null,
            "grid_template_columns": null,
            "grid_template_rows": null,
            "height": null,
            "justify_content": null,
            "justify_items": null,
            "left": null,
            "margin": null,
            "max_height": null,
            "max_width": null,
            "min_height": null,
            "min_width": null,
            "object_fit": null,
            "object_position": null,
            "order": null,
            "overflow": null,
            "overflow_x": null,
            "overflow_y": null,
            "padding": null,
            "right": null,
            "top": null,
            "visibility": null,
            "width": null
          }
        },
        "a261613a5b544f0ab7f04ecbef7dd5cd": {
          "model_module": "@jupyter-widgets/controls",
          "model_name": "DescriptionStyleModel",
          "model_module_version": "1.5.0",
          "state": {
            "_model_module": "@jupyter-widgets/controls",
            "_model_module_version": "1.5.0",
            "_model_name": "DescriptionStyleModel",
            "_view_count": null,
            "_view_module": "@jupyter-widgets/base",
            "_view_module_version": "1.2.0",
            "_view_name": "StyleView",
            "description_width": ""
          }
        }
      }
    }
  },
  "cells": [
    {
      "cell_type": "markdown",
      "metadata": {
        "id": "view-in-github",
        "colab_type": "text"
      },
      "source": [
        "<a href=\"https://colab.research.google.com/github/MoqiSheng/MoqiSheng.github.io/blob/main/kmeans0219.ipynb\" target=\"_parent\"><img src=\"https://colab.research.google.com/assets/colab-badge.svg\" alt=\"Open In Colab\"/></a>"
      ]
    },
    {
      "cell_type": "markdown",
      "source": [
        "加载数据"
      ],
      "metadata": {
        "id": "-oL8YdTU_nM_"
      }
    },
    {
      "cell_type": "code",
      "execution_count": 1,
      "metadata": {
        "colab": {
          "base_uri": "https://localhost:8080/"
        },
        "id": "F8KPF_5x8ouC",
        "outputId": "92bb879b-9d15-4065-e2a9-260127984a5a"
      },
      "outputs": [
        {
          "output_type": "stream",
          "name": "stdout",
          "text": [
            "Mounted at /content/drive\n"
          ]
        }
      ],
      "source": [
        "from google.colab import drive\n",
        "drive.mount('/content/drive')"
      ]
    },
    {
      "cell_type": "code",
      "source": [
        "!unzip /content/drive/MyDrive/kmeans0219/All_image.zip -d /content/data"
      ],
      "metadata": {
        "colab": {
          "base_uri": "https://localhost:8080/"
        },
        "id": "8SIKrh9T-B4o",
        "outputId": "0e4e9bcc-17e9-45bb-b209-d1d2061d35d9"
      },
      "execution_count": null,
      "outputs": [
        {
          "output_type": "stream",
          "name": "stdout",
          "text": [
            "Archive:  /content/drive/MyDrive/kmeans0219/All_image.zip\n",
            "  inflating: /content/data/0.png     \n",
            "  inflating: /content/data/1.png     \n",
            "  inflating: /content/data/10.png    \n",
            "  inflating: /content/data/100.png   \n",
            "  inflating: /content/data/1000.png  \n",
            "  inflating: /content/data/1001.png  \n",
            "  inflating: /content/data/1002.png  \n",
            "  inflating: /content/data/1003.png  \n",
            "  inflating: /content/data/1004.png  \n",
            "  inflating: /content/data/1005.png  \n",
            "  inflating: /content/data/1006.png  \n",
            "  inflating: /content/data/1007.png  \n",
            "  inflating: /content/data/1008.png  \n",
            "  inflating: /content/data/1009.png  \n",
            "  inflating: /content/data/101.png   \n",
            "  inflating: /content/data/1010.png  \n",
            "  inflating: /content/data/1011.png  \n",
            "  inflating: /content/data/1012.png  \n",
            "  inflating: /content/data/1013.png  \n",
            "  inflating: /content/data/1014.png  \n",
            "  inflating: /content/data/1015.png  \n",
            "  inflating: /content/data/1016.png  \n",
            "  inflating: /content/data/1017.png  \n",
            "  inflating: /content/data/1018.png  \n",
            "  inflating: /content/data/1019.png  \n",
            "  inflating: /content/data/102.png   \n",
            "  inflating: /content/data/1020.png  \n",
            "  inflating: /content/data/1021.png  \n",
            "  inflating: /content/data/1022.png  \n",
            "  inflating: /content/data/1023.png  \n",
            "  inflating: /content/data/1024.png  \n",
            "  inflating: /content/data/1025.png  \n",
            "  inflating: /content/data/1026.png  \n",
            "  inflating: /content/data/1027.png  \n",
            "  inflating: /content/data/1028.png  \n",
            "  inflating: /content/data/1029.png  \n",
            "  inflating: /content/data/103.png   \n",
            "  inflating: /content/data/1030.png  \n",
            "  inflating: /content/data/1031.png  \n",
            "  inflating: /content/data/1032.png  \n",
            "  inflating: /content/data/1033.png  \n",
            "  inflating: /content/data/1034.png  \n",
            "  inflating: /content/data/1035.png  \n",
            "  inflating: /content/data/1036.png  \n",
            "  inflating: /content/data/1037.png  \n",
            "  inflating: /content/data/1038.png  \n",
            "  inflating: /content/data/1039.png  \n",
            "  inflating: /content/data/104.png   \n",
            "  inflating: /content/data/1040.png  \n",
            "  inflating: /content/data/1041.png  \n",
            "  inflating: /content/data/1042.png  \n",
            "  inflating: /content/data/1043.png  \n",
            "  inflating: /content/data/1044.png  \n",
            "  inflating: /content/data/1045.png  \n",
            "  inflating: /content/data/1046.png  \n",
            "  inflating: /content/data/1047.png  \n",
            "  inflating: /content/data/1048.png  \n",
            "  inflating: /content/data/1049.png  \n",
            "  inflating: /content/data/105.png   \n",
            "  inflating: /content/data/1050.png  \n",
            "  inflating: /content/data/1051.png  \n",
            "  inflating: /content/data/1052.png  \n",
            "  inflating: /content/data/1053.png  \n",
            "  inflating: /content/data/1054.png  \n",
            "  inflating: /content/data/1055.png  \n",
            "  inflating: /content/data/1056.png  \n",
            "  inflating: /content/data/1057.png  \n",
            "  inflating: /content/data/1058.png  \n",
            "  inflating: /content/data/1059.png  \n",
            "  inflating: /content/data/106.png   \n",
            "  inflating: /content/data/1060.png  \n",
            "  inflating: /content/data/1061.png  \n",
            "  inflating: /content/data/1062.png  \n",
            "  inflating: /content/data/1063.png  \n",
            "  inflating: /content/data/1064.png  \n",
            "  inflating: /content/data/1065.png  \n",
            "  inflating: /content/data/1066.png  \n",
            "  inflating: /content/data/1067.png  \n",
            "  inflating: /content/data/1068.png  \n",
            "  inflating: /content/data/1069.png  \n",
            "  inflating: /content/data/107.png   \n",
            "  inflating: /content/data/1070.png  \n",
            "  inflating: /content/data/1071.png  \n",
            "  inflating: /content/data/1072.png  \n",
            "  inflating: /content/data/1073.png  \n",
            "  inflating: /content/data/1074.png  \n",
            "  inflating: /content/data/1075.png  \n",
            "  inflating: /content/data/1076.png  \n",
            "  inflating: /content/data/1077.png  \n",
            "  inflating: /content/data/1078.png  \n",
            "  inflating: /content/data/1079.png  \n",
            "  inflating: /content/data/108.png   \n",
            "  inflating: /content/data/1080.png  \n",
            "  inflating: /content/data/1081.png  \n",
            "  inflating: /content/data/1082.png  \n",
            "  inflating: /content/data/1083.png  \n",
            "  inflating: /content/data/1084.png  \n",
            "  inflating: /content/data/1085.png  \n",
            "  inflating: /content/data/1086.png  \n",
            "  inflating: /content/data/1087.png  \n",
            "  inflating: /content/data/1088.png  \n",
            "  inflating: /content/data/1089.png  \n",
            "  inflating: /content/data/109.png   \n",
            "  inflating: /content/data/1090.png  \n",
            "  inflating: /content/data/1091.png  \n",
            "  inflating: /content/data/1092.png  \n",
            "  inflating: /content/data/1093.png  \n",
            "  inflating: /content/data/1094.png  \n",
            "  inflating: /content/data/1095.png  \n",
            "  inflating: /content/data/1096.png  \n",
            "  inflating: /content/data/1097.png  \n",
            "  inflating: /content/data/1098.png  \n",
            "  inflating: /content/data/1099.png  \n",
            "  inflating: /content/data/11.png    \n",
            "  inflating: /content/data/110.png   \n",
            "  inflating: /content/data/1100.png  \n",
            "  inflating: /content/data/1101.png  \n",
            "  inflating: /content/data/1102.png  \n",
            "  inflating: /content/data/1103.png  \n",
            "  inflating: /content/data/1104.png  \n",
            "  inflating: /content/data/1105.png  \n",
            "  inflating: /content/data/1106.png  \n",
            "  inflating: /content/data/1107.png  \n",
            "  inflating: /content/data/1108.png  \n",
            "  inflating: /content/data/1109.png  \n",
            "  inflating: /content/data/111.png   \n",
            "  inflating: /content/data/1110.png  \n",
            "  inflating: /content/data/1111.png  \n",
            "  inflating: /content/data/1112.png  \n",
            "  inflating: /content/data/1113.png  \n",
            "  inflating: /content/data/1114.png  \n",
            "  inflating: /content/data/1115.png  \n",
            "  inflating: /content/data/1116.png  \n",
            "  inflating: /content/data/1117.png  \n",
            "  inflating: /content/data/1118.png  \n",
            "  inflating: /content/data/1119.png  \n",
            "  inflating: /content/data/112.png   \n",
            "  inflating: /content/data/1120.png  \n",
            "  inflating: /content/data/1121.png  \n",
            "  inflating: /content/data/1122.png  \n",
            "  inflating: /content/data/1123.png  \n",
            "  inflating: /content/data/1124.png  \n",
            "  inflating: /content/data/1125.png  \n",
            "  inflating: /content/data/1126.png  \n",
            "  inflating: /content/data/1127.png  \n",
            "  inflating: /content/data/1128.png  \n",
            "  inflating: /content/data/1129.png  \n",
            "  inflating: /content/data/113.png   \n",
            "  inflating: /content/data/1130.png  \n",
            "  inflating: /content/data/1131.png  \n",
            "  inflating: /content/data/1132.png  \n",
            "  inflating: /content/data/1133.png  \n",
            "  inflating: /content/data/1134.png  \n",
            "  inflating: /content/data/1135.png  \n",
            "  inflating: /content/data/1136.png  \n",
            "  inflating: /content/data/1137.png  \n",
            "  inflating: /content/data/1138.png  \n",
            "  inflating: /content/data/1139.png  \n",
            "  inflating: /content/data/114.png   \n",
            "  inflating: /content/data/1140.png  \n",
            "  inflating: /content/data/1141.png  \n",
            "  inflating: /content/data/1142.png  \n",
            "  inflating: /content/data/1143.png  \n",
            "  inflating: /content/data/1144.png  \n",
            "  inflating: /content/data/1145.png  \n",
            "  inflating: /content/data/1146.png  \n",
            "  inflating: /content/data/1147.png  \n",
            "  inflating: /content/data/1148.png  \n",
            "  inflating: /content/data/1149.png  \n",
            "  inflating: /content/data/115.png   \n",
            "  inflating: /content/data/1150.png  \n",
            "  inflating: /content/data/1151.png  \n",
            "  inflating: /content/data/1152.png  \n",
            "  inflating: /content/data/1153.png  \n",
            "  inflating: /content/data/1154.png  \n",
            "  inflating: /content/data/1155.png  \n",
            "  inflating: /content/data/1156.png  \n",
            "  inflating: /content/data/1157.png  \n",
            "  inflating: /content/data/1158.png  \n",
            "  inflating: /content/data/1159.png  \n",
            "  inflating: /content/data/116.png   \n",
            "  inflating: /content/data/1160.png  \n",
            "  inflating: /content/data/1161.png  \n",
            "  inflating: /content/data/1162.png  \n",
            "  inflating: /content/data/1163.png  \n",
            "  inflating: /content/data/1164.png  \n",
            "  inflating: /content/data/1165.png  \n",
            "  inflating: /content/data/1166.png  \n",
            "  inflating: /content/data/1167.png  \n",
            "  inflating: /content/data/1168.png  \n",
            "  inflating: /content/data/1169.png  \n",
            "  inflating: /content/data/117.png   \n",
            "  inflating: /content/data/1170.png  \n",
            "  inflating: /content/data/1171.png  \n",
            "  inflating: /content/data/1172.png  \n",
            "  inflating: /content/data/1173.png  \n",
            "  inflating: /content/data/1174.png  \n",
            "  inflating: /content/data/1175.png  \n",
            "  inflating: /content/data/1176.png  \n",
            "  inflating: /content/data/1177.png  \n",
            "  inflating: /content/data/1178.png  \n",
            "  inflating: /content/data/1179.png  \n",
            "  inflating: /content/data/118.png   \n",
            "  inflating: /content/data/1180.png  \n",
            "  inflating: /content/data/1181.png  \n",
            "  inflating: /content/data/1182.png  \n",
            "  inflating: /content/data/1183.png  \n",
            "  inflating: /content/data/1184.png  \n",
            "  inflating: /content/data/1185.png  \n",
            "  inflating: /content/data/1186.png  \n",
            "  inflating: /content/data/1187.png  \n",
            "  inflating: /content/data/1188.png  \n",
            "  inflating: /content/data/1189.png  \n",
            "  inflating: /content/data/119.png   \n",
            "  inflating: /content/data/1190.png  \n",
            "  inflating: /content/data/1191.png  \n",
            "  inflating: /content/data/1192.png  \n",
            "  inflating: /content/data/1193.png  \n",
            "  inflating: /content/data/1194.png  \n",
            "  inflating: /content/data/1195.png  \n",
            "  inflating: /content/data/1196.png  \n",
            "  inflating: /content/data/1197.png  \n",
            "  inflating: /content/data/1198.png  \n",
            "  inflating: /content/data/1199.png  \n",
            "  inflating: /content/data/12.png    \n",
            "  inflating: /content/data/120.png   \n",
            "  inflating: /content/data/1200.png  \n",
            "  inflating: /content/data/1201.png  \n",
            "  inflating: /content/data/1202.png  \n",
            "  inflating: /content/data/1203.png  \n",
            "  inflating: /content/data/1204.png  \n",
            "  inflating: /content/data/1205.png  \n",
            "  inflating: /content/data/1206.png  \n",
            "  inflating: /content/data/1207.png  \n",
            "  inflating: /content/data/1208.png  \n",
            "  inflating: /content/data/1209.png  \n",
            "  inflating: /content/data/121.png   \n",
            "  inflating: /content/data/1210.png  \n",
            "  inflating: /content/data/1211.png  \n",
            "  inflating: /content/data/1212.png  \n",
            "  inflating: /content/data/1213.png  \n",
            "  inflating: /content/data/1214.png  \n",
            "  inflating: /content/data/1215.png  \n",
            "  inflating: /content/data/1216.png  \n",
            "  inflating: /content/data/1217.png  \n",
            "  inflating: /content/data/1218.png  \n",
            "  inflating: /content/data/1219.png  \n",
            "  inflating: /content/data/122.png   \n",
            "  inflating: /content/data/1220.png  \n",
            "  inflating: /content/data/1221.png  \n",
            "  inflating: /content/data/1222.png  \n",
            "  inflating: /content/data/1223.png  \n",
            "  inflating: /content/data/1224.png  \n",
            "  inflating: /content/data/1225.png  \n",
            "  inflating: /content/data/1226.png  \n",
            "  inflating: /content/data/1227.png  \n",
            "  inflating: /content/data/1228.png  \n",
            "  inflating: /content/data/1229.png  \n",
            "  inflating: /content/data/123.png   \n",
            "  inflating: /content/data/1230.png  \n",
            "  inflating: /content/data/1231.png  \n",
            "  inflating: /content/data/1232.png  \n",
            "  inflating: /content/data/1233.png  \n",
            "  inflating: /content/data/1234.png  \n",
            "  inflating: /content/data/1235.png  \n",
            "  inflating: /content/data/1236.png  \n",
            "  inflating: /content/data/1237.png  \n",
            "  inflating: /content/data/1238.png  \n",
            "  inflating: /content/data/1239.png  \n",
            "  inflating: /content/data/124.png   \n",
            "  inflating: /content/data/1240.png  \n",
            "  inflating: /content/data/1241.png  \n",
            "  inflating: /content/data/1242.png  \n",
            "  inflating: /content/data/1243.png  \n",
            "  inflating: /content/data/1244.png  \n",
            "  inflating: /content/data/1245.png  \n",
            "  inflating: /content/data/1246.png  \n",
            "  inflating: /content/data/1247.png  \n",
            "  inflating: /content/data/1248.png  \n",
            "  inflating: /content/data/1249.png  \n",
            "  inflating: /content/data/125.png   \n",
            "  inflating: /content/data/1250.png  \n",
            "  inflating: /content/data/1251.png  \n",
            "  inflating: /content/data/1252.png  \n",
            "  inflating: /content/data/1253.png  \n",
            "  inflating: /content/data/1254.png  \n",
            "  inflating: /content/data/1255.png  \n",
            "  inflating: /content/data/1256.png  \n",
            "  inflating: /content/data/1257.png  \n",
            "  inflating: /content/data/1258.png  \n",
            "  inflating: /content/data/1259.png  \n",
            "  inflating: /content/data/126.png   \n",
            "  inflating: /content/data/1260.png  \n",
            "  inflating: /content/data/1261.png  \n",
            "  inflating: /content/data/1262.png  \n",
            "  inflating: /content/data/1263.png  \n",
            "  inflating: /content/data/1264.png  \n",
            "  inflating: /content/data/1265.png  \n",
            "  inflating: /content/data/1266.png  \n",
            "  inflating: /content/data/1267.png  \n",
            "  inflating: /content/data/1268.png  \n",
            "  inflating: /content/data/1269.png  \n",
            "  inflating: /content/data/127.png   \n",
            "  inflating: /content/data/1270.png  \n",
            "  inflating: /content/data/1271.png  \n",
            "  inflating: /content/data/1272.png  \n",
            "  inflating: /content/data/1273.png  \n",
            "  inflating: /content/data/1274.png  \n",
            "  inflating: /content/data/1275.png  \n",
            "  inflating: /content/data/1276.png  \n",
            "  inflating: /content/data/1277.png  \n",
            "  inflating: /content/data/1278.png  \n",
            "  inflating: /content/data/1279.png  \n",
            "  inflating: /content/data/128.png   \n",
            "  inflating: /content/data/1280.png  \n",
            "  inflating: /content/data/1281.png  \n",
            "  inflating: /content/data/1282.png  \n",
            "  inflating: /content/data/1283.png  \n",
            "  inflating: /content/data/1284.png  \n",
            "  inflating: /content/data/1285.png  \n",
            "  inflating: /content/data/1286.png  \n",
            "  inflating: /content/data/1287.png  \n",
            "  inflating: /content/data/1288.png  \n",
            "  inflating: /content/data/1289.png  \n",
            "  inflating: /content/data/129.png   \n",
            "  inflating: /content/data/1290.png  \n",
            "  inflating: /content/data/1291.png  \n",
            "  inflating: /content/data/1292.png  \n",
            "  inflating: /content/data/1293.png  \n",
            "  inflating: /content/data/1294.png  \n",
            "  inflating: /content/data/1295.png  \n",
            "  inflating: /content/data/1296.png  \n",
            "  inflating: /content/data/1297.png  \n",
            "  inflating: /content/data/1298.png  \n",
            "  inflating: /content/data/1299.png  \n",
            "  inflating: /content/data/13.png    \n",
            "  inflating: /content/data/130.png   \n",
            "  inflating: /content/data/1300.png  \n",
            "  inflating: /content/data/1301.png  \n",
            "  inflating: /content/data/1302.png  \n",
            "  inflating: /content/data/1303.png  \n",
            "  inflating: /content/data/1304.png  \n",
            "  inflating: /content/data/1305.png  \n",
            "  inflating: /content/data/1306.png  \n",
            "  inflating: /content/data/1307.png  \n",
            "  inflating: /content/data/1308.png  \n",
            "  inflating: /content/data/1309.png  \n",
            "  inflating: /content/data/131.png   \n",
            "  inflating: /content/data/1310.png  \n",
            "  inflating: /content/data/1311.png  \n",
            "  inflating: /content/data/1312.png  \n",
            "  inflating: /content/data/1313.png  \n",
            "  inflating: /content/data/1314.png  \n",
            "  inflating: /content/data/1315.png  \n",
            "  inflating: /content/data/1316.png  \n",
            "  inflating: /content/data/1317.png  \n",
            "  inflating: /content/data/1318.png  \n",
            "  inflating: /content/data/1319.png  \n",
            "  inflating: /content/data/132.png   \n",
            "  inflating: /content/data/1320.png  \n",
            "  inflating: /content/data/1321.png  \n",
            "  inflating: /content/data/1322.png  \n",
            "  inflating: /content/data/1323.png  \n",
            "  inflating: /content/data/1324.png  \n",
            "  inflating: /content/data/1325.png  \n",
            "  inflating: /content/data/1326.png  \n",
            "  inflating: /content/data/1327.png  \n",
            "  inflating: /content/data/1328.png  \n",
            "  inflating: /content/data/1329.png  \n",
            "  inflating: /content/data/133.png   \n",
            "  inflating: /content/data/1330.png  \n",
            "  inflating: /content/data/1331.png  \n",
            "  inflating: /content/data/1332.png  \n",
            "  inflating: /content/data/1333.png  \n",
            "  inflating: /content/data/1334.png  \n",
            "  inflating: /content/data/1335.png  \n",
            "  inflating: /content/data/1336.png  \n",
            "  inflating: /content/data/1337.png  \n",
            "  inflating: /content/data/1338.png  \n",
            "  inflating: /content/data/1339.png  \n",
            "  inflating: /content/data/134.png   \n",
            "  inflating: /content/data/1340.png  \n",
            "  inflating: /content/data/1341.png  \n",
            "  inflating: /content/data/1342.png  \n",
            "  inflating: /content/data/1343.png  \n",
            "  inflating: /content/data/1344.png  \n",
            "  inflating: /content/data/1345.png  \n",
            "  inflating: /content/data/1346.png  \n",
            "  inflating: /content/data/1347.png  \n",
            "  inflating: /content/data/1348.png  \n",
            "  inflating: /content/data/1349.png  \n",
            "  inflating: /content/data/135.png   \n",
            "  inflating: /content/data/1350.png  \n",
            "  inflating: /content/data/1351.png  \n",
            "  inflating: /content/data/1352.png  \n",
            "  inflating: /content/data/1353.png  \n",
            "  inflating: /content/data/1354.png  \n",
            "  inflating: /content/data/1355.png  \n",
            "  inflating: /content/data/1356.png  \n",
            "  inflating: /content/data/1357.png  \n",
            "  inflating: /content/data/1358.png  \n",
            "  inflating: /content/data/1359.png  \n",
            "  inflating: /content/data/136.png   \n",
            "  inflating: /content/data/1360.png  \n",
            "  inflating: /content/data/1361.png  \n",
            "  inflating: /content/data/1362.png  \n",
            "  inflating: /content/data/1363.png  \n",
            "  inflating: /content/data/1364.png  \n",
            "  inflating: /content/data/1365.png  \n",
            "  inflating: /content/data/1366.png  \n",
            "  inflating: /content/data/1367.png  \n",
            "  inflating: /content/data/1368.png  \n",
            "  inflating: /content/data/1369.png  \n",
            "  inflating: /content/data/137.png   \n",
            "  inflating: /content/data/1370.png  \n",
            "  inflating: /content/data/1371.png  \n",
            "  inflating: /content/data/1372.png  \n",
            "  inflating: /content/data/1373.png  \n",
            "  inflating: /content/data/1374.png  \n",
            "  inflating: /content/data/1375.png  \n",
            "  inflating: /content/data/1376.png  \n",
            "  inflating: /content/data/1377.png  \n",
            "  inflating: /content/data/1378.png  \n",
            "  inflating: /content/data/1379.png  \n",
            "  inflating: /content/data/138.png   \n",
            "  inflating: /content/data/1380.png  \n",
            "  inflating: /content/data/1381.png  \n",
            "  inflating: /content/data/1382.png  \n",
            "  inflating: /content/data/1383.png  \n",
            "  inflating: /content/data/1384.png  \n",
            "  inflating: /content/data/1385.png  \n",
            "  inflating: /content/data/1386.png  \n",
            "  inflating: /content/data/1387.png  \n",
            "  inflating: /content/data/1388.png  \n",
            "  inflating: /content/data/1389.png  \n",
            "  inflating: /content/data/139.png   \n",
            "  inflating: /content/data/1390.png  \n",
            "  inflating: /content/data/1391.png  \n",
            "  inflating: /content/data/1392.png  \n",
            "  inflating: /content/data/1393.png  \n",
            "  inflating: /content/data/1394.png  \n",
            "  inflating: /content/data/1395.png  \n",
            "  inflating: /content/data/1396.png  \n",
            "  inflating: /content/data/1397.png  \n",
            "  inflating: /content/data/1398.png  \n",
            "  inflating: /content/data/1399.png  \n",
            "  inflating: /content/data/14.png    \n",
            "  inflating: /content/data/140.png   \n",
            "  inflating: /content/data/1400.png  \n",
            "  inflating: /content/data/1401.png  \n",
            "  inflating: /content/data/1402.png  \n",
            "  inflating: /content/data/1403.png  \n",
            "  inflating: /content/data/1404.png  \n",
            "  inflating: /content/data/1405.png  \n",
            "  inflating: /content/data/1406.png  \n",
            "  inflating: /content/data/1407.png  \n",
            "  inflating: /content/data/1408.png  \n",
            "  inflating: /content/data/1409.png  \n",
            "  inflating: /content/data/141.png   \n",
            "  inflating: /content/data/1410.png  \n",
            "  inflating: /content/data/1411.png  \n",
            "  inflating: /content/data/1412.png  \n",
            "  inflating: /content/data/1413.png  \n",
            "  inflating: /content/data/1414.png  \n",
            "  inflating: /content/data/1415.png  \n",
            "  inflating: /content/data/1416.png  \n",
            "  inflating: /content/data/1417.png  \n",
            "  inflating: /content/data/1418.png  \n",
            "  inflating: /content/data/1419.png  \n",
            "  inflating: /content/data/142.png   \n",
            "  inflating: /content/data/1420.png  \n",
            "  inflating: /content/data/1421.png  \n",
            "  inflating: /content/data/1422.png  \n",
            "  inflating: /content/data/1423.png  \n",
            "  inflating: /content/data/1424.png  \n",
            "  inflating: /content/data/1425.png  \n",
            "  inflating: /content/data/1426.png  \n",
            "  inflating: /content/data/1427.png  \n",
            "  inflating: /content/data/1428.png  \n",
            "  inflating: /content/data/1429.png  \n",
            "  inflating: /content/data/143.png   \n",
            "  inflating: /content/data/1430.png  \n",
            "  inflating: /content/data/1431.png  \n",
            "  inflating: /content/data/1432.png  \n",
            "  inflating: /content/data/1433.png  \n",
            "  inflating: /content/data/1434.png  \n",
            "  inflating: /content/data/1435.png  \n",
            "  inflating: /content/data/1436.png  \n",
            "  inflating: /content/data/1437.png  \n",
            "  inflating: /content/data/1438.png  \n",
            "  inflating: /content/data/1439.png  \n",
            "  inflating: /content/data/144.png   \n",
            "  inflating: /content/data/1440.png  \n",
            "  inflating: /content/data/1441.png  \n",
            "  inflating: /content/data/1442.png  \n",
            "  inflating: /content/data/1443.png  \n",
            "  inflating: /content/data/1444.png  \n",
            "  inflating: /content/data/1445.png  \n",
            "  inflating: /content/data/1446.png  \n",
            "  inflating: /content/data/1447.png  \n",
            "  inflating: /content/data/1448.png  \n",
            "  inflating: /content/data/1449.png  \n",
            "  inflating: /content/data/145.png   \n",
            "  inflating: /content/data/1450.png  \n",
            "  inflating: /content/data/1451.png  \n",
            "  inflating: /content/data/1452.png  \n",
            "  inflating: /content/data/1453.png  \n",
            "  inflating: /content/data/1454.png  \n",
            "  inflating: /content/data/1455.png  \n",
            "  inflating: /content/data/1456.png  \n",
            "  inflating: /content/data/1457.png  \n",
            "  inflating: /content/data/1458.png  \n",
            "  inflating: /content/data/1459.png  \n",
            "  inflating: /content/data/146.png   \n",
            "  inflating: /content/data/1460.png  \n",
            "  inflating: /content/data/1461.png  \n",
            "  inflating: /content/data/1462.png  \n",
            "  inflating: /content/data/1463.png  \n",
            "  inflating: /content/data/1464.png  \n",
            "  inflating: /content/data/1465.png  \n",
            "  inflating: /content/data/1466.png  \n",
            "  inflating: /content/data/1467.png  \n",
            "  inflating: /content/data/1468.png  \n",
            "  inflating: /content/data/1469.png  \n",
            "  inflating: /content/data/147.png   \n",
            "  inflating: /content/data/1470.png  \n",
            "  inflating: /content/data/1471.png  \n",
            "  inflating: /content/data/1472.png  \n",
            "  inflating: /content/data/1473.png  \n",
            "  inflating: /content/data/1474.png  \n",
            "  inflating: /content/data/1475.png  \n",
            "  inflating: /content/data/1476.png  \n",
            "  inflating: /content/data/1477.png  \n",
            "  inflating: /content/data/1478.png  \n",
            "  inflating: /content/data/1479.png  \n",
            "  inflating: /content/data/148.png   \n",
            "  inflating: /content/data/1480.png  \n",
            "  inflating: /content/data/1481.png  \n",
            "  inflating: /content/data/1482.png  \n",
            "  inflating: /content/data/1483.png  \n",
            "  inflating: /content/data/1484.png  \n",
            "  inflating: /content/data/1485.png  \n",
            "  inflating: /content/data/1486.png  \n",
            "  inflating: /content/data/1487.png  \n",
            "  inflating: /content/data/1488.png  \n",
            "  inflating: /content/data/1489.png  \n",
            "  inflating: /content/data/149.png   \n",
            "  inflating: /content/data/1490.png  \n",
            "  inflating: /content/data/1491.png  \n",
            "  inflating: /content/data/1492.png  \n",
            "  inflating: /content/data/1493.png  \n",
            "  inflating: /content/data/1494.png  \n",
            "  inflating: /content/data/1495.png  \n",
            "  inflating: /content/data/1496.png  \n",
            "  inflating: /content/data/1497.png  \n",
            "  inflating: /content/data/1498.png  \n",
            "  inflating: /content/data/1499.png  \n",
            "  inflating: /content/data/15.png    \n",
            "  inflating: /content/data/150.png   \n",
            "  inflating: /content/data/1500.png  \n",
            "  inflating: /content/data/1501.png  \n",
            "  inflating: /content/data/1502.png  \n",
            "  inflating: /content/data/1503.png  \n",
            "  inflating: /content/data/1504.png  \n",
            "  inflating: /content/data/1505.png  \n",
            "  inflating: /content/data/1506.png  \n",
            "  inflating: /content/data/1507.png  \n",
            "  inflating: /content/data/1508.png  \n",
            "  inflating: /content/data/1509.png  \n",
            "  inflating: /content/data/151.png   \n",
            "  inflating: /content/data/1510.png  \n",
            "  inflating: /content/data/1511.png  \n",
            "  inflating: /content/data/1512.png  \n",
            "  inflating: /content/data/1513.png  \n",
            "  inflating: /content/data/1514.png  \n",
            "  inflating: /content/data/1515.png  \n",
            "  inflating: /content/data/1516.png  \n",
            "  inflating: /content/data/1517.png  \n",
            "  inflating: /content/data/152.png   \n",
            "  inflating: /content/data/153.png   \n",
            "  inflating: /content/data/154.png   \n",
            "  inflating: /content/data/155.png   \n",
            "  inflating: /content/data/156.png   \n",
            "  inflating: /content/data/157.png   \n",
            "  inflating: /content/data/158.png   \n",
            "  inflating: /content/data/159.png   \n",
            "  inflating: /content/data/16.png    \n",
            "  inflating: /content/data/160.png   \n",
            "  inflating: /content/data/161.png   \n",
            "  inflating: /content/data/162.png   \n",
            "  inflating: /content/data/163.png   \n",
            "  inflating: /content/data/164.png   \n",
            "  inflating: /content/data/165.png   \n",
            "  inflating: /content/data/166.png   \n",
            "  inflating: /content/data/167.png   \n",
            "  inflating: /content/data/168.png   \n",
            "  inflating: /content/data/169.png   \n",
            "  inflating: /content/data/17.png    \n",
            "  inflating: /content/data/170.png   \n",
            "  inflating: /content/data/171.png   \n",
            "  inflating: /content/data/172.png   \n",
            "  inflating: /content/data/173.png   \n",
            "  inflating: /content/data/174.png   \n",
            "  inflating: /content/data/175.png   \n",
            "  inflating: /content/data/176.png   \n",
            "  inflating: /content/data/177.png   \n",
            "  inflating: /content/data/178.png   \n",
            "  inflating: /content/data/179.png   \n",
            "  inflating: /content/data/18.png    \n",
            "  inflating: /content/data/180.png   \n",
            "  inflating: /content/data/181.png   \n",
            "  inflating: /content/data/182.png   \n",
            "  inflating: /content/data/183.png   \n",
            "  inflating: /content/data/184.png   \n",
            "  inflating: /content/data/185.png   \n",
            "  inflating: /content/data/186.png   \n",
            "  inflating: /content/data/187.png   \n",
            "  inflating: /content/data/188.png   \n",
            "  inflating: /content/data/189.png   \n",
            "  inflating: /content/data/19.png    \n",
            "  inflating: /content/data/190.png   \n",
            "  inflating: /content/data/191.png   \n",
            "  inflating: /content/data/192.png   \n",
            "  inflating: /content/data/193.png   \n",
            "  inflating: /content/data/194.png   \n",
            "  inflating: /content/data/195.png   \n",
            "  inflating: /content/data/196.png   \n",
            "  inflating: /content/data/197.png   \n",
            "  inflating: /content/data/198.png   \n",
            "  inflating: /content/data/199.png   \n",
            "  inflating: /content/data/2.png     \n",
            "  inflating: /content/data/20.png    \n",
            "  inflating: /content/data/200.png   \n",
            "  inflating: /content/data/201.png   \n",
            "  inflating: /content/data/202.png   \n",
            "  inflating: /content/data/203.png   \n",
            "  inflating: /content/data/204.png   \n",
            "  inflating: /content/data/205.png   \n",
            "  inflating: /content/data/206.png   \n",
            "  inflating: /content/data/207.png   \n",
            "  inflating: /content/data/208.png   \n",
            "  inflating: /content/data/209.png   \n",
            "  inflating: /content/data/21.png    \n",
            "  inflating: /content/data/210.png   \n",
            "  inflating: /content/data/211.png   \n",
            "  inflating: /content/data/212.png   \n",
            "  inflating: /content/data/213.png   \n",
            "  inflating: /content/data/214.png   \n",
            "  inflating: /content/data/215.png   \n",
            "  inflating: /content/data/216.png   \n",
            "  inflating: /content/data/217.png   \n",
            "  inflating: /content/data/218.png   \n",
            "  inflating: /content/data/219.png   \n",
            "  inflating: /content/data/22.png    \n",
            "  inflating: /content/data/220.png   \n",
            "  inflating: /content/data/221.png   \n",
            "  inflating: /content/data/222.png   \n",
            "  inflating: /content/data/223.png   \n",
            "  inflating: /content/data/224.png   \n",
            "  inflating: /content/data/225.png   \n",
            "  inflating: /content/data/226.png   \n",
            "  inflating: /content/data/227.png   \n",
            "  inflating: /content/data/228.png   \n",
            "  inflating: /content/data/229.png   \n",
            "  inflating: /content/data/23.png    \n",
            "  inflating: /content/data/230.png   \n",
            "  inflating: /content/data/231.png   \n",
            "  inflating: /content/data/232.png   \n",
            "  inflating: /content/data/233.png   \n",
            "  inflating: /content/data/234.png   \n",
            "  inflating: /content/data/235.png   \n",
            "  inflating: /content/data/236.png   \n",
            "  inflating: /content/data/237.png   \n",
            "  inflating: /content/data/238.png   \n",
            "  inflating: /content/data/239.png   \n",
            "  inflating: /content/data/24.png    \n",
            "  inflating: /content/data/240.png   \n",
            "  inflating: /content/data/241.png   \n",
            "  inflating: /content/data/242.png   \n",
            "  inflating: /content/data/243.png   \n",
            "  inflating: /content/data/244.png   \n",
            "  inflating: /content/data/245.png   \n",
            "  inflating: /content/data/246.png   \n",
            "  inflating: /content/data/247.png   \n",
            "  inflating: /content/data/248.png   \n",
            "  inflating: /content/data/249.png   \n",
            "  inflating: /content/data/25.png    \n",
            "  inflating: /content/data/250.png   \n",
            "  inflating: /content/data/251.png   \n",
            "  inflating: /content/data/252.png   \n",
            "  inflating: /content/data/253.png   \n",
            "  inflating: /content/data/254.png   \n",
            "  inflating: /content/data/255.png   \n",
            "  inflating: /content/data/256.png   \n",
            "  inflating: /content/data/257.png   \n",
            "  inflating: /content/data/258.png   \n",
            "  inflating: /content/data/259.png   \n",
            "  inflating: /content/data/26.png    \n",
            "  inflating: /content/data/260.png   \n",
            "  inflating: /content/data/261.png   \n",
            "  inflating: /content/data/262.png   \n",
            "  inflating: /content/data/263.png   \n",
            "  inflating: /content/data/264.png   \n",
            "  inflating: /content/data/265.png   \n",
            "  inflating: /content/data/266.png   \n",
            "  inflating: /content/data/267.png   \n",
            "  inflating: /content/data/268.png   \n",
            "  inflating: /content/data/269.png   \n",
            "  inflating: /content/data/27.png    \n",
            "  inflating: /content/data/270.png   \n",
            "  inflating: /content/data/271.png   \n",
            "  inflating: /content/data/272.png   \n",
            "  inflating: /content/data/273.png   \n",
            "  inflating: /content/data/274.png   \n",
            "  inflating: /content/data/275.png   \n",
            "  inflating: /content/data/276.png   \n",
            "  inflating: /content/data/277.png   \n",
            "  inflating: /content/data/278.png   \n",
            "  inflating: /content/data/279.png   \n",
            "  inflating: /content/data/28.png    \n",
            "  inflating: /content/data/280.png   \n",
            "  inflating: /content/data/281.png   \n",
            "  inflating: /content/data/282.png   \n",
            "  inflating: /content/data/283.png   \n",
            "  inflating: /content/data/284.png   \n",
            "  inflating: /content/data/285.png   \n",
            "  inflating: /content/data/286.png   \n",
            "  inflating: /content/data/287.png   \n",
            "  inflating: /content/data/288.png   \n",
            "  inflating: /content/data/289.png   \n",
            "  inflating: /content/data/29.png    \n",
            "  inflating: /content/data/290.png   \n",
            "  inflating: /content/data/291.png   \n",
            "  inflating: /content/data/292.png   \n",
            "  inflating: /content/data/293.png   \n",
            "  inflating: /content/data/294.png   \n",
            "  inflating: /content/data/295.png   \n",
            "  inflating: /content/data/296.png   \n",
            "  inflating: /content/data/297.png   \n",
            "  inflating: /content/data/298.png   \n",
            "  inflating: /content/data/299.png   \n",
            "  inflating: /content/data/3.png     \n",
            "  inflating: /content/data/30.png    \n",
            "  inflating: /content/data/300.png   \n",
            "  inflating: /content/data/301.png   \n",
            "  inflating: /content/data/302.png   \n",
            "  inflating: /content/data/303.png   \n",
            "  inflating: /content/data/304.png   \n",
            "  inflating: /content/data/305.png   \n",
            "  inflating: /content/data/306.png   \n",
            "  inflating: /content/data/307.png   \n",
            "  inflating: /content/data/308.png   \n",
            "  inflating: /content/data/309.png   \n",
            "  inflating: /content/data/31.png    \n",
            "  inflating: /content/data/310.png   \n",
            "  inflating: /content/data/311.png   \n",
            "  inflating: /content/data/312.png   \n",
            "  inflating: /content/data/313.png   \n",
            "  inflating: /content/data/314.png   \n",
            "  inflating: /content/data/315.png   \n",
            "  inflating: /content/data/316.png   \n",
            "  inflating: /content/data/317.png   \n",
            "  inflating: /content/data/318.png   \n",
            "  inflating: /content/data/319.png   \n",
            "  inflating: /content/data/32.png    \n",
            "  inflating: /content/data/320.png   \n",
            "  inflating: /content/data/321.png   \n",
            "  inflating: /content/data/322.png   \n",
            "  inflating: /content/data/323.png   \n",
            "  inflating: /content/data/324.png   \n",
            "  inflating: /content/data/325.png   \n",
            "  inflating: /content/data/326.png   \n",
            "  inflating: /content/data/327.png   \n",
            "  inflating: /content/data/328.png   \n",
            "  inflating: /content/data/329.png   \n",
            "  inflating: /content/data/33.png    \n",
            "  inflating: /content/data/330.png   \n",
            "  inflating: /content/data/331.png   \n",
            "  inflating: /content/data/332.png   \n",
            "  inflating: /content/data/333.png   \n",
            "  inflating: /content/data/334.png   \n",
            "  inflating: /content/data/335.png   \n",
            "  inflating: /content/data/336.png   \n",
            "  inflating: /content/data/337.png   \n",
            "  inflating: /content/data/338.png   \n",
            "  inflating: /content/data/339.png   \n",
            "  inflating: /content/data/34.png    \n",
            "  inflating: /content/data/340.png   \n",
            "  inflating: /content/data/341.png   \n",
            "  inflating: /content/data/342.png   \n",
            "  inflating: /content/data/343.png   \n",
            "  inflating: /content/data/344.png   \n",
            "  inflating: /content/data/345.png   \n",
            "  inflating: /content/data/346.png   \n",
            "  inflating: /content/data/347.png   \n",
            "  inflating: /content/data/348.png   \n",
            "  inflating: /content/data/349.png   \n",
            "  inflating: /content/data/35.png    \n",
            "  inflating: /content/data/350.png   \n",
            "  inflating: /content/data/351.png   \n",
            "  inflating: /content/data/352.png   \n",
            "  inflating: /content/data/353.png   \n",
            "  inflating: /content/data/354.png   \n",
            "  inflating: /content/data/355.png   \n",
            "  inflating: /content/data/356.png   \n",
            "  inflating: /content/data/357.png   \n",
            "  inflating: /content/data/358.png   \n",
            "  inflating: /content/data/359.png   \n",
            "  inflating: /content/data/36.png    \n",
            "  inflating: /content/data/360.png   \n",
            "  inflating: /content/data/361.png   \n",
            "  inflating: /content/data/362.png   \n",
            "  inflating: /content/data/363.png   \n",
            "  inflating: /content/data/364.png   \n",
            "  inflating: /content/data/365.png   \n",
            "  inflating: /content/data/366.png   \n",
            "  inflating: /content/data/367.png   \n",
            "  inflating: /content/data/368.png   \n",
            "  inflating: /content/data/369.png   \n",
            "  inflating: /content/data/37.png    \n",
            "  inflating: /content/data/370.png   \n",
            "  inflating: /content/data/371.png   \n",
            "  inflating: /content/data/372.png   \n",
            "  inflating: /content/data/373.png   \n",
            "  inflating: /content/data/374.png   \n",
            "  inflating: /content/data/375.png   \n",
            "  inflating: /content/data/376.png   \n",
            "  inflating: /content/data/377.png   \n",
            "  inflating: /content/data/378.png   \n",
            "  inflating: /content/data/379.png   \n",
            "  inflating: /content/data/38.png    \n",
            "  inflating: /content/data/380.png   \n",
            "  inflating: /content/data/381.png   \n",
            "  inflating: /content/data/382.png   \n",
            "  inflating: /content/data/383.png   \n",
            "  inflating: /content/data/384.png   \n",
            "  inflating: /content/data/385.png   \n",
            "  inflating: /content/data/386.png   \n",
            "  inflating: /content/data/387.png   \n",
            "  inflating: /content/data/388.png   \n",
            "  inflating: /content/data/389.png   \n",
            "  inflating: /content/data/39.png    \n",
            "  inflating: /content/data/390.png   \n",
            "  inflating: /content/data/391.png   \n",
            "  inflating: /content/data/392.png   \n",
            "  inflating: /content/data/393.png   \n",
            "  inflating: /content/data/394.png   \n",
            "  inflating: /content/data/395.png   \n",
            "  inflating: /content/data/396.png   \n",
            "  inflating: /content/data/397.png   \n",
            "  inflating: /content/data/398.png   \n",
            "  inflating: /content/data/399.png   \n",
            "  inflating: /content/data/4.png     \n",
            "  inflating: /content/data/40.png    \n",
            "  inflating: /content/data/400.png   \n",
            "  inflating: /content/data/401.png   \n",
            "  inflating: /content/data/402.png   \n",
            "  inflating: /content/data/403.png   \n",
            "  inflating: /content/data/404.png   \n",
            "  inflating: /content/data/405.png   \n",
            "  inflating: /content/data/406.png   \n",
            "  inflating: /content/data/407.png   \n",
            "  inflating: /content/data/408.png   \n",
            "  inflating: /content/data/409.png   \n",
            "  inflating: /content/data/41.png    \n",
            "  inflating: /content/data/410.png   \n",
            "  inflating: /content/data/411.png   \n",
            "  inflating: /content/data/412.png   \n",
            "  inflating: /content/data/413.png   \n",
            "  inflating: /content/data/414.png   \n",
            "  inflating: /content/data/415.png   \n",
            "  inflating: /content/data/416.png   \n",
            "  inflating: /content/data/417.png   \n",
            "  inflating: /content/data/418.png   \n",
            "  inflating: /content/data/419.png   \n",
            "  inflating: /content/data/42.png    \n",
            "  inflating: /content/data/420.png   \n",
            "  inflating: /content/data/421.png   \n",
            "  inflating: /content/data/422.png   \n",
            "  inflating: /content/data/423.png   \n",
            "  inflating: /content/data/424.png   \n",
            "  inflating: /content/data/425.png   \n",
            "  inflating: /content/data/426.png   \n",
            "  inflating: /content/data/427.png   \n",
            "  inflating: /content/data/428.png   \n",
            "  inflating: /content/data/429.png   \n",
            "  inflating: /content/data/43.png    \n",
            "  inflating: /content/data/430.png   \n",
            "  inflating: /content/data/431.png   \n",
            "  inflating: /content/data/432.png   \n",
            "  inflating: /content/data/433.png   \n",
            "  inflating: /content/data/434.png   \n",
            "  inflating: /content/data/435.png   \n",
            "  inflating: /content/data/436.png   \n",
            "  inflating: /content/data/437.png   \n",
            "  inflating: /content/data/438.png   \n",
            "  inflating: /content/data/439.png   \n",
            "  inflating: /content/data/44.png    \n",
            "  inflating: /content/data/440.png   \n",
            "  inflating: /content/data/441.png   \n",
            "  inflating: /content/data/442.png   \n",
            "  inflating: /content/data/443.png   \n",
            "  inflating: /content/data/444.png   \n",
            "  inflating: /content/data/445.png   \n",
            "  inflating: /content/data/446.png   \n",
            "  inflating: /content/data/447.png   \n",
            "  inflating: /content/data/448.png   \n",
            "  inflating: /content/data/449.png   \n",
            "  inflating: /content/data/45.png    \n",
            "  inflating: /content/data/450.png   \n",
            "  inflating: /content/data/451.png   \n",
            "  inflating: /content/data/452.png   \n",
            "  inflating: /content/data/453.png   \n",
            "  inflating: /content/data/454.png   \n",
            "  inflating: /content/data/455.png   \n",
            "  inflating: /content/data/456.png   \n",
            "  inflating: /content/data/457.png   \n",
            "  inflating: /content/data/458.png   \n",
            "  inflating: /content/data/459.png   \n",
            "  inflating: /content/data/46.png    \n",
            "  inflating: /content/data/460.png   \n",
            "  inflating: /content/data/461.png   \n",
            "  inflating: /content/data/462.png   \n",
            "  inflating: /content/data/463.png   \n",
            "  inflating: /content/data/464.png   \n",
            "  inflating: /content/data/465.png   \n",
            "  inflating: /content/data/466.png   \n",
            "  inflating: /content/data/467.png   \n",
            "  inflating: /content/data/468.png   \n",
            "  inflating: /content/data/469.png   \n",
            "  inflating: /content/data/47.png    \n",
            "  inflating: /content/data/470.png   \n",
            "  inflating: /content/data/471.png   \n",
            "  inflating: /content/data/472.png   \n",
            "  inflating: /content/data/473.png   \n",
            "  inflating: /content/data/474.png   \n",
            "  inflating: /content/data/475.png   \n",
            "  inflating: /content/data/476.png   \n",
            "  inflating: /content/data/477.png   \n",
            "  inflating: /content/data/478.png   \n",
            "  inflating: /content/data/479.png   \n",
            "  inflating: /content/data/48.png    \n",
            "  inflating: /content/data/480.png   \n",
            "  inflating: /content/data/481.png   \n",
            "  inflating: /content/data/482.png   \n",
            "  inflating: /content/data/483.png   \n",
            "  inflating: /content/data/484.png   \n",
            "  inflating: /content/data/485.png   \n",
            "  inflating: /content/data/486.png   \n",
            "  inflating: /content/data/487.png   \n",
            "  inflating: /content/data/488.png   \n",
            "  inflating: /content/data/489.png   \n",
            "  inflating: /content/data/49.png    \n",
            "  inflating: /content/data/490.png   \n",
            "  inflating: /content/data/491.png   \n",
            "  inflating: /content/data/492.png   \n",
            "  inflating: /content/data/493.png   \n",
            "  inflating: /content/data/494.png   \n",
            "  inflating: /content/data/495.png   \n",
            "  inflating: /content/data/496.png   \n",
            "  inflating: /content/data/497.png   \n",
            "  inflating: /content/data/498.png   \n",
            "  inflating: /content/data/499.png   \n",
            "  inflating: /content/data/5.png     \n",
            "  inflating: /content/data/50.png    \n",
            "  inflating: /content/data/500.png   \n",
            "  inflating: /content/data/501.png   \n",
            "  inflating: /content/data/502.png   \n",
            "  inflating: /content/data/503.png   \n",
            "  inflating: /content/data/504.png   \n",
            "  inflating: /content/data/505.png   \n",
            "  inflating: /content/data/506.png   \n",
            "  inflating: /content/data/507.png   \n",
            "  inflating: /content/data/508.png   \n",
            "  inflating: /content/data/509.png   \n",
            "  inflating: /content/data/51.png    \n",
            "  inflating: /content/data/510.png   \n",
            "  inflating: /content/data/511.png   \n",
            "  inflating: /content/data/512.png   \n",
            "  inflating: /content/data/513.png   \n",
            "  inflating: /content/data/514.png   \n",
            "  inflating: /content/data/515.png   \n",
            "  inflating: /content/data/516.png   \n",
            "  inflating: /content/data/517.png   \n",
            "  inflating: /content/data/518.png   \n",
            "  inflating: /content/data/519.png   \n",
            "  inflating: /content/data/52.png    \n",
            "  inflating: /content/data/520.png   \n",
            "  inflating: /content/data/521.png   \n",
            "  inflating: /content/data/522.png   \n",
            "  inflating: /content/data/523.png   \n",
            "  inflating: /content/data/524.png   \n",
            "  inflating: /content/data/525.png   \n",
            "  inflating: /content/data/526.png   \n",
            "  inflating: /content/data/527.png   \n",
            "  inflating: /content/data/528.png   \n",
            "  inflating: /content/data/529.png   \n",
            "  inflating: /content/data/53.png    \n",
            "  inflating: /content/data/530.png   \n",
            "  inflating: /content/data/531.png   \n",
            "  inflating: /content/data/532.png   \n",
            "  inflating: /content/data/533.png   \n",
            "  inflating: /content/data/534.png   \n",
            "  inflating: /content/data/535.png   \n",
            "  inflating: /content/data/536.png   \n",
            "  inflating: /content/data/537.png   \n",
            "  inflating: /content/data/538.png   \n",
            "  inflating: /content/data/539.png   \n",
            "  inflating: /content/data/54.png    \n",
            "  inflating: /content/data/540.png   \n",
            "  inflating: /content/data/541.png   \n",
            "  inflating: /content/data/542.png   \n",
            "  inflating: /content/data/543.png   \n",
            "  inflating: /content/data/544.png   \n",
            "  inflating: /content/data/545.png   \n",
            "  inflating: /content/data/546.png   \n",
            "  inflating: /content/data/547.png   \n",
            "  inflating: /content/data/548.png   \n",
            "  inflating: /content/data/549.png   \n",
            "  inflating: /content/data/55.png    \n",
            "  inflating: /content/data/550.png   \n",
            "  inflating: /content/data/551.png   \n",
            "  inflating: /content/data/552.png   \n",
            "  inflating: /content/data/553.png   \n",
            "  inflating: /content/data/554.png   \n",
            "  inflating: /content/data/555.png   \n",
            "  inflating: /content/data/556.png   \n",
            "  inflating: /content/data/557.png   \n",
            "  inflating: /content/data/558.png   \n",
            "  inflating: /content/data/559.png   \n",
            "  inflating: /content/data/56.png    \n",
            "  inflating: /content/data/560.png   \n",
            "  inflating: /content/data/561.png   \n",
            "  inflating: /content/data/562.png   \n",
            "  inflating: /content/data/563.png   \n",
            "  inflating: /content/data/564.png   \n",
            "  inflating: /content/data/565.png   \n",
            "  inflating: /content/data/566.png   \n",
            "  inflating: /content/data/567.png   \n",
            "  inflating: /content/data/568.png   \n",
            "  inflating: /content/data/569.png   \n",
            "  inflating: /content/data/57.png    \n",
            "  inflating: /content/data/570.png   \n",
            "  inflating: /content/data/571.png   \n",
            "  inflating: /content/data/572.png   \n",
            "  inflating: /content/data/573.png   \n",
            "  inflating: /content/data/574.png   \n",
            "  inflating: /content/data/575.png   \n",
            "  inflating: /content/data/576.png   \n",
            "  inflating: /content/data/577.png   \n",
            "  inflating: /content/data/578.png   \n",
            "  inflating: /content/data/579.png   \n",
            "  inflating: /content/data/58.png    \n",
            "  inflating: /content/data/580.png   \n",
            "  inflating: /content/data/581.png   \n",
            "  inflating: /content/data/582.png   \n",
            "  inflating: /content/data/583.png   \n",
            "  inflating: /content/data/584.png   \n",
            "  inflating: /content/data/585.png   \n",
            "  inflating: /content/data/586.png   \n",
            "  inflating: /content/data/587.png   \n",
            "  inflating: /content/data/588.png   \n",
            "  inflating: /content/data/589.png   \n",
            "  inflating: /content/data/59.png    \n",
            "  inflating: /content/data/590.png   \n",
            "  inflating: /content/data/591.png   \n",
            "  inflating: /content/data/592.png   \n",
            "  inflating: /content/data/593.png   \n",
            "  inflating: /content/data/594.png   \n",
            "  inflating: /content/data/595.png   \n",
            "  inflating: /content/data/596.png   \n",
            "  inflating: /content/data/597.png   \n",
            "  inflating: /content/data/598.png   \n",
            "  inflating: /content/data/599.png   \n",
            "  inflating: /content/data/6.png     \n",
            "  inflating: /content/data/60.png    \n",
            "  inflating: /content/data/600.png   \n",
            "  inflating: /content/data/601.png   \n",
            "  inflating: /content/data/602.png   \n",
            "  inflating: /content/data/603.png   \n",
            "  inflating: /content/data/604.png   \n",
            "  inflating: /content/data/605.png   \n",
            "  inflating: /content/data/606.png   \n",
            "  inflating: /content/data/607.png   \n",
            "  inflating: /content/data/608.png   \n",
            "  inflating: /content/data/609.png   \n",
            "  inflating: /content/data/61.png    \n",
            "  inflating: /content/data/610.png   \n",
            "  inflating: /content/data/611.png   \n",
            "  inflating: /content/data/612.png   \n",
            "  inflating: /content/data/613.png   \n",
            "  inflating: /content/data/614.png   \n",
            "  inflating: /content/data/615.png   \n",
            "  inflating: /content/data/616.png   \n",
            "  inflating: /content/data/617.png   \n",
            "  inflating: /content/data/618.png   \n",
            "  inflating: /content/data/619.png   \n",
            "  inflating: /content/data/62.png    \n",
            "  inflating: /content/data/620.png   \n",
            "  inflating: /content/data/621.png   \n",
            "  inflating: /content/data/622.png   \n",
            "  inflating: /content/data/623.png   \n",
            "  inflating: /content/data/624.png   \n",
            "  inflating: /content/data/625.png   \n",
            "  inflating: /content/data/626.png   \n",
            "  inflating: /content/data/627.png   \n",
            "  inflating: /content/data/628.png   \n",
            "  inflating: /content/data/629.png   \n",
            "  inflating: /content/data/63.png    \n",
            "  inflating: /content/data/630.png   \n",
            "  inflating: /content/data/631.png   \n",
            "  inflating: /content/data/632.png   \n",
            "  inflating: /content/data/633.png   \n",
            "  inflating: /content/data/634.png   \n",
            "  inflating: /content/data/635.png   \n",
            "  inflating: /content/data/636.png   \n",
            "  inflating: /content/data/637.png   \n",
            "  inflating: /content/data/638.png   \n",
            "  inflating: /content/data/639.png   \n",
            "  inflating: /content/data/64.png    \n",
            "  inflating: /content/data/640.png   \n",
            "  inflating: /content/data/641.png   \n",
            "  inflating: /content/data/642.png   \n",
            "  inflating: /content/data/643.png   \n",
            "  inflating: /content/data/644.png   \n",
            "  inflating: /content/data/645.png   \n",
            "  inflating: /content/data/646.png   \n",
            "  inflating: /content/data/647.png   \n",
            "  inflating: /content/data/648.png   \n",
            "  inflating: /content/data/649.png   \n",
            "  inflating: /content/data/65.png    \n",
            "  inflating: /content/data/650.png   \n",
            "  inflating: /content/data/651.png   \n",
            "  inflating: /content/data/652.png   \n",
            "  inflating: /content/data/653.png   \n",
            "  inflating: /content/data/654.png   \n",
            "  inflating: /content/data/655.png   \n",
            "  inflating: /content/data/656.png   \n",
            "  inflating: /content/data/657.png   \n",
            "  inflating: /content/data/658.png   \n",
            "  inflating: /content/data/659.png   \n",
            "  inflating: /content/data/66.png    \n",
            "  inflating: /content/data/660.png   \n",
            "  inflating: /content/data/661.png   \n",
            "  inflating: /content/data/662.png   \n",
            "  inflating: /content/data/663.png   \n",
            "  inflating: /content/data/664.png   \n",
            "  inflating: /content/data/665.png   \n",
            "  inflating: /content/data/666.png   \n",
            "  inflating: /content/data/667.png   \n",
            "  inflating: /content/data/668.png   \n",
            "  inflating: /content/data/669.png   \n",
            "  inflating: /content/data/67.png    \n",
            "  inflating: /content/data/670.png   \n",
            "  inflating: /content/data/671.png   \n",
            "  inflating: /content/data/672.png   \n",
            "  inflating: /content/data/673.png   \n",
            "  inflating: /content/data/674.png   \n",
            "  inflating: /content/data/675.png   \n",
            "  inflating: /content/data/676.png   \n",
            "  inflating: /content/data/677.png   \n",
            "  inflating: /content/data/678.png   \n",
            "  inflating: /content/data/679.png   \n",
            "  inflating: /content/data/68.png    \n",
            "  inflating: /content/data/680.png   \n",
            "  inflating: /content/data/681.png   \n",
            "  inflating: /content/data/682.png   \n",
            "  inflating: /content/data/683.png   \n",
            "  inflating: /content/data/684.png   \n",
            "  inflating: /content/data/685.png   \n",
            "  inflating: /content/data/686.png   \n",
            "  inflating: /content/data/687.png   \n",
            "  inflating: /content/data/688.png   \n",
            "  inflating: /content/data/689.png   \n",
            "  inflating: /content/data/69.png    \n",
            "  inflating: /content/data/690.png   \n",
            "  inflating: /content/data/691.png   \n",
            "  inflating: /content/data/692.png   \n",
            "  inflating: /content/data/693.png   \n",
            "  inflating: /content/data/694.png   \n",
            "  inflating: /content/data/695.png   \n",
            "  inflating: /content/data/696.png   \n",
            "  inflating: /content/data/697.png   \n",
            "  inflating: /content/data/698.png   \n",
            "  inflating: /content/data/699.png   \n",
            "  inflating: /content/data/7.png     \n",
            "  inflating: /content/data/70.png    \n",
            "  inflating: /content/data/700.png   \n",
            "  inflating: /content/data/701.png   \n",
            "  inflating: /content/data/702.png   \n",
            "  inflating: /content/data/703.png   \n",
            "  inflating: /content/data/704.png   \n",
            "  inflating: /content/data/705.png   \n",
            "  inflating: /content/data/706.png   \n",
            "  inflating: /content/data/707.png   \n",
            "  inflating: /content/data/708.png   \n",
            "  inflating: /content/data/709.png   \n",
            "  inflating: /content/data/71.png    \n",
            "  inflating: /content/data/710.png   \n",
            "  inflating: /content/data/711.png   \n",
            "  inflating: /content/data/712.png   \n",
            "  inflating: /content/data/713.png   \n",
            "  inflating: /content/data/714.png   \n",
            "  inflating: /content/data/715.png   \n",
            "  inflating: /content/data/716.png   \n",
            "  inflating: /content/data/717.png   \n",
            "  inflating: /content/data/718.png   \n",
            "  inflating: /content/data/719.png   \n",
            "  inflating: /content/data/72.png    \n",
            "  inflating: /content/data/720.png   \n",
            "  inflating: /content/data/721.png   \n",
            "  inflating: /content/data/722.png   \n",
            "  inflating: /content/data/723.png   \n",
            "  inflating: /content/data/724.png   \n",
            "  inflating: /content/data/725.png   \n",
            "  inflating: /content/data/726.png   \n",
            "  inflating: /content/data/727.png   \n",
            "  inflating: /content/data/728.png   \n",
            "  inflating: /content/data/729.png   \n",
            "  inflating: /content/data/73.png    \n",
            "  inflating: /content/data/730.png   \n",
            "  inflating: /content/data/731.png   \n",
            "  inflating: /content/data/732.png   \n",
            "  inflating: /content/data/733.png   \n",
            "  inflating: /content/data/734.png   \n",
            "  inflating: /content/data/735.png   \n",
            "  inflating: /content/data/736.png   \n",
            "  inflating: /content/data/737.png   \n",
            "  inflating: /content/data/738.png   \n",
            "  inflating: /content/data/739.png   \n",
            "  inflating: /content/data/74.png    \n",
            "  inflating: /content/data/740.png   \n",
            "  inflating: /content/data/741.png   \n",
            "  inflating: /content/data/742.png   \n",
            "  inflating: /content/data/743.png   \n",
            "  inflating: /content/data/744.png   \n",
            "  inflating: /content/data/745.png   \n",
            "  inflating: /content/data/746.png   \n",
            "  inflating: /content/data/747.png   \n",
            "  inflating: /content/data/748.png   \n",
            "  inflating: /content/data/749.png   \n",
            "  inflating: /content/data/75.png    \n",
            "  inflating: /content/data/750.png   \n",
            "  inflating: /content/data/751.png   \n",
            "  inflating: /content/data/752.png   \n",
            "  inflating: /content/data/753.png   \n",
            "  inflating: /content/data/754.png   \n",
            "  inflating: /content/data/755.png   \n",
            "  inflating: /content/data/756.png   \n",
            "  inflating: /content/data/757.png   \n",
            "  inflating: /content/data/758.png   \n",
            "  inflating: /content/data/759.png   \n",
            "  inflating: /content/data/76.png    \n",
            "  inflating: /content/data/760.png   \n",
            "  inflating: /content/data/761.png   \n",
            "  inflating: /content/data/762.png   \n",
            "  inflating: /content/data/763.png   \n",
            "  inflating: /content/data/764.png   \n",
            "  inflating: /content/data/765.png   \n",
            "  inflating: /content/data/766.png   \n",
            "  inflating: /content/data/767.png   \n",
            "  inflating: /content/data/768.png   \n",
            "  inflating: /content/data/769.png   \n",
            "  inflating: /content/data/77.png    \n",
            "  inflating: /content/data/770.png   \n",
            "  inflating: /content/data/771.png   \n",
            "  inflating: /content/data/772.png   \n",
            "  inflating: /content/data/773.png   \n",
            "  inflating: /content/data/774.png   \n",
            "  inflating: /content/data/775.png   \n",
            "  inflating: /content/data/776.png   \n",
            "  inflating: /content/data/777.png   \n",
            "  inflating: /content/data/778.png   \n",
            "  inflating: /content/data/779.png   \n",
            "  inflating: /content/data/78.png    \n",
            "  inflating: /content/data/780.png   \n",
            "  inflating: /content/data/781.png   \n",
            "  inflating: /content/data/782.png   \n",
            "  inflating: /content/data/783.png   \n",
            "  inflating: /content/data/784.png   \n",
            "  inflating: /content/data/785.png   \n",
            "  inflating: /content/data/786.png   \n",
            "  inflating: /content/data/787.png   \n",
            "  inflating: /content/data/788.png   \n",
            "  inflating: /content/data/789.png   \n",
            "  inflating: /content/data/79.png    \n",
            "  inflating: /content/data/790.png   \n",
            "  inflating: /content/data/791.png   \n",
            "  inflating: /content/data/792.png   \n",
            "  inflating: /content/data/793.png   \n",
            "  inflating: /content/data/794.png   \n",
            "  inflating: /content/data/795.png   \n",
            "  inflating: /content/data/796.png   \n",
            "  inflating: /content/data/797.png   \n",
            "  inflating: /content/data/798.png   \n",
            "  inflating: /content/data/799.png   \n",
            "  inflating: /content/data/8.png     \n",
            "  inflating: /content/data/80.png    \n",
            "  inflating: /content/data/800.png   \n",
            "  inflating: /content/data/801.png   \n",
            "  inflating: /content/data/802.png   \n",
            "  inflating: /content/data/803.png   \n",
            "  inflating: /content/data/804.png   \n",
            "  inflating: /content/data/805.png   \n",
            "  inflating: /content/data/806.png   \n",
            "  inflating: /content/data/807.png   \n",
            "  inflating: /content/data/808.png   \n",
            "  inflating: /content/data/809.png   \n",
            "  inflating: /content/data/81.png    \n",
            "  inflating: /content/data/810.png   \n",
            "  inflating: /content/data/811.png   \n",
            "  inflating: /content/data/812.png   \n",
            "  inflating: /content/data/813.png   \n",
            "  inflating: /content/data/814.png   \n",
            "  inflating: /content/data/815.png   \n",
            "  inflating: /content/data/816.png   \n",
            "  inflating: /content/data/817.png   \n",
            "  inflating: /content/data/818.png   \n",
            "  inflating: /content/data/819.png   \n",
            "  inflating: /content/data/82.png    \n",
            "  inflating: /content/data/820.png   \n",
            "  inflating: /content/data/821.png   \n",
            "  inflating: /content/data/822.png   \n",
            "  inflating: /content/data/823.png   \n",
            "  inflating: /content/data/824.png   \n",
            "  inflating: /content/data/825.png   \n",
            "  inflating: /content/data/826.png   \n",
            "  inflating: /content/data/827.png   \n",
            "  inflating: /content/data/828.png   \n",
            "  inflating: /content/data/829.png   \n",
            "  inflating: /content/data/83.png    \n",
            "  inflating: /content/data/830.png   \n",
            "  inflating: /content/data/831.png   \n",
            "  inflating: /content/data/832.png   \n",
            "  inflating: /content/data/833.png   \n",
            "  inflating: /content/data/834.png   \n",
            "  inflating: /content/data/835.png   \n",
            "  inflating: /content/data/836.png   \n",
            "  inflating: /content/data/837.png   \n",
            "  inflating: /content/data/838.png   \n",
            "  inflating: /content/data/839.png   \n",
            "  inflating: /content/data/84.png    \n",
            "  inflating: /content/data/840.png   \n",
            "  inflating: /content/data/841.png   \n",
            "  inflating: /content/data/842.png   \n",
            "  inflating: /content/data/843.png   \n",
            "  inflating: /content/data/844.png   \n",
            "  inflating: /content/data/845.png   \n",
            "  inflating: /content/data/846.png   \n",
            "  inflating: /content/data/847.png   \n",
            "  inflating: /content/data/848.png   \n",
            "  inflating: /content/data/849.png   \n",
            "  inflating: /content/data/85.png    \n",
            "  inflating: /content/data/850.png   \n",
            "  inflating: /content/data/851.png   \n",
            "  inflating: /content/data/852.png   \n",
            "  inflating: /content/data/853.png   \n",
            "  inflating: /content/data/854.png   \n",
            "  inflating: /content/data/855.png   \n",
            "  inflating: /content/data/856.png   \n",
            "  inflating: /content/data/857.png   \n",
            "  inflating: /content/data/858.png   \n",
            "  inflating: /content/data/859.png   \n",
            "  inflating: /content/data/86.png    \n",
            "  inflating: /content/data/860.png   \n",
            "  inflating: /content/data/861.png   \n",
            "  inflating: /content/data/862.png   \n",
            "  inflating: /content/data/863.png   \n",
            "  inflating: /content/data/864.png   \n",
            "  inflating: /content/data/865.png   \n",
            "  inflating: /content/data/866.png   \n",
            "  inflating: /content/data/867.png   \n",
            "  inflating: /content/data/868.png   \n",
            "  inflating: /content/data/869.png   \n",
            "  inflating: /content/data/87.png    \n",
            "  inflating: /content/data/870.png   \n",
            "  inflating: /content/data/871.png   \n",
            "  inflating: /content/data/872.png   \n",
            "  inflating: /content/data/873.png   \n",
            "  inflating: /content/data/874.png   \n",
            "  inflating: /content/data/875.png   \n",
            "  inflating: /content/data/876.png   \n",
            "  inflating: /content/data/877.png   \n",
            "  inflating: /content/data/878.png   \n",
            "  inflating: /content/data/879.png   \n",
            "  inflating: /content/data/88.png    \n",
            "  inflating: /content/data/880.png   \n",
            "  inflating: /content/data/881.png   \n",
            "  inflating: /content/data/882.png   \n",
            "  inflating: /content/data/883.png   \n",
            "  inflating: /content/data/884.png   \n",
            "  inflating: /content/data/885.png   \n",
            "  inflating: /content/data/886.png   \n",
            "  inflating: /content/data/887.png   \n",
            "  inflating: /content/data/888.png   \n",
            "  inflating: /content/data/889.png   \n",
            "  inflating: /content/data/89.png    \n",
            "  inflating: /content/data/890.png   \n",
            "  inflating: /content/data/891.png   \n",
            "  inflating: /content/data/892.png   \n",
            "  inflating: /content/data/893.png   \n",
            "  inflating: /content/data/894.png   \n",
            "  inflating: /content/data/895.png   \n",
            "  inflating: /content/data/896.png   \n",
            "  inflating: /content/data/897.png   \n",
            "  inflating: /content/data/898.png   \n",
            "  inflating: /content/data/899.png   \n",
            "  inflating: /content/data/9.png     \n",
            "  inflating: /content/data/90.png    \n",
            "  inflating: /content/data/900.png   \n",
            "  inflating: /content/data/901.png   \n",
            "  inflating: /content/data/902.png   \n",
            "  inflating: /content/data/903.png   \n",
            "  inflating: /content/data/904.png   \n",
            "  inflating: /content/data/905.png   \n",
            "  inflating: /content/data/906.png   \n",
            "  inflating: /content/data/907.png   \n",
            "  inflating: /content/data/908.png   \n",
            "  inflating: /content/data/909.png   \n",
            "  inflating: /content/data/91.png    \n",
            "  inflating: /content/data/910.png   \n",
            "  inflating: /content/data/911.png   \n",
            "  inflating: /content/data/912.png   \n",
            "  inflating: /content/data/913.png   \n",
            "  inflating: /content/data/914.png   \n",
            "  inflating: /content/data/915.png   \n",
            "  inflating: /content/data/916.png   \n",
            "  inflating: /content/data/917.png   \n",
            "  inflating: /content/data/918.png   \n",
            "  inflating: /content/data/919.png   \n",
            "  inflating: /content/data/92.png    \n",
            "  inflating: /content/data/920.png   \n",
            "  inflating: /content/data/921.png   \n",
            "  inflating: /content/data/922.png   \n",
            "  inflating: /content/data/923.png   \n",
            "  inflating: /content/data/924.png   \n",
            "  inflating: /content/data/925.png   \n",
            "  inflating: /content/data/926.png   \n",
            "  inflating: /content/data/927.png   \n",
            "  inflating: /content/data/928.png   \n",
            "  inflating: /content/data/929.png   \n",
            "  inflating: /content/data/93.png    \n",
            "  inflating: /content/data/930.png   \n",
            "  inflating: /content/data/931.png   \n",
            "  inflating: /content/data/932.png   \n",
            "  inflating: /content/data/933.png   \n",
            "  inflating: /content/data/934.png   \n",
            "  inflating: /content/data/935.png   \n",
            "  inflating: /content/data/936.png   \n",
            "  inflating: /content/data/937.png   \n",
            "  inflating: /content/data/938.png   \n",
            "  inflating: /content/data/939.png   \n",
            "  inflating: /content/data/94.png    \n",
            "  inflating: /content/data/940.png   \n",
            "  inflating: /content/data/941.png   \n",
            "  inflating: /content/data/942.png   \n",
            "  inflating: /content/data/943.png   \n",
            "  inflating: /content/data/944.png   \n",
            "  inflating: /content/data/945.png   \n",
            "  inflating: /content/data/946.png   \n",
            "  inflating: /content/data/947.png   \n",
            "  inflating: /content/data/948.png   \n",
            "  inflating: /content/data/949.png   \n",
            "  inflating: /content/data/95.png    \n",
            "  inflating: /content/data/950.png   \n",
            "  inflating: /content/data/951.png   \n",
            "  inflating: /content/data/952.png   \n",
            "  inflating: /content/data/953.png   \n",
            "  inflating: /content/data/954.png   \n",
            "  inflating: /content/data/955.png   \n",
            "  inflating: /content/data/956.png   \n",
            "  inflating: /content/data/957.png   \n",
            "  inflating: /content/data/958.png   \n",
            "  inflating: /content/data/959.png   \n",
            "  inflating: /content/data/96.png    \n",
            "  inflating: /content/data/960.png   \n",
            "  inflating: /content/data/961.png   \n",
            "  inflating: /content/data/962.png   \n",
            "  inflating: /content/data/963.png   \n",
            "  inflating: /content/data/964.png   \n",
            "  inflating: /content/data/965.png   \n",
            "  inflating: /content/data/966.png   \n",
            "  inflating: /content/data/967.png   \n",
            "  inflating: /content/data/968.png   \n",
            "  inflating: /content/data/969.png   \n",
            "  inflating: /content/data/97.png    \n",
            "  inflating: /content/data/970.png   \n",
            "  inflating: /content/data/971.png   \n",
            "  inflating: /content/data/972.png   \n",
            "  inflating: /content/data/973.png   \n",
            "  inflating: /content/data/974.png   \n",
            "  inflating: /content/data/975.png   \n",
            "  inflating: /content/data/976.png   \n",
            "  inflating: /content/data/977.png   \n",
            "  inflating: /content/data/978.png   \n",
            "  inflating: /content/data/979.png   \n",
            "  inflating: /content/data/98.png    \n",
            "  inflating: /content/data/980.png   \n",
            "  inflating: /content/data/981.png   \n",
            "  inflating: /content/data/982.png   \n",
            "  inflating: /content/data/983.png   \n",
            "  inflating: /content/data/984.png   \n",
            "  inflating: /content/data/985.png   \n",
            "  inflating: /content/data/986.png   \n",
            "  inflating: /content/data/987.png   \n",
            "  inflating: /content/data/988.png   \n",
            "  inflating: /content/data/989.png   \n",
            "  inflating: /content/data/99.png    \n",
            "  inflating: /content/data/990.png   \n",
            "  inflating: /content/data/991.png   \n",
            "  inflating: /content/data/992.png   \n",
            "  inflating: /content/data/993.png   \n",
            "  inflating: /content/data/994.png   \n",
            "  inflating: /content/data/995.png   \n",
            "  inflating: /content/data/996.png   \n",
            "  inflating: /content/data/997.png   \n",
            "  inflating: /content/data/998.png   \n",
            "  inflating: /content/data/999.png   \n",
            "  inflating: /content/data/image_list.csv  \n"
          ]
        }
      ]
    },
    {
      "cell_type": "markdown",
      "source": [
        "去重"
      ],
      "metadata": {
        "id": "sDOmjOBs_zsb"
      }
    },
    {
      "cell_type": "code",
      "source": [
        "import os\n",
        "import torch\n",
        "from torchvision import transforms\n",
        "from transformers import AutoModel, AutoFeatureExtractor\n",
        "from PIL import Image\n",
        "import numpy as np\n",
        "import shutil\n",
        "from sklearn.metrics.pairwise import cosine_similarity\n",
        "from tqdm import tqdm\n",
        "\n",
        "# 加载ViT编码器和特征提取器\n",
        "model_name = \"google/vit-base-patch16-224-in21k\"\n",
        "extractor = AutoFeatureExtractor.from_pretrained(model_name)\n",
        "model = AutoModel.from_pretrained(model_name)\n",
        "\n",
        "# 设置图像预处理\n",
        "transform = transforms.Compose([\n",
        "    transforms.Resize((224, 224)),\n",
        "    transforms.ToTensor(),\n",
        "    transforms.Normalize(mean=[0.485, 0.456, 0.406], std=[0.229, 0.224, 0.225]),\n",
        "])\n",
        "\n",
        "# 加载图像并提取特征向量\n",
        "def extract_features(image_path):\n",
        "    try:\n",
        "        image = Image.open(image_path).convert(\"RGB\")\n",
        "        image = transform(image).unsqueeze(0)  # 扩展batch维度\n",
        "        with torch.no_grad():\n",
        "            features = model(image).last_hidden_state\n",
        "        feature_vector = features.mean(dim=1).squeeze().cpu().numpy()  # 获取特征向量的均值\n",
        "        if feature_vector is not None:\n",
        "            print(f\"Feature extracted from {image_path}\")\n",
        "        return feature_vector\n",
        "    except Exception as e:\n",
        "        print(f\"Error processing {image_path}: {e}\")\n",
        "        return None\n",
        "\n",
        "# 计算余弦相似度\n",
        "def compute_similarity_matrix(features_list):\n",
        "    return cosine_similarity(features_list)\n",
        "\n",
        "# 数据去重\n",
        "def remove_duplicates(image_dir, output_dir, similarity_threshold=0.65):\n",
        "    image_paths = [os.path.join(image_dir, img) for img in os.listdir(image_dir) if img.endswith(\".jpg\") or img.endswith(\".png\")]\n",
        "    features_list = []\n",
        "\n",
        "    # 提取图像特征\n",
        "    for img_path in tqdm(image_paths, desc=\"Extracting features\"):\n",
        "        features = extract_features(img_path)\n",
        "        if features is not None:\n",
        "            features_list.append(features)\n",
        "\n",
        "    # 如果没有成功提取任何特征，报错并返回空列表\n",
        "    if not features_list:\n",
        "        print(\"No features were extracted. Please check the image files.\")\n",
        "        return []\n",
        "\n",
        "    # 计算余弦相似度矩阵\n",
        "    similarity_matrix = compute_similarity_matrix(features_list)\n",
        "\n",
        "    # 根据相似度阈值进行去重\n",
        "    to_remove = set()\n",
        "    for i in range(len(image_paths)):\n",
        "        if i in to_remove:\n",
        "            continue\n",
        "        for j in range(i + 1, len(image_paths)):\n",
        "            if similarity_matrix[i][j] > similarity_threshold:\n",
        "                to_remove.add(j)\n",
        "\n",
        "    # 保留没有被标记为删除的图像\n",
        "    unique_image_paths = [image_paths[i] for i in range(len(image_paths)) if i not in to_remove]\n",
        "\n",
        "    # 创建输出目录（如果不存在）\n",
        "    if not os.path.exists(output_dir):\n",
        "        os.makedirs(output_dir)\n",
        "\n",
        "    # 将去重后的图像复制到新的目录\n",
        "    for img_path in unique_image_paths:\n",
        "        shutil.copy(img_path, output_dir)\n",
        "\n",
        "    return unique_image_paths\n",
        "\n",
        "# 设置数据文件夹路径和输出文件夹路径\n",
        "image_dir = './data'\n",
        "output_dir = './data_deduplication'\n",
        "unique_images = remove_duplicates(image_dir, output_dir, similarity_threshold=0.65)\n",
        "\n",
        "# 输出去重后的图像路径\n",
        "print(f\"去重后的图像数量: {len(unique_images)}\")\n",
        "for img_path in unique_images:\n",
        "    print(img_path)\n"
      ],
      "metadata": {
        "colab": {
          "base_uri": "https://localhost:8080/"
        },
        "id": "ctsZ_s7a-aWM",
        "outputId": "6d9be286-fc4f-49f5-c3b4-3fa3185bb5d9"
      },
      "execution_count": null,
      "outputs": [
        {
          "output_type": "stream",
          "name": "stderr",
          "text": [
            "/usr/local/lib/python3.11/dist-packages/transformers/models/vit/feature_extraction_vit.py:28: FutureWarning: The class ViTFeatureExtractor is deprecated and will be removed in version 5 of Transformers. Please use ViTImageProcessor instead.\n",
            "  warnings.warn(\n",
            "Extracting features:   0%|          | 2/1518 [00:00<02:49,  8.93it/s]"
          ]
        },
        {
          "output_type": "stream",
          "name": "stdout",
          "text": [
            "Feature extracted from ./data/1015.png\n",
            "Feature extracted from ./data/169.png\n"
          ]
        },
        {
          "output_type": "stream",
          "name": "stderr",
          "text": [
            "\rExtracting features:   0%|          | 4/1518 [00:00<02:34,  9.83it/s]"
          ]
        },
        {
          "output_type": "stream",
          "name": "stdout",
          "text": [
            "Feature extracted from ./data/802.png\n",
            "Feature extracted from ./data/894.png\n"
          ]
        },
        {
          "output_type": "stream",
          "name": "stderr",
          "text": [
            "\rExtracting features:   0%|          | 5/1518 [00:00<02:36,  9.65it/s]"
          ]
        },
        {
          "output_type": "stream",
          "name": "stdout",
          "text": [
            "Feature extracted from ./data/1025.png\n",
            "Feature extracted from ./data/1090.png\n"
          ]
        },
        {
          "output_type": "stream",
          "name": "stderr",
          "text": [
            "Extracting features:   1%|          | 8/1518 [00:00<02:39,  9.46it/s]"
          ]
        },
        {
          "output_type": "stream",
          "name": "stdout",
          "text": [
            "Feature extracted from ./data/1053.png\n",
            "Feature extracted from ./data/580.png\n"
          ]
        },
        {
          "output_type": "stream",
          "name": "stderr",
          "text": [
            "\rExtracting features:   1%|          | 10/1518 [00:01<02:33,  9.83it/s]"
          ]
        },
        {
          "output_type": "stream",
          "name": "stdout",
          "text": [
            "Feature extracted from ./data/608.png\n",
            "Feature extracted from ./data/725.png\n",
            "Feature extracted from ./data/1514.png\n"
          ]
        },
        {
          "output_type": "stream",
          "name": "stderr",
          "text": [
            "Extracting features:   1%|          | 14/1518 [00:01<02:27, 10.22it/s]"
          ]
        },
        {
          "output_type": "stream",
          "name": "stdout",
          "text": [
            "Feature extracted from ./data/1470.png\n",
            "Feature extracted from ./data/1200.png\n",
            "Feature extracted from ./data/1071.png\n"
          ]
        },
        {
          "output_type": "stream",
          "name": "stderr",
          "text": [
            "\rExtracting features:   1%|          | 16/1518 [00:01<02:25, 10.34it/s]"
          ]
        },
        {
          "output_type": "stream",
          "name": "stdout",
          "text": [
            "Feature extracted from ./data/394.png\n",
            "Feature extracted from ./data/325.png\n",
            "Feature extracted from ./data/425.png\n"
          ]
        },
        {
          "output_type": "stream",
          "name": "stderr",
          "text": [
            "Extracting features:   1%|▏         | 20/1518 [00:01<02:24, 10.38it/s]"
          ]
        },
        {
          "output_type": "stream",
          "name": "stdout",
          "text": [
            "Feature extracted from ./data/1050.png\n",
            "Feature extracted from ./data/874.png\n",
            "Feature extracted from ./data/455.png\n"
          ]
        },
        {
          "output_type": "stream",
          "name": "stderr",
          "text": [
            "\rExtracting features:   1%|▏         | 22/1518 [00:02<02:23, 10.45it/s]"
          ]
        },
        {
          "output_type": "stream",
          "name": "stdout",
          "text": [
            "Feature extracted from ./data/1471.png\n",
            "Feature extracted from ./data/897.png\n",
            "Feature extracted from ./data/504.png\n"
          ]
        },
        {
          "output_type": "stream",
          "name": "stderr",
          "text": [
            "\rExtracting features:   2%|▏         | 24/1518 [00:02<02:22, 10.49it/s]"
          ]
        },
        {
          "output_type": "stream",
          "name": "stdout",
          "text": [
            "Feature extracted from ./data/46.png\n",
            "Feature extracted from ./data/9.png\n"
          ]
        },
        {
          "output_type": "stream",
          "name": "stderr",
          "text": [
            "Extracting features:   2%|▏         | 28/1518 [00:02<02:26, 10.19it/s]"
          ]
        },
        {
          "output_type": "stream",
          "name": "stdout",
          "text": [
            "Feature extracted from ./data/581.png\n",
            "Feature extracted from ./data/427.png\n",
            "Feature extracted from ./data/1257.png\n"
          ]
        },
        {
          "output_type": "stream",
          "name": "stderr",
          "text": [
            "\rExtracting features:   2%|▏         | 30/1518 [00:02<02:24, 10.29it/s]"
          ]
        },
        {
          "output_type": "stream",
          "name": "stdout",
          "text": [
            "Feature extracted from ./data/165.png\n",
            "Feature extracted from ./data/994.png\n",
            "Feature extracted from ./data/301.png\n"
          ]
        },
        {
          "output_type": "stream",
          "name": "stderr",
          "text": [
            "Extracting features:   2%|▏         | 34/1518 [00:03<02:22, 10.44it/s]"
          ]
        },
        {
          "output_type": "stream",
          "name": "stdout",
          "text": [
            "Feature extracted from ./data/857.png\n",
            "Feature extracted from ./data/1103.png\n",
            "Feature extracted from ./data/285.png\n"
          ]
        },
        {
          "output_type": "stream",
          "name": "stderr",
          "text": [
            "\rExtracting features:   2%|▏         | 36/1518 [00:03<02:21, 10.49it/s]"
          ]
        },
        {
          "output_type": "stream",
          "name": "stdout",
          "text": [
            "Feature extracted from ./data/114.png\n",
            "Feature extracted from ./data/652.png\n",
            "Feature extracted from ./data/589.png\n"
          ]
        },
        {
          "output_type": "stream",
          "name": "stderr",
          "text": [
            "Extracting features:   3%|▎         | 40/1518 [00:03<02:22, 10.35it/s]"
          ]
        },
        {
          "output_type": "stream",
          "name": "stdout",
          "text": [
            "Feature extracted from ./data/1416.png\n",
            "Feature extracted from ./data/1331.png\n",
            "Feature extracted from ./data/698.png\n"
          ]
        },
        {
          "output_type": "stream",
          "name": "stderr",
          "text": [
            "\rExtracting features:   3%|▎         | 42/1518 [00:04<02:22, 10.38it/s]"
          ]
        },
        {
          "output_type": "stream",
          "name": "stdout",
          "text": [
            "Feature extracted from ./data/655.png\n",
            "Feature extracted from ./data/187.png\n",
            "Feature extracted from ./data/263.png\n"
          ]
        },
        {
          "output_type": "stream",
          "name": "stderr",
          "text": [
            "Extracting features:   3%|▎         | 46/1518 [00:04<02:20, 10.50it/s]"
          ]
        },
        {
          "output_type": "stream",
          "name": "stdout",
          "text": [
            "Feature extracted from ./data/91.png\n",
            "Feature extracted from ./data/39.png\n",
            "Feature extracted from ./data/947.png\n"
          ]
        },
        {
          "output_type": "stream",
          "name": "stderr",
          "text": [
            "\rExtracting features:   3%|▎         | 48/1518 [00:04<02:20, 10.49it/s]"
          ]
        },
        {
          "output_type": "stream",
          "name": "stdout",
          "text": [
            "Feature extracted from ./data/1311.png\n",
            "Feature extracted from ./data/745.png\n",
            "Feature extracted from ./data/642.png\n"
          ]
        },
        {
          "output_type": "stream",
          "name": "stderr",
          "text": [
            "Extracting features:   3%|▎         | 52/1518 [00:05<02:22, 10.28it/s]"
          ]
        },
        {
          "output_type": "stream",
          "name": "stdout",
          "text": [
            "Feature extracted from ./data/553.png\n",
            "Feature extracted from ./data/1398.png\n",
            "Feature extracted from ./data/470.png\n"
          ]
        },
        {
          "output_type": "stream",
          "name": "stderr",
          "text": [
            "\rExtracting features:   4%|▎         | 54/1518 [00:05<02:21, 10.31it/s]"
          ]
        },
        {
          "output_type": "stream",
          "name": "stdout",
          "text": [
            "Feature extracted from ./data/478.png\n",
            "Feature extracted from ./data/45.png\n",
            "Feature extracted from ./data/270.png\n"
          ]
        },
        {
          "output_type": "stream",
          "name": "stderr",
          "text": [
            "Extracting features:   4%|▍         | 58/1518 [00:05<02:20, 10.41it/s]"
          ]
        },
        {
          "output_type": "stream",
          "name": "stdout",
          "text": [
            "Feature extracted from ./data/775.png\n",
            "Feature extracted from ./data/688.png\n",
            "Feature extracted from ./data/1388.png\n"
          ]
        },
        {
          "output_type": "stream",
          "name": "stderr",
          "text": [
            "\rExtracting features:   4%|▍         | 60/1518 [00:05<02:20, 10.41it/s]"
          ]
        },
        {
          "output_type": "stream",
          "name": "stdout",
          "text": [
            "Feature extracted from ./data/1107.png\n",
            "Feature extracted from ./data/1340.png\n",
            "Feature extracted from ./data/330.png\n"
          ]
        },
        {
          "output_type": "stream",
          "name": "stderr",
          "text": [
            "Extracting features:   4%|▍         | 64/1518 [00:06<02:20, 10.35it/s]"
          ]
        },
        {
          "output_type": "stream",
          "name": "stdout",
          "text": [
            "Feature extracted from ./data/1127.png\n",
            "Feature extracted from ./data/1486.png\n",
            "Feature extracted from ./data/1461.png\n"
          ]
        },
        {
          "output_type": "stream",
          "name": "stderr",
          "text": [
            "\rExtracting features:   4%|▍         | 66/1518 [00:06<02:19, 10.38it/s]"
          ]
        },
        {
          "output_type": "stream",
          "name": "stdout",
          "text": [
            "Feature extracted from ./data/0.png\n",
            "Feature extracted from ./data/54.png\n",
            "Feature extracted from ./data/709.png\n"
          ]
        },
        {
          "output_type": "stream",
          "name": "stderr",
          "text": [
            "\rExtracting features:   4%|▍         | 68/1518 [00:06<02:19, 10.43it/s]"
          ]
        },
        {
          "output_type": "stream",
          "name": "stdout",
          "text": [
            "Feature extracted from ./data/1342.png\n",
            "Feature extracted from ./data/1030.png\n"
          ]
        },
        {
          "output_type": "stream",
          "name": "stderr",
          "text": [
            "Extracting features:   5%|▍         | 72/1518 [00:07<02:22, 10.16it/s]"
          ]
        },
        {
          "output_type": "stream",
          "name": "stdout",
          "text": [
            "Feature extracted from ./data/481.png\n",
            "Feature extracted from ./data/525.png\n",
            "Feature extracted from ./data/1453.png\n"
          ]
        },
        {
          "output_type": "stream",
          "name": "stderr",
          "text": [
            "\rExtracting features:   5%|▍         | 74/1518 [00:07<02:20, 10.26it/s]"
          ]
        },
        {
          "output_type": "stream",
          "name": "stdout",
          "text": [
            "Feature extracted from ./data/691.png\n",
            "Feature extracted from ./data/1123.png\n",
            "Feature extracted from ./data/484.png\n"
          ]
        },
        {
          "output_type": "stream",
          "name": "stderr",
          "text": [
            "Extracting features:   5%|▌         | 78/1518 [00:07<02:17, 10.48it/s]"
          ]
        },
        {
          "output_type": "stream",
          "name": "stdout",
          "text": [
            "Feature extracted from ./data/1056.png\n",
            "Feature extracted from ./data/1059.png\n",
            "Feature extracted from ./data/640.png\n"
          ]
        },
        {
          "output_type": "stream",
          "name": "stderr",
          "text": [
            "\rExtracting features:   5%|▌         | 80/1518 [00:07<02:17, 10.44it/s]"
          ]
        },
        {
          "output_type": "stream",
          "name": "stdout",
          "text": [
            "Feature extracted from ./data/349.png\n",
            "Feature extracted from ./data/107.png\n",
            "Feature extracted from ./data/208.png\n"
          ]
        },
        {
          "output_type": "stream",
          "name": "stderr",
          "text": [
            "Extracting features:   6%|▌         | 84/1518 [00:08<02:18, 10.34it/s]"
          ]
        },
        {
          "output_type": "stream",
          "name": "stdout",
          "text": [
            "Feature extracted from ./data/751.png\n",
            "Feature extracted from ./data/728.png\n",
            "Feature extracted from ./data/289.png\n"
          ]
        },
        {
          "output_type": "stream",
          "name": "stderr",
          "text": [
            "\rExtracting features:   6%|▌         | 86/1518 [00:08<02:17, 10.40it/s]"
          ]
        },
        {
          "output_type": "stream",
          "name": "stdout",
          "text": [
            "Feature extracted from ./data/236.png\n",
            "Feature extracted from ./data/585.png\n",
            "Feature extracted from ./data/535.png\n"
          ]
        },
        {
          "output_type": "stream",
          "name": "stderr",
          "text": [
            "\rExtracting features:   6%|▌         | 88/1518 [00:08<02:16, 10.46it/s]"
          ]
        },
        {
          "output_type": "stream",
          "name": "stdout",
          "text": [
            "Feature extracted from ./data/736.png\n",
            "Feature extracted from ./data/467.png\n"
          ]
        },
        {
          "output_type": "stream",
          "name": "stderr",
          "text": [
            "Extracting features:   6%|▌         | 91/1518 [00:08<02:30,  9.47it/s]"
          ]
        },
        {
          "output_type": "stream",
          "name": "stdout",
          "text": [
            "Feature extracted from ./data/968.png\n",
            "Feature extracted from ./data/837.png\n"
          ]
        },
        {
          "output_type": "stream",
          "name": "stderr",
          "text": [
            "Extracting features:   6%|▌         | 93/1518 [00:09<02:38,  8.98it/s]"
          ]
        },
        {
          "output_type": "stream",
          "name": "stdout",
          "text": [
            "Feature extracted from ./data/1344.png\n",
            "Feature extracted from ./data/603.png\n"
          ]
        },
        {
          "output_type": "stream",
          "name": "stderr",
          "text": [
            "Extracting features:   6%|▋         | 95/1518 [00:09<02:43,  8.69it/s]"
          ]
        },
        {
          "output_type": "stream",
          "name": "stdout",
          "text": [
            "Feature extracted from ./data/1058.png\n",
            "Feature extracted from ./data/1412.png\n"
          ]
        },
        {
          "output_type": "stream",
          "name": "stderr",
          "text": [
            "Extracting features:   6%|▋         | 97/1518 [00:09<02:46,  8.52it/s]"
          ]
        },
        {
          "output_type": "stream",
          "name": "stdout",
          "text": [
            "Feature extracted from ./data/661.png\n",
            "Feature extracted from ./data/1389.png\n"
          ]
        },
        {
          "output_type": "stream",
          "name": "stderr",
          "text": [
            "Extracting features:   7%|▋         | 99/1518 [00:09<02:47,  8.49it/s]"
          ]
        },
        {
          "output_type": "stream",
          "name": "stdout",
          "text": [
            "Feature extracted from ./data/1.png\n",
            "Feature extracted from ./data/628.png\n"
          ]
        },
        {
          "output_type": "stream",
          "name": "stderr",
          "text": [
            "Extracting features:   7%|▋         | 101/1518 [00:10<02:50,  8.33it/s]"
          ]
        },
        {
          "output_type": "stream",
          "name": "stdout",
          "text": [
            "Feature extracted from ./data/666.png\n",
            "Feature extracted from ./data/512.png\n"
          ]
        },
        {
          "output_type": "stream",
          "name": "stderr",
          "text": [
            "Extracting features:   7%|▋         | 103/1518 [00:10<03:13,  7.31it/s]"
          ]
        },
        {
          "output_type": "stream",
          "name": "stdout",
          "text": [
            "Feature extracted from ./data/678.png\n",
            "Feature extracted from ./data/1411.png\n"
          ]
        },
        {
          "output_type": "stream",
          "name": "stderr",
          "text": [
            "Extracting features:   7%|▋         | 105/1518 [00:10<03:24,  6.92it/s]"
          ]
        },
        {
          "output_type": "stream",
          "name": "stdout",
          "text": [
            "Feature extracted from ./data/1209.png\n",
            "Feature extracted from ./data/443.png\n"
          ]
        },
        {
          "output_type": "stream",
          "name": "stderr",
          "text": [
            "Extracting features:   7%|▋         | 107/1518 [00:11<03:30,  6.71it/s]"
          ]
        },
        {
          "output_type": "stream",
          "name": "stdout",
          "text": [
            "Feature extracted from ./data/664.png\n",
            "Feature extracted from ./data/1363.png\n"
          ]
        },
        {
          "output_type": "stream",
          "name": "stderr",
          "text": [
            "Extracting features:   7%|▋         | 109/1518 [00:11<03:28,  6.77it/s]"
          ]
        },
        {
          "output_type": "stream",
          "name": "stdout",
          "text": [
            "Feature extracted from ./data/835.png\n",
            "Feature extracted from ./data/799.png\n"
          ]
        },
        {
          "output_type": "stream",
          "name": "stderr",
          "text": [
            "Extracting features:   7%|▋         | 112/1518 [00:11<02:47,  8.41it/s]"
          ]
        },
        {
          "output_type": "stream",
          "name": "stdout",
          "text": [
            "Feature extracted from ./data/1237.png\n",
            "Feature extracted from ./data/1219.png\n",
            "Feature extracted from ./data/1141.png\n"
          ]
        },
        {
          "output_type": "stream",
          "name": "stderr",
          "text": [
            "Extracting features:   8%|▊         | 115/1518 [00:11<02:28,  9.44it/s]"
          ]
        },
        {
          "output_type": "stream",
          "name": "stdout",
          "text": [
            "Feature extracted from ./data/759.png\n",
            "Feature extracted from ./data/234.png\n",
            "Feature extracted from ./data/304.png\n"
          ]
        },
        {
          "output_type": "stream",
          "name": "stderr",
          "text": [
            "\rExtracting features:   8%|▊         | 117/1518 [00:12<02:24,  9.67it/s]"
          ]
        },
        {
          "output_type": "stream",
          "name": "stdout",
          "text": [
            "Feature extracted from ./data/681.png\n",
            "Feature extracted from ./data/173.png\n",
            "Feature extracted from ./data/373.png\n"
          ]
        },
        {
          "output_type": "stream",
          "name": "stderr",
          "text": [
            "Extracting features:   8%|▊         | 121/1518 [00:12<02:17, 10.15it/s]"
          ]
        },
        {
          "output_type": "stream",
          "name": "stdout",
          "text": [
            "Feature extracted from ./data/1106.png\n",
            "Feature extracted from ./data/1177.png\n",
            "Feature extracted from ./data/936.png\n"
          ]
        },
        {
          "output_type": "stream",
          "name": "stderr",
          "text": [
            "\rExtracting features:   8%|▊         | 123/1518 [00:12<02:16, 10.24it/s]"
          ]
        },
        {
          "output_type": "stream",
          "name": "stdout",
          "text": [
            "Feature extracted from ./data/1357.png\n",
            "Feature extracted from ./data/662.png\n",
            "Feature extracted from ./data/56.png\n"
          ]
        },
        {
          "output_type": "stream",
          "name": "stderr",
          "text": [
            "Extracting features:   8%|▊         | 127/1518 [00:13<02:13, 10.41it/s]"
          ]
        },
        {
          "output_type": "stream",
          "name": "stdout",
          "text": [
            "Feature extracted from ./data/639.png\n",
            "Feature extracted from ./data/1479.png\n",
            "Feature extracted from ./data/955.png\n"
          ]
        },
        {
          "output_type": "stream",
          "name": "stderr",
          "text": [
            "\rExtracting features:   8%|▊         | 129/1518 [00:13<02:15, 10.24it/s]"
          ]
        },
        {
          "output_type": "stream",
          "name": "stdout",
          "text": [
            "Feature extracted from ./data/1216.png\n",
            "Feature extracted from ./data/1276.png\n",
            "Feature extracted from ./data/875.png\n"
          ]
        },
        {
          "output_type": "stream",
          "name": "stderr",
          "text": [
            "Extracting features:   9%|▉         | 133/1518 [00:13<02:13, 10.40it/s]"
          ]
        },
        {
          "output_type": "stream",
          "name": "stdout",
          "text": [
            "Feature extracted from ./data/1076.png\n",
            "Feature extracted from ./data/1222.png\n",
            "Feature extracted from ./data/877.png\n"
          ]
        },
        {
          "output_type": "stream",
          "name": "stderr",
          "text": [
            "\rExtracting features:   9%|▉         | 135/1518 [00:13<02:12, 10.41it/s]"
          ]
        },
        {
          "output_type": "stream",
          "name": "stdout",
          "text": [
            "Feature extracted from ./data/545.png\n",
            "Feature extracted from ./data/829.png\n",
            "Feature extracted from ./data/1282.png\n"
          ]
        },
        {
          "output_type": "stream",
          "name": "stderr",
          "text": [
            "Extracting features:   9%|▉         | 139/1518 [00:14<02:13, 10.32it/s]"
          ]
        },
        {
          "output_type": "stream",
          "name": "stdout",
          "text": [
            "Feature extracted from ./data/1119.png\n",
            "Feature extracted from ./data/253.png\n",
            "Feature extracted from ./data/606.png\n"
          ]
        },
        {
          "output_type": "stream",
          "name": "stderr",
          "text": [
            "\rExtracting features:   9%|▉         | 141/1518 [00:14<02:12, 10.43it/s]"
          ]
        },
        {
          "output_type": "stream",
          "name": "stdout",
          "text": [
            "Feature extracted from ./data/1136.png\n",
            "Feature extracted from ./data/669.png\n",
            "Feature extracted from ./data/417.png\n"
          ]
        },
        {
          "output_type": "stream",
          "name": "stderr",
          "text": [
            "Extracting features:  10%|▉         | 145/1518 [00:14<02:10, 10.52it/s]"
          ]
        },
        {
          "output_type": "stream",
          "name": "stdout",
          "text": [
            "Feature extracted from ./data/231.png\n",
            "Feature extracted from ./data/1295.png\n",
            "Feature extracted from ./data/684.png\n"
          ]
        },
        {
          "output_type": "stream",
          "name": "stderr",
          "text": [
            "\rExtracting features:  10%|▉         | 147/1518 [00:14<02:10, 10.54it/s]"
          ]
        },
        {
          "output_type": "stream",
          "name": "stdout",
          "text": [
            "Feature extracted from ./data/215.png\n",
            "Feature extracted from ./data/1113.png\n",
            "Feature extracted from ./data/910.png\n"
          ]
        },
        {
          "output_type": "stream",
          "name": "stderr",
          "text": [
            "Extracting features:  10%|▉         | 151/1518 [00:15<02:11, 10.38it/s]"
          ]
        },
        {
          "output_type": "stream",
          "name": "stdout",
          "text": [
            "Feature extracted from ./data/886.png\n",
            "Feature extracted from ./data/290.png\n",
            "Feature extracted from ./data/1172.png\n"
          ]
        },
        {
          "output_type": "stream",
          "name": "stderr",
          "text": [
            "\rExtracting features:  10%|█         | 153/1518 [00:15<02:09, 10.50it/s]"
          ]
        },
        {
          "output_type": "stream",
          "name": "stdout",
          "text": [
            "Feature extracted from ./data/1358.png\n",
            "Feature extracted from ./data/1100.png\n",
            "Feature extracted from ./data/720.png\n"
          ]
        },
        {
          "output_type": "stream",
          "name": "stderr",
          "text": [
            "Extracting features:  10%|█         | 157/1518 [00:15<02:08, 10.57it/s]"
          ]
        },
        {
          "output_type": "stream",
          "name": "stdout",
          "text": [
            "Feature extracted from ./data/99.png\n",
            "Feature extracted from ./data/207.png\n",
            "Feature extracted from ./data/1124.png\n"
          ]
        },
        {
          "output_type": "stream",
          "name": "stderr",
          "text": [
            "\rExtracting features:  10%|█         | 159/1518 [00:16<02:08, 10.56it/s]"
          ]
        },
        {
          "output_type": "stream",
          "name": "stdout",
          "text": [
            "Feature extracted from ./data/612.png\n",
            "Feature extracted from ./data/131.png\n",
            "Feature extracted from ./data/654.png\n"
          ]
        },
        {
          "output_type": "stream",
          "name": "stderr",
          "text": [
            "Extracting features:  11%|█         | 163/1518 [00:16<02:08, 10.51it/s]"
          ]
        },
        {
          "output_type": "stream",
          "name": "stdout",
          "text": [
            "Feature extracted from ./data/890.png\n",
            "Feature extracted from ./data/1348.png\n",
            "Feature extracted from ./data/1240.png\n"
          ]
        },
        {
          "output_type": "stream",
          "name": "stderr",
          "text": [
            "\rExtracting features:  11%|█         | 165/1518 [00:16<02:08, 10.51it/s]"
          ]
        },
        {
          "output_type": "stream",
          "name": "stdout",
          "text": [
            "Feature extracted from ./data/1504.png\n",
            "Feature extracted from ./data/1286.png\n",
            "Feature extracted from ./data/1475.png\n"
          ]
        },
        {
          "output_type": "stream",
          "name": "stderr",
          "text": [
            "Extracting features:  11%|█         | 169/1518 [00:17<02:07, 10.56it/s]"
          ]
        },
        {
          "output_type": "stream",
          "name": "stdout",
          "text": [
            "Feature extracted from ./data/221.png\n",
            "Feature extracted from ./data/1105.png\n",
            "Feature extracted from ./data/150.png\n"
          ]
        },
        {
          "output_type": "stream",
          "name": "stderr",
          "text": [
            "\rExtracting features:  11%|█▏        | 171/1518 [00:17<02:07, 10.56it/s]"
          ]
        },
        {
          "output_type": "stream",
          "name": "stdout",
          "text": [
            "Feature extracted from ./data/1049.png\n",
            "Feature extracted from ./data/722.png\n",
            "Feature extracted from ./data/1281.png\n"
          ]
        },
        {
          "output_type": "stream",
          "name": "stderr",
          "text": [
            "Extracting features:  12%|█▏        | 175/1518 [00:17<02:09, 10.36it/s]"
          ]
        },
        {
          "output_type": "stream",
          "name": "stdout",
          "text": [
            "Feature extracted from ./data/1088.png\n",
            "Feature extracted from ./data/1064.png\n",
            "Feature extracted from ./data/1258.png\n"
          ]
        },
        {
          "output_type": "stream",
          "name": "stderr",
          "text": [
            "\rExtracting features:  12%|█▏        | 177/1518 [00:17<02:08, 10.43it/s]"
          ]
        },
        {
          "output_type": "stream",
          "name": "stdout",
          "text": [
            "Feature extracted from ./data/204.png\n",
            "Feature extracted from ./data/380.png\n",
            "Feature extracted from ./data/540.png\n"
          ]
        },
        {
          "output_type": "stream",
          "name": "stderr",
          "text": [
            "Extracting features:  12%|█▏        | 181/1518 [00:18<02:08, 10.39it/s]"
          ]
        },
        {
          "output_type": "stream",
          "name": "stdout",
          "text": [
            "Feature extracted from ./data/911.png\n",
            "Feature extracted from ./data/880.png\n",
            "Feature extracted from ./data/638.png\n"
          ]
        },
        {
          "output_type": "stream",
          "name": "stderr",
          "text": [
            "\rExtracting features:  12%|█▏        | 183/1518 [00:18<02:12, 10.10it/s]"
          ]
        },
        {
          "output_type": "stream",
          "name": "stdout",
          "text": [
            "Feature extracted from ./data/1349.png\n",
            "Feature extracted from ./data/898.png\n"
          ]
        },
        {
          "output_type": "stream",
          "name": "stderr",
          "text": [
            "\rExtracting features:  12%|█▏        | 185/1518 [00:18<02:09, 10.25it/s]"
          ]
        },
        {
          "output_type": "stream",
          "name": "stdout",
          "text": [
            "Feature extracted from ./data/1109.png\n",
            "Feature extracted from ./data/719.png\n",
            "Feature extracted from ./data/1018.png\n"
          ]
        },
        {
          "output_type": "stream",
          "name": "stderr",
          "text": [
            "Extracting features:  12%|█▏        | 189/1518 [00:19<02:08, 10.37it/s]"
          ]
        },
        {
          "output_type": "stream",
          "name": "stdout",
          "text": [
            "Feature extracted from ./data/641.png\n",
            "Feature extracted from ./data/683.png\n",
            "Feature extracted from ./data/945.png\n"
          ]
        },
        {
          "output_type": "stream",
          "name": "stderr",
          "text": [
            "\rExtracting features:  13%|█▎        | 191/1518 [00:19<02:08, 10.36it/s]"
          ]
        },
        {
          "output_type": "stream",
          "name": "stdout",
          "text": [
            "Feature extracted from ./data/100.png\n",
            "Feature extracted from ./data/550.png\n",
            "Feature extracted from ./data/341.png\n"
          ]
        },
        {
          "output_type": "stream",
          "name": "stderr",
          "text": [
            "Extracting features:  13%|█▎        | 195/1518 [00:19<02:07, 10.37it/s]"
          ]
        },
        {
          "output_type": "stream",
          "name": "stdout",
          "text": [
            "Feature extracted from ./data/1264.png\n",
            "Feature extracted from ./data/159.png\n",
            "Feature extracted from ./data/918.png\n"
          ]
        },
        {
          "output_type": "stream",
          "name": "stderr",
          "text": [
            "\rExtracting features:  13%|█▎        | 197/1518 [00:19<02:07, 10.38it/s]"
          ]
        },
        {
          "output_type": "stream",
          "name": "stdout",
          "text": [
            "Feature extracted from ./data/1509.png\n",
            "Feature extracted from ./data/1310.png\n",
            "Feature extracted from ./data/600.png\n"
          ]
        },
        {
          "output_type": "stream",
          "name": "stderr",
          "text": [
            "Extracting features:  13%|█▎        | 201/1518 [00:20<02:06, 10.45it/s]"
          ]
        },
        {
          "output_type": "stream",
          "name": "stdout",
          "text": [
            "Feature extracted from ./data/1316.png\n",
            "Feature extracted from ./data/1047.png\n",
            "Feature extracted from ./data/1407.png\n"
          ]
        },
        {
          "output_type": "stream",
          "name": "stderr",
          "text": [
            "\rExtracting features:  13%|█▎        | 203/1518 [00:20<02:05, 10.47it/s]"
          ]
        },
        {
          "output_type": "stream",
          "name": "stdout",
          "text": [
            "Feature extracted from ./data/1145.png\n",
            "Feature extracted from ./data/277.png\n"
          ]
        },
        {
          "output_type": "stream",
          "name": "stderr",
          "text": [
            "\rExtracting features:  14%|█▎        | 205/1518 [00:20<02:07, 10.30it/s]"
          ]
        },
        {
          "output_type": "stream",
          "name": "stdout",
          "text": [
            "Feature extracted from ./data/701.png\n",
            "Feature extracted from ./data/457.png\n",
            "Feature extracted from ./data/191.png\n"
          ]
        },
        {
          "output_type": "stream",
          "name": "stderr",
          "text": [
            "Extracting features:  14%|█▍        | 209/1518 [00:20<02:05, 10.41it/s]"
          ]
        },
        {
          "output_type": "stream",
          "name": "stdout",
          "text": [
            "Feature extracted from ./data/1185.png\n",
            "Feature extracted from ./data/920.png\n",
            "Feature extracted from ./data/1035.png\n"
          ]
        },
        {
          "output_type": "stream",
          "name": "stderr",
          "text": [
            "\rExtracting features:  14%|█▍        | 211/1518 [00:21<02:06, 10.36it/s]"
          ]
        },
        {
          "output_type": "stream",
          "name": "stdout",
          "text": [
            "Feature extracted from ./data/643.png\n",
            "Feature extracted from ./data/1266.png\n"
          ]
        },
        {
          "output_type": "stream",
          "name": "stderr",
          "text": [
            "\rExtracting features:  14%|█▍        | 213/1518 [00:21<02:07, 10.22it/s]"
          ]
        },
        {
          "output_type": "stream",
          "name": "stdout",
          "text": [
            "Feature extracted from ./data/428.png\n",
            "Feature extracted from ./data/1055.png\n",
            "Feature extracted from ./data/828.png\n"
          ]
        },
        {
          "output_type": "stream",
          "name": "stderr",
          "text": [
            "Extracting features:  14%|█▍        | 216/1518 [00:21<02:24,  9.01it/s]"
          ]
        },
        {
          "output_type": "stream",
          "name": "stdout",
          "text": [
            "Feature extracted from ./data/517.png\n",
            "Feature extracted from ./data/1243.png\n"
          ]
        },
        {
          "output_type": "stream",
          "name": "stderr",
          "text": [
            "Extracting features:  14%|█▍        | 218/1518 [00:22<02:43,  7.96it/s]"
          ]
        },
        {
          "output_type": "stream",
          "name": "stdout",
          "text": [
            "Feature extracted from ./data/442.png\n",
            "Feature extracted from ./data/748.png\n"
          ]
        },
        {
          "output_type": "stream",
          "name": "stderr",
          "text": [
            "Extracting features:  14%|█▍        | 220/1518 [00:22<02:56,  7.35it/s]"
          ]
        },
        {
          "output_type": "stream",
          "name": "stdout",
          "text": [
            "Feature extracted from ./data/529.png\n",
            "Feature extracted from ./data/717.png\n"
          ]
        },
        {
          "output_type": "stream",
          "name": "stderr",
          "text": [
            "Extracting features:  15%|█▍        | 222/1518 [00:22<03:06,  6.94it/s]"
          ]
        },
        {
          "output_type": "stream",
          "name": "stdout",
          "text": [
            "Feature extracted from ./data/921.png\n",
            "Feature extracted from ./data/931.png\n"
          ]
        },
        {
          "output_type": "stream",
          "name": "stderr",
          "text": [
            "Extracting features:  15%|█▍        | 224/1518 [00:22<03:10,  6.78it/s]"
          ]
        },
        {
          "output_type": "stream",
          "name": "stdout",
          "text": [
            "Feature extracted from ./data/753.png\n",
            "Feature extracted from ./data/426.png\n"
          ]
        },
        {
          "output_type": "stream",
          "name": "stderr",
          "text": [
            "Extracting features:  15%|█▍        | 226/1518 [00:23<03:14,  6.65it/s]"
          ]
        },
        {
          "output_type": "stream",
          "name": "stdout",
          "text": [
            "Feature extracted from ./data/1094.png\n",
            "Feature extracted from ./data/288.png\n"
          ]
        },
        {
          "output_type": "stream",
          "name": "stderr",
          "text": [
            "Extracting features:  15%|█▌        | 228/1518 [00:23<03:11,  6.73it/s]"
          ]
        },
        {
          "output_type": "stream",
          "name": "stdout",
          "text": [
            "Feature extracted from ./data/1040.png\n",
            "Feature extracted from ./data/332.png\n"
          ]
        },
        {
          "output_type": "stream",
          "name": "stderr",
          "text": [
            "Extracting features:  15%|█▌        | 230/1518 [00:23<02:58,  7.21it/s]"
          ]
        },
        {
          "output_type": "stream",
          "name": "stdout",
          "text": [
            "Feature extracted from ./data/335.png\n",
            "Feature extracted from ./data/866.png\n"
          ]
        },
        {
          "output_type": "stream",
          "name": "stderr",
          "text": [
            "\rExtracting features:  15%|█▌        | 232/1518 [00:23<02:32,  8.46it/s]"
          ]
        },
        {
          "output_type": "stream",
          "name": "stdout",
          "text": [
            "Feature extracted from ./data/420.png\n",
            "Feature extracted from ./data/314.png\n",
            "Feature extracted from ./data/1395.png\n"
          ]
        },
        {
          "output_type": "stream",
          "name": "stderr",
          "text": [
            "Extracting features:  16%|█▌        | 236/1518 [00:24<02:13,  9.63it/s]"
          ]
        },
        {
          "output_type": "stream",
          "name": "stdout",
          "text": [
            "Feature extracted from ./data/167.png\n",
            "Feature extracted from ./data/1435.png\n",
            "Feature extracted from ./data/841.png\n"
          ]
        },
        {
          "output_type": "stream",
          "name": "stderr",
          "text": [
            "\rExtracting features:  16%|█▌        | 238/1518 [00:24<02:10,  9.84it/s]"
          ]
        },
        {
          "output_type": "stream",
          "name": "stdout",
          "text": [
            "Feature extracted from ./data/153.png\n",
            "Feature extracted from ./data/275.png\n",
            "Feature extracted from ./data/1157.png\n"
          ]
        },
        {
          "output_type": "stream",
          "name": "stderr",
          "text": [
            "Extracting features:  16%|█▌        | 242/1518 [00:24<02:04, 10.22it/s]"
          ]
        },
        {
          "output_type": "stream",
          "name": "stdout",
          "text": [
            "Feature extracted from ./data/1371.png\n",
            "Feature extracted from ./data/11.png\n",
            "Feature extracted from ./data/395.png\n"
          ]
        },
        {
          "output_type": "stream",
          "name": "stderr",
          "text": [
            "\rExtracting features:  16%|█▌        | 244/1518 [00:25<02:03, 10.31it/s]"
          ]
        },
        {
          "output_type": "stream",
          "name": "stdout",
          "text": [
            "Feature extracted from ./data/62.png\n",
            "Feature extracted from ./data/1355.png\n",
            "Feature extracted from ./data/257.png\n"
          ]
        },
        {
          "output_type": "stream",
          "name": "stderr",
          "text": [
            "Extracting features:  16%|█▋        | 248/1518 [00:25<02:01, 10.44it/s]"
          ]
        },
        {
          "output_type": "stream",
          "name": "stdout",
          "text": [
            "Feature extracted from ./data/51.png\n",
            "Feature extracted from ./data/72.png\n",
            "Feature extracted from ./data/695.png\n"
          ]
        },
        {
          "output_type": "stream",
          "name": "stderr",
          "text": [
            "\rExtracting features:  16%|█▋        | 250/1518 [00:25<02:04, 10.19it/s]"
          ]
        },
        {
          "output_type": "stream",
          "name": "stdout",
          "text": [
            "Feature extracted from ./data/900.png\n",
            "Feature extracted from ./data/3.png\n",
            "Feature extracted from ./data/1033.png\n"
          ]
        },
        {
          "output_type": "stream",
          "name": "stderr",
          "text": [
            "Extracting features:  17%|█▋        | 254/1518 [00:26<02:01, 10.39it/s]"
          ]
        },
        {
          "output_type": "stream",
          "name": "stdout",
          "text": [
            "Feature extracted from ./data/625.png\n",
            "Feature extracted from ./data/1373.png\n",
            "Feature extracted from ./data/1092.png\n"
          ]
        },
        {
          "output_type": "stream",
          "name": "stderr",
          "text": [
            "\rExtracting features:  17%|█▋        | 256/1518 [00:26<02:05, 10.07it/s]"
          ]
        },
        {
          "output_type": "stream",
          "name": "stdout",
          "text": [
            "Feature extracted from ./data/1251.png\n",
            "Feature extracted from ./data/1328.png\n",
            "Feature extracted from ./data/575.png\n"
          ]
        },
        {
          "output_type": "stream",
          "name": "stderr",
          "text": [
            "\rExtracting features:  17%|█▋        | 258/1518 [00:26<02:04, 10.10it/s]"
          ]
        },
        {
          "output_type": "stream",
          "name": "stdout",
          "text": [
            "Feature extracted from ./data/1044.png\n",
            "Feature extracted from ./data/1424.png\n"
          ]
        },
        {
          "output_type": "stream",
          "name": "stderr",
          "text": [
            "Extracting features:  17%|█▋        | 262/1518 [00:26<02:03, 10.20it/s]"
          ]
        },
        {
          "output_type": "stream",
          "name": "stdout",
          "text": [
            "Feature extracted from ./data/1438.png\n",
            "Feature extracted from ./data/522.png\n",
            "Feature extracted from ./data/830.png\n"
          ]
        },
        {
          "output_type": "stream",
          "name": "stderr",
          "text": [
            "\rExtracting features:  17%|█▋        | 264/1518 [00:27<02:01, 10.29it/s]"
          ]
        },
        {
          "output_type": "stream",
          "name": "stdout",
          "text": [
            "Feature extracted from ./data/239.png\n",
            "Feature extracted from ./data/1012.png\n",
            "Feature extracted from ./data/393.png\n"
          ]
        },
        {
          "output_type": "stream",
          "name": "stderr",
          "text": [
            "Extracting features:  18%|█▊        | 268/1518 [00:27<02:00, 10.36it/s]"
          ]
        },
        {
          "output_type": "stream",
          "name": "stdout",
          "text": [
            "Feature extracted from ./data/461.png\n",
            "Feature extracted from ./data/55.png\n",
            "Feature extracted from ./data/26.png\n"
          ]
        },
        {
          "output_type": "stream",
          "name": "stderr",
          "text": [
            "\rExtracting features:  18%|█▊        | 270/1518 [00:27<01:59, 10.43it/s]"
          ]
        },
        {
          "output_type": "stream",
          "name": "stdout",
          "text": [
            "Feature extracted from ./data/735.png\n",
            "Feature extracted from ./data/1024.png\n",
            "Feature extracted from ./data/868.png\n"
          ]
        },
        {
          "output_type": "stream",
          "name": "stderr",
          "text": [
            "Extracting features:  18%|█▊        | 274/1518 [00:28<01:59, 10.45it/s]"
          ]
        },
        {
          "output_type": "stream",
          "name": "stdout",
          "text": [
            "Feature extracted from ./data/599.png\n",
            "Feature extracted from ./data/226.png\n",
            "Feature extracted from ./data/1097.png\n"
          ]
        },
        {
          "output_type": "stream",
          "name": "stderr",
          "text": [
            "\rExtracting features:  18%|█▊        | 276/1518 [00:28<01:58, 10.45it/s]"
          ]
        },
        {
          "output_type": "stream",
          "name": "stdout",
          "text": [
            "Feature extracted from ./data/1379.png\n",
            "Feature extracted from ./data/192.png\n",
            "Feature extracted from ./data/587.png\n"
          ]
        },
        {
          "output_type": "stream",
          "name": "stderr",
          "text": [
            "Extracting features:  18%|█▊        | 280/1518 [00:28<01:57, 10.54it/s]"
          ]
        },
        {
          "output_type": "stream",
          "name": "stdout",
          "text": [
            "Feature extracted from ./data/308.png\n",
            "Feature extracted from ./data/307.png\n",
            "Feature extracted from ./data/605.png\n"
          ]
        },
        {
          "output_type": "stream",
          "name": "stderr",
          "text": [
            "\rExtracting features:  19%|█▊        | 282/1518 [00:28<01:58, 10.40it/s]"
          ]
        },
        {
          "output_type": "stream",
          "name": "stdout",
          "text": [
            "Feature extracted from ./data/367.png\n",
            "Feature extracted from ./data/870.png\n",
            "Feature extracted from ./data/843.png\n"
          ]
        },
        {
          "output_type": "stream",
          "name": "stderr",
          "text": [
            "Extracting features:  19%|█▉        | 286/1518 [00:29<01:57, 10.45it/s]"
          ]
        },
        {
          "output_type": "stream",
          "name": "stdout",
          "text": [
            "Feature extracted from ./data/1419.png\n",
            "Feature extracted from ./data/903.png\n",
            "Feature extracted from ./data/469.png\n"
          ]
        },
        {
          "output_type": "stream",
          "name": "stderr",
          "text": [
            "\rExtracting features:  19%|█▉        | 288/1518 [00:29<01:57, 10.48it/s]"
          ]
        },
        {
          "output_type": "stream",
          "name": "stdout",
          "text": [
            "Feature extracted from ./data/554.png\n",
            "Feature extracted from ./data/1112.png\n",
            "Feature extracted from ./data/492.png\n"
          ]
        },
        {
          "output_type": "stream",
          "name": "stderr",
          "text": [
            "Extracting features:  19%|█▉        | 292/1518 [00:29<01:57, 10.41it/s]"
          ]
        },
        {
          "output_type": "stream",
          "name": "stdout",
          "text": [
            "Feature extracted from ./data/1383.png\n",
            "Feature extracted from ./data/40.png\n",
            "Feature extracted from ./data/1261.png\n"
          ]
        },
        {
          "output_type": "stream",
          "name": "stderr",
          "text": [
            "\rExtracting features:  19%|█▉        | 294/1518 [00:29<01:56, 10.49it/s]"
          ]
        },
        {
          "output_type": "stream",
          "name": "stdout",
          "text": [
            "Feature extracted from ./data/80.png\n",
            "Feature extracted from ./data/1404.png\n",
            "Feature extracted from ./data/1465.png\n"
          ]
        },
        {
          "output_type": "stream",
          "name": "stderr",
          "text": [
            "Extracting features:  20%|█▉        | 298/1518 [00:30<01:56, 10.50it/s]"
          ]
        },
        {
          "output_type": "stream",
          "name": "stdout",
          "text": [
            "Feature extracted from ./data/63.png\n",
            "Feature extracted from ./data/1003.png\n",
            "Feature extracted from ./data/85.png\n"
          ]
        },
        {
          "output_type": "stream",
          "name": "stderr",
          "text": [
            "\rExtracting features:  20%|█▉        | 300/1518 [00:30<01:55, 10.50it/s]"
          ]
        },
        {
          "output_type": "stream",
          "name": "stdout",
          "text": [
            "Feature extracted from ./data/404.png\n",
            "Feature extracted from ./data/7.png\n",
            "Feature extracted from ./data/1493.png\n"
          ]
        },
        {
          "output_type": "stream",
          "name": "stderr",
          "text": [
            "Extracting features:  20%|██        | 304/1518 [00:30<01:57, 10.37it/s]"
          ]
        },
        {
          "output_type": "stream",
          "name": "stdout",
          "text": [
            "Feature extracted from ./data/261.png\n",
            "Feature extracted from ./data/1482.png\n",
            "Feature extracted from ./data/1255.png\n"
          ]
        },
        {
          "output_type": "stream",
          "name": "stderr",
          "text": [
            "\rExtracting features:  20%|██        | 306/1518 [00:31<01:56, 10.40it/s]"
          ]
        },
        {
          "output_type": "stream",
          "name": "stdout",
          "text": [
            "Feature extracted from ./data/1314.png\n",
            "Feature extracted from ./data/663.png\n",
            "Feature extracted from ./data/1335.png\n"
          ]
        },
        {
          "output_type": "stream",
          "name": "stderr",
          "text": [
            "Extracting features:  20%|██        | 310/1518 [00:31<01:55, 10.45it/s]"
          ]
        },
        {
          "output_type": "stream",
          "name": "stdout",
          "text": [
            "Feature extracted from ./data/498.png\n",
            "Feature extracted from ./data/119.png\n",
            "Feature extracted from ./data/506.png\n"
          ]
        },
        {
          "output_type": "stream",
          "name": "stderr",
          "text": [
            "\rExtracting features:  21%|██        | 312/1518 [00:31<01:57, 10.28it/s]"
          ]
        },
        {
          "output_type": "stream",
          "name": "stdout",
          "text": [
            "Feature extracted from ./data/269.png\n",
            "Feature extracted from ./data/1065.png\n",
            "Feature extracted from ./data/1338.png\n"
          ]
        },
        {
          "output_type": "stream",
          "name": "stderr",
          "text": [
            "Extracting features:  21%|██        | 316/1518 [00:32<01:56, 10.33it/s]"
          ]
        },
        {
          "output_type": "stream",
          "name": "stdout",
          "text": [
            "Feature extracted from ./data/997.png\n",
            "Feature extracted from ./data/619.png\n",
            "Feature extracted from ./data/1369.png\n"
          ]
        },
        {
          "output_type": "stream",
          "name": "stderr",
          "text": [
            "\rExtracting features:  21%|██        | 318/1518 [00:32<01:55, 10.37it/s]"
          ]
        },
        {
          "output_type": "stream",
          "name": "stdout",
          "text": [
            "Feature extracted from ./data/860.png\n",
            "Feature extracted from ./data/1298.png\n",
            "Feature extracted from ./data/315.png\n"
          ]
        },
        {
          "output_type": "stream",
          "name": "stderr",
          "text": [
            "Extracting features:  21%|██        | 322/1518 [00:32<01:54, 10.46it/s]"
          ]
        },
        {
          "output_type": "stream",
          "name": "stdout",
          "text": [
            "Feature extracted from ./data/1170.png\n",
            "Feature extracted from ./data/1061.png\n",
            "Feature extracted from ./data/437.png\n"
          ]
        },
        {
          "output_type": "stream",
          "name": "stderr",
          "text": [
            "\rExtracting features:  21%|██▏       | 324/1518 [00:32<01:54, 10.42it/s]"
          ]
        },
        {
          "output_type": "stream",
          "name": "stdout",
          "text": [
            "Feature extracted from ./data/566.png\n",
            "Feature extracted from ./data/917.png\n",
            "Feature extracted from ./data/1309.png\n"
          ]
        },
        {
          "output_type": "stream",
          "name": "stderr",
          "text": [
            "Extracting features:  22%|██▏       | 328/1518 [00:33<01:54, 10.39it/s]"
          ]
        },
        {
          "output_type": "stream",
          "name": "stdout",
          "text": [
            "Feature extracted from ./data/1452.png\n",
            "Feature extracted from ./data/1211.png\n",
            "Feature extracted from ./data/197.png\n"
          ]
        },
        {
          "output_type": "stream",
          "name": "stderr",
          "text": [
            "\rExtracting features:  22%|██▏       | 330/1518 [00:33<01:53, 10.43it/s]"
          ]
        },
        {
          "output_type": "stream",
          "name": "stdout",
          "text": [
            "Feature extracted from ./data/1421.png\n",
            "Feature extracted from ./data/954.png\n",
            "Feature extracted from ./data/1417.png\n"
          ]
        },
        {
          "output_type": "stream",
          "name": "stderr",
          "text": [
            "\rExtracting features:  22%|██▏       | 332/1518 [00:33<01:53, 10.49it/s]"
          ]
        },
        {
          "output_type": "stream",
          "name": "stdout",
          "text": [
            "Feature extracted from ./data/881.png\n",
            "Feature extracted from ./data/431.png\n"
          ]
        },
        {
          "output_type": "stream",
          "name": "stderr",
          "text": [
            "Extracting features:  22%|██▏       | 335/1518 [00:33<02:11,  9.03it/s]"
          ]
        },
        {
          "output_type": "stream",
          "name": "stdout",
          "text": [
            "Feature extracted from ./data/1016.png\n",
            "Feature extracted from ./data/579.png\n"
          ]
        },
        {
          "output_type": "stream",
          "name": "stderr",
          "text": [
            "Extracting features:  22%|██▏       | 337/1518 [00:34<02:29,  7.89it/s]"
          ]
        },
        {
          "output_type": "stream",
          "name": "stdout",
          "text": [
            "Feature extracted from ./data/1359.png\n",
            "Feature extracted from ./data/397.png\n"
          ]
        },
        {
          "output_type": "stream",
          "name": "stderr",
          "text": [
            "Extracting features:  22%|██▏       | 339/1518 [00:34<02:43,  7.23it/s]"
          ]
        },
        {
          "output_type": "stream",
          "name": "stdout",
          "text": [
            "Feature extracted from ./data/1195.png\n",
            "Feature extracted from ./data/685.png\n"
          ]
        },
        {
          "output_type": "stream",
          "name": "stderr",
          "text": [
            "Extracting features:  22%|██▏       | 341/1518 [00:34<02:50,  6.90it/s]"
          ]
        },
        {
          "output_type": "stream",
          "name": "stdout",
          "text": [
            "Feature extracted from ./data/1121.png\n",
            "Feature extracted from ./data/1380.png\n"
          ]
        },
        {
          "output_type": "stream",
          "name": "stderr",
          "text": [
            "Extracting features:  23%|██▎       | 343/1518 [00:35<02:52,  6.82it/s]"
          ]
        },
        {
          "output_type": "stream",
          "name": "stdout",
          "text": [
            "Feature extracted from ./data/1161.png\n",
            "Feature extracted from ./data/1325.png\n"
          ]
        },
        {
          "output_type": "stream",
          "name": "stderr",
          "text": [
            "Extracting features:  23%|██▎       | 345/1518 [00:35<02:53,  6.76it/s]"
          ]
        },
        {
          "output_type": "stream",
          "name": "stdout",
          "text": [
            "Feature extracted from ./data/1354.png\n",
            "Feature extracted from ./data/274.png\n"
          ]
        },
        {
          "output_type": "stream",
          "name": "stderr",
          "text": [
            "Extracting features:  23%|██▎       | 347/1518 [00:35<02:55,  6.67it/s]"
          ]
        },
        {
          "output_type": "stream",
          "name": "stdout",
          "text": [
            "Feature extracted from ./data/1367.png\n",
            "Feature extracted from ./data/390.png\n"
          ]
        },
        {
          "output_type": "stream",
          "name": "stderr",
          "text": [
            "Extracting features:  23%|██▎       | 349/1518 [00:36<02:36,  7.46it/s]"
          ]
        },
        {
          "output_type": "stream",
          "name": "stdout",
          "text": [
            "Feature extracted from ./data/1192.png\n",
            "Feature extracted from ./data/1296.png\n",
            "Feature extracted from ./data/626.png\n"
          ]
        },
        {
          "output_type": "stream",
          "name": "stderr",
          "text": [
            "Extracting features:  23%|██▎       | 353/1518 [00:36<02:05,  9.27it/s]"
          ]
        },
        {
          "output_type": "stream",
          "name": "stdout",
          "text": [
            "Feature extracted from ./data/501.png\n",
            "Feature extracted from ./data/350.png\n",
            "Feature extracted from ./data/591.png\n"
          ]
        },
        {
          "output_type": "stream",
          "name": "stderr",
          "text": [
            "\rExtracting features:  23%|██▎       | 355/1518 [00:36<02:00,  9.64it/s]"
          ]
        },
        {
          "output_type": "stream",
          "name": "stdout",
          "text": [
            "Feature extracted from ./data/1000.png\n",
            "Feature extracted from ./data/279.png\n",
            "Feature extracted from ./data/158.png\n"
          ]
        },
        {
          "output_type": "stream",
          "name": "stderr",
          "text": [
            "\rExtracting features:  24%|██▎       | 357/1518 [00:36<01:57,  9.85it/s]"
          ]
        },
        {
          "output_type": "stream",
          "name": "stdout",
          "text": [
            "Feature extracted from ./data/713.png\n",
            "Feature extracted from ./data/422.png\n"
          ]
        },
        {
          "output_type": "stream",
          "name": "stderr",
          "text": [
            "Extracting features:  24%|██▎       | 360/1518 [00:37<02:01,  9.56it/s]"
          ]
        },
        {
          "output_type": "stream",
          "name": "stdout",
          "text": [
            "Feature extracted from ./data/930.png\n",
            "Feature extracted from ./data/548.png\n"
          ]
        },
        {
          "output_type": "stream",
          "name": "stderr",
          "text": [
            "\rExtracting features:  24%|██▍       | 362/1518 [00:37<01:56,  9.89it/s]"
          ]
        },
        {
          "output_type": "stream",
          "name": "stdout",
          "text": [
            "Feature extracted from ./data/244.png\n",
            "Feature extracted from ./data/785.png\n",
            "Feature extracted from ./data/1230.png\n"
          ]
        },
        {
          "output_type": "stream",
          "name": "stderr",
          "text": [
            "Extracting features:  24%|██▍       | 366/1518 [00:37<01:52, 10.25it/s]"
          ]
        },
        {
          "output_type": "stream",
          "name": "stdout",
          "text": [
            "Feature extracted from ./data/113.png\n",
            "Feature extracted from ./data/202.png\n",
            "Feature extracted from ./data/657.png\n"
          ]
        },
        {
          "output_type": "stream",
          "name": "stderr",
          "text": [
            "\rExtracting features:  24%|██▍       | 368/1518 [00:37<01:51, 10.29it/s]"
          ]
        },
        {
          "output_type": "stream",
          "name": "stdout",
          "text": [
            "Feature extracted from ./data/814.png\n",
            "Feature extracted from ./data/820.png\n",
            "Feature extracted from ./data/965.png\n"
          ]
        },
        {
          "output_type": "stream",
          "name": "stderr",
          "text": [
            "Extracting features:  25%|██▍       | 372/1518 [00:38<01:51, 10.27it/s]"
          ]
        },
        {
          "output_type": "stream",
          "name": "stdout",
          "text": [
            "Feature extracted from ./data/149.png\n",
            "Feature extracted from ./data/1439.png\n",
            "Feature extracted from ./data/1422.png\n"
          ]
        },
        {
          "output_type": "stream",
          "name": "stderr",
          "text": [
            "\rExtracting features:  25%|██▍       | 374/1518 [00:38<01:50, 10.32it/s]"
          ]
        },
        {
          "output_type": "stream",
          "name": "stdout",
          "text": [
            "Feature extracted from ./data/855.png\n",
            "Feature extracted from ./data/1423.png\n",
            "Feature extracted from ./data/1031.png\n"
          ]
        },
        {
          "output_type": "stream",
          "name": "stderr",
          "text": [
            "Extracting features:  25%|██▍       | 378/1518 [00:38<01:49, 10.44it/s]"
          ]
        },
        {
          "output_type": "stream",
          "name": "stdout",
          "text": [
            "Feature extracted from ./data/129.png\n",
            "Feature extracted from ./data/803.png\n",
            "Feature extracted from ./data/1326.png\n"
          ]
        },
        {
          "output_type": "stream",
          "name": "stderr",
          "text": [
            "\rExtracting features:  25%|██▌       | 380/1518 [00:39<01:48, 10.46it/s]"
          ]
        },
        {
          "output_type": "stream",
          "name": "stdout",
          "text": [
            "Feature extracted from ./data/1070.png\n",
            "Feature extracted from ./data/694.png\n",
            "Feature extracted from ./data/732.png\n"
          ]
        },
        {
          "output_type": "stream",
          "name": "stderr",
          "text": [
            "Extracting features:  25%|██▌       | 384/1518 [00:39<01:48, 10.43it/s]"
          ]
        },
        {
          "output_type": "stream",
          "name": "stdout",
          "text": [
            "Feature extracted from ./data/578.png\n",
            "Feature extracted from ./data/902.png\n",
            "Feature extracted from ./data/1259.png\n"
          ]
        },
        {
          "output_type": "stream",
          "name": "stderr",
          "text": [
            "\rExtracting features:  25%|██▌       | 386/1518 [00:39<01:47, 10.50it/s]"
          ]
        },
        {
          "output_type": "stream",
          "name": "stdout",
          "text": [
            "Feature extracted from ./data/1082.png\n",
            "Feature extracted from ./data/1433.png\n",
            "Feature extracted from ./data/1505.png\n"
          ]
        },
        {
          "output_type": "stream",
          "name": "stderr",
          "text": [
            "Extracting features:  26%|██▌       | 390/1518 [00:39<01:47, 10.53it/s]"
          ]
        },
        {
          "output_type": "stream",
          "name": "stdout",
          "text": [
            "Feature extracted from ./data/89.png\n",
            "Feature extracted from ./data/361.png\n",
            "Feature extracted from ./data/696.png\n"
          ]
        },
        {
          "output_type": "stream",
          "name": "stderr",
          "text": [
            "\rExtracting features:  26%|██▌       | 392/1518 [00:40<01:48, 10.41it/s]"
          ]
        },
        {
          "output_type": "stream",
          "name": "stdout",
          "text": [
            "Feature extracted from ./data/1337.png\n",
            "Feature extracted from ./data/1069.png\n",
            "Feature extracted from ./data/258.png\n"
          ]
        },
        {
          "output_type": "stream",
          "name": "stderr",
          "text": [
            "Extracting features:  26%|██▌       | 396/1518 [00:40<01:47, 10.48it/s]"
          ]
        },
        {
          "output_type": "stream",
          "name": "stdout",
          "text": [
            "Feature extracted from ./data/934.png\n",
            "Feature extracted from ./data/134.png\n",
            "Feature extracted from ./data/906.png\n"
          ]
        },
        {
          "output_type": "stream",
          "name": "stderr",
          "text": [
            "\rExtracting features:  26%|██▌       | 398/1518 [00:40<01:47, 10.41it/s]"
          ]
        },
        {
          "output_type": "stream",
          "name": "stdout",
          "text": [
            "Feature extracted from ./data/1322.png\n",
            "Feature extracted from ./data/818.png\n",
            "Feature extracted from ./data/50.png\n"
          ]
        },
        {
          "output_type": "stream",
          "name": "stderr",
          "text": [
            "Extracting features:  26%|██▋       | 402/1518 [00:41<01:47, 10.34it/s]"
          ]
        },
        {
          "output_type": "stream",
          "name": "stdout",
          "text": [
            "Feature extracted from ./data/613.png\n",
            "Feature extracted from ./data/752.png\n",
            "Feature extracted from ./data/811.png\n"
          ]
        },
        {
          "output_type": "stream",
          "name": "stderr",
          "text": [
            "\rExtracting features:  27%|██▋       | 404/1518 [00:41<01:47, 10.34it/s]"
          ]
        },
        {
          "output_type": "stream",
          "name": "stdout",
          "text": [
            "Feature extracted from ./data/1463.png\n",
            "Feature extracted from ./data/622.png\n",
            "Feature extracted from ./data/754.png\n"
          ]
        },
        {
          "output_type": "stream",
          "name": "stderr",
          "text": [
            "Extracting features:  27%|██▋       | 408/1518 [00:41<01:45, 10.53it/s]"
          ]
        },
        {
          "output_type": "stream",
          "name": "stdout",
          "text": [
            "Feature extracted from ./data/185.png\n",
            "Feature extracted from ./data/611.png\n",
            "Feature extracted from ./data/454.png\n"
          ]
        },
        {
          "output_type": "stream",
          "name": "stderr",
          "text": [
            "\rExtracting features:  27%|██▋       | 410/1518 [00:41<01:46, 10.45it/s]"
          ]
        },
        {
          "output_type": "stream",
          "name": "stdout",
          "text": [
            "Feature extracted from ./data/882.png\n",
            "Feature extracted from ./data/1393.png\n",
            "Feature extracted from ./data/375.png\n"
          ]
        },
        {
          "output_type": "stream",
          "name": "stderr",
          "text": [
            "Extracting features:  27%|██▋       | 414/1518 [00:42<01:47, 10.31it/s]"
          ]
        },
        {
          "output_type": "stream",
          "name": "stdout",
          "text": [
            "Feature extracted from ./data/1501.png\n",
            "Feature extracted from ./data/893.png\n",
            "Feature extracted from ./data/1115.png\n"
          ]
        },
        {
          "output_type": "stream",
          "name": "stderr",
          "text": [
            "\rExtracting features:  27%|██▋       | 416/1518 [00:42<01:46, 10.38it/s]"
          ]
        },
        {
          "output_type": "stream",
          "name": "stdout",
          "text": [
            "Feature extracted from ./data/1078.png\n",
            "Feature extracted from ./data/956.png\n",
            "Feature extracted from ./data/819.png\n"
          ]
        },
        {
          "output_type": "stream",
          "name": "stderr",
          "text": [
            "\rExtracting features:  28%|██▊       | 418/1518 [00:42<01:45, 10.39it/s]"
          ]
        },
        {
          "output_type": "stream",
          "name": "stdout",
          "text": [
            "Feature extracted from ./data/686.png\n",
            "Feature extracted from ./data/110.png\n"
          ]
        },
        {
          "output_type": "stream",
          "name": "stderr",
          "text": [
            "Extracting features:  28%|██▊       | 422/1518 [00:43<01:45, 10.34it/s]"
          ]
        },
        {
          "output_type": "stream",
          "name": "stdout",
          "text": [
            "Feature extracted from ./data/1042.png\n",
            "Feature extracted from ./data/778.png\n",
            "Feature extracted from ./data/1004.png\n"
          ]
        },
        {
          "output_type": "stream",
          "name": "stderr",
          "text": [
            "\rExtracting features:  28%|██▊       | 424/1518 [00:43<01:46, 10.24it/s]"
          ]
        },
        {
          "output_type": "stream",
          "name": "stdout",
          "text": [
            "Feature extracted from ./data/1182.png\n",
            "Feature extracted from ./data/439.png\n",
            "Feature extracted from ./data/537.png\n"
          ]
        },
        {
          "output_type": "stream",
          "name": "stderr",
          "text": [
            "Extracting features:  28%|██▊       | 428/1518 [00:43<01:44, 10.47it/s]"
          ]
        },
        {
          "output_type": "stream",
          "name": "stdout",
          "text": [
            "Feature extracted from ./data/1210.png\n",
            "Feature extracted from ./data/280.png\n",
            "Feature extracted from ./data/59.png\n"
          ]
        },
        {
          "output_type": "stream",
          "name": "stderr",
          "text": [
            "\rExtracting features:  28%|██▊       | 430/1518 [00:43<01:44, 10.44it/s]"
          ]
        },
        {
          "output_type": "stream",
          "name": "stdout",
          "text": [
            "Feature extracted from ./data/298.png\n",
            "Feature extracted from ./data/948.png\n",
            "Feature extracted from ./data/660.png\n"
          ]
        },
        {
          "output_type": "stream",
          "name": "stderr",
          "text": [
            "Extracting features:  29%|██▊       | 434/1518 [00:44<01:43, 10.52it/s]"
          ]
        },
        {
          "output_type": "stream",
          "name": "stdout",
          "text": [
            "Feature extracted from ./data/1005.png\n",
            "Feature extracted from ./data/1046.png\n",
            "Feature extracted from ./data/1329.png\n"
          ]
        },
        {
          "output_type": "stream",
          "name": "stderr",
          "text": [
            "\rExtracting features:  29%|██▊       | 436/1518 [00:44<01:44, 10.33it/s]"
          ]
        },
        {
          "output_type": "stream",
          "name": "stdout",
          "text": [
            "Feature extracted from ./data/730.png\n",
            "Feature extracted from ./data/458.png\n",
            "Feature extracted from ./data/676.png\n"
          ]
        },
        {
          "output_type": "stream",
          "name": "stderr",
          "text": [
            "Extracting features:  29%|██▉       | 440/1518 [00:44<01:44, 10.29it/s]"
          ]
        },
        {
          "output_type": "stream",
          "name": "stdout",
          "text": [
            "Feature extracted from ./data/1067.png\n",
            "Feature extracted from ./data/67.png\n",
            "Feature extracted from ./data/813.png\n"
          ]
        },
        {
          "output_type": "stream",
          "name": "stderr",
          "text": [
            "\rExtracting features:  29%|██▉       | 442/1518 [00:45<01:43, 10.37it/s]"
          ]
        },
        {
          "output_type": "stream",
          "name": "stdout",
          "text": [
            "Feature extracted from ./data/901.png\n",
            "Feature extracted from ./data/884.png\n",
            "Feature extracted from ./data/463.png\n"
          ]
        },
        {
          "output_type": "stream",
          "name": "stderr",
          "text": [
            "\rExtracting features:  29%|██▉       | 444/1518 [00:45<01:43, 10.39it/s]"
          ]
        },
        {
          "output_type": "stream",
          "name": "stdout",
          "text": [
            "Feature extracted from ./data/456.png\n",
            "Feature extracted from ./data/715.png\n"
          ]
        },
        {
          "output_type": "stream",
          "name": "stderr",
          "text": [
            "Extracting features:  30%|██▉       | 448/1518 [00:45<01:44, 10.21it/s]"
          ]
        },
        {
          "output_type": "stream",
          "name": "stdout",
          "text": [
            "Feature extracted from ./data/1196.png\n",
            "Feature extracted from ./data/1041.png\n",
            "Feature extracted from ./data/710.png\n"
          ]
        },
        {
          "output_type": "stream",
          "name": "stderr",
          "text": [
            "\rExtracting features:  30%|██▉       | 450/1518 [00:45<01:44, 10.24it/s]"
          ]
        },
        {
          "output_type": "stream",
          "name": "stdout",
          "text": [
            "Feature extracted from ./data/1203.png\n",
            "Feature extracted from ./data/935.png\n",
            "Feature extracted from ./data/206.png\n"
          ]
        },
        {
          "output_type": "stream",
          "name": "stderr",
          "text": [
            "Extracting features:  30%|██▉       | 453/1518 [00:46<02:00,  8.84it/s]"
          ]
        },
        {
          "output_type": "stream",
          "name": "stdout",
          "text": [
            "Feature extracted from ./data/1362.png\n",
            "Feature extracted from ./data/413.png\n"
          ]
        },
        {
          "output_type": "stream",
          "name": "stderr",
          "text": [
            "Extracting features:  30%|██▉       | 455/1518 [00:46<02:15,  7.86it/s]"
          ]
        },
        {
          "output_type": "stream",
          "name": "stdout",
          "text": [
            "Feature extracted from ./data/388.png\n",
            "Feature extracted from ./data/1284.png\n"
          ]
        },
        {
          "output_type": "stream",
          "name": "stderr",
          "text": [
            "Extracting features:  30%|███       | 457/1518 [00:46<02:25,  7.30it/s]"
          ]
        },
        {
          "output_type": "stream",
          "name": "stdout",
          "text": [
            "Feature extracted from ./data/1386.png\n",
            "Feature extracted from ./data/1455.png\n"
          ]
        },
        {
          "output_type": "stream",
          "name": "stderr",
          "text": [
            "Extracting features:  30%|███       | 459/1518 [00:47<02:19,  7.58it/s]"
          ]
        },
        {
          "output_type": "stream",
          "name": "stdout",
          "text": [
            "Feature extracted from ./data/774.png\n",
            "Feature extracted from ./data/57.png\n"
          ]
        },
        {
          "output_type": "stream",
          "name": "stderr",
          "text": [
            "Extracting features:  30%|███       | 461/1518 [00:47<02:12,  7.95it/s]"
          ]
        },
        {
          "output_type": "stream",
          "name": "stdout",
          "text": [
            "Feature extracted from ./data/791.png\n",
            "Feature extracted from ./data/1152.png\n"
          ]
        },
        {
          "output_type": "stream",
          "name": "stderr",
          "text": [
            "Extracting features:  31%|███       | 463/1518 [00:47<02:10,  8.10it/s]"
          ]
        },
        {
          "output_type": "stream",
          "name": "stdout",
          "text": [
            "Feature extracted from ./data/1396.png\n",
            "Feature extracted from ./data/396.png\n"
          ]
        },
        {
          "output_type": "stream",
          "name": "stderr",
          "text": [
            "Extracting features:  31%|███       | 465/1518 [00:47<02:08,  8.20it/s]"
          ]
        },
        {
          "output_type": "stream",
          "name": "stdout",
          "text": [
            "Feature extracted from ./data/490.png\n",
            "Feature extracted from ./data/38.png\n"
          ]
        },
        {
          "output_type": "stream",
          "name": "stderr",
          "text": [
            "Extracting features:  31%|███       | 467/1518 [00:48<02:07,  8.26it/s]"
          ]
        },
        {
          "output_type": "stream",
          "name": "stdout",
          "text": [
            "Feature extracted from ./data/77.png\n",
            "Feature extracted from ./data/593.png\n"
          ]
        },
        {
          "output_type": "stream",
          "name": "stderr",
          "text": [
            "Extracting features:  31%|███       | 469/1518 [00:48<02:06,  8.26it/s]"
          ]
        },
        {
          "output_type": "stream",
          "name": "stdout",
          "text": [
            "Feature extracted from ./data/555.png\n",
            "Feature extracted from ./data/1038.png\n"
          ]
        },
        {
          "output_type": "stream",
          "name": "stderr",
          "text": [
            "Extracting features:  31%|███       | 471/1518 [00:48<02:20,  7.48it/s]"
          ]
        },
        {
          "output_type": "stream",
          "name": "stdout",
          "text": [
            "Feature extracted from ./data/449.png\n",
            "Feature extracted from ./data/1508.png\n"
          ]
        },
        {
          "output_type": "stream",
          "name": "stderr",
          "text": [
            "Extracting features:  31%|███       | 473/1518 [00:48<02:16,  7.64it/s]"
          ]
        },
        {
          "output_type": "stream",
          "name": "stdout",
          "text": [
            "Feature extracted from ./data/687.png\n",
            "Feature extracted from ./data/650.png\n"
          ]
        },
        {
          "output_type": "stream",
          "name": "stderr",
          "text": [
            "\rExtracting features:  31%|███▏      | 475/1518 [00:48<01:58,  8.79it/s]"
          ]
        },
        {
          "output_type": "stream",
          "name": "stdout",
          "text": [
            "Feature extracted from ./data/689.png\n",
            "Feature extracted from ./data/1473.png\n",
            "Feature extracted from ./data/888.png\n"
          ]
        },
        {
          "output_type": "stream",
          "name": "stderr",
          "text": [
            "Extracting features:  32%|███▏      | 479/1518 [00:49<01:46,  9.73it/s]"
          ]
        },
        {
          "output_type": "stream",
          "name": "stdout",
          "text": [
            "Feature extracted from ./data/496.png\n",
            "Feature extracted from ./data/1021.png\n",
            "Feature extracted from ./data/1011.png\n"
          ]
        },
        {
          "output_type": "stream",
          "name": "stderr",
          "text": [
            "Extracting features:  32%|███▏      | 482/1518 [00:49<01:43, 10.02it/s]"
          ]
        },
        {
          "output_type": "stream",
          "name": "stdout",
          "text": [
            "Feature extracted from ./data/1446.png\n",
            "Feature extracted from ./data/960.png\n",
            "Feature extracted from ./data/1129.png\n"
          ]
        },
        {
          "output_type": "stream",
          "name": "stderr",
          "text": [
            "\rExtracting features:  32%|███▏      | 484/1518 [00:49<01:41, 10.21it/s]"
          ]
        },
        {
          "output_type": "stream",
          "name": "stdout",
          "text": [
            "Feature extracted from ./data/125.png\n",
            "Feature extracted from ./data/742.png\n",
            "Feature extracted from ./data/243.png\n"
          ]
        },
        {
          "output_type": "stream",
          "name": "stderr",
          "text": [
            "Extracting features:  32%|███▏      | 488/1518 [00:50<01:39, 10.39it/s]"
          ]
        },
        {
          "output_type": "stream",
          "name": "stdout",
          "text": [
            "Feature extracted from ./data/480.png\n",
            "Feature extracted from ./data/1204.png\n",
            "Feature extracted from ./data/1368.png\n"
          ]
        },
        {
          "output_type": "stream",
          "name": "stderr",
          "text": [
            "\rExtracting features:  32%|███▏      | 490/1518 [00:50<01:38, 10.39it/s]"
          ]
        },
        {
          "output_type": "stream",
          "name": "stdout",
          "text": [
            "Feature extracted from ./data/264.png\n",
            "Feature extracted from ./data/1023.png\n",
            "Feature extracted from ./data/952.png\n"
          ]
        },
        {
          "output_type": "stream",
          "name": "stderr",
          "text": [
            "Extracting features:  33%|███▎      | 494/1518 [00:50<01:38, 10.38it/s]"
          ]
        },
        {
          "output_type": "stream",
          "name": "stdout",
          "text": [
            "Feature extracted from ./data/769.png\n",
            "Feature extracted from ./data/1096.png\n",
            "Feature extracted from ./data/386.png\n"
          ]
        },
        {
          "output_type": "stream",
          "name": "stderr",
          "text": [
            "\rExtracting features:  33%|███▎      | 496/1518 [00:51<01:38, 10.43it/s]"
          ]
        },
        {
          "output_type": "stream",
          "name": "stdout",
          "text": [
            "Feature extracted from ./data/310.png\n",
            "Feature extracted from ./data/435.png\n",
            "Feature extracted from ./data/1445.png\n"
          ]
        },
        {
          "output_type": "stream",
          "name": "stderr",
          "text": [
            "Extracting features:  33%|███▎      | 500/1518 [00:51<01:37, 10.39it/s]"
          ]
        },
        {
          "output_type": "stream",
          "name": "stdout",
          "text": [
            "Feature extracted from ./data/327.png\n",
            "Feature extracted from ./data/1415.png\n",
            "Feature extracted from ./data/33.png\n"
          ]
        },
        {
          "output_type": "stream",
          "name": "stderr",
          "text": [
            "\rExtracting features:  33%|███▎      | 502/1518 [00:51<01:38, 10.30it/s]"
          ]
        },
        {
          "output_type": "stream",
          "name": "stdout",
          "text": [
            "Feature extracted from ./data/1495.png\n",
            "Feature extracted from ./data/242.png\n",
            "Feature extracted from ./data/1448.png\n"
          ]
        },
        {
          "output_type": "stream",
          "name": "stderr",
          "text": [
            "\rExtracting features:  33%|███▎      | 504/1518 [00:51<01:37, 10.37it/s]"
          ]
        },
        {
          "output_type": "stream",
          "name": "stdout",
          "text": [
            "Feature extracted from ./data/590.png\n",
            "Feature extracted from ./data/976.png\n"
          ]
        },
        {
          "output_type": "stream",
          "name": "stderr",
          "text": [
            "Extracting features:  33%|███▎      | 508/1518 [00:52<01:38, 10.28it/s]"
          ]
        },
        {
          "output_type": "stream",
          "name": "stdout",
          "text": [
            "Feature extracted from ./data/1469.png\n",
            "Feature extracted from ./data/1085.png\n",
            "Feature extracted from ./data/895.png\n"
          ]
        },
        {
          "output_type": "stream",
          "name": "stderr",
          "text": [
            "\rExtracting features:  34%|███▎      | 510/1518 [00:52<01:39, 10.17it/s]"
          ]
        },
        {
          "output_type": "stream",
          "name": "stdout",
          "text": [
            "Feature extracted from ./data/872.png\n",
            "Feature extracted from ./data/441.png\n",
            "Feature extracted from ./data/675.png\n"
          ]
        },
        {
          "output_type": "stream",
          "name": "stderr",
          "text": [
            "Extracting features:  34%|███▍      | 514/1518 [00:52<01:37, 10.26it/s]"
          ]
        },
        {
          "output_type": "stream",
          "name": "stdout",
          "text": [
            "Feature extracted from ./data/1336.png\n",
            "Feature extracted from ./data/508.png\n",
            "Feature extracted from ./data/536.png\n"
          ]
        },
        {
          "output_type": "stream",
          "name": "stderr",
          "text": [
            "\rExtracting features:  34%|███▍      | 516/1518 [00:52<01:37, 10.32it/s]"
          ]
        },
        {
          "output_type": "stream",
          "name": "stdout",
          "text": [
            "Feature extracted from ./data/1010.png\n",
            "Feature extracted from ./data/220.png\n",
            "Feature extracted from ./data/27.png\n"
          ]
        },
        {
          "output_type": "stream",
          "name": "stderr",
          "text": [
            "Extracting features:  34%|███▍      | 520/1518 [00:53<01:36, 10.37it/s]"
          ]
        },
        {
          "output_type": "stream",
          "name": "stdout",
          "text": [
            "Feature extracted from ./data/170.png\n",
            "Feature extracted from ./data/1253.png\n",
            "Feature extracted from ./data/925.png\n"
          ]
        },
        {
          "output_type": "stream",
          "name": "stderr",
          "text": [
            "\rExtracting features:  34%|███▍      | 522/1518 [00:53<01:35, 10.41it/s]"
          ]
        },
        {
          "output_type": "stream",
          "name": "stdout",
          "text": [
            "Feature extracted from ./data/105.png\n",
            "Feature extracted from ./data/616.png\n",
            "Feature extracted from ./data/526.png\n"
          ]
        },
        {
          "output_type": "stream",
          "name": "stderr",
          "text": [
            "Extracting features:  35%|███▍      | 526/1518 [00:53<01:36, 10.30it/s]"
          ]
        },
        {
          "output_type": "stream",
          "name": "stdout",
          "text": [
            "Feature extracted from ./data/1274.png\n",
            "Feature extracted from ./data/577.png\n",
            "Feature extracted from ./data/411.png\n"
          ]
        },
        {
          "output_type": "stream",
          "name": "stderr",
          "text": [
            "\rExtracting features:  35%|███▍      | 528/1518 [00:54<01:35, 10.38it/s]"
          ]
        },
        {
          "output_type": "stream",
          "name": "stdout",
          "text": [
            "Feature extracted from ./data/833.png\n",
            "Feature extracted from ./data/1054.png\n",
            "Feature extracted from ./data/570.png\n"
          ]
        },
        {
          "output_type": "stream",
          "name": "stderr",
          "text": [
            "\rExtracting features:  35%|███▍      | 530/1518 [00:54<01:35, 10.37it/s]"
          ]
        },
        {
          "output_type": "stream",
          "name": "stdout",
          "text": [
            "Feature extracted from ./data/384.png\n",
            "Feature extracted from ./data/1432.png\n"
          ]
        },
        {
          "output_type": "stream",
          "name": "stderr",
          "text": [
            "\rExtracting features:  35%|███▌      | 532/1518 [00:54<01:37, 10.10it/s]"
          ]
        },
        {
          "output_type": "stream",
          "name": "stdout",
          "text": [
            "Feature extracted from ./data/58.png\n",
            "Feature extracted from ./data/848.png\n"
          ]
        },
        {
          "output_type": "stream",
          "name": "stderr",
          "text": [
            "Extracting features:  35%|███▌      | 536/1518 [00:54<01:37, 10.07it/s]"
          ]
        },
        {
          "output_type": "stream",
          "name": "stdout",
          "text": [
            "Feature extracted from ./data/1478.png\n",
            "Feature extracted from ./data/1494.png\n",
            "Feature extracted from ./data/368.png\n"
          ]
        },
        {
          "output_type": "stream",
          "name": "stderr",
          "text": [
            "\rExtracting features:  35%|███▌      | 538/1518 [00:55<01:36, 10.17it/s]"
          ]
        },
        {
          "output_type": "stream",
          "name": "stdout",
          "text": [
            "Feature extracted from ./data/796.png\n",
            "Feature extracted from ./data/644.png\n",
            "Feature extracted from ./data/977.png\n"
          ]
        },
        {
          "output_type": "stream",
          "name": "stderr",
          "text": [
            "Extracting features:  36%|███▌      | 542/1518 [00:55<01:35, 10.26it/s]"
          ]
        },
        {
          "output_type": "stream",
          "name": "stdout",
          "text": [
            "Feature extracted from ./data/76.png\n",
            "Feature extracted from ./data/1458.png\n",
            "Feature extracted from ./data/214.png\n"
          ]
        },
        {
          "output_type": "stream",
          "name": "stderr",
          "text": [
            "\rExtracting features:  36%|███▌      | 544/1518 [00:55<01:36, 10.13it/s]"
          ]
        },
        {
          "output_type": "stream",
          "name": "stdout",
          "text": [
            "Feature extracted from ./data/135.png\n",
            "Feature extracted from ./data/1323.png\n",
            "Feature extracted from ./data/1442.png\n"
          ]
        },
        {
          "output_type": "stream",
          "name": "stderr",
          "text": [
            "Extracting features:  36%|███▌      | 548/1518 [00:56<01:33, 10.37it/s]"
          ]
        },
        {
          "output_type": "stream",
          "name": "stdout",
          "text": [
            "Feature extracted from ./data/1198.png\n",
            "Feature extracted from ./data/24.png\n",
            "Feature extracted from ./data/474.png\n"
          ]
        },
        {
          "output_type": "stream",
          "name": "stderr",
          "text": [
            "\rExtracting features:  36%|███▌      | 550/1518 [00:56<01:33, 10.37it/s]"
          ]
        },
        {
          "output_type": "stream",
          "name": "stdout",
          "text": [
            "Feature extracted from ./data/1443.png\n",
            "Feature extracted from ./data/265.png\n",
            "Feature extracted from ./data/241.png\n"
          ]
        },
        {
          "output_type": "stream",
          "name": "stderr",
          "text": [
            "Extracting features:  36%|███▋      | 554/1518 [00:56<01:32, 10.42it/s]"
          ]
        },
        {
          "output_type": "stream",
          "name": "stdout",
          "text": [
            "Feature extracted from ./data/1221.png\n",
            "Feature extracted from ./data/181.png\n",
            "Feature extracted from ./data/410.png\n"
          ]
        },
        {
          "output_type": "stream",
          "name": "stderr",
          "text": [
            "\rExtracting features:  37%|███▋      | 556/1518 [00:56<01:34, 10.23it/s]"
          ]
        },
        {
          "output_type": "stream",
          "name": "stdout",
          "text": [
            "Feature extracted from ./data/764.png\n",
            "Feature extracted from ./data/283.png\n",
            "Feature extracted from ./data/677.png\n"
          ]
        },
        {
          "output_type": "stream",
          "name": "stderr",
          "text": [
            "Extracting features:  37%|███▋      | 560/1518 [00:57<01:32, 10.33it/s]"
          ]
        },
        {
          "output_type": "stream",
          "name": "stdout",
          "text": [
            "Feature extracted from ./data/1228.png\n",
            "Feature extracted from ./data/180.png\n",
            "Feature extracted from ./data/1299.png\n"
          ]
        },
        {
          "output_type": "stream",
          "name": "stderr",
          "text": [
            "\rExtracting features:  37%|███▋      | 562/1518 [00:57<01:32, 10.28it/s]"
          ]
        },
        {
          "output_type": "stream",
          "name": "stdout",
          "text": [
            "Feature extracted from ./data/567.png\n",
            "Feature extracted from ./data/807.png\n",
            "Feature extracted from ./data/356.png\n"
          ]
        },
        {
          "output_type": "stream",
          "name": "stderr",
          "text": [
            "Extracting features:  37%|███▋      | 566/1518 [00:57<01:32, 10.26it/s]"
          ]
        },
        {
          "output_type": "stream",
          "name": "stdout",
          "text": [
            "Feature extracted from ./data/777.png\n",
            "Feature extracted from ./data/798.png\n",
            "Feature extracted from ./data/817.png\n"
          ]
        },
        {
          "output_type": "stream",
          "name": "stderr",
          "text": [
            "\rExtracting features:  37%|███▋      | 568/1518 [00:58<01:32, 10.31it/s]"
          ]
        },
        {
          "output_type": "stream",
          "name": "stdout",
          "text": [
            "Feature extracted from ./data/867.png\n",
            "Feature extracted from ./data/251.png\n",
            "Feature extracted from ./data/139.png\n"
          ]
        },
        {
          "output_type": "stream",
          "name": "stderr",
          "text": [
            "Extracting features:  38%|███▊      | 572/1518 [00:58<01:31, 10.36it/s]"
          ]
        },
        {
          "output_type": "stream",
          "name": "stdout",
          "text": [
            "Feature extracted from ./data/286.png\n",
            "Feature extracted from ./data/1125.png\n",
            "Feature extracted from ./data/1330.png\n"
          ]
        },
        {
          "output_type": "stream",
          "name": "stderr",
          "text": [
            "\rExtracting features:  38%|███▊      | 574/1518 [00:58<01:30, 10.39it/s]"
          ]
        },
        {
          "output_type": "stream",
          "name": "stdout",
          "text": [
            "Feature extracted from ./data/601.png\n",
            "Feature extracted from ./data/546.png\n",
            "Feature extracted from ./data/646.png\n"
          ]
        },
        {
          "output_type": "stream",
          "name": "stderr",
          "text": [
            "\rExtracting features:  38%|███▊      | 576/1518 [00:58<01:32, 10.21it/s]"
          ]
        },
        {
          "output_type": "stream",
          "name": "stdout",
          "text": [
            "Feature extracted from ./data/1254.png\n",
            "Feature extracted from ./data/699.png\n"
          ]
        },
        {
          "output_type": "stream",
          "name": "stderr",
          "text": [
            "Extracting features:  38%|███▊      | 579/1518 [00:59<01:49,  8.57it/s]"
          ]
        },
        {
          "output_type": "stream",
          "name": "stdout",
          "text": [
            "Feature extracted from ./data/43.png\n",
            "Feature extracted from ./data/497.png\n"
          ]
        },
        {
          "output_type": "stream",
          "name": "stderr",
          "text": [
            "Extracting features:  38%|███▊      | 581/1518 [00:59<02:00,  7.79it/s]"
          ]
        },
        {
          "output_type": "stream",
          "name": "stdout",
          "text": [
            "Feature extracted from ./data/267.png\n",
            "Feature extracted from ./data/227.png\n"
          ]
        },
        {
          "output_type": "stream",
          "name": "stderr",
          "text": [
            "Extracting features:  38%|███▊      | 583/1518 [00:59<02:08,  7.27it/s]"
          ]
        },
        {
          "output_type": "stream",
          "name": "stdout",
          "text": [
            "Feature extracted from ./data/1378.png\n",
            "Feature extracted from ./data/1513.png\n"
          ]
        },
        {
          "output_type": "stream",
          "name": "stderr",
          "text": [
            "Extracting features:  39%|███▊      | 585/1518 [01:00<02:15,  6.91it/s]"
          ]
        },
        {
          "output_type": "stream",
          "name": "stdout",
          "text": [
            "Feature extracted from ./data/71.png\n",
            "Feature extracted from ./data/832.png\n"
          ]
        },
        {
          "output_type": "stream",
          "name": "stderr",
          "text": [
            "Extracting features:  39%|███▊      | 587/1518 [01:00<02:18,  6.73it/s]"
          ]
        },
        {
          "output_type": "stream",
          "name": "stdout",
          "text": [
            "Feature extracted from ./data/912.png\n",
            "Feature extracted from ./data/1312.png\n"
          ]
        },
        {
          "output_type": "stream",
          "name": "stderr",
          "text": [
            "Extracting features:  39%|███▉      | 589/1518 [01:00<02:20,  6.60it/s]"
          ]
        },
        {
          "output_type": "stream",
          "name": "stdout",
          "text": [
            "Feature extracted from ./data/1081.png\n",
            "Feature extracted from ./data/144.png\n"
          ]
        },
        {
          "output_type": "stream",
          "name": "stderr",
          "text": [
            "Extracting features:  39%|███▉      | 591/1518 [01:01<02:21,  6.57it/s]"
          ]
        },
        {
          "output_type": "stream",
          "name": "stdout",
          "text": [
            "Feature extracted from ./data/1215.png\n",
            "Feature extracted from ./data/534.png\n"
          ]
        },
        {
          "output_type": "stream",
          "name": "stderr",
          "text": [
            "\rExtracting features:  39%|███▉      | 593/1518 [01:01<01:57,  7.90it/s]"
          ]
        },
        {
          "output_type": "stream",
          "name": "stdout",
          "text": [
            "Feature extracted from ./data/93.png\n",
            "Feature extracted from ./data/406.png\n",
            "Feature extracted from ./data/1343.png\n"
          ]
        },
        {
          "output_type": "stream",
          "name": "stderr",
          "text": [
            "Extracting features:  39%|███▉      | 597/1518 [01:01<01:38,  9.32it/s]"
          ]
        },
        {
          "output_type": "stream",
          "name": "stdout",
          "text": [
            "Feature extracted from ./data/926.png\n",
            "Feature extracted from ./data/1402.png\n",
            "Feature extracted from ./data/1293.png\n"
          ]
        },
        {
          "output_type": "stream",
          "name": "stderr",
          "text": [
            "Extracting features:  40%|███▉      | 600/1518 [01:01<01:35,  9.65it/s]"
          ]
        },
        {
          "output_type": "stream",
          "name": "stdout",
          "text": [
            "Feature extracted from ./data/871.png\n",
            "Feature extracted from ./data/1303.png\n",
            "Feature extracted from ./data/779.png\n"
          ]
        },
        {
          "output_type": "stream",
          "name": "stderr",
          "text": [
            "\rExtracting features:  40%|███▉      | 602/1518 [01:02<01:31,  9.96it/s]"
          ]
        },
        {
          "output_type": "stream",
          "name": "stdout",
          "text": [
            "Feature extracted from ./data/260.png\n",
            "Feature extracted from ./data/617.png\n",
            "Feature extracted from ./data/20.png\n"
          ]
        },
        {
          "output_type": "stream",
          "name": "stderr",
          "text": [
            "Extracting features:  40%|███▉      | 606/1518 [01:02<01:29, 10.20it/s]"
          ]
        },
        {
          "output_type": "stream",
          "name": "stdout",
          "text": [
            "Feature extracted from ./data/333.png\n",
            "Feature extracted from ./data/1013.png\n",
            "Feature extracted from ./data/783.png\n"
          ]
        },
        {
          "output_type": "stream",
          "name": "stderr",
          "text": [
            "\rExtracting features:  40%|████      | 608/1518 [01:02<01:29, 10.14it/s]"
          ]
        },
        {
          "output_type": "stream",
          "name": "stdout",
          "text": [
            "Feature extracted from ./data/1487.png\n",
            "Feature extracted from ./data/1235.png\n",
            "Feature extracted from ./data/1500.png\n"
          ]
        },
        {
          "output_type": "stream",
          "name": "stderr",
          "text": [
            "Extracting features:  40%|████      | 612/1518 [01:03<01:28, 10.24it/s]"
          ]
        },
        {
          "output_type": "stream",
          "name": "stdout",
          "text": [
            "Feature extracted from ./data/1223.png\n",
            "Feature extracted from ./data/682.png\n",
            "Feature extracted from ./data/379.png\n"
          ]
        },
        {
          "output_type": "stream",
          "name": "stderr",
          "text": [
            "\rExtracting features:  40%|████      | 614/1518 [01:03<01:27, 10.29it/s]"
          ]
        },
        {
          "output_type": "stream",
          "name": "stdout",
          "text": [
            "Feature extracted from ./data/674.png\n",
            "Feature extracted from ./data/1051.png\n",
            "Feature extracted from ./data/597.png\n"
          ]
        },
        {
          "output_type": "stream",
          "name": "stderr",
          "text": [
            "Extracting features:  41%|████      | 618/1518 [01:03<01:26, 10.38it/s]"
          ]
        },
        {
          "output_type": "stream",
          "name": "stdout",
          "text": [
            "Feature extracted from ./data/940.png\n",
            "Feature extracted from ./data/989.png\n",
            "Feature extracted from ./data/1390.png\n"
          ]
        },
        {
          "output_type": "stream",
          "name": "stderr",
          "text": [
            "\rExtracting features:  41%|████      | 620/1518 [01:03<01:26, 10.38it/s]"
          ]
        },
        {
          "output_type": "stream",
          "name": "stdout",
          "text": [
            "Feature extracted from ./data/465.png\n",
            "Feature extracted from ./data/739.png\n",
            "Feature extracted from ./data/305.png\n"
          ]
        },
        {
          "output_type": "stream",
          "name": "stderr",
          "text": [
            "Extracting features:  41%|████      | 624/1518 [01:04<01:27, 10.18it/s]"
          ]
        },
        {
          "output_type": "stream",
          "name": "stdout",
          "text": [
            "Feature extracted from ./data/313.png\n",
            "Feature extracted from ./data/1089.png\n",
            "Feature extracted from ./data/757.png\n"
          ]
        },
        {
          "output_type": "stream",
          "name": "stderr",
          "text": [
            "\rExtracting features:  41%|████      | 626/1518 [01:04<01:27, 10.23it/s]"
          ]
        },
        {
          "output_type": "stream",
          "name": "stdout",
          "text": [
            "Feature extracted from ./data/126.png\n",
            "Feature extracted from ./data/468.png\n",
            "Feature extracted from ./data/1245.png\n"
          ]
        },
        {
          "output_type": "stream",
          "name": "stderr",
          "text": [
            "Extracting features:  42%|████▏     | 630/1518 [01:04<01:25, 10.42it/s]"
          ]
        },
        {
          "output_type": "stream",
          "name": "stdout",
          "text": [
            "Feature extracted from ./data/471.png\n",
            "Feature extracted from ./data/1384.png\n",
            "Feature extracted from ./data/1027.png\n"
          ]
        },
        {
          "output_type": "stream",
          "name": "stderr",
          "text": [
            "\rExtracting features:  42%|████▏     | 632/1518 [01:05<01:26, 10.28it/s]"
          ]
        },
        {
          "output_type": "stream",
          "name": "stdout",
          "text": [
            "Feature extracted from ./data/178.png\n",
            "Feature extracted from ./data/705.png\n",
            "Feature extracted from ./data/891.png\n"
          ]
        },
        {
          "output_type": "stream",
          "name": "stderr",
          "text": [
            "Extracting features:  42%|████▏     | 636/1518 [01:05<01:24, 10.41it/s]"
          ]
        },
        {
          "output_type": "stream",
          "name": "stdout",
          "text": [
            "Feature extracted from ./data/573.png\n",
            "Feature extracted from ./data/1249.png\n",
            "Feature extracted from ./data/29.png\n"
          ]
        },
        {
          "output_type": "stream",
          "name": "stderr",
          "text": [
            "\rExtracting features:  42%|████▏     | 638/1518 [01:05<01:24, 10.43it/s]"
          ]
        },
        {
          "output_type": "stream",
          "name": "stdout",
          "text": [
            "Feature extracted from ./data/749.png\n",
            "Feature extracted from ./data/1376.png\n",
            "Feature extracted from ./data/477.png\n"
          ]
        },
        {
          "output_type": "stream",
          "name": "stderr",
          "text": [
            "Extracting features:  42%|████▏     | 642/1518 [01:05<01:23, 10.48it/s]"
          ]
        },
        {
          "output_type": "stream",
          "name": "stdout",
          "text": [
            "Feature extracted from ./data/1095.png\n",
            "Feature extracted from ./data/292.png\n",
            "Feature extracted from ./data/598.png\n"
          ]
        },
        {
          "output_type": "stream",
          "name": "stderr",
          "text": [
            "\rExtracting features:  42%|████▏     | 644/1518 [01:06<01:24, 10.33it/s]"
          ]
        },
        {
          "output_type": "stream",
          "name": "stdout",
          "text": [
            "Feature extracted from ./data/1456.png\n",
            "Feature extracted from ./data/74.png\n",
            "Feature extracted from ./data/302.png\n"
          ]
        },
        {
          "output_type": "stream",
          "name": "stderr",
          "text": [
            "Extracting features:  43%|████▎     | 648/1518 [01:06<01:23, 10.43it/s]"
          ]
        },
        {
          "output_type": "stream",
          "name": "stdout",
          "text": [
            "Feature extracted from ./data/1180.png\n",
            "Feature extracted from ./data/121.png\n",
            "Feature extracted from ./data/423.png\n"
          ]
        },
        {
          "output_type": "stream",
          "name": "stderr",
          "text": [
            "\rExtracting features:  43%|████▎     | 650/1518 [01:06<01:22, 10.46it/s]"
          ]
        },
        {
          "output_type": "stream",
          "name": "stdout",
          "text": [
            "Feature extracted from ./data/932.png\n",
            "Feature extracted from ./data/1366.png\n",
            "Feature extracted from ./data/1436.png\n"
          ]
        },
        {
          "output_type": "stream",
          "name": "stderr",
          "text": [
            "Extracting features:  43%|████▎     | 654/1518 [01:07<01:23, 10.34it/s]"
          ]
        },
        {
          "output_type": "stream",
          "name": "stdout",
          "text": [
            "Feature extracted from ./data/950.png\n",
            "Feature extracted from ./data/1197.png\n",
            "Feature extracted from ./data/826.png\n"
          ]
        },
        {
          "output_type": "stream",
          "name": "stderr",
          "text": [
            "\rExtracting features:  43%|████▎     | 656/1518 [01:07<01:22, 10.42it/s]"
          ]
        },
        {
          "output_type": "stream",
          "name": "stdout",
          "text": [
            "Feature extracted from ./data/1287.png\n",
            "Feature extracted from ./data/374.png\n",
            "Feature extracted from ./data/982.png\n"
          ]
        },
        {
          "output_type": "stream",
          "name": "stderr",
          "text": [
            "Extracting features:  43%|████▎     | 660/1518 [01:07<01:21, 10.51it/s]"
          ]
        },
        {
          "output_type": "stream",
          "name": "stdout",
          "text": [
            "Feature extracted from ./data/1489.png\n",
            "Feature extracted from ./data/634.png\n",
            "Feature extracted from ./data/1179.png\n"
          ]
        },
        {
          "output_type": "stream",
          "name": "stderr",
          "text": [
            "\rExtracting features:  44%|████▎     | 662/1518 [01:07<01:21, 10.51it/s]"
          ]
        },
        {
          "output_type": "stream",
          "name": "stdout",
          "text": [
            "Feature extracted from ./data/951.png\n",
            "Feature extracted from ./data/621.png\n",
            "Feature extracted from ./data/547.png\n"
          ]
        },
        {
          "output_type": "stream",
          "name": "stderr",
          "text": [
            "Extracting features:  44%|████▍     | 666/1518 [01:08<01:21, 10.41it/s]"
          ]
        },
        {
          "output_type": "stream",
          "name": "stdout",
          "text": [
            "Feature extracted from ./data/1009.png\n",
            "Feature extracted from ./data/132.png\n",
            "Feature extracted from ./data/649.png\n"
          ]
        },
        {
          "output_type": "stream",
          "name": "stderr",
          "text": [
            "\rExtracting features:  44%|████▍     | 668/1518 [01:08<01:21, 10.39it/s]"
          ]
        },
        {
          "output_type": "stream",
          "name": "stdout",
          "text": [
            "Feature extracted from ./data/765.png\n",
            "Feature extracted from ./data/94.png\n",
            "Feature extracted from ./data/1102.png\n"
          ]
        },
        {
          "output_type": "stream",
          "name": "stderr",
          "text": [
            "Extracting features:  44%|████▍     | 672/1518 [01:08<01:20, 10.46it/s]"
          ]
        },
        {
          "output_type": "stream",
          "name": "stdout",
          "text": [
            "Feature extracted from ./data/225.png\n",
            "Feature extracted from ./data/572.png\n",
            "Feature extracted from ./data/543.png\n"
          ]
        },
        {
          "output_type": "stream",
          "name": "stderr",
          "text": [
            "\rExtracting features:  44%|████▍     | 674/1518 [01:09<01:20, 10.49it/s]"
          ]
        },
        {
          "output_type": "stream",
          "name": "stdout",
          "text": [
            "Feature extracted from ./data/505.png\n",
            "Feature extracted from ./data/345.png\n",
            "Feature extracted from ./data/106.png\n"
          ]
        },
        {
          "output_type": "stream",
          "name": "stderr",
          "text": [
            "Extracting features:  45%|████▍     | 678/1518 [01:09<01:21, 10.32it/s]"
          ]
        },
        {
          "output_type": "stream",
          "name": "stdout",
          "text": [
            "Feature extracted from ./data/831.png\n",
            "Feature extracted from ./data/665.png\n",
            "Feature extracted from ./data/845.png\n"
          ]
        },
        {
          "output_type": "stream",
          "name": "stderr",
          "text": [
            "\rExtracting features:  45%|████▍     | 680/1518 [01:09<01:20, 10.42it/s]"
          ]
        },
        {
          "output_type": "stream",
          "name": "stdout",
          "text": [
            "Feature extracted from ./data/28.png\n",
            "Feature extracted from ./data/595.png\n",
            "Feature extracted from ./data/249.png\n"
          ]
        },
        {
          "output_type": "stream",
          "name": "stderr",
          "text": [
            "Extracting features:  45%|████▌     | 684/1518 [01:09<01:19, 10.53it/s]"
          ]
        },
        {
          "output_type": "stream",
          "name": "stdout",
          "text": [
            "Feature extracted from ./data/61.png\n",
            "Feature extracted from ./data/1238.png\n",
            "Feature extracted from ./data/1394.png\n"
          ]
        },
        {
          "output_type": "stream",
          "name": "stderr",
          "text": [
            "\rExtracting features:  45%|████▌     | 686/1518 [01:10<01:20, 10.35it/s]"
          ]
        },
        {
          "output_type": "stream",
          "name": "stdout",
          "text": [
            "Feature extracted from ./data/31.png\n",
            "Feature extracted from ./data/627.png\n",
            "Feature extracted from ./data/549.png\n"
          ]
        },
        {
          "output_type": "stream",
          "name": "stderr",
          "text": [
            "Extracting features:  45%|████▌     | 690/1518 [01:10<01:19, 10.40it/s]"
          ]
        },
        {
          "output_type": "stream",
          "name": "stdout",
          "text": [
            "Feature extracted from ./data/287.png\n",
            "Feature extracted from ./data/235.png\n",
            "Feature extracted from ./data/299.png\n"
          ]
        },
        {
          "output_type": "stream",
          "name": "stderr",
          "text": [
            "\rExtracting features:  46%|████▌     | 692/1518 [01:10<01:19, 10.39it/s]"
          ]
        },
        {
          "output_type": "stream",
          "name": "stdout",
          "text": [
            "Feature extracted from ./data/1052.png\n",
            "Feature extracted from ./data/30.png\n",
            "Feature extracted from ./data/1225.png\n"
          ]
        },
        {
          "output_type": "stream",
          "name": "stderr",
          "text": [
            "\rExtracting features:  46%|████▌     | 694/1518 [01:10<01:18, 10.43it/s]"
          ]
        },
        {
          "output_type": "stream",
          "name": "stdout",
          "text": [
            "Feature extracted from ./data/1292.png\n",
            "Feature extracted from ./data/1319.png\n"
          ]
        },
        {
          "output_type": "stream",
          "name": "stderr",
          "text": [
            "Extracting features:  46%|████▌     | 697/1518 [01:11<01:31,  8.96it/s]"
          ]
        },
        {
          "output_type": "stream",
          "name": "stdout",
          "text": [
            "Feature extracted from ./data/446.png\n",
            "Feature extracted from ./data/1017.png\n"
          ]
        },
        {
          "output_type": "stream",
          "name": "stderr",
          "text": [
            "Extracting features:  46%|████▌     | 699/1518 [01:11<01:43,  7.95it/s]"
          ]
        },
        {
          "output_type": "stream",
          "name": "stdout",
          "text": [
            "Feature extracted from ./data/658.png\n",
            "Feature extracted from ./data/493.png\n"
          ]
        },
        {
          "output_type": "stream",
          "name": "stderr",
          "text": [
            "Extracting features:  46%|████▌     | 701/1518 [01:11<01:51,  7.34it/s]"
          ]
        },
        {
          "output_type": "stream",
          "name": "stdout",
          "text": [
            "Feature extracted from ./data/402.png\n",
            "Feature extracted from ./data/636.png\n"
          ]
        },
        {
          "output_type": "stream",
          "name": "stderr",
          "text": [
            "Extracting features:  46%|████▋     | 703/1518 [01:12<01:56,  6.98it/s]"
          ]
        },
        {
          "output_type": "stream",
          "name": "stdout",
          "text": [
            "Feature extracted from ./data/338.png\n",
            "Feature extracted from ./data/1079.png\n"
          ]
        },
        {
          "output_type": "stream",
          "name": "stderr",
          "text": [
            "Extracting features:  46%|████▋     | 705/1518 [01:12<01:59,  6.83it/s]"
          ]
        },
        {
          "output_type": "stream",
          "name": "stdout",
          "text": [
            "Feature extracted from ./data/1077.png\n",
            "Feature extracted from ./data/1399.png\n"
          ]
        },
        {
          "output_type": "stream",
          "name": "stderr",
          "text": [
            "Extracting features:  47%|████▋     | 707/1518 [01:12<02:00,  6.71it/s]"
          ]
        },
        {
          "output_type": "stream",
          "name": "stdout",
          "text": [
            "Feature extracted from ./data/363.png\n",
            "Feature extracted from ./data/520.png\n"
          ]
        },
        {
          "output_type": "stream",
          "name": "stderr",
          "text": [
            "Extracting features:  47%|████▋     | 709/1518 [01:13<01:56,  6.95it/s]"
          ]
        },
        {
          "output_type": "stream",
          "name": "stdout",
          "text": [
            "Feature extracted from ./data/672.png\n",
            "Feature extracted from ./data/913.png\n"
          ]
        },
        {
          "output_type": "stream",
          "name": "stderr",
          "text": [
            "Extracting features:  47%|████▋     | 711/1518 [01:13<01:52,  7.19it/s]"
          ]
        },
        {
          "output_type": "stream",
          "name": "stdout",
          "text": [
            "Feature extracted from ./data/1108.png\n",
            "Feature extracted from ./data/582.png\n"
          ]
        },
        {
          "output_type": "stream",
          "name": "stderr",
          "text": [
            "\rExtracting features:  47%|████▋     | 713/1518 [01:13<01:35,  8.42it/s]"
          ]
        },
        {
          "output_type": "stream",
          "name": "stdout",
          "text": [
            "Feature extracted from ./data/513.png\n",
            "Feature extracted from ./data/1403.png\n",
            "Feature extracted from ./data/216.png\n"
          ]
        },
        {
          "output_type": "stream",
          "name": "stderr",
          "text": [
            "Extracting features:  47%|████▋     | 717/1518 [01:13<01:23,  9.59it/s]"
          ]
        },
        {
          "output_type": "stream",
          "name": "stdout",
          "text": [
            "Feature extracted from ./data/1099.png\n",
            "Feature extracted from ./data/563.png\n",
            "Feature extracted from ./data/1072.png\n"
          ]
        },
        {
          "output_type": "stream",
          "name": "stderr",
          "text": [
            "\rExtracting features:  47%|████▋     | 719/1518 [01:14<01:20,  9.87it/s]"
          ]
        },
        {
          "output_type": "stream",
          "name": "stdout",
          "text": [
            "Feature extracted from ./data/922.png\n",
            "Feature extracted from ./data/680.png\n",
            "Feature extracted from ./data/938.png\n"
          ]
        },
        {
          "output_type": "stream",
          "name": "stderr",
          "text": [
            "Extracting features:  48%|████▊     | 723/1518 [01:14<01:18, 10.06it/s]"
          ]
        },
        {
          "output_type": "stream",
          "name": "stdout",
          "text": [
            "Feature extracted from ./data/1213.png\n",
            "Feature extracted from ./data/1459.png\n",
            "Feature extracted from ./data/1444.png\n"
          ]
        },
        {
          "output_type": "stream",
          "name": "stderr",
          "text": [
            "\rExtracting features:  48%|████▊     | 725/1518 [01:14<01:18, 10.16it/s]"
          ]
        },
        {
          "output_type": "stream",
          "name": "stdout",
          "text": [
            "Feature extracted from ./data/156.png\n",
            "Feature extracted from ./data/145.png\n",
            "Feature extracted from ./data/370.png\n"
          ]
        },
        {
          "output_type": "stream",
          "name": "stderr",
          "text": [
            "Extracting features:  48%|████▊     | 729/1518 [01:15<01:16, 10.36it/s]"
          ]
        },
        {
          "output_type": "stream",
          "name": "stdout",
          "text": [
            "Feature extracted from ./data/1515.png\n",
            "Feature extracted from ./data/52.png\n",
            "Feature extracted from ./data/17.png\n"
          ]
        },
        {
          "output_type": "stream",
          "name": "stderr",
          "text": [
            "\rExtracting features:  48%|████▊     | 731/1518 [01:15<01:15, 10.38it/s]"
          ]
        },
        {
          "output_type": "stream",
          "name": "stdout",
          "text": [
            "Feature extracted from ./data/1037.png\n",
            "Feature extracted from ./data/1144.png\n",
            "Feature extracted from ./data/1118.png\n"
          ]
        },
        {
          "output_type": "stream",
          "name": "stderr",
          "text": [
            "Extracting features:  48%|████▊     | 735/1518 [01:15<01:15, 10.35it/s]"
          ]
        },
        {
          "output_type": "stream",
          "name": "stdout",
          "text": [
            "Feature extracted from ./data/198.png\n",
            "Feature extracted from ./data/1427.png\n",
            "Feature extracted from ./data/273.png\n"
          ]
        },
        {
          "output_type": "stream",
          "name": "stderr",
          "text": [
            "\rExtracting features:  49%|████▊     | 737/1518 [01:15<01:15, 10.37it/s]"
          ]
        },
        {
          "output_type": "stream",
          "name": "stdout",
          "text": [
            "Feature extracted from ./data/430.png\n",
            "Feature extracted from ./data/964.png\n",
            "Feature extracted from ./data/336.png\n"
          ]
        },
        {
          "output_type": "stream",
          "name": "stderr",
          "text": [
            "Extracting features:  49%|████▉     | 741/1518 [01:16<01:14, 10.43it/s]"
          ]
        },
        {
          "output_type": "stream",
          "name": "stdout",
          "text": [
            "Feature extracted from ./data/146.png\n",
            "Feature extracted from ./data/433.png\n",
            "Feature extracted from ./data/576.png\n"
          ]
        },
        {
          "output_type": "stream",
          "name": "stderr",
          "text": [
            "\rExtracting features:  49%|████▉     | 743/1518 [01:16<01:15, 10.31it/s]"
          ]
        },
        {
          "output_type": "stream",
          "name": "stdout",
          "text": [
            "Feature extracted from ./data/1020.png\n",
            "Feature extracted from ./data/1516.png\n",
            "Feature extracted from ./data/1087.png\n"
          ]
        },
        {
          "output_type": "stream",
          "name": "stderr",
          "text": [
            "\rExtracting features:  49%|████▉     | 745/1518 [01:16<01:14, 10.44it/s]"
          ]
        },
        {
          "output_type": "stream",
          "name": "stdout",
          "text": [
            "Feature extracted from ./data/1186.png\n",
            "Feature extracted from ./data/703.png\n"
          ]
        },
        {
          "output_type": "stream",
          "name": "stderr",
          "text": [
            "Extracting features:  49%|████▉     | 749/1518 [01:17<01:14, 10.26it/s]"
          ]
        },
        {
          "output_type": "stream",
          "name": "stdout",
          "text": [
            "Feature extracted from ./data/1472.png\n",
            "Feature extracted from ./data/284.png\n",
            "Feature extracted from ./data/1019.png\n"
          ]
        },
        {
          "output_type": "stream",
          "name": "stderr",
          "text": [
            "\rExtracting features:  49%|████▉     | 751/1518 [01:17<01:14, 10.32it/s]"
          ]
        },
        {
          "output_type": "stream",
          "name": "stdout",
          "text": [
            "Feature extracted from ./data/229.png\n",
            "Feature extracted from ./data/656.png\n",
            "Feature extracted from ./data/408.png\n"
          ]
        },
        {
          "output_type": "stream",
          "name": "stderr",
          "text": [
            "Extracting features:  50%|████▉     | 755/1518 [01:17<01:14, 10.28it/s]"
          ]
        },
        {
          "output_type": "stream",
          "name": "stdout",
          "text": [
            "Feature extracted from ./data/101.png\n",
            "Feature extracted from ./data/1135.png\n",
            "Feature extracted from ./data/824.png\n"
          ]
        },
        {
          "output_type": "stream",
          "name": "stderr",
          "text": [
            "\rExtracting features:  50%|████▉     | 757/1518 [01:17<01:13, 10.32it/s]"
          ]
        },
        {
          "output_type": "stream",
          "name": "stdout",
          "text": [
            "Feature extracted from ./data/993.png\n",
            "Feature extracted from ./data/878.png\n",
            "Feature extracted from ./data/986.png\n"
          ]
        },
        {
          "output_type": "stream",
          "name": "stderr",
          "text": [
            "Extracting features:  50%|█████     | 761/1518 [01:18<01:12, 10.42it/s]"
          ]
        },
        {
          "output_type": "stream",
          "name": "stdout",
          "text": [
            "Feature extracted from ./data/247.png\n",
            "Feature extracted from ./data/630.png\n",
            "Feature extracted from ./data/245.png\n"
          ]
        },
        {
          "output_type": "stream",
          "name": "stderr",
          "text": [
            "\rExtracting features:  50%|█████     | 763/1518 [01:18<01:12, 10.40it/s]"
          ]
        },
        {
          "output_type": "stream",
          "name": "stdout",
          "text": [
            "Feature extracted from ./data/154.png\n",
            "Feature extracted from ./data/1476.png\n",
            "Feature extracted from ./data/766.png\n"
          ]
        },
        {
          "output_type": "stream",
          "name": "stderr",
          "text": [
            "Extracting features:  51%|█████     | 767/1518 [01:18<01:12, 10.34it/s]"
          ]
        },
        {
          "output_type": "stream",
          "name": "stdout",
          "text": [
            "Feature extracted from ./data/196.png\n",
            "Feature extracted from ./data/999.png\n",
            "Feature extracted from ./data/213.png\n"
          ]
        },
        {
          "output_type": "stream",
          "name": "stderr",
          "text": [
            "\rExtracting features:  51%|█████     | 769/1518 [01:18<01:12, 10.35it/s]"
          ]
        },
        {
          "output_type": "stream",
          "name": "stdout",
          "text": [
            "Feature extracted from ./data/41.png\n",
            "Feature extracted from ./data/1212.png\n",
            "Feature extracted from ./data/230.png\n"
          ]
        },
        {
          "output_type": "stream",
          "name": "stderr",
          "text": [
            "Extracting features:  51%|█████     | 773/1518 [01:19<01:11, 10.44it/s]"
          ]
        },
        {
          "output_type": "stream",
          "name": "stdout",
          "text": [
            "Feature extracted from ./data/738.png\n",
            "Feature extracted from ./data/1048.png\n",
            "Feature extracted from ./data/786.png\n"
          ]
        },
        {
          "output_type": "stream",
          "name": "stderr",
          "text": [
            "\rExtracting features:  51%|█████     | 775/1518 [01:19<01:11, 10.36it/s]"
          ]
        },
        {
          "output_type": "stream",
          "name": "stdout",
          "text": [
            "Feature extracted from ./data/152.png\n",
            "Feature extracted from ./data/729.png\n",
            "Feature extracted from ./data/966.png\n"
          ]
        },
        {
          "output_type": "stream",
          "name": "stderr",
          "text": [
            "Extracting features:  51%|█████▏    | 779/1518 [01:19<01:10, 10.47it/s]"
          ]
        },
        {
          "output_type": "stream",
          "name": "stdout",
          "text": [
            "Feature extracted from ./data/10.png\n",
            "Feature extracted from ./data/385.png\n",
            "Feature extracted from ./data/929.png\n"
          ]
        },
        {
          "output_type": "stream",
          "name": "stderr",
          "text": [
            "\rExtracting features:  51%|█████▏    | 781/1518 [01:20<01:10, 10.47it/s]"
          ]
        },
        {
          "output_type": "stream",
          "name": "stdout",
          "text": [
            "Feature extracted from ./data/495.png\n",
            "Feature extracted from ./data/558.png\n",
            "Feature extracted from ./data/440.png\n"
          ]
        },
        {
          "output_type": "stream",
          "name": "stderr",
          "text": [
            "Extracting features:  52%|█████▏    | 785/1518 [01:20<01:10, 10.38it/s]"
          ]
        },
        {
          "output_type": "stream",
          "name": "stdout",
          "text": [
            "Feature extracted from ./data/939.png\n",
            "Feature extracted from ./data/836.png\n",
            "Feature extracted from ./data/1205.png\n"
          ]
        },
        {
          "output_type": "stream",
          "name": "stderr",
          "text": [
            "\rExtracting features:  52%|█████▏    | 787/1518 [01:20<01:10, 10.44it/s]"
          ]
        },
        {
          "output_type": "stream",
          "name": "stdout",
          "text": [
            "Feature extracted from ./data/8.png\n",
            "Feature extracted from ./data/776.png\n",
            "Feature extracted from ./data/140.png\n"
          ]
        },
        {
          "output_type": "stream",
          "name": "stderr",
          "text": [
            "Extracting features:  52%|█████▏    | 791/1518 [01:21<01:09, 10.52it/s]"
          ]
        },
        {
          "output_type": "stream",
          "name": "stdout",
          "text": [
            "Feature extracted from ./data/852.png\n",
            "Feature extracted from ./data/13.png\n",
            "Feature extracted from ./data/1267.png\n"
          ]
        },
        {
          "output_type": "stream",
          "name": "stderr",
          "text": [
            "\rExtracting features:  52%|█████▏    | 793/1518 [01:21<01:09, 10.49it/s]"
          ]
        },
        {
          "output_type": "stream",
          "name": "stdout",
          "text": [
            "Feature extracted from ./data/588.png\n",
            "Feature extracted from ./data/421.png\n",
            "Feature extracted from ./data/711.png\n"
          ]
        },
        {
          "output_type": "stream",
          "name": "stderr",
          "text": [
            "Extracting features:  53%|█████▎    | 797/1518 [01:21<01:09, 10.32it/s]"
          ]
        },
        {
          "output_type": "stream",
          "name": "stdout",
          "text": [
            "Feature extracted from ./data/329.png\n",
            "Feature extracted from ./data/946.png\n",
            "Feature extracted from ./data/436.png\n"
          ]
        },
        {
          "output_type": "stream",
          "name": "stderr",
          "text": [
            "\rExtracting features:  53%|█████▎    | 799/1518 [01:21<01:09, 10.36it/s]"
          ]
        },
        {
          "output_type": "stream",
          "name": "stdout",
          "text": [
            "Feature extracted from ./data/359.png\n",
            "Feature extracted from ./data/1233.png\n",
            "Feature extracted from ./data/734.png\n"
          ]
        },
        {
          "output_type": "stream",
          "name": "stderr",
          "text": [
            "Extracting features:  53%|█████▎    | 803/1518 [01:22<01:09, 10.27it/s]"
          ]
        },
        {
          "output_type": "stream",
          "name": "stdout",
          "text": [
            "Feature extracted from ./data/491.png\n",
            "Feature extracted from ./data/801.png\n",
            "Feature extracted from ./data/741.png\n"
          ]
        },
        {
          "output_type": "stream",
          "name": "stderr",
          "text": [
            "\rExtracting features:  53%|█████▎    | 805/1518 [01:22<01:09, 10.25it/s]"
          ]
        },
        {
          "output_type": "stream",
          "name": "stdout",
          "text": [
            "Feature extracted from ./data/962.png\n",
            "Feature extracted from ./data/923.png\n",
            "Feature extracted from ./data/1026.png\n"
          ]
        },
        {
          "output_type": "stream",
          "name": "stderr",
          "text": [
            "Extracting features:  53%|█████▎    | 809/1518 [01:22<01:09, 10.26it/s]"
          ]
        },
        {
          "output_type": "stream",
          "name": "stdout",
          "text": [
            "Feature extracted from ./data/645.png\n",
            "Feature extracted from ./data/1480.png\n",
            "Feature extracted from ./data/842.png\n"
          ]
        },
        {
          "output_type": "stream",
          "name": "stderr",
          "text": [
            "\rExtracting features:  53%|█████▎    | 811/1518 [01:23<01:08, 10.34it/s]"
          ]
        },
        {
          "output_type": "stream",
          "name": "stdout",
          "text": [
            "Feature extracted from ./data/1288.png\n",
            "Feature extracted from ./data/485.png\n",
            "Feature extracted from ./data/707.png\n"
          ]
        },
        {
          "output_type": "stream",
          "name": "stderr",
          "text": [
            "\rExtracting features:  54%|█████▎    | 813/1518 [01:23<01:08, 10.34it/s]"
          ]
        },
        {
          "output_type": "stream",
          "name": "stdout",
          "text": [
            "Feature extracted from ./data/464.png\n",
            "Feature extracted from ./data/1497.png\n"
          ]
        },
        {
          "output_type": "stream",
          "name": "stderr",
          "text": [
            "\rExtracting features:  54%|█████▎    | 815/1518 [01:23<01:10,  9.98it/s]"
          ]
        },
        {
          "output_type": "stream",
          "name": "stdout",
          "text": [
            "Feature extracted from ./data/532.png\n",
            "Feature extracted from ./data/219.png\n"
          ]
        },
        {
          "output_type": "stream",
          "name": "stderr",
          "text": [
            "Extracting features:  54%|█████▍    | 818/1518 [01:23<01:20,  8.70it/s]"
          ]
        },
        {
          "output_type": "stream",
          "name": "stdout",
          "text": [
            "Feature extracted from ./data/1502.png\n",
            "Feature extracted from ./data/416.png\n"
          ]
        },
        {
          "output_type": "stream",
          "name": "stderr",
          "text": [
            "Extracting features:  54%|█████▍    | 820/1518 [01:24<01:21,  8.57it/s]"
          ]
        },
        {
          "output_type": "stream",
          "name": "stdout",
          "text": [
            "Feature extracted from ./data/812.png\n",
            "Feature extracted from ./data/1397.png\n"
          ]
        },
        {
          "output_type": "stream",
          "name": "stderr",
          "text": [
            "Extracting features:  54%|█████▍    | 822/1518 [01:24<01:22,  8.39it/s]"
          ]
        },
        {
          "output_type": "stream",
          "name": "stdout",
          "text": [
            "Feature extracted from ./data/609.png\n",
            "Feature extracted from ./data/521.png\n"
          ]
        },
        {
          "output_type": "stream",
          "name": "stderr",
          "text": [
            "Extracting features:  54%|█████▍    | 824/1518 [01:24<01:22,  8.37it/s]"
          ]
        },
        {
          "output_type": "stream",
          "name": "stdout",
          "text": [
            "Feature extracted from ./data/700.png\n",
            "Feature extracted from ./data/83.png\n"
          ]
        },
        {
          "output_type": "stream",
          "name": "stderr",
          "text": [
            "Extracting features:  54%|█████▍    | 826/1518 [01:24<01:33,  7.39it/s]"
          ]
        },
        {
          "output_type": "stream",
          "name": "stdout",
          "text": [
            "Feature extracted from ./data/250.png\n",
            "Feature extracted from ./data/975.png\n"
          ]
        },
        {
          "output_type": "stream",
          "name": "stderr",
          "text": [
            "Extracting features:  55%|█████▍    | 828/1518 [01:25<01:38,  7.03it/s]"
          ]
        },
        {
          "output_type": "stream",
          "name": "stdout",
          "text": [
            "Feature extracted from ./data/1361.png\n",
            "Feature extracted from ./data/351.png\n"
          ]
        },
        {
          "output_type": "stream",
          "name": "stderr",
          "text": [
            "Extracting features:  55%|█████▍    | 830/1518 [01:25<01:40,  6.86it/s]"
          ]
        },
        {
          "output_type": "stream",
          "name": "stdout",
          "text": [
            "Feature extracted from ./data/915.png\n",
            "Feature extracted from ./data/816.png\n"
          ]
        },
        {
          "output_type": "stream",
          "name": "stderr",
          "text": [
            "Extracting features:  55%|█████▍    | 832/1518 [01:25<01:42,  6.70it/s]"
          ]
        },
        {
          "output_type": "stream",
          "name": "stdout",
          "text": [
            "Feature extracted from ./data/565.png\n",
            "Feature extracted from ./data/726.png\n"
          ]
        },
        {
          "output_type": "stream",
          "name": "stderr",
          "text": [
            "Extracting features:  55%|█████▍    | 834/1518 [01:26<01:41,  6.77it/s]"
          ]
        },
        {
          "output_type": "stream",
          "name": "stdout",
          "text": [
            "Feature extracted from ./data/429.png\n",
            "Feature extracted from ./data/937.png\n"
          ]
        },
        {
          "output_type": "stream",
          "name": "stderr",
          "text": [
            "\rExtracting features:  55%|█████▌    | 836/1518 [01:26<01:24,  8.03it/s]"
          ]
        },
        {
          "output_type": "stream",
          "name": "stdout",
          "text": [
            "Feature extracted from ./data/905.png\n",
            "Feature extracted from ./data/620.png\n",
            "Feature extracted from ./data/1492.png\n"
          ]
        },
        {
          "output_type": "stream",
          "name": "stderr",
          "text": [
            "Extracting features:  55%|█████▌    | 840/1518 [01:26<01:12,  9.36it/s]"
          ]
        },
        {
          "output_type": "stream",
          "name": "stdout",
          "text": [
            "Feature extracted from ./data/1122.png\n",
            "Feature extracted from ./data/969.png\n",
            "Feature extracted from ./data/1499.png\n"
          ]
        },
        {
          "output_type": "stream",
          "name": "stderr",
          "text": [
            "Extracting features:  56%|█████▌    | 843/1518 [01:26<01:08,  9.79it/s]"
          ]
        },
        {
          "output_type": "stream",
          "name": "stdout",
          "text": [
            "Feature extracted from ./data/647.png\n",
            "Feature extracted from ./data/88.png\n",
            "Feature extracted from ./data/383.png\n"
          ]
        },
        {
          "output_type": "stream",
          "name": "stderr",
          "text": [
            "\rExtracting features:  56%|█████▌    | 845/1518 [01:27<01:07, 10.02it/s]"
          ]
        },
        {
          "output_type": "stream",
          "name": "stdout",
          "text": [
            "Feature extracted from ./data/44.png\n",
            "Feature extracted from ./data/256.png\n",
            "Feature extracted from ./data/1490.png\n"
          ]
        },
        {
          "output_type": "stream",
          "name": "stderr",
          "text": [
            "Extracting features:  56%|█████▌    | 849/1518 [01:27<01:05, 10.25it/s]"
          ]
        },
        {
          "output_type": "stream",
          "name": "stdout",
          "text": [
            "Feature extracted from ./data/514.png\n",
            "Feature extracted from ./data/823.png\n",
            "Feature extracted from ./data/1022.png\n"
          ]
        },
        {
          "output_type": "stream",
          "name": "stderr",
          "text": [
            "\rExtracting features:  56%|█████▌    | 851/1518 [01:27<01:04, 10.28it/s]"
          ]
        },
        {
          "output_type": "stream",
          "name": "stdout",
          "text": [
            "Feature extracted from ./data/323.png\n",
            "Feature extracted from ./data/1154.png\n"
          ]
        },
        {
          "output_type": "stream",
          "name": "stderr",
          "text": [
            "\rExtracting features:  56%|█████▌    | 853/1518 [01:27<01:09,  9.51it/s]"
          ]
        },
        {
          "output_type": "stream",
          "name": "stdout",
          "text": [
            "Feature extracted from ./data/343.png\n",
            "Feature extracted from ./data/1241.png\n"
          ]
        },
        {
          "output_type": "stream",
          "name": "stderr",
          "text": [
            "\rExtracting features:  56%|█████▋    | 855/1518 [01:28<01:07,  9.79it/s]"
          ]
        },
        {
          "output_type": "stream",
          "name": "stdout",
          "text": [
            "Feature extracted from ./data/1126.png\n",
            "Feature extracted from ./data/1075.png\n",
            "Feature extracted from ./data/957.png\n"
          ]
        },
        {
          "output_type": "stream",
          "name": "stderr",
          "text": [
            "Extracting features:  57%|█████▋    | 859/1518 [01:28<01:04, 10.21it/s]"
          ]
        },
        {
          "output_type": "stream",
          "name": "stdout",
          "text": [
            "Feature extracted from ./data/1201.png\n",
            "Feature extracted from ./data/635.png\n",
            "Feature extracted from ./data/1163.png\n"
          ]
        },
        {
          "output_type": "stream",
          "name": "stderr",
          "text": [
            "\rExtracting features:  57%|█████▋    | 861/1518 [01:28<01:04, 10.24it/s]"
          ]
        },
        {
          "output_type": "stream",
          "name": "stdout",
          "text": [
            "Feature extracted from ./data/459.png\n",
            "Feature extracted from ./data/1060.png\n",
            "Feature extracted from ./data/1165.png\n"
          ]
        },
        {
          "output_type": "stream",
          "name": "stderr",
          "text": [
            "Extracting features:  57%|█████▋    | 865/1518 [01:29<01:03, 10.35it/s]"
          ]
        },
        {
          "output_type": "stream",
          "name": "stdout",
          "text": [
            "Feature extracted from ./data/418.png\n",
            "Feature extracted from ./data/141.png\n",
            "Feature extracted from ./data/716.png\n"
          ]
        },
        {
          "output_type": "stream",
          "name": "stderr",
          "text": [
            "\rExtracting features:  57%|█████▋    | 867/1518 [01:29<01:02, 10.38it/s]"
          ]
        },
        {
          "output_type": "stream",
          "name": "stdout",
          "text": [
            "Feature extracted from ./data/1418.png\n",
            "Feature extracted from ./data/218.png\n",
            "Feature extracted from ./data/193.png\n"
          ]
        },
        {
          "output_type": "stream",
          "name": "stderr",
          "text": [
            "Extracting features:  57%|█████▋    | 871/1518 [01:29<01:01, 10.46it/s]"
          ]
        },
        {
          "output_type": "stream",
          "name": "stdout",
          "text": [
            "Feature extracted from ./data/14.png\n",
            "Feature extracted from ./data/594.png\n",
            "Feature extracted from ./data/228.png\n"
          ]
        },
        {
          "output_type": "stream",
          "name": "stderr",
          "text": [
            "\rExtracting features:  58%|█████▊    | 873/1518 [01:29<01:02, 10.31it/s]"
          ]
        },
        {
          "output_type": "stream",
          "name": "stdout",
          "text": [
            "Feature extracted from ./data/262.png\n",
            "Feature extracted from ./data/381.png\n",
            "Feature extracted from ./data/879.png\n"
          ]
        },
        {
          "output_type": "stream",
          "name": "stderr",
          "text": [
            "Extracting features:  58%|█████▊    | 877/1518 [01:30<01:01, 10.46it/s]"
          ]
        },
        {
          "output_type": "stream",
          "name": "stdout",
          "text": [
            "Feature extracted from ./data/1111.png\n",
            "Feature extracted from ./data/916.png\n",
            "Feature extracted from ./data/116.png\n"
          ]
        },
        {
          "output_type": "stream",
          "name": "stderr",
          "text": [
            "\rExtracting features:  58%|█████▊    | 879/1518 [01:30<01:01, 10.45it/s]"
          ]
        },
        {
          "output_type": "stream",
          "name": "stdout",
          "text": [
            "Feature extracted from ./data/780.png\n",
            "Feature extracted from ./data/118.png\n",
            "Feature extracted from ./data/980.png\n"
          ]
        },
        {
          "output_type": "stream",
          "name": "stderr",
          "text": [
            "Extracting features:  58%|█████▊    | 883/1518 [01:30<01:00, 10.54it/s]"
          ]
        },
        {
          "output_type": "stream",
          "name": "stdout",
          "text": [
            "Feature extracted from ./data/632.png\n",
            "Feature extracted from ./data/321.png\n",
            "Feature extracted from ./data/194.png\n"
          ]
        },
        {
          "output_type": "stream",
          "name": "stderr",
          "text": [
            "\rExtracting features:  58%|█████▊    | 885/1518 [01:31<01:01, 10.37it/s]"
          ]
        },
        {
          "output_type": "stream",
          "name": "stdout",
          "text": [
            "Feature extracted from ./data/1370.png\n",
            "Feature extracted from ./data/569.png\n",
            "Feature extracted from ./data/788.png\n"
          ]
        },
        {
          "output_type": "stream",
          "name": "stderr",
          "text": [
            "Extracting features:  59%|█████▊    | 889/1518 [01:31<01:00, 10.43it/s]"
          ]
        },
        {
          "output_type": "stream",
          "name": "stdout",
          "text": [
            "Feature extracted from ./data/784.png\n",
            "Feature extracted from ./data/34.png\n",
            "Feature extracted from ./data/1202.png\n"
          ]
        },
        {
          "output_type": "stream",
          "name": "stderr",
          "text": [
            "\rExtracting features:  59%|█████▊    | 891/1518 [01:31<01:00, 10.42it/s]"
          ]
        },
        {
          "output_type": "stream",
          "name": "stdout",
          "text": [
            "Feature extracted from ./data/201.png\n",
            "Feature extracted from ./data/1481.png\n",
            "Feature extracted from ./data/834.png\n"
          ]
        },
        {
          "output_type": "stream",
          "name": "stderr",
          "text": [
            "Extracting features:  59%|█████▉    | 895/1518 [01:32<01:00, 10.30it/s]"
          ]
        },
        {
          "output_type": "stream",
          "name": "stdout",
          "text": [
            "Feature extracted from ./data/212.png\n",
            "Feature extracted from ./data/401.png\n",
            "Feature extracted from ./data/489.png\n"
          ]
        },
        {
          "output_type": "stream",
          "name": "stderr",
          "text": [
            "\rExtracting features:  59%|█████▉    | 897/1518 [01:32<01:00, 10.35it/s]"
          ]
        },
        {
          "output_type": "stream",
          "name": "stdout",
          "text": [
            "Feature extracted from ./data/671.png\n",
            "Feature extracted from ./data/633.png\n",
            "Feature extracted from ./data/1149.png\n"
          ]
        },
        {
          "output_type": "stream",
          "name": "stderr",
          "text": [
            "Extracting features:  59%|█████▉    | 901/1518 [01:32<00:59, 10.43it/s]"
          ]
        },
        {
          "output_type": "stream",
          "name": "stdout",
          "text": [
            "Feature extracted from ./data/1381.png\n",
            "Feature extracted from ./data/615.png\n",
            "Feature extracted from ./data/1138.png\n"
          ]
        },
        {
          "output_type": "stream",
          "name": "stderr",
          "text": [
            "\rExtracting features:  59%|█████▉    | 903/1518 [01:32<00:59, 10.39it/s]"
          ]
        },
        {
          "output_type": "stream",
          "name": "stdout",
          "text": [
            "Feature extracted from ./data/771.png\n",
            "Feature extracted from ./data/69.png\n",
            "Feature extracted from ./data/1477.png\n"
          ]
        },
        {
          "output_type": "stream",
          "name": "stderr",
          "text": [
            "\rExtracting features:  60%|█████▉    | 905/1518 [01:32<00:59, 10.36it/s]"
          ]
        },
        {
          "output_type": "stream",
          "name": "stdout",
          "text": [
            "Feature extracted from ./data/203.png\n",
            "Feature extracted from ./data/1377.png\n"
          ]
        },
        {
          "output_type": "stream",
          "name": "stderr",
          "text": [
            "Extracting features:  60%|█████▉    | 909/1518 [01:33<00:59, 10.29it/s]"
          ]
        },
        {
          "output_type": "stream",
          "name": "stdout",
          "text": [
            "Feature extracted from ./data/322.png\n",
            "Feature extracted from ./data/996.png\n",
            "Feature extracted from ./data/972.png\n"
          ]
        },
        {
          "output_type": "stream",
          "name": "stderr",
          "text": [
            "\rExtracting features:  60%|██████    | 911/1518 [01:33<01:00,  9.97it/s]"
          ]
        },
        {
          "output_type": "stream",
          "name": "stdout",
          "text": [
            "Feature extracted from ./data/1063.png\n",
            "Feature extracted from ./data/507.png\n"
          ]
        },
        {
          "output_type": "stream",
          "name": "stderr",
          "text": [
            "\rExtracting features:  60%|██████    | 913/1518 [01:33<01:00, 10.07it/s]"
          ]
        },
        {
          "output_type": "stream",
          "name": "stdout",
          "text": [
            "Feature extracted from ./data/488.png\n",
            "Feature extracted from ./data/761.png\n",
            "Feature extracted from ./data/355.png\n"
          ]
        },
        {
          "output_type": "stream",
          "name": "stderr",
          "text": [
            "Extracting features:  60%|██████    | 917/1518 [01:34<00:59, 10.06it/s]"
          ]
        },
        {
          "output_type": "stream",
          "name": "stdout",
          "text": [
            "Feature extracted from ./data/188.png\n",
            "Feature extracted from ./data/1304.png\n",
            "Feature extracted from ./data/95.png\n"
          ]
        },
        {
          "output_type": "stream",
          "name": "stderr",
          "text": [
            "\rExtracting features:  61%|██████    | 919/1518 [01:34<00:58, 10.16it/s]"
          ]
        },
        {
          "output_type": "stream",
          "name": "stdout",
          "text": [
            "Feature extracted from ./data/822.png\n",
            "Feature extracted from ./data/1365.png\n",
            "Feature extracted from ./data/1405.png\n"
          ]
        },
        {
          "output_type": "stream",
          "name": "stderr",
          "text": [
            "Extracting features:  61%|██████    | 923/1518 [01:34<00:57, 10.28it/s]"
          ]
        },
        {
          "output_type": "stream",
          "name": "stdout",
          "text": [
            "Feature extracted from ./data/973.png\n",
            "Feature extracted from ./data/438.png\n",
            "Feature extracted from ./data/317.png\n"
          ]
        },
        {
          "output_type": "stream",
          "name": "stderr",
          "text": [
            "\rExtracting features:  61%|██████    | 925/1518 [01:34<00:57, 10.30it/s]"
          ]
        },
        {
          "output_type": "stream",
          "name": "stdout",
          "text": [
            "Feature extracted from ./data/1360.png\n",
            "Feature extracted from ./data/928.png\n",
            "Feature extracted from ./data/653.png\n"
          ]
        },
        {
          "output_type": "stream",
          "name": "stderr",
          "text": [
            "Extracting features:  61%|██████    | 929/1518 [01:35<00:57, 10.32it/s]"
          ]
        },
        {
          "output_type": "stream",
          "name": "stdout",
          "text": [
            "Feature extracted from ./data/309.png\n",
            "Feature extracted from ./data/1168.png\n",
            "Feature extracted from ./data/1409.png\n"
          ]
        },
        {
          "output_type": "stream",
          "name": "stderr",
          "text": [
            "\rExtracting features:  61%|██████▏   | 931/1518 [01:35<00:57, 10.30it/s]"
          ]
        },
        {
          "output_type": "stream",
          "name": "stdout",
          "text": [
            "Feature extracted from ./data/1086.png\n",
            "Feature extracted from ./data/794.png\n",
            "Feature extracted from ./data/850.png\n"
          ]
        },
        {
          "output_type": "stream",
          "name": "stderr",
          "text": [
            "Extracting features:  62%|██████▏   | 935/1518 [01:35<00:56, 10.39it/s]"
          ]
        },
        {
          "output_type": "stream",
          "name": "stdout",
          "text": [
            "Feature extracted from ./data/376.png\n",
            "Feature extracted from ./data/756.png\n",
            "Feature extracted from ./data/1498.png\n"
          ]
        },
        {
          "output_type": "stream",
          "name": "stderr",
          "text": [
            "\rExtracting features:  62%|██████▏   | 937/1518 [01:36<00:59,  9.84it/s]"
          ]
        },
        {
          "output_type": "stream",
          "name": "stdout",
          "text": [
            "Feature extracted from ./data/1093.png\n",
            "Feature extracted from ./data/483.png\n"
          ]
        },
        {
          "output_type": "stream",
          "name": "stderr",
          "text": [
            "Extracting features:  62%|██████▏   | 939/1518 [01:36<01:02,  9.21it/s]"
          ]
        },
        {
          "output_type": "stream",
          "name": "stdout",
          "text": [
            "Feature extracted from ./data/405.png\n",
            "Feature extracted from ./data/851.png\n"
          ]
        },
        {
          "output_type": "stream",
          "name": "stderr",
          "text": [
            "Extracting features:  62%|██████▏   | 941/1518 [01:36<01:05,  8.78it/s]"
          ]
        },
        {
          "output_type": "stream",
          "name": "stdout",
          "text": [
            "Feature extracted from ./data/747.png\n",
            "Feature extracted from ./data/1268.png\n"
          ]
        },
        {
          "output_type": "stream",
          "name": "stderr",
          "text": [
            "Extracting features:  62%|██████▏   | 943/1518 [01:36<01:06,  8.61it/s]"
          ]
        },
        {
          "output_type": "stream",
          "name": "stdout",
          "text": [
            "Feature extracted from ./data/182.png\n",
            "Feature extracted from ./data/790.png\n"
          ]
        },
        {
          "output_type": "stream",
          "name": "stderr",
          "text": [
            "Extracting features:  62%|██████▏   | 945/1518 [01:37<01:07,  8.44it/s]"
          ]
        },
        {
          "output_type": "stream",
          "name": "stdout",
          "text": [
            "Feature extracted from ./data/5.png\n",
            "Feature extracted from ./data/1134.png\n"
          ]
        },
        {
          "output_type": "stream",
          "name": "stderr",
          "text": [
            "Extracting features:  62%|██████▏   | 947/1518 [01:37<01:15,  7.57it/s]"
          ]
        },
        {
          "output_type": "stream",
          "name": "stdout",
          "text": [
            "Feature extracted from ./data/1350.png\n",
            "Feature extracted from ./data/175.png\n"
          ]
        },
        {
          "output_type": "stream",
          "name": "stderr",
          "text": [
            "Extracting features:  63%|██████▎   | 949/1518 [01:37<01:20,  7.06it/s]"
          ]
        },
        {
          "output_type": "stream",
          "name": "stdout",
          "text": [
            "Feature extracted from ./data/1231.png\n",
            "Feature extracted from ./data/460.png\n"
          ]
        },
        {
          "output_type": "stream",
          "name": "stderr",
          "text": [
            "Extracting features:  63%|██████▎   | 951/1518 [01:37<01:22,  6.86it/s]"
          ]
        },
        {
          "output_type": "stream",
          "name": "stdout",
          "text": [
            "Feature extracted from ./data/109.png\n",
            "Feature extracted from ./data/378.png\n"
          ]
        },
        {
          "output_type": "stream",
          "name": "stderr",
          "text": [
            "Extracting features:  63%|██████▎   | 953/1518 [01:38<01:24,  6.69it/s]"
          ]
        },
        {
          "output_type": "stream",
          "name": "stdout",
          "text": [
            "Feature extracted from ./data/382.png\n",
            "Feature extracted from ./data/896.png\n"
          ]
        },
        {
          "output_type": "stream",
          "name": "stderr",
          "text": [
            "Extracting features:  63%|██████▎   | 955/1518 [01:38<01:24,  6.69it/s]"
          ]
        },
        {
          "output_type": "stream",
          "name": "stdout",
          "text": [
            "Feature extracted from ./data/414.png\n",
            "Feature extracted from ./data/792.png\n"
          ]
        },
        {
          "output_type": "stream",
          "name": "stderr",
          "text": [
            "Extracting features:  63%|██████▎   | 958/1518 [01:38<01:07,  8.24it/s]"
          ]
        },
        {
          "output_type": "stream",
          "name": "stdout",
          "text": [
            "Feature extracted from ./data/342.png\n",
            "Feature extracted from ./data/1120.png\n",
            "Feature extracted from ./data/432.png\n"
          ]
        },
        {
          "output_type": "stream",
          "name": "stderr",
          "text": [
            "Extracting features:  63%|██████▎   | 961/1518 [01:39<01:01,  9.07it/s]"
          ]
        },
        {
          "output_type": "stream",
          "name": "stdout",
          "text": [
            "Feature extracted from ./data/68.png\n",
            "Feature extracted from ./data/1507.png\n",
            "Feature extracted from ./data/789.png\n"
          ]
        },
        {
          "output_type": "stream",
          "name": "stderr",
          "text": [
            "\rExtracting features:  63%|██████▎   | 963/1518 [01:39<00:58,  9.56it/s]"
          ]
        },
        {
          "output_type": "stream",
          "name": "stdout",
          "text": [
            "Feature extracted from ./data/1321.png\n",
            "Feature extracted from ./data/233.png\n",
            "Feature extracted from ./data/254.png\n"
          ]
        },
        {
          "output_type": "stream",
          "name": "stderr",
          "text": [
            "Extracting features:  64%|██████▎   | 966/1518 [01:39<00:55,  9.88it/s]"
          ]
        },
        {
          "output_type": "stream",
          "name": "stdout",
          "text": [
            "Feature extracted from ./data/1252.png\n",
            "Feature extracted from ./data/873.png\n",
            "Feature extracted from ./data/1300.png\n"
          ]
        },
        {
          "output_type": "stream",
          "name": "stderr",
          "text": [
            "Extracting features:  64%|██████▍   | 970/1518 [01:40<00:53, 10.28it/s]"
          ]
        },
        {
          "output_type": "stream",
          "name": "stdout",
          "text": [
            "Feature extracted from ./data/1244.png\n",
            "Feature extracted from ./data/217.png\n",
            "Feature extracted from ./data/1426.png\n"
          ]
        },
        {
          "output_type": "stream",
          "name": "stderr",
          "text": [
            "\rExtracting features:  64%|██████▍   | 972/1518 [01:40<00:53, 10.13it/s]"
          ]
        },
        {
          "output_type": "stream",
          "name": "stdout",
          "text": [
            "Feature extracted from ./data/854.png\n",
            "Feature extracted from ./data/944.png\n",
            "Feature extracted from ./data/1137.png\n"
          ]
        },
        {
          "output_type": "stream",
          "name": "stderr",
          "text": [
            "Extracting features:  64%|██████▍   | 976/1518 [01:40<00:52, 10.36it/s]"
          ]
        },
        {
          "output_type": "stream",
          "name": "stdout",
          "text": [
            "Feature extracted from ./data/1217.png\n",
            "Feature extracted from ./data/272.png\n",
            "Feature extracted from ./data/103.png\n"
          ]
        },
        {
          "output_type": "stream",
          "name": "stderr",
          "text": [
            "\rExtracting features:  64%|██████▍   | 978/1518 [01:40<00:52, 10.36it/s]"
          ]
        },
        {
          "output_type": "stream",
          "name": "stdout",
          "text": [
            "Feature extracted from ./data/295.png\n",
            "Feature extracted from ./data/70.png\n",
            "Feature extracted from ./data/1159.png\n"
          ]
        },
        {
          "output_type": "stream",
          "name": "stderr",
          "text": [
            "Extracting features:  65%|██████▍   | 982/1518 [01:41<00:51, 10.47it/s]"
          ]
        },
        {
          "output_type": "stream",
          "name": "stdout",
          "text": [
            "Feature extracted from ./data/16.png\n",
            "Feature extracted from ./data/1414.png\n",
            "Feature extracted from ./data/584.png\n"
          ]
        },
        {
          "output_type": "stream",
          "name": "stderr",
          "text": [
            "\rExtracting features:  65%|██████▍   | 984/1518 [01:41<00:51, 10.36it/s]"
          ]
        },
        {
          "output_type": "stream",
          "name": "stdout",
          "text": [
            "Feature extracted from ./data/223.png\n",
            "Feature extracted from ./data/476.png\n",
            "Feature extracted from ./data/177.png\n"
          ]
        },
        {
          "output_type": "stream",
          "name": "stderr",
          "text": [
            "Extracting features:  65%|██████▌   | 988/1518 [01:41<00:50, 10.50it/s]"
          ]
        },
        {
          "output_type": "stream",
          "name": "stdout",
          "text": [
            "Feature extracted from ./data/515.png\n",
            "Feature extracted from ./data/1175.png\n",
            "Feature extracted from ./data/32.png\n"
          ]
        },
        {
          "output_type": "stream",
          "name": "stderr",
          "text": [
            "\rExtracting features:  65%|██████▌   | 990/1518 [01:41<00:50, 10.49it/s]"
          ]
        },
        {
          "output_type": "stream",
          "name": "stdout",
          "text": [
            "Feature extracted from ./data/1190.png\n",
            "Feature extracted from ./data/862.png\n",
            "Feature extracted from ./data/155.png\n"
          ]
        },
        {
          "output_type": "stream",
          "name": "stderr",
          "text": [
            "Extracting features:  65%|██████▌   | 994/1518 [01:42<00:50, 10.37it/s]"
          ]
        },
        {
          "output_type": "stream",
          "name": "stdout",
          "text": [
            "Feature extracted from ./data/115.png\n",
            "Feature extracted from ./data/869.png\n",
            "Feature extracted from ./data/763.png\n"
          ]
        },
        {
          "output_type": "stream",
          "name": "stderr",
          "text": [
            "\rExtracting features:  66%|██████▌   | 996/1518 [01:42<00:50, 10.38it/s]"
          ]
        },
        {
          "output_type": "stream",
          "name": "stdout",
          "text": [
            "Feature extracted from ./data/1318.png\n",
            "Feature extracted from ./data/740.png\n",
            "Feature extracted from ./data/551.png\n"
          ]
        },
        {
          "output_type": "stream",
          "name": "stderr",
          "text": [
            "Extracting features:  66%|██████▌   | 1000/1518 [01:42<00:49, 10.44it/s]"
          ]
        },
        {
          "output_type": "stream",
          "name": "stdout",
          "text": [
            "Feature extracted from ./data/503.png\n",
            "Feature extracted from ./data/1447.png\n",
            "Feature extracted from ./data/168.png\n"
          ]
        },
        {
          "output_type": "stream",
          "name": "stderr",
          "text": [
            "\rExtracting features:  66%|██████▌   | 1002/1518 [01:43<00:49, 10.42it/s]"
          ]
        },
        {
          "output_type": "stream",
          "name": "stdout",
          "text": [
            "Feature extracted from ./data/708.png\n",
            "Feature extracted from ./data/171.png\n",
            "Feature extracted from ./data/36.png\n"
          ]
        },
        {
          "output_type": "stream",
          "name": "stderr",
          "text": [
            "Extracting features:  66%|██████▋   | 1006/1518 [01:43<00:49, 10.31it/s]"
          ]
        },
        {
          "output_type": "stream",
          "name": "stdout",
          "text": [
            "Feature extracted from ./data/19.png\n",
            "Feature extracted from ./data/65.png\n",
            "Feature extracted from ./data/1234.png\n"
          ]
        },
        {
          "output_type": "stream",
          "name": "stderr",
          "text": [
            "\rExtracting features:  66%|██████▋   | 1008/1518 [01:43<00:49, 10.30it/s]"
          ]
        },
        {
          "output_type": "stream",
          "name": "stdout",
          "text": [
            "Feature extracted from ./data/117.png\n",
            "Feature extracted from ./data/1285.png\n",
            "Feature extracted from ./data/475.png\n"
          ]
        },
        {
          "output_type": "stream",
          "name": "stderr",
          "text": [
            "Extracting features:  67%|██████▋   | 1012/1518 [01:44<00:48, 10.41it/s]"
          ]
        },
        {
          "output_type": "stream",
          "name": "stdout",
          "text": [
            "Feature extracted from ./data/22.png\n",
            "Feature extracted from ./data/528.png\n",
            "Feature extracted from ./data/623.png\n"
          ]
        },
        {
          "output_type": "stream",
          "name": "stderr",
          "text": [
            "\rExtracting features:  67%|██████▋   | 1014/1518 [01:44<00:48, 10.42it/s]"
          ]
        },
        {
          "output_type": "stream",
          "name": "stdout",
          "text": [
            "Feature extracted from ./data/1116.png\n",
            "Feature extracted from ./data/18.png\n"
          ]
        },
        {
          "output_type": "stream",
          "name": "stderr",
          "text": [
            "\rExtracting features:  67%|██████▋   | 1016/1518 [01:44<00:49, 10.21it/s]"
          ]
        },
        {
          "output_type": "stream",
          "name": "stdout",
          "text": [
            "Feature extracted from ./data/1387.png\n",
            "Feature extracted from ./data/1313.png\n",
            "Feature extracted from ./data/1039.png\n"
          ]
        },
        {
          "output_type": "stream",
          "name": "stderr",
          "text": [
            "Extracting features:  67%|██████▋   | 1020/1518 [01:44<00:48, 10.31it/s]"
          ]
        },
        {
          "output_type": "stream",
          "name": "stdout",
          "text": [
            "Feature extracted from ./data/538.png\n",
            "Feature extracted from ./data/318.png\n",
            "Feature extracted from ./data/755.png\n"
          ]
        },
        {
          "output_type": "stream",
          "name": "stderr",
          "text": [
            "\rExtracting features:  67%|██████▋   | 1022/1518 [01:45<00:47, 10.35it/s]"
          ]
        },
        {
          "output_type": "stream",
          "name": "stdout",
          "text": [
            "Feature extracted from ./data/1188.png\n",
            "Feature extracted from ./data/1184.png\n",
            "Feature extracted from ./data/839.png\n"
          ]
        },
        {
          "output_type": "stream",
          "name": "stderr",
          "text": [
            "Extracting features:  68%|██████▊   | 1026/1518 [01:45<00:47, 10.27it/s]"
          ]
        },
        {
          "output_type": "stream",
          "name": "stdout",
          "text": [
            "Feature extracted from ./data/690.png\n",
            "Feature extracted from ./data/1226.png\n",
            "Feature extracted from ./data/1194.png\n"
          ]
        },
        {
          "output_type": "stream",
          "name": "stderr",
          "text": [
            "\rExtracting features:  68%|██████▊   | 1028/1518 [01:45<00:47, 10.32it/s]"
          ]
        },
        {
          "output_type": "stream",
          "name": "stdout",
          "text": [
            "Feature extracted from ./data/1491.png\n",
            "Feature extracted from ./data/348.png\n",
            "Feature extracted from ./data/444.png\n"
          ]
        },
        {
          "output_type": "stream",
          "name": "stderr",
          "text": [
            "Extracting features:  68%|██████▊   | 1032/1518 [01:46<00:46, 10.42it/s]"
          ]
        },
        {
          "output_type": "stream",
          "name": "stdout",
          "text": [
            "Feature extracted from ./data/1294.png\n",
            "Feature extracted from ./data/978.png\n",
            "Feature extracted from ./data/130.png\n"
          ]
        },
        {
          "output_type": "stream",
          "name": "stderr",
          "text": [
            "\rExtracting features:  68%|██████▊   | 1034/1518 [01:46<00:46, 10.42it/s]"
          ]
        },
        {
          "output_type": "stream",
          "name": "stdout",
          "text": [
            "Feature extracted from ./data/1164.png\n",
            "Feature extracted from ./data/1173.png\n"
          ]
        },
        {
          "output_type": "stream",
          "name": "stderr",
          "text": [
            "\rExtracting features:  68%|██████▊   | 1036/1518 [01:46<00:48,  9.89it/s]"
          ]
        },
        {
          "output_type": "stream",
          "name": "stdout",
          "text": [
            "Feature extracted from ./data/108.png\n",
            "Feature extracted from ./data/2.png\n"
          ]
        },
        {
          "output_type": "stream",
          "name": "stderr",
          "text": [
            "\rExtracting features:  68%|██████▊   | 1038/1518 [01:46<00:50,  9.57it/s]"
          ]
        },
        {
          "output_type": "stream",
          "name": "stdout",
          "text": [
            "Feature extracted from ./data/991.png\n",
            "Feature extracted from ./data/1431.png\n"
          ]
        },
        {
          "output_type": "stream",
          "name": "stderr",
          "text": [
            "\rExtracting features:  69%|██████▊   | 1040/1518 [01:46<00:48,  9.86it/s]"
          ]
        },
        {
          "output_type": "stream",
          "name": "stdout",
          "text": [
            "Feature extracted from ./data/1441.png\n",
            "Feature extracted from ./data/246.png\n",
            "Feature extracted from ./data/451.png\n"
          ]
        },
        {
          "output_type": "stream",
          "name": "stderr",
          "text": [
            "Extracting features:  69%|██████▉   | 1044/1518 [01:47<00:46, 10.12it/s]"
          ]
        },
        {
          "output_type": "stream",
          "name": "stdout",
          "text": [
            "Feature extracted from ./data/1057.png\n",
            "Feature extracted from ./data/278.png\n",
            "Feature extracted from ./data/334.png\n"
          ]
        },
        {
          "output_type": "stream",
          "name": "stderr",
          "text": [
            "\rExtracting features:  69%|██████▉   | 1046/1518 [01:47<00:46, 10.24it/s]"
          ]
        },
        {
          "output_type": "stream",
          "name": "stdout",
          "text": [
            "Feature extracted from ./data/810.png\n",
            "Feature extracted from ./data/127.png\n",
            "Feature extracted from ./data/1247.png\n"
          ]
        },
        {
          "output_type": "stream",
          "name": "stderr",
          "text": [
            "Extracting features:  69%|██████▉   | 1050/1518 [01:47<00:45, 10.18it/s]"
          ]
        },
        {
          "output_type": "stream",
          "name": "stdout",
          "text": [
            "Feature extracted from ./data/1155.png\n",
            "Feature extracted from ./data/291.png\n",
            "Feature extracted from ./data/704.png\n"
          ]
        },
        {
          "output_type": "stream",
          "name": "stderr",
          "text": [
            "\rExtracting features:  69%|██████▉   | 1052/1518 [01:48<00:45, 10.20it/s]"
          ]
        },
        {
          "output_type": "stream",
          "name": "stdout",
          "text": [
            "Feature extracted from ./data/316.png\n",
            "Feature extracted from ./data/35.png\n",
            "Feature extracted from ./data/1334.png\n"
          ]
        },
        {
          "output_type": "stream",
          "name": "stderr",
          "text": [
            "Extracting features:  70%|██████▉   | 1056/1518 [01:48<00:44, 10.42it/s]"
          ]
        },
        {
          "output_type": "stream",
          "name": "stdout",
          "text": [
            "Feature extracted from ./data/804.png\n",
            "Feature extracted from ./data/1429.png\n",
            "Feature extracted from ./data/981.png\n"
          ]
        },
        {
          "output_type": "stream",
          "name": "stderr",
          "text": [
            "\rExtracting features:  70%|██████▉   | 1058/1518 [01:48<00:44, 10.32it/s]"
          ]
        },
        {
          "output_type": "stream",
          "name": "stdout",
          "text": [
            "Feature extracted from ./data/1150.png\n",
            "Feature extracted from ./data/328.png\n",
            "Feature extracted from ./data/1332.png\n"
          ]
        },
        {
          "output_type": "stream",
          "name": "stderr",
          "text": [
            "Extracting features:  70%|██████▉   | 1061/1518 [01:49<00:50,  9.04it/s]"
          ]
        },
        {
          "output_type": "stream",
          "name": "stdout",
          "text": [
            "Feature extracted from ./data/96.png\n",
            "Feature extracted from ./data/255.png\n"
          ]
        },
        {
          "output_type": "stream",
          "name": "stderr",
          "text": [
            "Extracting features:  70%|███████   | 1063/1518 [01:49<00:57,  7.90it/s]"
          ]
        },
        {
          "output_type": "stream",
          "name": "stdout",
          "text": [
            "Feature extracted from ./data/767.png\n",
            "Feature extracted from ./data/1232.png\n"
          ]
        },
        {
          "output_type": "stream",
          "name": "stderr",
          "text": [
            "Extracting features:  70%|███████   | 1065/1518 [01:49<01:02,  7.24it/s]"
          ]
        },
        {
          "output_type": "stream",
          "name": "stdout",
          "text": [
            "Feature extracted from ./data/75.png\n",
            "Feature extracted from ./data/424.png\n"
          ]
        },
        {
          "output_type": "stream",
          "name": "stderr",
          "text": [
            "Extracting features:  70%|███████   | 1067/1518 [01:49<01:04,  6.96it/s]"
          ]
        },
        {
          "output_type": "stream",
          "name": "stdout",
          "text": [
            "Feature extracted from ./data/1166.png\n",
            "Feature extracted from ./data/160.png\n"
          ]
        },
        {
          "output_type": "stream",
          "name": "stderr",
          "text": [
            "Extracting features:  70%|███████   | 1069/1518 [01:50<01:05,  6.82it/s]"
          ]
        },
        {
          "output_type": "stream",
          "name": "stdout",
          "text": [
            "Feature extracted from ./data/1425.png\n",
            "Feature extracted from ./data/1277.png\n"
          ]
        },
        {
          "output_type": "stream",
          "name": "stderr",
          "text": [
            "Extracting features:  71%|███████   | 1071/1518 [01:50<01:06,  6.70it/s]"
          ]
        },
        {
          "output_type": "stream",
          "name": "stdout",
          "text": [
            "Feature extracted from ./data/412.png\n",
            "Feature extracted from ./data/157.png\n"
          ]
        },
        {
          "output_type": "stream",
          "name": "stderr",
          "text": [
            "Extracting features:  71%|███████   | 1073/1518 [01:50<01:07,  6.62it/s]"
          ]
        },
        {
          "output_type": "stream",
          "name": "stdout",
          "text": [
            "Feature extracted from ./data/1263.png\n",
            "Feature extracted from ./data/533.png\n"
          ]
        },
        {
          "output_type": "stream",
          "name": "stderr",
          "text": [
            "Extracting features:  71%|███████   | 1076/1518 [01:51<00:55,  7.94it/s]"
          ]
        },
        {
          "output_type": "stream",
          "name": "stdout",
          "text": [
            "Feature extracted from ./data/1275.png\n",
            "Feature extracted from ./data/793.png\n",
            "Feature extracted from ./data/1153.png\n"
          ]
        },
        {
          "output_type": "stream",
          "name": "stderr",
          "text": [
            "Extracting features:  71%|███████   | 1079/1518 [01:51<00:48,  9.00it/s]"
          ]
        },
        {
          "output_type": "stream",
          "name": "stdout",
          "text": [
            "Feature extracted from ./data/97.png\n",
            "Feature extracted from ./data/224.png\n",
            "Feature extracted from ./data/240.png\n"
          ]
        },
        {
          "output_type": "stream",
          "name": "stderr",
          "text": [
            "\rExtracting features:  71%|███████   | 1081/1518 [01:51<00:47,  9.27it/s]"
          ]
        },
        {
          "output_type": "stream",
          "name": "stdout",
          "text": [
            "Feature extracted from ./data/347.png\n",
            "Feature extracted from ./data/773.png\n"
          ]
        },
        {
          "output_type": "stream",
          "name": "stderr",
          "text": [
            "\rExtracting features:  71%|███████▏  | 1083/1518 [01:51<00:45,  9.66it/s]"
          ]
        },
        {
          "output_type": "stream",
          "name": "stdout",
          "text": [
            "Feature extracted from ./data/1006.png\n",
            "Feature extracted from ./data/1043.png\n",
            "Feature extracted from ./data/541.png\n"
          ]
        },
        {
          "output_type": "stream",
          "name": "stderr",
          "text": [
            "Extracting features:  72%|███████▏  | 1086/1518 [01:52<00:45,  9.46it/s]"
          ]
        },
        {
          "output_type": "stream",
          "name": "stdout",
          "text": [
            "Feature extracted from ./data/1256.png\n",
            "Feature extracted from ./data/963.png\n"
          ]
        },
        {
          "output_type": "stream",
          "name": "stderr",
          "text": [
            "\rExtracting features:  72%|███████▏  | 1088/1518 [01:52<00:43,  9.79it/s]"
          ]
        },
        {
          "output_type": "stream",
          "name": "stdout",
          "text": [
            "Feature extracted from ./data/415.png\n",
            "Feature extracted from ./data/136.png\n",
            "Feature extracted from ./data/403.png\n"
          ]
        },
        {
          "output_type": "stream",
          "name": "stderr",
          "text": [
            "Extracting features:  72%|███████▏  | 1092/1518 [01:52<00:42,  9.99it/s]"
          ]
        },
        {
          "output_type": "stream",
          "name": "stdout",
          "text": [
            "Feature extracted from ./data/1385.png\n",
            "Feature extracted from ./data/970.png\n",
            "Feature extracted from ./data/1250.png\n"
          ]
        },
        {
          "output_type": "stream",
          "name": "stderr",
          "text": [
            "\rExtracting features:  72%|███████▏  | 1094/1518 [01:52<00:41, 10.17it/s]"
          ]
        },
        {
          "output_type": "stream",
          "name": "stdout",
          "text": [
            "Feature extracted from ./data/995.png\n",
            "Feature extracted from ./data/6.png\n",
            "Feature extracted from ./data/1272.png\n"
          ]
        },
        {
          "output_type": "stream",
          "name": "stderr",
          "text": [
            "Extracting features:  72%|███████▏  | 1098/1518 [01:53<00:40, 10.36it/s]"
          ]
        },
        {
          "output_type": "stream",
          "name": "stdout",
          "text": [
            "Feature extracted from ./data/337.png\n",
            "Feature extracted from ./data/859.png\n",
            "Feature extracted from ./data/320.png\n"
          ]
        },
        {
          "output_type": "stream",
          "name": "stderr",
          "text": [
            "\rExtracting features:  72%|███████▏  | 1100/1518 [01:53<00:40, 10.39it/s]"
          ]
        },
        {
          "output_type": "stream",
          "name": "stdout",
          "text": [
            "Feature extracted from ./data/827.png\n",
            "Feature extracted from ./data/184.png\n",
            "Feature extracted from ./data/523.png\n"
          ]
        },
        {
          "output_type": "stream",
          "name": "stderr",
          "text": [
            "Extracting features:  73%|███████▎  | 1104/1518 [01:53<00:40, 10.26it/s]"
          ]
        },
        {
          "output_type": "stream",
          "name": "stdout",
          "text": [
            "Feature extracted from ./data/758.png\n",
            "Feature extracted from ./data/1114.png\n",
            "Feature extracted from ./data/1207.png\n"
          ]
        },
        {
          "output_type": "stream",
          "name": "stderr",
          "text": [
            "\rExtracting features:  73%|███████▎  | 1106/1518 [01:54<00:39, 10.30it/s]"
          ]
        },
        {
          "output_type": "stream",
          "name": "stdout",
          "text": [
            "Feature extracted from ./data/1262.png\n",
            "Feature extracted from ./data/624.png\n",
            "Feature extracted from ./data/974.png\n"
          ]
        },
        {
          "output_type": "stream",
          "name": "stderr",
          "text": [
            "Extracting features:  73%|███████▎  | 1110/1518 [01:54<00:39, 10.39it/s]"
          ]
        },
        {
          "output_type": "stream",
          "name": "stdout",
          "text": [
            "Feature extracted from ./data/1214.png\n",
            "Feature extracted from ./data/79.png\n",
            "Feature extracted from ./data/907.png\n"
          ]
        },
        {
          "output_type": "stream",
          "name": "stderr",
          "text": [
            "\rExtracting features:  73%|███████▎  | 1112/1518 [01:54<00:39, 10.34it/s]"
          ]
        },
        {
          "output_type": "stream",
          "name": "stdout",
          "text": [
            "Feature extracted from ./data/268.png\n",
            "Feature extracted from ./data/1437.png\n",
            "Feature extracted from ./data/574.png\n"
          ]
        },
        {
          "output_type": "stream",
          "name": "stderr",
          "text": [
            "Extracting features:  74%|███████▎  | 1116/1518 [01:55<00:39, 10.24it/s]"
          ]
        },
        {
          "output_type": "stream",
          "name": "stdout",
          "text": [
            "Feature extracted from ./data/371.png\n",
            "Feature extracted from ./data/712.png\n",
            "Feature extracted from ./data/908.png\n"
          ]
        },
        {
          "output_type": "stream",
          "name": "stderr",
          "text": [
            "\rExtracting features:  74%|███████▎  | 1118/1518 [01:55<00:38, 10.32it/s]"
          ]
        },
        {
          "output_type": "stream",
          "name": "stdout",
          "text": [
            "Feature extracted from ./data/770.png\n",
            "Feature extracted from ./data/750.png\n",
            "Feature extracted from ./data/82.png\n"
          ]
        },
        {
          "output_type": "stream",
          "name": "stderr",
          "text": [
            "Extracting features:  74%|███████▍  | 1122/1518 [01:55<00:38, 10.26it/s]"
          ]
        },
        {
          "output_type": "stream",
          "name": "stdout",
          "text": [
            "Feature extracted from ./data/914.png\n",
            "Feature extracted from ./data/179.png\n",
            "Feature extracted from ./data/953.png\n"
          ]
        },
        {
          "output_type": "stream",
          "name": "stderr",
          "text": [
            "\rExtracting features:  74%|███████▍  | 1124/1518 [01:55<00:39,  9.96it/s]"
          ]
        },
        {
          "output_type": "stream",
          "name": "stdout",
          "text": [
            "Feature extracted from ./data/1460.png\n",
            "Feature extracted from ./data/692.png\n"
          ]
        },
        {
          "output_type": "stream",
          "name": "stderr",
          "text": [
            "\rExtracting features:  74%|███████▍  | 1126/1518 [01:56<00:38, 10.12it/s]"
          ]
        },
        {
          "output_type": "stream",
          "name": "stdout",
          "text": [
            "Feature extracted from ./data/1101.png\n",
            "Feature extracted from ./data/1280.png\n",
            "Feature extracted from ./data/1382.png\n"
          ]
        },
        {
          "output_type": "stream",
          "name": "stderr",
          "text": [
            "Extracting features:  74%|███████▍  | 1130/1518 [01:56<00:37, 10.34it/s]"
          ]
        },
        {
          "output_type": "stream",
          "name": "stdout",
          "text": [
            "Feature extracted from ./data/1462.png\n",
            "Feature extracted from ./data/1130.png\n",
            "Feature extracted from ./data/863.png\n"
          ]
        },
        {
          "output_type": "stream",
          "name": "stderr",
          "text": [
            "\rExtracting features:  75%|███████▍  | 1132/1518 [01:56<00:37, 10.33it/s]"
          ]
        },
        {
          "output_type": "stream",
          "name": "stdout",
          "text": [
            "Feature extracted from ./data/237.png\n",
            "Feature extracted from ./data/883.png\n",
            "Feature extracted from ./data/1242.png\n"
          ]
        },
        {
          "output_type": "stream",
          "name": "stderr",
          "text": [
            "Extracting features:  75%|███████▍  | 1136/1518 [01:57<00:37, 10.28it/s]"
          ]
        },
        {
          "output_type": "stream",
          "name": "stdout",
          "text": [
            "Feature extracted from ./data/1220.png\n",
            "Feature extracted from ./data/865.png\n",
            "Feature extracted from ./data/714.png\n"
          ]
        },
        {
          "output_type": "stream",
          "name": "stderr",
          "text": [
            "\rExtracting features:  75%|███████▍  | 1138/1518 [01:57<00:36, 10.33it/s]"
          ]
        },
        {
          "output_type": "stream",
          "name": "stdout",
          "text": [
            "Feature extracted from ./data/924.png\n",
            "Feature extracted from ./data/281.png\n",
            "Feature extracted from ./data/369.png\n"
          ]
        },
        {
          "output_type": "stream",
          "name": "stderr",
          "text": [
            "Extracting features:  75%|███████▌  | 1142/1518 [01:57<00:35, 10.47it/s]"
          ]
        },
        {
          "output_type": "stream",
          "name": "stdout",
          "text": [
            "Feature extracted from ./data/782.png\n",
            "Feature extracted from ./data/1068.png\n",
            "Feature extracted from ./data/143.png\n"
          ]
        },
        {
          "output_type": "stream",
          "name": "stderr",
          "text": [
            "\rExtracting features:  75%|███████▌  | 1144/1518 [01:57<00:35, 10.45it/s]"
          ]
        },
        {
          "output_type": "stream",
          "name": "stdout",
          "text": [
            "Feature extracted from ./data/1239.png\n",
            "Feature extracted from ./data/238.png\n",
            "Feature extracted from ./data/1306.png\n"
          ]
        },
        {
          "output_type": "stream",
          "name": "stderr",
          "text": [
            "Extracting features:  76%|███████▌  | 1148/1518 [01:58<00:35, 10.36it/s]"
          ]
        },
        {
          "output_type": "stream",
          "name": "stdout",
          "text": [
            "Feature extracted from ./data/499.png\n",
            "Feature extracted from ./data/806.png\n",
            "Feature extracted from ./data/352.png\n"
          ]
        },
        {
          "output_type": "stream",
          "name": "stderr",
          "text": [
            "\rExtracting features:  76%|███████▌  | 1150/1518 [01:58<00:35, 10.37it/s]"
          ]
        },
        {
          "output_type": "stream",
          "name": "stdout",
          "text": [
            "Feature extracted from ./data/927.png\n",
            "Feature extracted from ./data/1401.png\n"
          ]
        },
        {
          "output_type": "stream",
          "name": "stderr",
          "text": [
            "\rExtracting features:  76%|███████▌  | 1152/1518 [01:58<00:36, 10.10it/s]"
          ]
        },
        {
          "output_type": "stream",
          "name": "stdout",
          "text": [
            "Feature extracted from ./data/1289.png\n",
            "Feature extracted from ./data/1008.png\n",
            "Feature extracted from ./data/1260.png\n"
          ]
        },
        {
          "output_type": "stream",
          "name": "stderr",
          "text": [
            "Extracting features:  76%|███████▌  | 1156/1518 [01:58<00:35, 10.22it/s]"
          ]
        },
        {
          "output_type": "stream",
          "name": "stdout",
          "text": [
            "Feature extracted from ./data/362.png\n",
            "Feature extracted from ./data/659.png\n",
            "Feature extracted from ./data/727.png\n"
          ]
        },
        {
          "output_type": "stream",
          "name": "stderr",
          "text": [
            "\rExtracting features:  76%|███████▋  | 1158/1518 [01:59<00:35, 10.08it/s]"
          ]
        },
        {
          "output_type": "stream",
          "name": "stdout",
          "text": [
            "Feature extracted from ./data/856.png\n",
            "Feature extracted from ./data/1466.png\n",
            "Feature extracted from ./data/1345.png\n"
          ]
        },
        {
          "output_type": "stream",
          "name": "stderr",
          "text": [
            "Extracting features:  77%|███████▋  | 1162/1518 [01:59<00:34, 10.30it/s]"
          ]
        },
        {
          "output_type": "stream",
          "name": "stdout",
          "text": [
            "Feature extracted from ./data/137.png\n",
            "Feature extracted from ./data/885.png\n",
            "Feature extracted from ./data/919.png\n"
          ]
        },
        {
          "output_type": "stream",
          "name": "stderr",
          "text": [
            "\rExtracting features:  77%|███████▋  | 1164/1518 [01:59<00:34, 10.29it/s]"
          ]
        },
        {
          "output_type": "stream",
          "name": "stdout",
          "text": [
            "Feature extracted from ./data/300.png\n",
            "Feature extracted from ./data/1273.png\n",
            "Feature extracted from ./data/731.png\n"
          ]
        },
        {
          "output_type": "stream",
          "name": "stderr",
          "text": [
            "Extracting features:  77%|███████▋  | 1168/1518 [02:00<00:34, 10.27it/s]"
          ]
        },
        {
          "output_type": "stream",
          "name": "stdout",
          "text": [
            "Feature extracted from ./data/112.png\n",
            "Feature extracted from ./data/697.png\n",
            "Feature extracted from ./data/530.png\n"
          ]
        },
        {
          "output_type": "stream",
          "name": "stderr",
          "text": [
            "\rExtracting features:  77%|███████▋  | 1170/1518 [02:00<00:33, 10.34it/s]"
          ]
        },
        {
          "output_type": "stream",
          "name": "stdout",
          "text": [
            "Feature extracted from ./data/1167.png\n",
            "Feature extracted from ./data/387.png\n",
            "Feature extracted from ./data/183.png\n"
          ]
        },
        {
          "output_type": "stream",
          "name": "stderr",
          "text": [
            "Extracting features:  77%|███████▋  | 1174/1518 [02:00<00:33, 10.42it/s]"
          ]
        },
        {
          "output_type": "stream",
          "name": "stdout",
          "text": [
            "Feature extracted from ./data/453.png\n",
            "Feature extracted from ./data/1305.png\n",
            "Feature extracted from ./data/473.png\n"
          ]
        },
        {
          "output_type": "stream",
          "name": "stderr",
          "text": [
            "\rExtracting features:  77%|███████▋  | 1176/1518 [02:00<00:32, 10.39it/s]"
          ]
        },
        {
          "output_type": "stream",
          "name": "stdout",
          "text": [
            "Feature extracted from ./data/398.png\n",
            "Feature extracted from ./data/1045.png\n"
          ]
        },
        {
          "output_type": "stream",
          "name": "stderr",
          "text": [
            "\rExtracting features:  78%|███████▊  | 1178/1518 [02:01<00:38,  8.83it/s]"
          ]
        },
        {
          "output_type": "stream",
          "name": "stdout",
          "text": [
            "Feature extracted from ./data/733.png\n",
            "Feature extracted from ./data/1162.png\n"
          ]
        },
        {
          "output_type": "stream",
          "name": "stderr",
          "text": [
            "Extracting features:  78%|███████▊  | 1180/1518 [02:01<00:42,  7.89it/s]"
          ]
        },
        {
          "output_type": "stream",
          "name": "stdout",
          "text": [
            "Feature extracted from ./data/760.png\n",
            "Feature extracted from ./data/4.png\n"
          ]
        },
        {
          "output_type": "stream",
          "name": "stderr",
          "text": [
            "Extracting features:  78%|███████▊  | 1182/1518 [02:01<00:46,  7.29it/s]"
          ]
        },
        {
          "output_type": "stream",
          "name": "stdout",
          "text": [
            "Feature extracted from ./data/846.png\n",
            "Feature extracted from ./data/303.png\n"
          ]
        },
        {
          "output_type": "stream",
          "name": "stderr",
          "text": [
            "Extracting features:  78%|███████▊  | 1184/1518 [02:02<00:48,  6.95it/s]"
          ]
        },
        {
          "output_type": "stream",
          "name": "stdout",
          "text": [
            "Feature extracted from ./data/482.png\n",
            "Feature extracted from ./data/66.png\n"
          ]
        },
        {
          "output_type": "stream",
          "name": "stderr",
          "text": [
            "Extracting features:  78%|███████▊  | 1186/1518 [02:02<00:49,  6.76it/s]"
          ]
        },
        {
          "output_type": "stream",
          "name": "stdout",
          "text": [
            "Feature extracted from ./data/568.png\n",
            "Feature extracted from ./data/266.png\n"
          ]
        },
        {
          "output_type": "stream",
          "name": "stderr",
          "text": [
            "Extracting features:  78%|███████▊  | 1188/1518 [02:02<00:49,  6.65it/s]"
          ]
        },
        {
          "output_type": "stream",
          "name": "stdout",
          "text": [
            "Feature extracted from ./data/795.png\n",
            "Feature extracted from ./data/961.png\n"
          ]
        },
        {
          "output_type": "stream",
          "name": "stderr",
          "text": [
            "Extracting features:  78%|███████▊  | 1190/1518 [02:03<00:48,  6.80it/s]"
          ]
        },
        {
          "output_type": "stream",
          "name": "stdout",
          "text": [
            "Feature extracted from ./data/1302.png\n",
            "Feature extracted from ./data/364.png\n"
          ]
        },
        {
          "output_type": "stream",
          "name": "stderr",
          "text": [
            "Extracting features:  79%|███████▊  | 1192/1518 [02:03<00:44,  7.25it/s]"
          ]
        },
        {
          "output_type": "stream",
          "name": "stdout",
          "text": [
            "Feature extracted from ./data/1428.png\n",
            "Feature extracted from ./data/1174.png\n"
          ]
        },
        {
          "output_type": "stream",
          "name": "stderr",
          "text": [
            "\rExtracting features:  79%|███████▊  | 1194/1518 [02:03<00:38,  8.41it/s]"
          ]
        },
        {
          "output_type": "stream",
          "name": "stdout",
          "text": [
            "Feature extracted from ./data/324.png\n",
            "Feature extracted from ./data/853.png\n",
            "Feature extracted from ./data/614.png\n"
          ]
        },
        {
          "output_type": "stream",
          "name": "stderr",
          "text": [
            "Extracting features:  79%|███████▉  | 1198/1518 [02:03<00:33,  9.53it/s]"
          ]
        },
        {
          "output_type": "stream",
          "name": "stdout",
          "text": [
            "Feature extracted from ./data/984.png\n",
            "Feature extracted from ./data/1283.png\n",
            "Feature extracted from ./data/1139.png\n"
          ]
        },
        {
          "output_type": "stream",
          "name": "stderr",
          "text": [
            "\rExtracting features:  79%|███████▉  | 1200/1518 [02:04<00:33,  9.61it/s]"
          ]
        },
        {
          "output_type": "stream",
          "name": "stdout",
          "text": [
            "Feature extracted from ./data/1227.png\n",
            "Feature extracted from ./data/1374.png\n"
          ]
        },
        {
          "output_type": "stream",
          "name": "stderr",
          "text": [
            "\rExtracting features:  79%|███████▉  | 1202/1518 [02:04<00:32,  9.85it/s]"
          ]
        },
        {
          "output_type": "stream",
          "name": "stdout",
          "text": [
            "Feature extracted from ./data/1083.png\n",
            "Feature extracted from ./data/693.png\n",
            "Feature extracted from ./data/718.png\n"
          ]
        },
        {
          "output_type": "stream",
          "name": "stderr",
          "text": [
            "Extracting features:  79%|███████▉  | 1206/1518 [02:04<00:30, 10.09it/s]"
          ]
        },
        {
          "output_type": "stream",
          "name": "stdout",
          "text": [
            "Feature extracted from ./data/276.png\n",
            "Feature extracted from ./data/84.png\n",
            "Feature extracted from ./data/1297.png\n"
          ]
        },
        {
          "output_type": "stream",
          "name": "stderr",
          "text": [
            "\rExtracting features:  80%|███████▉  | 1208/1518 [02:04<00:30, 10.15it/s]"
          ]
        },
        {
          "output_type": "stream",
          "name": "stdout",
          "text": [
            "Feature extracted from ./data/259.png\n",
            "Feature extracted from ./data/98.png\n",
            "Feature extracted from ./data/849.png\n"
          ]
        },
        {
          "output_type": "stream",
          "name": "stderr",
          "text": [
            "\rExtracting features:  80%|███████▉  | 1210/1518 [02:05<00:30, 10.19it/s]"
          ]
        },
        {
          "output_type": "stream",
          "name": "stdout",
          "text": [
            "Feature extracted from ./data/1169.png\n",
            "Feature extracted from ./data/542.png\n"
          ]
        },
        {
          "output_type": "stream",
          "name": "stderr",
          "text": [
            "Extracting features:  80%|███████▉  | 1214/1518 [02:05<00:30, 10.09it/s]"
          ]
        },
        {
          "output_type": "stream",
          "name": "stdout",
          "text": [
            "Feature extracted from ./data/987.png\n",
            "Feature extracted from ./data/15.png\n",
            "Feature extracted from ./data/479.png\n"
          ]
        },
        {
          "output_type": "stream",
          "name": "stderr",
          "text": [
            "\rExtracting features:  80%|████████  | 1216/1518 [02:05<00:29, 10.18it/s]"
          ]
        },
        {
          "output_type": "stream",
          "name": "stdout",
          "text": [
            "Feature extracted from ./data/561.png\n",
            "Feature extracted from ./data/564.png\n",
            "Feature extracted from ./data/1193.png\n"
          ]
        },
        {
          "output_type": "stream",
          "name": "stderr",
          "text": [
            "Extracting features:  80%|████████  | 1220/1518 [02:06<00:28, 10.37it/s]"
          ]
        },
        {
          "output_type": "stream",
          "name": "stdout",
          "text": [
            "Feature extracted from ./data/1451.png\n",
            "Feature extracted from ./data/1084.png\n",
            "Feature extracted from ./data/825.png\n"
          ]
        },
        {
          "output_type": "stream",
          "name": "stderr",
          "text": [
            "\rExtracting features:  81%|████████  | 1222/1518 [02:06<00:28, 10.27it/s]"
          ]
        },
        {
          "output_type": "stream",
          "name": "stdout",
          "text": [
            "Feature extracted from ./data/124.png\n",
            "Feature extracted from ./data/1484.png\n",
            "Feature extracted from ./data/1400.png\n"
          ]
        },
        {
          "output_type": "stream",
          "name": "stderr",
          "text": [
            "Extracting features:  81%|████████  | 1226/1518 [02:06<00:28, 10.42it/s]"
          ]
        },
        {
          "output_type": "stream",
          "name": "stdout",
          "text": [
            "Feature extracted from ./data/81.png\n",
            "Feature extracted from ./data/971.png\n",
            "Feature extracted from ./data/864.png\n"
          ]
        },
        {
          "output_type": "stream",
          "name": "stderr",
          "text": [
            "\rExtracting features:  81%|████████  | 1228/1518 [02:06<00:27, 10.39it/s]"
          ]
        },
        {
          "output_type": "stream",
          "name": "stdout",
          "text": [
            "Feature extracted from ./data/326.png\n",
            "Feature extracted from ./data/142.png\n",
            "Feature extracted from ./data/462.png\n"
          ]
        },
        {
          "output_type": "stream",
          "name": "stderr",
          "text": [
            "\rExtracting features:  81%|████████  | 1230/1518 [02:07<00:27, 10.41it/s]"
          ]
        },
        {
          "output_type": "stream",
          "name": "stdout",
          "text": [
            "Feature extracted from ./data/174.png\n",
            "Feature extracted from ./data/176.png\n"
          ]
        },
        {
          "output_type": "stream",
          "name": "stderr",
          "text": [
            "Extracting features:  81%|████████▏ | 1234/1518 [02:07<00:27, 10.35it/s]"
          ]
        },
        {
          "output_type": "stream",
          "name": "stdout",
          "text": [
            "Feature extracted from ./data/1467.png\n",
            "Feature extracted from ./data/1339.png\n",
            "Feature extracted from ./data/128.png\n"
          ]
        },
        {
          "output_type": "stream",
          "name": "stderr",
          "text": [
            "\rExtracting features:  81%|████████▏ | 1236/1518 [02:07<00:27, 10.42it/s]"
          ]
        },
        {
          "output_type": "stream",
          "name": "stdout",
          "text": [
            "Feature extracted from ./data/1218.png\n",
            "Feature extracted from ./data/1352.png\n",
            "Feature extracted from ./data/1128.png\n"
          ]
        },
        {
          "output_type": "stream",
          "name": "stderr",
          "text": [
            "Extracting features:  82%|████████▏ | 1240/1518 [02:07<00:26, 10.45it/s]"
          ]
        },
        {
          "output_type": "stream",
          "name": "stdout",
          "text": [
            "Feature extracted from ./data/1066.png\n",
            "Feature extracted from ./data/815.png\n",
            "Feature extracted from ./data/737.png\n"
          ]
        },
        {
          "output_type": "stream",
          "name": "stderr",
          "text": [
            "\rExtracting features:  82%|████████▏ | 1242/1518 [02:08<00:26, 10.43it/s]"
          ]
        },
        {
          "output_type": "stream",
          "name": "stdout",
          "text": [
            "Feature extracted from ./data/531.png\n",
            "Feature extracted from ./data/1073.png\n"
          ]
        },
        {
          "output_type": "stream",
          "name": "stderr",
          "text": [
            "\rExtracting features:  82%|████████▏ | 1244/1518 [02:08<00:26, 10.27it/s]"
          ]
        },
        {
          "output_type": "stream",
          "name": "stdout",
          "text": [
            "Feature extracted from ./data/583.png\n",
            "Feature extracted from ./data/808.png\n",
            "Feature extracted from ./data/604.png\n"
          ]
        },
        {
          "output_type": "stream",
          "name": "stderr",
          "text": [
            "\rExtracting features:  82%|████████▏ | 1246/1518 [02:08<00:26, 10.32it/s]"
          ]
        },
        {
          "output_type": "stream",
          "name": "stdout",
          "text": [
            "Feature extracted from ./data/1181.png\n",
            "Feature extracted from ./data/1351.png\n"
          ]
        },
        {
          "output_type": "stream",
          "name": "stderr",
          "text": [
            "Extracting features:  82%|████████▏ | 1250/1518 [02:08<00:26, 10.26it/s]"
          ]
        },
        {
          "output_type": "stream",
          "name": "stdout",
          "text": [
            "Feature extracted from ./data/21.png\n",
            "Feature extracted from ./data/47.png\n",
            "Feature extracted from ./data/365.png\n"
          ]
        },
        {
          "output_type": "stream",
          "name": "stderr",
          "text": [
            "\rExtracting features:  82%|████████▏ | 1252/1518 [02:09<00:25, 10.30it/s]"
          ]
        },
        {
          "output_type": "stream",
          "name": "stdout",
          "text": [
            "Feature extracted from ./data/838.png\n",
            "Feature extracted from ./data/1483.png\n",
            "Feature extracted from ./data/958.png\n"
          ]
        },
        {
          "output_type": "stream",
          "name": "stderr",
          "text": [
            "Extracting features:  83%|████████▎ | 1256/1518 [02:09<00:25, 10.34it/s]"
          ]
        },
        {
          "output_type": "stream",
          "name": "stdout",
          "text": [
            "Feature extracted from ./data/909.png\n",
            "Feature extracted from ./data/500.png\n",
            "Feature extracted from ./data/1291.png\n"
          ]
        },
        {
          "output_type": "stream",
          "name": "stderr",
          "text": [
            "\rExtracting features:  83%|████████▎ | 1258/1518 [02:09<00:25, 10.32it/s]"
          ]
        },
        {
          "output_type": "stream",
          "name": "stdout",
          "text": [
            "Feature extracted from ./data/211.png\n",
            "Feature extracted from ./data/1454.png\n",
            "Feature extracted from ./data/357.png\n"
          ]
        },
        {
          "output_type": "stream",
          "name": "stderr",
          "text": [
            "Extracting features:  83%|████████▎ | 1262/1518 [02:10<00:24, 10.42it/s]"
          ]
        },
        {
          "output_type": "stream",
          "name": "stdout",
          "text": [
            "Feature extracted from ./data/821.png\n",
            "Feature extracted from ./data/1248.png\n",
            "Feature extracted from ./data/556.png\n"
          ]
        },
        {
          "output_type": "stream",
          "name": "stderr",
          "text": [
            "\rExtracting features:  83%|████████▎ | 1264/1518 [02:10<00:24, 10.32it/s]"
          ]
        },
        {
          "output_type": "stream",
          "name": "stdout",
          "text": [
            "Feature extracted from ./data/592.png\n",
            "Feature extracted from ./data/1199.png\n",
            "Feature extracted from ./data/210.png\n"
          ]
        },
        {
          "output_type": "stream",
          "name": "stderr",
          "text": [
            "Extracting features:  84%|████████▎ | 1268/1518 [02:10<00:24, 10.39it/s]"
          ]
        },
        {
          "output_type": "stream",
          "name": "stdout",
          "text": [
            "Feature extracted from ./data/448.png\n",
            "Feature extracted from ./data/1117.png\n",
            "Feature extracted from ./data/1189.png\n"
          ]
        },
        {
          "output_type": "stream",
          "name": "stderr",
          "text": [
            "\rExtracting features:  84%|████████▎ | 1270/1518 [02:10<00:23, 10.41it/s]"
          ]
        },
        {
          "output_type": "stream",
          "name": "stdout",
          "text": [
            "Feature extracted from ./data/861.png\n",
            "Feature extracted from ./data/172.png\n",
            "Feature extracted from ./data/293.png\n"
          ]
        },
        {
          "output_type": "stream",
          "name": "stderr",
          "text": [
            "Extracting features:  84%|████████▍ | 1274/1518 [02:11<00:23, 10.44it/s]"
          ]
        },
        {
          "output_type": "stream",
          "name": "stdout",
          "text": [
            "Feature extracted from ./data/311.png\n",
            "Feature extracted from ./data/560.png\n",
            "Feature extracted from ./data/933.png\n"
          ]
        },
        {
          "output_type": "stream",
          "name": "stderr",
          "text": [
            "\rExtracting features:  84%|████████▍ | 1276/1518 [02:11<00:23, 10.23it/s]"
          ]
        },
        {
          "output_type": "stream",
          "name": "stdout",
          "text": [
            "Feature extracted from ./data/102.png\n",
            "Feature extracted from ./data/1353.png\n",
            "Feature extracted from ./data/90.png\n"
          ]
        },
        {
          "output_type": "stream",
          "name": "stderr",
          "text": [
            "Extracting features:  84%|████████▍ | 1280/1518 [02:11<00:22, 10.35it/s]"
          ]
        },
        {
          "output_type": "stream",
          "name": "stdout",
          "text": [
            "Feature extracted from ./data/1474.png\n",
            "Feature extracted from ./data/1420.png\n",
            "Feature extracted from ./data/1007.png\n"
          ]
        },
        {
          "output_type": "stream",
          "name": "stderr",
          "text": [
            "\rExtracting features:  84%|████████▍ | 1282/1518 [02:12<00:22, 10.35it/s]"
          ]
        },
        {
          "output_type": "stream",
          "name": "stdout",
          "text": [
            "Feature extracted from ./data/744.png\n",
            "Feature extracted from ./data/1224.png\n",
            "Feature extracted from ./data/452.png\n"
          ]
        },
        {
          "output_type": "stream",
          "name": "stderr",
          "text": [
            "Extracting features:  85%|████████▍ | 1286/1518 [02:12<00:22, 10.25it/s]"
          ]
        },
        {
          "output_type": "stream",
          "name": "stdout",
          "text": [
            "Feature extracted from ./data/876.png\n",
            "Feature extracted from ./data/1375.png\n",
            "Feature extracted from ./data/502.png\n"
          ]
        },
        {
          "output_type": "stream",
          "name": "stderr",
          "text": [
            "\rExtracting features:  85%|████████▍ | 1288/1518 [02:12<00:22, 10.31it/s]"
          ]
        },
        {
          "output_type": "stream",
          "name": "stdout",
          "text": [
            "Feature extracted from ./data/353.png\n",
            "Feature extracted from ./data/800.png\n",
            "Feature extracted from ./data/1131.png\n"
          ]
        },
        {
          "output_type": "stream",
          "name": "stderr",
          "text": [
            "Extracting features:  85%|████████▌ | 1292/1518 [02:13<00:21, 10.28it/s]"
          ]
        },
        {
          "output_type": "stream",
          "name": "stdout",
          "text": [
            "Feature extracted from ./data/248.png\n",
            "Feature extracted from ./data/372.png\n",
            "Feature extracted from ./data/1503.png\n"
          ]
        },
        {
          "output_type": "stream",
          "name": "stderr",
          "text": [
            "\rExtracting features:  85%|████████▌ | 1294/1518 [02:13<00:22,  9.87it/s]"
          ]
        },
        {
          "output_type": "stream",
          "name": "stdout",
          "text": [
            "Feature extracted from ./data/721.png\n",
            "Feature extracted from ./data/648.png\n"
          ]
        },
        {
          "output_type": "stream",
          "name": "stderr",
          "text": [
            "Extracting features:  85%|████████▌ | 1296/1518 [02:13<00:24,  9.20it/s]"
          ]
        },
        {
          "output_type": "stream",
          "name": "stdout",
          "text": [
            "Feature extracted from ./data/1464.png\n",
            "Feature extracted from ./data/392.png\n"
          ]
        },
        {
          "output_type": "stream",
          "name": "stderr",
          "text": [
            "Extracting features:  86%|████████▌ | 1298/1518 [02:13<00:27,  7.98it/s]"
          ]
        },
        {
          "output_type": "stream",
          "name": "stdout",
          "text": [
            "Feature extracted from ./data/186.png\n",
            "Feature extracted from ./data/1372.png\n"
          ]
        },
        {
          "output_type": "stream",
          "name": "stderr",
          "text": [
            "Extracting features:  86%|████████▌ | 1300/1518 [02:14<00:29,  7.34it/s]"
          ]
        },
        {
          "output_type": "stream",
          "name": "stdout",
          "text": [
            "Feature extracted from ./data/73.png\n",
            "Feature extracted from ./data/781.png\n"
          ]
        },
        {
          "output_type": "stream",
          "name": "stderr",
          "text": [
            "Extracting features:  86%|████████▌ | 1302/1518 [02:14<00:30,  7.05it/s]"
          ]
        },
        {
          "output_type": "stream",
          "name": "stdout",
          "text": [
            "Feature extracted from ./data/1307.png\n",
            "Feature extracted from ./data/1110.png\n"
          ]
        },
        {
          "output_type": "stream",
          "name": "stderr",
          "text": [
            "Extracting features:  86%|████████▌ | 1304/1518 [02:14<00:30,  6.90it/s]"
          ]
        },
        {
          "output_type": "stream",
          "name": "stdout",
          "text": [
            "Feature extracted from ./data/1410.png\n",
            "Feature extracted from ./data/743.png\n"
          ]
        },
        {
          "output_type": "stream",
          "name": "stderr",
          "text": [
            "Extracting features:  86%|████████▌ | 1306/1518 [02:14<00:31,  6.80it/s]"
          ]
        },
        {
          "output_type": "stream",
          "name": "stdout",
          "text": [
            "Feature extracted from ./data/1032.png\n",
            "Feature extracted from ./data/1512.png\n"
          ]
        },
        {
          "output_type": "stream",
          "name": "stderr",
          "text": [
            "Extracting features:  86%|████████▌ | 1308/1518 [02:15<00:31,  6.63it/s]"
          ]
        },
        {
          "output_type": "stream",
          "name": "stdout",
          "text": [
            "Feature extracted from ./data/1074.png\n",
            "Feature extracted from ./data/445.png\n"
          ]
        },
        {
          "output_type": "stream",
          "name": "stderr",
          "text": [
            "Extracting features:  86%|████████▋ | 1310/1518 [02:15<00:29,  7.08it/s]"
          ]
        },
        {
          "output_type": "stream",
          "name": "stdout",
          "text": [
            "Feature extracted from ./data/1142.png\n",
            "Feature extracted from ./data/1270.png\n"
          ]
        },
        {
          "output_type": "stream",
          "name": "stderr",
          "text": [
            "\rExtracting features:  86%|████████▋ | 1312/1518 [02:15<00:25,  8.02it/s]"
          ]
        },
        {
          "output_type": "stream",
          "name": "stdout",
          "text": [
            "Feature extracted from ./data/959.png\n",
            "Feature extracted from ./data/92.png\n"
          ]
        },
        {
          "output_type": "stream",
          "name": "stderr",
          "text": [
            "\rExtracting features:  87%|████████▋ | 1314/1518 [02:15<00:22,  8.88it/s]"
          ]
        },
        {
          "output_type": "stream",
          "name": "stdout",
          "text": [
            "Feature extracted from ./data/294.png\n",
            "Feature extracted from ./data/312.png\n",
            "Feature extracted from ./data/844.png\n"
          ]
        },
        {
          "output_type": "stream",
          "name": "stderr",
          "text": [
            "Extracting features:  87%|████████▋ | 1317/1518 [02:16<00:21,  9.22it/s]"
          ]
        },
        {
          "output_type": "stream",
          "name": "stdout",
          "text": [
            "Feature extracted from ./data/610.png\n",
            "Feature extracted from ./data/209.png\n"
          ]
        },
        {
          "output_type": "stream",
          "name": "stderr",
          "text": [
            "Extracting features:  87%|████████▋ | 1320/1518 [02:16<00:20,  9.65it/s]"
          ]
        },
        {
          "output_type": "stream",
          "name": "stdout",
          "text": [
            "Feature extracted from ./data/120.png\n",
            "Feature extracted from ./data/164.png\n",
            "Feature extracted from ./data/618.png\n"
          ]
        },
        {
          "output_type": "stream",
          "name": "stderr",
          "text": [
            "\rExtracting features:  87%|████████▋ | 1322/1518 [02:16<00:19,  9.87it/s]"
          ]
        },
        {
          "output_type": "stream",
          "name": "stdout",
          "text": [
            "Feature extracted from ./data/199.png\n",
            "Feature extracted from ./data/1002.png\n",
            "Feature extracted from ./data/1408.png\n"
          ]
        },
        {
          "output_type": "stream",
          "name": "stderr",
          "text": [
            "Extracting features:  87%|████████▋ | 1326/1518 [02:17<00:18, 10.18it/s]"
          ]
        },
        {
          "output_type": "stream",
          "name": "stdout",
          "text": [
            "Feature extracted from ./data/1080.png\n",
            "Feature extracted from ./data/1183.png\n",
            "Feature extracted from ./data/232.png\n"
          ]
        },
        {
          "output_type": "stream",
          "name": "stderr",
          "text": [
            "\rExtracting features:  87%|████████▋ | 1328/1518 [02:17<00:18, 10.26it/s]"
          ]
        },
        {
          "output_type": "stream",
          "name": "stdout",
          "text": [
            "Feature extracted from ./data/559.png\n",
            "Feature extracted from ./data/1098.png\n",
            "Feature extracted from ./data/1320.png\n"
          ]
        },
        {
          "output_type": "stream",
          "name": "stderr",
          "text": [
            "\rExtracting features:  88%|████████▊ | 1330/1518 [02:17<00:18, 10.31it/s]"
          ]
        },
        {
          "output_type": "stream",
          "name": "stdout",
          "text": [
            "Feature extracted from ./data/151.png\n",
            "Feature extracted from ./data/1158.png\n"
          ]
        },
        {
          "output_type": "stream",
          "name": "stderr",
          "text": [
            "\rExtracting features:  88%|████████▊ | 1332/1518 [02:17<00:18, 10.17it/s]"
          ]
        },
        {
          "output_type": "stream",
          "name": "stdout",
          "text": [
            "Feature extracted from ./data/629.png\n",
            "Feature extracted from ./data/1206.png\n"
          ]
        },
        {
          "output_type": "stream",
          "name": "stderr",
          "text": [
            "Extracting features:  88%|████████▊ | 1336/1518 [02:18<00:18, 10.00it/s]"
          ]
        },
        {
          "output_type": "stream",
          "name": "stdout",
          "text": [
            "Feature extracted from ./data/1132.png\n",
            "Feature extracted from ./data/942.png\n",
            "Feature extracted from ./data/407.png\n"
          ]
        },
        {
          "output_type": "stream",
          "name": "stderr",
          "text": [
            "\rExtracting features:  88%|████████▊ | 1338/1518 [02:18<00:17, 10.14it/s]"
          ]
        },
        {
          "output_type": "stream",
          "name": "stdout",
          "text": [
            "Feature extracted from ./data/297.png\n",
            "Feature extracted from ./data/163.png\n",
            "Feature extracted from ./data/25.png\n"
          ]
        },
        {
          "output_type": "stream",
          "name": "stderr",
          "text": [
            "Extracting features:  88%|████████▊ | 1342/1518 [02:18<00:17, 10.23it/s]"
          ]
        },
        {
          "output_type": "stream",
          "name": "stdout",
          "text": [
            "Feature extracted from ./data/360.png\n",
            "Feature extracted from ./data/447.png\n",
            "Feature extracted from ./data/1271.png\n"
          ]
        },
        {
          "output_type": "stream",
          "name": "stderr",
          "text": [
            "\rExtracting features:  89%|████████▊ | 1344/1518 [02:18<00:16, 10.29it/s]"
          ]
        },
        {
          "output_type": "stream",
          "name": "stdout",
          "text": [
            "Feature extracted from ./data/1450.png\n",
            "Feature extracted from ./data/104.png\n",
            "Feature extracted from ./data/195.png\n"
          ]
        },
        {
          "output_type": "stream",
          "name": "stderr",
          "text": [
            "Extracting features:  89%|████████▉ | 1348/1518 [02:19<00:16, 10.47it/s]"
          ]
        },
        {
          "output_type": "stream",
          "name": "stdout",
          "text": [
            "Feature extracted from ./data/602.png\n",
            "Feature extracted from ./data/346.png\n",
            "Feature extracted from ./data/1140.png\n"
          ]
        },
        {
          "output_type": "stream",
          "name": "stderr",
          "text": [
            "\rExtracting features:  89%|████████▉ | 1350/1518 [02:19<00:16, 10.48it/s]"
          ]
        },
        {
          "output_type": "stream",
          "name": "stdout",
          "text": [
            "Feature extracted from ./data/486.png\n",
            "Feature extracted from ./data/252.png\n",
            "Feature extracted from ./data/377.png\n"
          ]
        },
        {
          "output_type": "stream",
          "name": "stderr",
          "text": [
            "Extracting features:  89%|████████▉ | 1354/1518 [02:19<00:15, 10.44it/s]"
          ]
        },
        {
          "output_type": "stream",
          "name": "stdout",
          "text": [
            "Feature extracted from ./data/1511.png\n",
            "Feature extracted from ./data/527.png\n",
            "Feature extracted from ./data/768.png\n"
          ]
        },
        {
          "output_type": "stream",
          "name": "stderr",
          "text": [
            "\rExtracting features:  89%|████████▉ | 1356/1518 [02:20<00:15, 10.47it/s]"
          ]
        },
        {
          "output_type": "stream",
          "name": "stdout",
          "text": [
            "Feature extracted from ./data/992.png\n",
            "Feature extracted from ./data/557.png\n",
            "Feature extracted from ./data/679.png\n"
          ]
        },
        {
          "output_type": "stream",
          "name": "stderr",
          "text": [
            "Extracting features:  90%|████████▉ | 1360/1518 [02:20<00:15, 10.51it/s]"
          ]
        },
        {
          "output_type": "stream",
          "name": "stdout",
          "text": [
            "Feature extracted from ./data/509.png\n",
            "Feature extracted from ./data/399.png\n",
            "Feature extracted from ./data/706.png\n"
          ]
        },
        {
          "output_type": "stream",
          "name": "stderr",
          "text": [
            "\rExtracting features:  90%|████████▉ | 1362/1518 [02:20<00:14, 10.51it/s]"
          ]
        },
        {
          "output_type": "stream",
          "name": "stdout",
          "text": [
            "Feature extracted from ./data/1468.png\n",
            "Feature extracted from ./data/847.png\n",
            "Feature extracted from ./data/988.png\n"
          ]
        },
        {
          "output_type": "stream",
          "name": "stderr",
          "text": [
            "Extracting features:  90%|████████▉ | 1365/1518 [02:20<00:15,  9.72it/s]"
          ]
        },
        {
          "output_type": "stream",
          "name": "stdout",
          "text": [
            "Feature extracted from ./data/366.png\n",
            "Feature extracted from ./data/607.png\n",
            "Feature extracted from ./data/450.png\n"
          ]
        },
        {
          "output_type": "stream",
          "name": "stderr",
          "text": [
            "Extracting features:  90%|█████████ | 1369/1518 [02:21<00:14, 10.16it/s]"
          ]
        },
        {
          "output_type": "stream",
          "name": "stdout",
          "text": [
            "Feature extracted from ./data/162.png\n",
            "Feature extracted from ./data/899.png\n",
            "Feature extracted from ./data/37.png\n"
          ]
        },
        {
          "output_type": "stream",
          "name": "stderr",
          "text": [
            "\rExtracting features:  90%|█████████ | 1371/1518 [02:21<00:14, 10.25it/s]"
          ]
        },
        {
          "output_type": "stream",
          "name": "stdout",
          "text": [
            "Feature extracted from ./data/12.png\n",
            "Feature extracted from ./data/998.png\n",
            "Feature extracted from ./data/1430.png\n"
          ]
        },
        {
          "output_type": "stream",
          "name": "stderr",
          "text": [
            "\rExtracting features:  90%|█████████ | 1373/1518 [02:21<00:14, 10.25it/s]"
          ]
        },
        {
          "output_type": "stream",
          "name": "stdout",
          "text": [
            "Feature extracted from ./data/983.png\n",
            "Feature extracted from ./data/1091.png\n"
          ]
        },
        {
          "output_type": "stream",
          "name": "stderr",
          "text": [
            "Extracting features:  91%|█████████ | 1377/1518 [02:22<00:13, 10.19it/s]"
          ]
        },
        {
          "output_type": "stream",
          "name": "stdout",
          "text": [
            "Feature extracted from ./data/87.png\n",
            "Feature extracted from ./data/1440.png\n",
            "Feature extracted from ./data/941.png\n"
          ]
        },
        {
          "output_type": "stream",
          "name": "stderr",
          "text": [
            "\rExtracting features:  91%|█████████ | 1379/1518 [02:22<00:13, 10.12it/s]"
          ]
        },
        {
          "output_type": "stream",
          "name": "stdout",
          "text": [
            "Feature extracted from ./data/943.png\n",
            "Feature extracted from ./data/205.png\n",
            "Feature extracted from ./data/148.png\n"
          ]
        },
        {
          "output_type": "stream",
          "name": "stderr",
          "text": [
            "Extracting features:  91%|█████████ | 1383/1518 [02:22<00:13, 10.21it/s]"
          ]
        },
        {
          "output_type": "stream",
          "name": "stdout",
          "text": [
            "Feature extracted from ./data/1133.png\n",
            "Feature extracted from ./data/1014.png\n",
            "Feature extracted from ./data/746.png\n"
          ]
        },
        {
          "output_type": "stream",
          "name": "stderr",
          "text": [
            "\rExtracting features:  91%|█████████ | 1385/1518 [02:22<00:13, 10.10it/s]"
          ]
        },
        {
          "output_type": "stream",
          "name": "stdout",
          "text": [
            "Feature extracted from ./data/340.png\n",
            "Feature extracted from ./data/354.png\n",
            "Feature extracted from ./data/1517.png\n"
          ]
        },
        {
          "output_type": "stream",
          "name": "stderr",
          "text": [
            "Extracting features:  92%|█████████▏| 1389/1518 [02:23<00:12, 10.33it/s]"
          ]
        },
        {
          "output_type": "stream",
          "name": "stdout",
          "text": [
            "Feature extracted from ./data/858.png\n",
            "Feature extracted from ./data/1391.png\n",
            "Feature extracted from ./data/1187.png\n"
          ]
        },
        {
          "output_type": "stream",
          "name": "stderr",
          "text": [
            "\rExtracting features:  92%|█████████▏| 1391/1518 [02:23<00:12, 10.37it/s]"
          ]
        },
        {
          "output_type": "stream",
          "name": "stdout",
          "text": [
            "Feature extracted from ./data/1160.png\n",
            "Feature extracted from ./data/319.png\n",
            "Feature extracted from ./data/1315.png\n"
          ]
        },
        {
          "output_type": "stream",
          "name": "stderr",
          "text": [
            "\rExtracting features:  92%|█████████▏| 1393/1518 [02:23<00:12, 10.39it/s]"
          ]
        },
        {
          "output_type": "stream",
          "name": "stdout",
          "text": [
            "Feature extracted from ./data/1392.png\n",
            "Feature extracted from ./data/887.png\n"
          ]
        },
        {
          "output_type": "stream",
          "name": "stderr",
          "text": [
            "Extracting features:  92%|█████████▏| 1397/1518 [02:24<00:11, 10.25it/s]"
          ]
        },
        {
          "output_type": "stream",
          "name": "stdout",
          "text": [
            "Feature extracted from ./data/1496.png\n",
            "Feature extracted from ./data/53.png\n",
            "Feature extracted from ./data/147.png\n"
          ]
        },
        {
          "output_type": "stream",
          "name": "stderr",
          "text": [
            "\rExtracting features:  92%|█████████▏| 1399/1518 [02:24<00:11, 10.26it/s]"
          ]
        },
        {
          "output_type": "stream",
          "name": "stdout",
          "text": [
            "Feature extracted from ./data/949.png\n",
            "Feature extracted from ./data/1278.png\n",
            "Feature extracted from ./data/797.png\n"
          ]
        },
        {
          "output_type": "stream",
          "name": "stderr",
          "text": [
            "Extracting features:  92%|█████████▏| 1403/1518 [02:24<00:11, 10.41it/s]"
          ]
        },
        {
          "output_type": "stream",
          "name": "stdout",
          "text": [
            "Feature extracted from ./data/651.png\n",
            "Feature extracted from ./data/1457.png\n",
            "Feature extracted from ./data/487.png\n"
          ]
        },
        {
          "output_type": "stream",
          "name": "stderr",
          "text": [
            "\rExtracting features:  93%|█████████▎| 1405/1518 [02:24<00:11, 10.23it/s]"
          ]
        },
        {
          "output_type": "stream",
          "name": "stdout",
          "text": [
            "Feature extracted from ./data/967.png\n",
            "Feature extracted from ./data/161.png\n",
            "Feature extracted from ./data/990.png\n"
          ]
        },
        {
          "output_type": "stream",
          "name": "stderr",
          "text": [
            "Extracting features:  93%|█████████▎| 1409/1518 [02:25<00:10, 10.37it/s]"
          ]
        },
        {
          "output_type": "stream",
          "name": "stdout",
          "text": [
            "Feature extracted from ./data/1356.png\n",
            "Feature extracted from ./data/1346.png\n",
            "Feature extracted from ./data/49.png\n"
          ]
        },
        {
          "output_type": "stream",
          "name": "stderr",
          "text": [
            "\rExtracting features:  93%|█████████▎| 1411/1518 [02:25<00:10, 10.23it/s]"
          ]
        },
        {
          "output_type": "stream",
          "name": "stdout",
          "text": [
            "Feature extracted from ./data/409.png\n",
            "Feature extracted from ./data/1324.png\n"
          ]
        },
        {
          "output_type": "stream",
          "name": "stderr",
          "text": [
            "\rExtracting features:  93%|█████████▎| 1413/1518 [02:25<00:11,  9.54it/s]"
          ]
        },
        {
          "output_type": "stream",
          "name": "stdout",
          "text": [
            "Feature extracted from ./data/1001.png\n",
            "Feature extracted from ./data/222.png\n"
          ]
        },
        {
          "output_type": "stream",
          "name": "stderr",
          "text": [
            "Extracting features:  93%|█████████▎| 1415/1518 [02:25<00:12,  8.25it/s]"
          ]
        },
        {
          "output_type": "stream",
          "name": "stdout",
          "text": [
            "Feature extracted from ./data/48.png\n",
            "Feature extracted from ./data/673.png\n"
          ]
        },
        {
          "output_type": "stream",
          "name": "stderr",
          "text": [
            "Extracting features:  93%|█████████▎| 1417/1518 [02:26<00:13,  7.45it/s]"
          ]
        },
        {
          "output_type": "stream",
          "name": "stdout",
          "text": [
            "Feature extracted from ./data/1034.png\n",
            "Feature extracted from ./data/539.png\n"
          ]
        },
        {
          "output_type": "stream",
          "name": "stderr",
          "text": [
            "Extracting features:  93%|█████████▎| 1419/1518 [02:26<00:14,  7.03it/s]"
          ]
        },
        {
          "output_type": "stream",
          "name": "stdout",
          "text": [
            "Feature extracted from ./data/1176.png\n",
            "Feature extracted from ./data/1151.png\n"
          ]
        },
        {
          "output_type": "stream",
          "name": "stderr",
          "text": [
            "Extracting features:  94%|█████████▎| 1421/1518 [02:26<00:14,  6.81it/s]"
          ]
        },
        {
          "output_type": "stream",
          "name": "stdout",
          "text": [
            "Feature extracted from ./data/762.png\n",
            "Feature extracted from ./data/668.png\n"
          ]
        },
        {
          "output_type": "stream",
          "name": "stderr",
          "text": [
            "Extracting features:  94%|█████████▎| 1423/1518 [02:27<00:14,  6.63it/s]"
          ]
        },
        {
          "output_type": "stream",
          "name": "stdout",
          "text": [
            "Feature extracted from ./data/190.png\n",
            "Feature extracted from ./data/1178.png\n"
          ]
        },
        {
          "output_type": "stream",
          "name": "stderr",
          "text": [
            "Extracting features:  94%|█████████▍| 1425/1518 [02:27<00:13,  7.01it/s]"
          ]
        },
        {
          "output_type": "stream",
          "name": "stdout",
          "text": [
            "Feature extracted from ./data/724.png\n",
            "Feature extracted from ./data/702.png\n"
          ]
        },
        {
          "output_type": "stream",
          "name": "stderr",
          "text": [
            "Extracting features:  94%|█████████▍| 1427/1518 [02:27<00:12,  7.31it/s]"
          ]
        },
        {
          "output_type": "stream",
          "name": "stdout",
          "text": [
            "Feature extracted from ./data/1246.png\n",
            "Feature extracted from ./data/1028.png\n"
          ]
        },
        {
          "output_type": "stream",
          "name": "stderr",
          "text": [
            "Extracting features:  94%|█████████▍| 1429/1518 [02:27<00:10,  8.34it/s]"
          ]
        },
        {
          "output_type": "stream",
          "name": "stdout",
          "text": [
            "Feature extracted from ./data/389.png\n",
            "Feature extracted from ./data/296.png\n",
            "Feature extracted from ./data/1413.png\n"
          ]
        },
        {
          "output_type": "stream",
          "name": "stderr",
          "text": [
            "Extracting features:  94%|█████████▍| 1433/1518 [02:28<00:08,  9.49it/s]"
          ]
        },
        {
          "output_type": "stream",
          "name": "stdout",
          "text": [
            "Feature extracted from ./data/723.png\n",
            "Feature extracted from ./data/637.png\n",
            "Feature extracted from ./data/518.png\n"
          ]
        },
        {
          "output_type": "stream",
          "name": "stderr",
          "text": [
            "\rExtracting features:  95%|█████████▍| 1435/1518 [02:28<00:08,  9.83it/s]"
          ]
        },
        {
          "output_type": "stream",
          "name": "stdout",
          "text": [
            "Feature extracted from ./data/472.png\n",
            "Feature extracted from ./data/23.png\n",
            "Feature extracted from ./data/189.png\n"
          ]
        },
        {
          "output_type": "stream",
          "name": "stderr",
          "text": [
            "Extracting features:  95%|█████████▍| 1438/1518 [02:28<00:08,  9.83it/s]"
          ]
        },
        {
          "output_type": "stream",
          "name": "stdout",
          "text": [
            "Feature extracted from ./data/200.png\n",
            "Feature extracted from ./data/1290.png\n"
          ]
        },
        {
          "output_type": "stream",
          "name": "stderr",
          "text": [
            "Extracting features:  95%|█████████▍| 1440/1518 [02:29<00:08,  9.71it/s]"
          ]
        },
        {
          "output_type": "stream",
          "name": "stdout",
          "text": [
            "Feature extracted from ./data/1317.png\n",
            "Feature extracted from ./data/809.png\n",
            "Feature extracted from ./data/840.png\n"
          ]
        },
        {
          "output_type": "stream",
          "name": "stderr",
          "text": [
            "Extracting features:  95%|█████████▌| 1444/1518 [02:29<00:07, 10.31it/s]"
          ]
        },
        {
          "output_type": "stream",
          "name": "stdout",
          "text": [
            "Feature extracted from ./data/1308.png\n",
            "Feature extracted from ./data/1236.png\n",
            "Feature extracted from ./data/904.png\n"
          ]
        },
        {
          "output_type": "stream",
          "name": "stderr",
          "text": [
            "\rExtracting features:  95%|█████████▌| 1446/1518 [02:29<00:06, 10.40it/s]"
          ]
        },
        {
          "output_type": "stream",
          "name": "stdout",
          "text": [
            "Feature extracted from ./data/524.png\n",
            "Feature extracted from ./data/1364.png\n",
            "Feature extracted from ./data/1104.png\n"
          ]
        },
        {
          "output_type": "stream",
          "name": "stderr",
          "text": [
            "Extracting features:  96%|█████████▌| 1450/1518 [02:29<00:06, 10.47it/s]"
          ]
        },
        {
          "output_type": "stream",
          "name": "stdout",
          "text": [
            "Feature extracted from ./data/1029.png\n",
            "Feature extracted from ./data/889.png\n",
            "Feature extracted from ./data/1146.png\n"
          ]
        },
        {
          "output_type": "stream",
          "name": "stderr",
          "text": [
            "\rExtracting features:  96%|█████████▌| 1452/1518 [02:30<00:06, 10.14it/s]"
          ]
        },
        {
          "output_type": "stream",
          "name": "stdout",
          "text": [
            "Feature extracted from ./data/1333.png\n",
            "Feature extracted from ./data/511.png\n"
          ]
        },
        {
          "output_type": "stream",
          "name": "stderr",
          "text": [
            "\rExtracting features:  96%|█████████▌| 1454/1518 [02:30<00:06,  9.99it/s]"
          ]
        },
        {
          "output_type": "stream",
          "name": "stdout",
          "text": [
            "Feature extracted from ./data/979.png\n",
            "Feature extracted from ./data/1143.png\n",
            "Feature extracted from ./data/544.png\n"
          ]
        },
        {
          "output_type": "stream",
          "name": "stderr",
          "text": [
            "Extracting features:  96%|█████████▌| 1458/1518 [02:30<00:05, 10.22it/s]"
          ]
        },
        {
          "output_type": "stream",
          "name": "stdout",
          "text": [
            "Feature extracted from ./data/1062.png\n",
            "Feature extracted from ./data/1434.png\n",
            "Feature extracted from ./data/1036.png\n"
          ]
        },
        {
          "output_type": "stream",
          "name": "stderr",
          "text": [
            "\rExtracting features:  96%|█████████▌| 1460/1518 [02:30<00:05, 10.29it/s]"
          ]
        },
        {
          "output_type": "stream",
          "name": "stdout",
          "text": [
            "Feature extracted from ./data/111.png\n",
            "Feature extracted from ./data/166.png\n",
            "Feature extracted from ./data/133.png\n"
          ]
        },
        {
          "output_type": "stream",
          "name": "stderr",
          "text": [
            "Extracting features:  96%|█████████▋| 1464/1518 [02:31<00:05, 10.26it/s]"
          ]
        },
        {
          "output_type": "stream",
          "name": "stdout",
          "text": [
            "Feature extracted from ./data/306.png\n",
            "Feature extracted from ./data/1327.png\n",
            "Feature extracted from ./data/571.png\n"
          ]
        },
        {
          "output_type": "stream",
          "name": "stderr",
          "text": [
            "\rExtracting features:  97%|█████████▋| 1466/1518 [02:31<00:05, 10.31it/s]"
          ]
        },
        {
          "output_type": "stream",
          "name": "stdout",
          "text": [
            "Feature extracted from ./data/667.png\n",
            "Feature extracted from ./data/670.png\n",
            "Feature extracted from ./data/892.png\n"
          ]
        },
        {
          "output_type": "stream",
          "name": "stderr",
          "text": [
            "Extracting features:  97%|█████████▋| 1470/1518 [02:31<00:04, 10.39it/s]"
          ]
        },
        {
          "output_type": "stream",
          "name": "stdout",
          "text": [
            "Feature extracted from ./data/122.png\n",
            "Feature extracted from ./data/42.png\n",
            "Feature extracted from ./data/510.png\n"
          ]
        },
        {
          "output_type": "stream",
          "name": "stderr",
          "text": [
            "\rExtracting features:  97%|█████████▋| 1472/1518 [02:32<00:04, 10.03it/s]"
          ]
        },
        {
          "output_type": "stream",
          "name": "stdout",
          "text": [
            "Feature extracted from ./data/271.png\n",
            "Feature extracted from ./data/331.png\n"
          ]
        },
        {
          "output_type": "stream",
          "name": "stderr",
          "text": [
            "\rExtracting features:  97%|█████████▋| 1474/1518 [02:32<00:04, 10.14it/s]"
          ]
        },
        {
          "output_type": "stream",
          "name": "stdout",
          "text": [
            "Feature extracted from ./data/1510.png\n",
            "Feature extracted from ./data/586.png\n",
            "Feature extracted from ./data/1449.png\n"
          ]
        },
        {
          "output_type": "stream",
          "name": "stderr",
          "text": [
            "Extracting features:  97%|█████████▋| 1478/1518 [02:32<00:03, 10.30it/s]"
          ]
        },
        {
          "output_type": "stream",
          "name": "stdout",
          "text": [
            "Feature extracted from ./data/1485.png\n",
            "Feature extracted from ./data/138.png\n",
            "Feature extracted from ./data/391.png\n"
          ]
        },
        {
          "output_type": "stream",
          "name": "stderr",
          "text": [
            "\rExtracting features:  97%|█████████▋| 1480/1518 [02:32<00:03, 10.30it/s]"
          ]
        },
        {
          "output_type": "stream",
          "name": "stdout",
          "text": [
            "Feature extracted from ./data/60.png\n",
            "Feature extracted from ./data/494.png\n",
            "Feature extracted from ./data/86.png\n"
          ]
        },
        {
          "output_type": "stream",
          "name": "stderr",
          "text": [
            "Extracting features:  98%|█████████▊| 1484/1518 [02:33<00:03, 10.32it/s]"
          ]
        },
        {
          "output_type": "stream",
          "name": "stdout",
          "text": [
            "Feature extracted from ./data/1147.png\n",
            "Feature extracted from ./data/772.png\n",
            "Feature extracted from ./data/985.png\n"
          ]
        },
        {
          "output_type": "stream",
          "name": "stderr",
          "text": [
            "\rExtracting features:  98%|█████████▊| 1486/1518 [02:33<00:03, 10.33it/s]"
          ]
        },
        {
          "output_type": "stream",
          "name": "stdout",
          "text": [
            "Feature extracted from ./data/631.png\n",
            "Feature extracted from ./data/419.png\n",
            "Feature extracted from ./data/805.png\n"
          ]
        },
        {
          "output_type": "stream",
          "name": "stderr",
          "text": [
            "Extracting features:  98%|█████████▊| 1490/1518 [02:33<00:02, 10.34it/s]"
          ]
        },
        {
          "output_type": "stream",
          "name": "stdout",
          "text": [
            "Feature extracted from ./data/1506.png\n",
            "Feature extracted from ./data/64.png\n",
            "Feature extracted from ./data/123.png\n"
          ]
        },
        {
          "output_type": "stream",
          "name": "stderr",
          "text": [
            "\rExtracting features:  98%|█████████▊| 1492/1518 [02:34<00:02, 10.38it/s]"
          ]
        },
        {
          "output_type": "stream",
          "name": "stdout",
          "text": [
            "Feature extracted from ./data/1191.png\n",
            "Feature extracted from ./data/519.png\n",
            "Feature extracted from ./data/1265.png\n"
          ]
        },
        {
          "output_type": "stream",
          "name": "stderr",
          "text": [
            "Extracting features:  99%|█████████▊| 1496/1518 [02:34<00:02, 10.19it/s]"
          ]
        },
        {
          "output_type": "stream",
          "name": "stdout",
          "text": [
            "Feature extracted from ./data/434.png\n",
            "Feature extracted from ./data/1229.png\n",
            "Feature extracted from ./data/1406.png\n"
          ]
        },
        {
          "output_type": "stream",
          "name": "stderr",
          "text": [
            "\rExtracting features:  99%|█████████▊| 1498/1518 [02:34<00:01, 10.22it/s]"
          ]
        },
        {
          "output_type": "stream",
          "name": "stdout",
          "text": [
            "Feature extracted from ./data/1488.png\n",
            "Feature extracted from ./data/787.png\n",
            "Feature extracted from ./data/78.png\n"
          ]
        },
        {
          "output_type": "stream",
          "name": "stderr",
          "text": [
            "Extracting features:  99%|█████████▉| 1502/1518 [02:35<00:01, 10.38it/s]"
          ]
        },
        {
          "output_type": "stream",
          "name": "stdout",
          "text": [
            "Feature extracted from ./data/282.png\n",
            "Feature extracted from ./data/562.png\n",
            "Feature extracted from ./data/339.png\n"
          ]
        },
        {
          "output_type": "stream",
          "name": "stderr",
          "text": [
            "\rExtracting features:  99%|█████████▉| 1504/1518 [02:35<00:01, 10.05it/s]"
          ]
        },
        {
          "output_type": "stream",
          "name": "stdout",
          "text": [
            "Feature extracted from ./data/466.png\n",
            "Feature extracted from ./data/1341.png\n"
          ]
        },
        {
          "output_type": "stream",
          "name": "stderr",
          "text": [
            "\rExtracting features:  99%|█████████▉| 1506/1518 [02:35<00:01,  9.94it/s]"
          ]
        },
        {
          "output_type": "stream",
          "name": "stdout",
          "text": [
            "Feature extracted from ./data/358.png\n",
            "Feature extracted from ./data/516.png\n",
            "Feature extracted from ./data/400.png\n"
          ]
        },
        {
          "output_type": "stream",
          "name": "stderr",
          "text": [
            "Extracting features:  99%|█████████▉| 1510/1518 [02:35<00:00, 10.18it/s]"
          ]
        },
        {
          "output_type": "stream",
          "name": "stdout",
          "text": [
            "Feature extracted from ./data/552.png\n",
            "Feature extracted from ./data/1156.png\n",
            "Feature extracted from ./data/1269.png\n"
          ]
        },
        {
          "output_type": "stream",
          "name": "stderr",
          "text": [
            "\rExtracting features: 100%|█████████▉| 1512/1518 [02:36<00:00, 10.25it/s]"
          ]
        },
        {
          "output_type": "stream",
          "name": "stdout",
          "text": [
            "Feature extracted from ./data/1171.png\n",
            "Feature extracted from ./data/1148.png\n",
            "Feature extracted from ./data/596.png\n"
          ]
        },
        {
          "output_type": "stream",
          "name": "stderr",
          "text": [
            "Extracting features: 100%|█████████▉| 1516/1518 [02:36<00:00, 10.19it/s]"
          ]
        },
        {
          "output_type": "stream",
          "name": "stdout",
          "text": [
            "Feature extracted from ./data/1301.png\n",
            "Feature extracted from ./data/1208.png\n",
            "Feature extracted from ./data/1279.png\n"
          ]
        },
        {
          "output_type": "stream",
          "name": "stderr",
          "text": [
            "Extracting features: 100%|██████████| 1518/1518 [02:36<00:00,  9.69it/s]"
          ]
        },
        {
          "output_type": "stream",
          "name": "stdout",
          "text": [
            "Feature extracted from ./data/1347.png\n",
            "Feature extracted from ./data/344.png\n"
          ]
        },
        {
          "output_type": "stream",
          "name": "stderr",
          "text": [
            "\n"
          ]
        },
        {
          "output_type": "stream",
          "name": "stdout",
          "text": [
            "去重后的图像数量: 776\n",
            "./data/1015.png\n",
            "./data/169.png\n",
            "./data/802.png\n",
            "./data/894.png\n",
            "./data/1025.png\n",
            "./data/1053.png\n",
            "./data/580.png\n",
            "./data/608.png\n",
            "./data/725.png\n",
            "./data/1514.png\n",
            "./data/1470.png\n",
            "./data/1200.png\n",
            "./data/1071.png\n",
            "./data/394.png\n",
            "./data/325.png\n",
            "./data/425.png\n",
            "./data/1050.png\n",
            "./data/874.png\n",
            "./data/1471.png\n",
            "./data/897.png\n",
            "./data/46.png\n",
            "./data/9.png\n",
            "./data/581.png\n",
            "./data/427.png\n",
            "./data/1257.png\n",
            "./data/165.png\n",
            "./data/994.png\n",
            "./data/301.png\n",
            "./data/857.png\n",
            "./data/1103.png\n",
            "./data/114.png\n",
            "./data/652.png\n",
            "./data/589.png\n",
            "./data/1416.png\n",
            "./data/1331.png\n",
            "./data/698.png\n",
            "./data/187.png\n",
            "./data/263.png\n",
            "./data/91.png\n",
            "./data/947.png\n",
            "./data/1311.png\n",
            "./data/745.png\n",
            "./data/642.png\n",
            "./data/553.png\n",
            "./data/1398.png\n",
            "./data/470.png\n",
            "./data/478.png\n",
            "./data/45.png\n",
            "./data/270.png\n",
            "./data/775.png\n",
            "./data/688.png\n",
            "./data/1107.png\n",
            "./data/1127.png\n",
            "./data/1486.png\n",
            "./data/1461.png\n",
            "./data/0.png\n",
            "./data/54.png\n",
            "./data/709.png\n",
            "./data/481.png\n",
            "./data/525.png\n",
            "./data/691.png\n",
            "./data/1123.png\n",
            "./data/1056.png\n",
            "./data/1059.png\n",
            "./data/208.png\n",
            "./data/728.png\n",
            "./data/236.png\n",
            "./data/535.png\n",
            "./data/467.png\n",
            "./data/968.png\n",
            "./data/603.png\n",
            "./data/1058.png\n",
            "./data/661.png\n",
            "./data/1389.png\n",
            "./data/1.png\n",
            "./data/628.png\n",
            "./data/666.png\n",
            "./data/678.png\n",
            "./data/1411.png\n",
            "./data/1209.png\n",
            "./data/664.png\n",
            "./data/1363.png\n",
            "./data/799.png\n",
            "./data/1237.png\n",
            "./data/1141.png\n",
            "./data/759.png\n",
            "./data/304.png\n",
            "./data/173.png\n",
            "./data/373.png\n",
            "./data/1177.png\n",
            "./data/936.png\n",
            "./data/1357.png\n",
            "./data/662.png\n",
            "./data/639.png\n",
            "./data/1479.png\n",
            "./data/1076.png\n",
            "./data/1222.png\n",
            "./data/545.png\n",
            "./data/829.png\n",
            "./data/1282.png\n",
            "./data/1119.png\n",
            "./data/253.png\n",
            "./data/606.png\n",
            "./data/1136.png\n",
            "./data/684.png\n",
            "./data/1113.png\n",
            "./data/886.png\n",
            "./data/1358.png\n",
            "./data/1100.png\n",
            "./data/99.png\n",
            "./data/207.png\n",
            "./data/131.png\n",
            "./data/1348.png\n",
            "./data/1504.png\n",
            "./data/1286.png\n",
            "./data/1475.png\n",
            "./data/150.png\n",
            "./data/722.png\n",
            "./data/1281.png\n",
            "./data/1088.png\n",
            "./data/1064.png\n",
            "./data/1258.png\n",
            "./data/204.png\n",
            "./data/380.png\n",
            "./data/880.png\n",
            "./data/638.png\n",
            "./data/898.png\n",
            "./data/1109.png\n",
            "./data/719.png\n",
            "./data/1018.png\n",
            "./data/641.png\n",
            "./data/100.png\n",
            "./data/550.png\n",
            "./data/1264.png\n",
            "./data/159.png\n",
            "./data/600.png\n",
            "./data/1316.png\n",
            "./data/1145.png\n",
            "./data/701.png\n",
            "./data/457.png\n",
            "./data/191.png\n",
            "./data/920.png\n",
            "./data/1035.png\n",
            "./data/1266.png\n",
            "./data/428.png\n",
            "./data/1055.png\n",
            "./data/828.png\n",
            "./data/1243.png\n",
            "./data/529.png\n",
            "./data/717.png\n",
            "./data/921.png\n",
            "./data/753.png\n",
            "./data/1094.png\n",
            "./data/288.png\n",
            "./data/1040.png\n",
            "./data/332.png\n",
            "./data/335.png\n",
            "./data/866.png\n",
            "./data/420.png\n",
            "./data/314.png\n",
            "./data/1435.png\n",
            "./data/11.png\n",
            "./data/395.png\n",
            "./data/62.png\n",
            "./data/257.png\n",
            "./data/72.png\n",
            "./data/695.png\n",
            "./data/900.png\n",
            "./data/3.png\n",
            "./data/1328.png\n",
            "./data/575.png\n",
            "./data/1424.png\n",
            "./data/1438.png\n",
            "./data/239.png\n",
            "./data/1012.png\n",
            "./data/461.png\n",
            "./data/55.png\n",
            "./data/26.png\n",
            "./data/735.png\n",
            "./data/599.png\n",
            "./data/226.png\n",
            "./data/192.png\n",
            "./data/308.png\n",
            "./data/307.png\n",
            "./data/367.png\n",
            "./data/870.png\n",
            "./data/843.png\n",
            "./data/903.png\n",
            "./data/554.png\n",
            "./data/1112.png\n",
            "./data/492.png\n",
            "./data/1383.png\n",
            "./data/80.png\n",
            "./data/1465.png\n",
            "./data/1003.png\n",
            "./data/85.png\n",
            "./data/404.png\n",
            "./data/7.png\n",
            "./data/1493.png\n",
            "./data/1335.png\n",
            "./data/498.png\n",
            "./data/119.png\n",
            "./data/506.png\n",
            "./data/619.png\n",
            "./data/1369.png\n",
            "./data/1298.png\n",
            "./data/1061.png\n",
            "./data/437.png\n",
            "./data/566.png\n",
            "./data/1309.png\n",
            "./data/1452.png\n",
            "./data/1211.png\n",
            "./data/197.png\n",
            "./data/1421.png\n",
            "./data/954.png\n",
            "./data/1016.png\n",
            "./data/1359.png\n",
            "./data/397.png\n",
            "./data/685.png\n",
            "./data/1121.png\n",
            "./data/1380.png\n",
            "./data/1354.png\n",
            "./data/274.png\n",
            "./data/390.png\n",
            "./data/1192.png\n",
            "./data/350.png\n",
            "./data/591.png\n",
            "./data/1000.png\n",
            "./data/158.png\n",
            "./data/422.png\n",
            "./data/930.png\n",
            "./data/548.png\n",
            "./data/244.png\n",
            "./data/785.png\n",
            "./data/202.png\n",
            "./data/657.png\n",
            "./data/814.png\n",
            "./data/820.png\n",
            "./data/965.png\n",
            "./data/149.png\n",
            "./data/1439.png\n",
            "./data/855.png\n",
            "./data/1423.png\n",
            "./data/803.png\n",
            "./data/1326.png\n",
            "./data/732.png\n",
            "./data/1259.png\n",
            "./data/1082.png\n",
            "./data/1433.png\n",
            "./data/1505.png\n",
            "./data/89.png\n",
            "./data/1069.png\n",
            "./data/258.png\n",
            "./data/934.png\n",
            "./data/906.png\n",
            "./data/613.png\n",
            "./data/752.png\n",
            "./data/611.png\n",
            "./data/882.png\n",
            "./data/375.png\n",
            "./data/1501.png\n",
            "./data/893.png\n",
            "./data/686.png\n",
            "./data/110.png\n",
            "./data/1042.png\n",
            "./data/778.png\n",
            "./data/1004.png\n",
            "./data/439.png\n",
            "./data/537.png\n",
            "./data/298.png\n",
            "./data/948.png\n",
            "./data/660.png\n",
            "./data/1005.png\n",
            "./data/1046.png\n",
            "./data/1329.png\n",
            "./data/730.png\n",
            "./data/1067.png\n",
            "./data/67.png\n",
            "./data/813.png\n",
            "./data/715.png\n",
            "./data/1041.png\n",
            "./data/1203.png\n",
            "./data/206.png\n",
            "./data/388.png\n",
            "./data/1284.png\n",
            "./data/1386.png\n",
            "./data/57.png\n",
            "./data/1396.png\n",
            "./data/396.png\n",
            "./data/490.png\n",
            "./data/38.png\n",
            "./data/593.png\n",
            "./data/1038.png\n",
            "./data/1508.png\n",
            "./data/687.png\n",
            "./data/650.png\n",
            "./data/689.png\n",
            "./data/496.png\n",
            "./data/1021.png\n",
            "./data/1011.png\n",
            "./data/960.png\n",
            "./data/125.png\n",
            "./data/742.png\n",
            "./data/480.png\n",
            "./data/1368.png\n",
            "./data/264.png\n",
            "./data/1023.png\n",
            "./data/952.png\n",
            "./data/769.png\n",
            "./data/310.png\n",
            "./data/327.png\n",
            "./data/1415.png\n",
            "./data/33.png\n",
            "./data/1448.png\n",
            "./data/590.png\n",
            "./data/872.png\n",
            "./data/1336.png\n",
            "./data/220.png\n",
            "./data/1253.png\n",
            "./data/925.png\n",
            "./data/105.png\n",
            "./data/616.png\n",
            "./data/1274.png\n",
            "./data/577.png\n",
            "./data/570.png\n",
            "./data/58.png\n",
            "./data/1478.png\n",
            "./data/368.png\n",
            "./data/644.png\n",
            "./data/76.png\n",
            "./data/1458.png\n",
            "./data/135.png\n",
            "./data/1198.png\n",
            "./data/24.png\n",
            "./data/764.png\n",
            "./data/283.png\n",
            "./data/1228.png\n",
            "./data/180.png\n",
            "./data/567.png\n",
            "./data/356.png\n",
            "./data/798.png\n",
            "./data/817.png\n",
            "./data/139.png\n",
            "./data/286.png\n",
            "./data/1125.png\n",
            "./data/1330.png\n",
            "./data/601.png\n",
            "./data/646.png\n",
            "./data/1254.png\n",
            "./data/43.png\n",
            "./data/497.png\n",
            "./data/1378.png\n",
            "./data/71.png\n",
            "./data/912.png\n",
            "./data/1312.png\n",
            "./data/1081.png\n",
            "./data/144.png\n",
            "./data/926.png\n",
            "./data/1293.png\n",
            "./data/871.png\n",
            "./data/260.png\n",
            "./data/617.png\n",
            "./data/1013.png\n",
            "./data/783.png\n",
            "./data/1487.png\n",
            "./data/1235.png\n",
            "./data/682.png\n",
            "./data/1051.png\n",
            "./data/597.png\n",
            "./data/940.png\n",
            "./data/989.png\n",
            "./data/465.png\n",
            "./data/305.png\n",
            "./data/313.png\n",
            "./data/126.png\n",
            "./data/1384.png\n",
            "./data/1027.png\n",
            "./data/178.png\n",
            "./data/705.png\n",
            "./data/29.png\n",
            "./data/1376.png\n",
            "./data/477.png\n",
            "./data/1095.png\n",
            "./data/292.png\n",
            "./data/423.png\n",
            "./data/932.png\n",
            "./data/1366.png\n",
            "./data/950.png\n",
            "./data/1197.png\n",
            "./data/826.png\n",
            "./data/1287.png\n",
            "./data/634.png\n",
            "./data/621.png\n",
            "./data/547.png\n",
            "./data/1009.png\n",
            "./data/132.png\n",
            "./data/649.png\n",
            "./data/543.png\n",
            "./data/505.png\n",
            "./data/28.png\n",
            "./data/595.png\n",
            "./data/249.png\n",
            "./data/1238.png\n",
            "./data/1394.png\n",
            "./data/31.png\n",
            "./data/549.png\n",
            "./data/287.png\n",
            "./data/30.png\n",
            "./data/1319.png\n",
            "./data/493.png\n",
            "./data/636.png\n",
            "./data/1077.png\n",
            "./data/520.png\n",
            "./data/913.png\n",
            "./data/513.png\n",
            "./data/1403.png\n",
            "./data/922.png\n",
            "./data/1459.png\n",
            "./data/156.png\n",
            "./data/370.png\n",
            "./data/1515.png\n",
            "./data/52.png\n",
            "./data/17.png\n",
            "./data/1037.png\n",
            "./data/1118.png\n",
            "./data/1427.png\n",
            "./data/964.png\n",
            "./data/433.png\n",
            "./data/576.png\n",
            "./data/1020.png\n",
            "./data/1516.png\n",
            "./data/1472.png\n",
            "./data/284.png\n",
            "./data/229.png\n",
            "./data/656.png\n",
            "./data/101.png\n",
            "./data/1135.png\n",
            "./data/993.png\n",
            "./data/986.png\n",
            "./data/630.png\n",
            "./data/245.png\n",
            "./data/154.png\n",
            "./data/766.png\n",
            "./data/196.png\n",
            "./data/999.png\n",
            "./data/41.png\n",
            "./data/738.png\n",
            "./data/1048.png\n",
            "./data/966.png\n",
            "./data/495.png\n",
            "./data/836.png\n",
            "./data/8.png\n",
            "./data/852.png\n",
            "./data/13.png\n",
            "./data/711.png\n",
            "./data/946.png\n",
            "./data/436.png\n",
            "./data/359.png\n",
            "./data/734.png\n",
            "./data/491.png\n",
            "./data/801.png\n",
            "./data/741.png\n",
            "./data/962.png\n",
            "./data/923.png\n",
            "./data/1026.png\n",
            "./data/1480.png\n",
            "./data/842.png\n",
            "./data/485.png\n",
            "./data/707.png\n",
            "./data/1497.png\n",
            "./data/609.png\n",
            "./data/1361.png\n",
            "./data/351.png\n",
            "./data/915.png\n",
            "./data/816.png\n",
            "./data/429.png\n",
            "./data/937.png\n",
            "./data/905.png\n",
            "./data/1499.png\n",
            "./data/647.png\n",
            "./data/383.png\n",
            "./data/256.png\n",
            "./data/1490.png\n",
            "./data/1154.png\n",
            "./data/957.png\n",
            "./data/1060.png\n",
            "./data/1165.png\n",
            "./data/418.png\n",
            "./data/193.png\n",
            "./data/228.png\n",
            "./data/1111.png\n",
            "./data/780.png\n",
            "./data/118.png\n",
            "./data/632.png\n",
            "./data/321.png\n",
            "./data/194.png\n",
            "./data/788.png\n",
            "./data/784.png\n",
            "./data/34.png\n",
            "./data/212.png\n",
            "./data/401.png\n",
            "./data/633.png\n",
            "./data/1149.png\n",
            "./data/1381.png\n",
            "./data/69.png\n",
            "./data/1477.png\n",
            "./data/1377.png\n",
            "./data/972.png\n",
            "./data/1063.png\n",
            "./data/507.png\n",
            "./data/488.png\n",
            "./data/761.png\n",
            "./data/1304.png\n",
            "./data/1365.png\n",
            "./data/1405.png\n",
            "./data/973.png\n",
            "./data/438.png\n",
            "./data/1360.png\n",
            "./data/928.png\n",
            "./data/653.png\n",
            "./data/794.png\n",
            "./data/376.png\n",
            "./data/756.png\n",
            "./data/1093.png\n",
            "./data/405.png\n",
            "./data/1268.png\n",
            "./data/5.png\n",
            "./data/1134.png\n",
            "./data/175.png\n",
            "./data/460.png\n",
            "./data/109.png\n",
            "./data/382.png\n",
            "./data/342.png\n",
            "./data/432.png\n",
            "./data/1300.png\n",
            "./data/1426.png\n",
            "./data/944.png\n",
            "./data/1137.png\n",
            "./data/1217.png\n",
            "./data/103.png\n",
            "./data/1414.png\n",
            "./data/584.png\n",
            "./data/223.png\n",
            "./data/476.png\n",
            "./data/177.png\n",
            "./data/862.png\n",
            "./data/740.png\n",
            "./data/551.png\n",
            "./data/503.png\n",
            "./data/1447.png\n",
            "./data/708.png\n",
            "./data/171.png\n",
            "./data/36.png\n",
            "./data/1234.png\n",
            "./data/117.png\n",
            "./data/528.png\n",
            "./data/1116.png\n",
            "./data/18.png\n",
            "./data/1387.png\n",
            "./data/755.png\n",
            "./data/1188.png\n",
            "./data/839.png\n",
            "./data/444.png\n",
            "./data/1164.png\n",
            "./data/1173.png\n",
            "./data/108.png\n",
            "./data/2.png\n",
            "./data/991.png\n",
            "./data/1431.png\n",
            "./data/1057.png\n",
            "./data/278.png\n",
            "./data/810.png\n",
            "./data/704.png\n",
            "./data/981.png\n",
            "./data/1150.png\n",
            "./data/96.png\n",
            "./data/1232.png\n",
            "./data/75.png\n",
            "./data/424.png\n",
            "./data/1166.png\n",
            "./data/160.png\n",
            "./data/1425.png\n",
            "./data/533.png\n",
            "./data/793.png\n",
            "./data/1153.png\n",
            "./data/97.png\n",
            "./data/224.png\n",
            "./data/240.png\n",
            "./data/1006.png\n",
            "./data/415.png\n",
            "./data/1385.png\n",
            "./data/995.png\n",
            "./data/6.png\n",
            "./data/1272.png\n",
            "./data/337.png\n",
            "./data/859.png\n",
            "./data/758.png\n",
            "./data/1207.png\n",
            "./data/1262.png\n",
            "./data/974.png\n",
            "./data/79.png\n",
            "./data/574.png\n",
            "./data/371.png\n",
            "./data/750.png\n",
            "./data/953.png\n",
            "./data/1101.png\n",
            "./data/1280.png\n",
            "./data/1382.png\n",
            "./data/237.png\n",
            "./data/714.png\n",
            "./data/782.png\n",
            "./data/143.png\n",
            "./data/499.png\n",
            "./data/806.png\n",
            "./data/352.png\n",
            "./data/927.png\n",
            "./data/1401.png\n",
            "./data/1289.png\n",
            "./data/727.png\n",
            "./data/856.png\n",
            "./data/137.png\n",
            "./data/300.png\n",
            "./data/1273.png\n",
            "./data/112.png\n",
            "./data/387.png\n",
            "./data/1305.png\n",
            "./data/473.png\n",
            "./data/1045.png\n",
            "./data/733.png\n",
            "./data/760.png\n",
            "./data/4.png\n",
            "./data/66.png\n",
            "./data/961.png\n",
            "./data/1302.png\n",
            "./data/364.png\n",
            "./data/1428.png\n",
            "./data/853.png\n",
            "./data/614.png\n",
            "./data/984.png\n",
            "./data/1227.png\n",
            "./data/693.png\n",
            "./data/718.png\n",
            "./data/98.png\n",
            "./data/987.png\n",
            "./data/1451.png\n",
            "./data/124.png\n",
            "./data/81.png\n",
            "./data/326.png\n",
            "./data/174.png\n",
            "./data/1339.png\n",
            "./data/128.png\n",
            "./data/1128.png\n",
            "./data/1066.png\n",
            "./data/815.png\n",
            "./data/737.png\n",
            "./data/531.png\n",
            "./data/583.png\n",
            "./data/808.png\n",
            "./data/1181.png\n",
            "./data/838.png\n",
            "./data/958.png\n",
            "./data/500.png\n",
            "./data/1291.png\n",
            "./data/211.png\n",
            "./data/357.png\n",
            "./data/821.png\n",
            "./data/1199.png\n",
            "./data/210.png\n",
            "./data/448.png\n",
            "./data/293.png\n",
            "./data/311.png\n",
            "./data/560.png\n",
            "./data/102.png\n",
            "./data/1353.png\n",
            "./data/90.png\n",
            "./data/1474.png\n",
            "./data/744.png\n",
            "./data/1224.png\n",
            "./data/452.png\n",
            "./data/1375.png\n",
            "./data/248.png\n",
            "./data/1503.png\n",
            "./data/721.png\n",
            "./data/1464.png\n",
            "./data/392.png\n",
            "./data/73.png\n",
            "./data/1410.png\n",
            "./data/294.png\n",
            "./data/312.png\n",
            "./data/610.png\n",
            "./data/120.png\n",
            "./data/164.png\n",
            "./data/199.png\n",
            "./data/1002.png\n",
            "./data/1408.png\n",
            "./data/1080.png\n",
            "./data/1098.png\n",
            "./data/1206.png\n",
            "./data/297.png\n",
            "./data/25.png\n",
            "./data/360.png\n",
            "./data/1271.png\n",
            "./data/1450.png\n",
            "./data/104.png\n",
            "./data/602.png\n",
            "./data/346.png\n",
            "./data/252.png\n",
            "./data/679.png\n",
            "./data/399.png\n",
            "./data/706.png\n",
            "./data/450.png\n",
            "./data/87.png\n",
            "./data/943.png\n",
            "./data/205.png\n",
            "./data/148.png\n",
            "./data/1133.png\n",
            "./data/746.png\n",
            "./data/340.png\n",
            "./data/858.png\n",
            "./data/1391.png\n",
            "./data/1160.png\n",
            "./data/319.png\n",
            "./data/1315.png\n",
            "./data/1392.png\n",
            "./data/147.png\n",
            "./data/1278.png\n",
            "./data/1457.png\n",
            "./data/990.png\n",
            "./data/1356.png\n",
            "./data/1346.png\n",
            "./data/1001.png\n",
            "./data/539.png\n",
            "./data/668.png\n",
            "./data/190.png\n",
            "./data/724.png\n",
            "./data/1246.png\n",
            "./data/1028.png\n",
            "./data/389.png\n",
            "./data/296.png\n",
            "./data/637.png\n",
            "./data/23.png\n",
            "./data/200.png\n",
            "./data/840.png\n",
            "./data/1308.png\n",
            "./data/904.png\n",
            "./data/979.png\n",
            "./data/1143.png\n",
            "./data/1062.png\n",
            "./data/1036.png\n",
            "./data/166.png\n",
            "./data/133.png\n",
            "./data/306.png\n",
            "./data/571.png\n",
            "./data/122.png\n",
            "./data/42.png\n",
            "./data/271.png\n",
            "./data/1485.png\n",
            "./data/138.png\n",
            "./data/391.png\n",
            "./data/1147.png\n",
            "./data/772.png\n",
            "./data/985.png\n",
            "./data/631.png\n",
            "./data/419.png\n",
            "./data/1506.png\n",
            "./data/787.png\n",
            "./data/282.png\n",
            "./data/466.png\n",
            "./data/1341.png\n",
            "./data/1156.png\n",
            "./data/1269.png\n",
            "./data/1171.png\n",
            "./data/596.png\n",
            "./data/1301.png\n",
            "./data/1208.png\n",
            "./data/1347.png\n"
          ]
        }
      ]
    },
    {
      "cell_type": "code",
      "source": [
        "!rm -r /content/data_deduplication"
      ],
      "metadata": {
        "id": "l2lJeW9FBNRl"
      },
      "execution_count": null,
      "outputs": []
    },
    {
      "cell_type": "code",
      "source": [
        "import shutil\n",
        "\n",
        "# 定义要压缩的文件夹路径和目标ZIP文件路径\n",
        "folder_path = '/content/data_deduplication'\n",
        "zip_path = '/content/drive/MyDrive/kmeans0219/data_deduplication.zip'\n",
        "\n",
        "# 压缩文件夹为ZIP文件\n",
        "shutil.make_archive(zip_path.replace('.zip', ''), 'zip', folder_path)"
      ],
      "metadata": {
        "colab": {
          "base_uri": "https://localhost:8080/",
          "height": 35
        },
        "id": "BZV1aPLR_ldB",
        "outputId": "b68b8a72-0ecf-4e59-d15c-082d4cffdf55"
      },
      "execution_count": null,
      "outputs": [
        {
          "output_type": "execute_result",
          "data": {
            "text/plain": [
              "'/content/drive/MyDrive/kmeans0219/data_unique.zip'"
            ],
            "application/vnd.google.colaboratory.intrinsic+json": {
              "type": "string"
            }
          },
          "metadata": {},
          "execution_count": 10
        }
      ]
    },
    {
      "cell_type": "markdown",
      "source": [
        "k-means聚类"
      ],
      "metadata": {
        "id": "UGIEPQxYW68b"
      }
    },
    {
      "cell_type": "code",
      "source": [
        "!unzip /content/drive/MyDrive/kmeans0219/data_deduplication.zip -d /content/data_deduplication"
      ],
      "metadata": {
        "colab": {
          "base_uri": "https://localhost:8080/"
        },
        "id": "bjxFxd_BW9LG",
        "outputId": "9403eca6-e787-44d8-ec88-1f0f8300f61e"
      },
      "execution_count": 2,
      "outputs": [
        {
          "output_type": "stream",
          "name": "stdout",
          "text": [
            "Archive:  /content/drive/MyDrive/kmeans0219/data_deduplication.zip\n",
            "  inflating: /content/data_deduplication/1015.png  \n",
            "  inflating: /content/data_deduplication/169.png  \n",
            "  inflating: /content/data_deduplication/802.png  \n",
            "  inflating: /content/data_deduplication/894.png  \n",
            "  inflating: /content/data_deduplication/1025.png  \n",
            "  inflating: /content/data_deduplication/1053.png  \n",
            "  inflating: /content/data_deduplication/580.png  \n",
            "  inflating: /content/data_deduplication/608.png  \n",
            "  inflating: /content/data_deduplication/725.png  \n",
            "  inflating: /content/data_deduplication/1514.png  \n",
            "  inflating: /content/data_deduplication/1470.png  \n",
            "  inflating: /content/data_deduplication/1200.png  \n",
            "  inflating: /content/data_deduplication/1071.png  \n",
            "  inflating: /content/data_deduplication/394.png  \n",
            "  inflating: /content/data_deduplication/325.png  \n",
            "  inflating: /content/data_deduplication/425.png  \n",
            "  inflating: /content/data_deduplication/1050.png  \n",
            "  inflating: /content/data_deduplication/874.png  \n",
            "  inflating: /content/data_deduplication/1471.png  \n",
            "  inflating: /content/data_deduplication/897.png  \n",
            "  inflating: /content/data_deduplication/46.png  \n",
            "  inflating: /content/data_deduplication/9.png  \n",
            "  inflating: /content/data_deduplication/581.png  \n",
            "  inflating: /content/data_deduplication/427.png  \n",
            "  inflating: /content/data_deduplication/1257.png  \n",
            "  inflating: /content/data_deduplication/165.png  \n",
            "  inflating: /content/data_deduplication/994.png  \n",
            "  inflating: /content/data_deduplication/301.png  \n",
            "  inflating: /content/data_deduplication/857.png  \n",
            "  inflating: /content/data_deduplication/1103.png  \n",
            "  inflating: /content/data_deduplication/114.png  \n",
            "  inflating: /content/data_deduplication/652.png  \n",
            "  inflating: /content/data_deduplication/589.png  \n",
            "  inflating: /content/data_deduplication/1416.png  \n",
            "  inflating: /content/data_deduplication/1331.png  \n",
            "  inflating: /content/data_deduplication/698.png  \n",
            "  inflating: /content/data_deduplication/187.png  \n",
            "  inflating: /content/data_deduplication/263.png  \n",
            "  inflating: /content/data_deduplication/91.png  \n",
            "  inflating: /content/data_deduplication/947.png  \n",
            "  inflating: /content/data_deduplication/1311.png  \n",
            "  inflating: /content/data_deduplication/745.png  \n",
            "  inflating: /content/data_deduplication/642.png  \n",
            "  inflating: /content/data_deduplication/553.png  \n",
            "  inflating: /content/data_deduplication/1398.png  \n",
            "  inflating: /content/data_deduplication/470.png  \n",
            "  inflating: /content/data_deduplication/478.png  \n",
            "  inflating: /content/data_deduplication/45.png  \n",
            "  inflating: /content/data_deduplication/270.png  \n",
            "  inflating: /content/data_deduplication/775.png  \n",
            "  inflating: /content/data_deduplication/688.png  \n",
            "  inflating: /content/data_deduplication/1107.png  \n",
            "  inflating: /content/data_deduplication/1127.png  \n",
            "  inflating: /content/data_deduplication/1486.png  \n",
            "  inflating: /content/data_deduplication/1461.png  \n",
            "  inflating: /content/data_deduplication/0.png  \n",
            "  inflating: /content/data_deduplication/54.png  \n",
            "  inflating: /content/data_deduplication/709.png  \n",
            "  inflating: /content/data_deduplication/481.png  \n",
            "  inflating: /content/data_deduplication/525.png  \n",
            "  inflating: /content/data_deduplication/691.png  \n",
            "  inflating: /content/data_deduplication/1123.png  \n",
            "  inflating: /content/data_deduplication/1056.png  \n",
            "  inflating: /content/data_deduplication/1059.png  \n",
            "  inflating: /content/data_deduplication/208.png  \n",
            "  inflating: /content/data_deduplication/728.png  \n",
            "  inflating: /content/data_deduplication/236.png  \n",
            "  inflating: /content/data_deduplication/535.png  \n",
            "  inflating: /content/data_deduplication/467.png  \n",
            "  inflating: /content/data_deduplication/968.png  \n",
            "  inflating: /content/data_deduplication/603.png  \n",
            "  inflating: /content/data_deduplication/1058.png  \n",
            "  inflating: /content/data_deduplication/661.png  \n",
            "  inflating: /content/data_deduplication/1389.png  \n",
            "  inflating: /content/data_deduplication/1.png  \n",
            "  inflating: /content/data_deduplication/628.png  \n",
            "  inflating: /content/data_deduplication/666.png  \n",
            "  inflating: /content/data_deduplication/678.png  \n",
            "  inflating: /content/data_deduplication/1411.png  \n",
            "  inflating: /content/data_deduplication/1209.png  \n",
            "  inflating: /content/data_deduplication/664.png  \n",
            "  inflating: /content/data_deduplication/1363.png  \n",
            "  inflating: /content/data_deduplication/799.png  \n",
            "  inflating: /content/data_deduplication/1237.png  \n",
            "  inflating: /content/data_deduplication/1141.png  \n",
            "  inflating: /content/data_deduplication/759.png  \n",
            "  inflating: /content/data_deduplication/304.png  \n",
            "  inflating: /content/data_deduplication/173.png  \n",
            "  inflating: /content/data_deduplication/373.png  \n",
            "  inflating: /content/data_deduplication/1177.png  \n",
            "  inflating: /content/data_deduplication/936.png  \n",
            "  inflating: /content/data_deduplication/1357.png  \n",
            "  inflating: /content/data_deduplication/662.png  \n",
            "  inflating: /content/data_deduplication/639.png  \n",
            "  inflating: /content/data_deduplication/1479.png  \n",
            "  inflating: /content/data_deduplication/1076.png  \n",
            "  inflating: /content/data_deduplication/1222.png  \n",
            "  inflating: /content/data_deduplication/545.png  \n",
            "  inflating: /content/data_deduplication/829.png  \n",
            "  inflating: /content/data_deduplication/1282.png  \n",
            "  inflating: /content/data_deduplication/1119.png  \n",
            "  inflating: /content/data_deduplication/253.png  \n",
            "  inflating: /content/data_deduplication/606.png  \n",
            "  inflating: /content/data_deduplication/1136.png  \n",
            "  inflating: /content/data_deduplication/684.png  \n",
            "  inflating: /content/data_deduplication/1113.png  \n",
            "  inflating: /content/data_deduplication/886.png  \n",
            "  inflating: /content/data_deduplication/1358.png  \n",
            "  inflating: /content/data_deduplication/1100.png  \n",
            "  inflating: /content/data_deduplication/99.png  \n",
            "  inflating: /content/data_deduplication/207.png  \n",
            "  inflating: /content/data_deduplication/131.png  \n",
            "  inflating: /content/data_deduplication/1348.png  \n",
            "  inflating: /content/data_deduplication/1504.png  \n",
            "  inflating: /content/data_deduplication/1286.png  \n",
            "  inflating: /content/data_deduplication/1475.png  \n",
            "  inflating: /content/data_deduplication/150.png  \n",
            "  inflating: /content/data_deduplication/722.png  \n",
            "  inflating: /content/data_deduplication/1281.png  \n",
            "  inflating: /content/data_deduplication/1088.png  \n",
            "  inflating: /content/data_deduplication/1064.png  \n",
            "  inflating: /content/data_deduplication/1258.png  \n",
            "  inflating: /content/data_deduplication/204.png  \n",
            "  inflating: /content/data_deduplication/380.png  \n",
            "  inflating: /content/data_deduplication/880.png  \n",
            "  inflating: /content/data_deduplication/638.png  \n",
            "  inflating: /content/data_deduplication/898.png  \n",
            "  inflating: /content/data_deduplication/1109.png  \n",
            "  inflating: /content/data_deduplication/719.png  \n",
            "  inflating: /content/data_deduplication/1018.png  \n",
            "  inflating: /content/data_deduplication/641.png  \n",
            "  inflating: /content/data_deduplication/100.png  \n",
            "  inflating: /content/data_deduplication/550.png  \n",
            "  inflating: /content/data_deduplication/1264.png  \n",
            "  inflating: /content/data_deduplication/159.png  \n",
            "  inflating: /content/data_deduplication/600.png  \n",
            "  inflating: /content/data_deduplication/1316.png  \n",
            "  inflating: /content/data_deduplication/1145.png  \n",
            "  inflating: /content/data_deduplication/701.png  \n",
            "  inflating: /content/data_deduplication/457.png  \n",
            "  inflating: /content/data_deduplication/191.png  \n",
            "  inflating: /content/data_deduplication/920.png  \n",
            "  inflating: /content/data_deduplication/1035.png  \n",
            "  inflating: /content/data_deduplication/1266.png  \n",
            "  inflating: /content/data_deduplication/428.png  \n",
            "  inflating: /content/data_deduplication/1055.png  \n",
            "  inflating: /content/data_deduplication/828.png  \n",
            "  inflating: /content/data_deduplication/1243.png  \n",
            "  inflating: /content/data_deduplication/529.png  \n",
            "  inflating: /content/data_deduplication/717.png  \n",
            "  inflating: /content/data_deduplication/921.png  \n",
            "  inflating: /content/data_deduplication/753.png  \n",
            "  inflating: /content/data_deduplication/1094.png  \n",
            "  inflating: /content/data_deduplication/288.png  \n",
            "  inflating: /content/data_deduplication/1040.png  \n",
            "  inflating: /content/data_deduplication/332.png  \n",
            "  inflating: /content/data_deduplication/335.png  \n",
            "  inflating: /content/data_deduplication/866.png  \n",
            "  inflating: /content/data_deduplication/420.png  \n",
            "  inflating: /content/data_deduplication/314.png  \n",
            "  inflating: /content/data_deduplication/1435.png  \n",
            "  inflating: /content/data_deduplication/11.png  \n",
            "  inflating: /content/data_deduplication/395.png  \n",
            "  inflating: /content/data_deduplication/62.png  \n",
            "  inflating: /content/data_deduplication/257.png  \n",
            "  inflating: /content/data_deduplication/72.png  \n",
            "  inflating: /content/data_deduplication/695.png  \n",
            "  inflating: /content/data_deduplication/900.png  \n",
            "  inflating: /content/data_deduplication/3.png  \n",
            "  inflating: /content/data_deduplication/1328.png  \n",
            "  inflating: /content/data_deduplication/575.png  \n",
            "  inflating: /content/data_deduplication/1424.png  \n",
            "  inflating: /content/data_deduplication/1438.png  \n",
            "  inflating: /content/data_deduplication/239.png  \n",
            "  inflating: /content/data_deduplication/1012.png  \n",
            "  inflating: /content/data_deduplication/461.png  \n",
            "  inflating: /content/data_deduplication/55.png  \n",
            "  inflating: /content/data_deduplication/26.png  \n",
            "  inflating: /content/data_deduplication/735.png  \n",
            "  inflating: /content/data_deduplication/599.png  \n",
            "  inflating: /content/data_deduplication/226.png  \n",
            "  inflating: /content/data_deduplication/192.png  \n",
            "  inflating: /content/data_deduplication/308.png  \n",
            "  inflating: /content/data_deduplication/307.png  \n",
            "  inflating: /content/data_deduplication/367.png  \n",
            "  inflating: /content/data_deduplication/870.png  \n",
            "  inflating: /content/data_deduplication/843.png  \n",
            "  inflating: /content/data_deduplication/903.png  \n",
            "  inflating: /content/data_deduplication/554.png  \n",
            "  inflating: /content/data_deduplication/1112.png  \n",
            "  inflating: /content/data_deduplication/492.png  \n",
            "  inflating: /content/data_deduplication/1383.png  \n",
            "  inflating: /content/data_deduplication/80.png  \n",
            "  inflating: /content/data_deduplication/1465.png  \n",
            "  inflating: /content/data_deduplication/1003.png  \n",
            "  inflating: /content/data_deduplication/85.png  \n",
            "  inflating: /content/data_deduplication/404.png  \n",
            "  inflating: /content/data_deduplication/7.png  \n",
            "  inflating: /content/data_deduplication/1493.png  \n",
            "  inflating: /content/data_deduplication/1335.png  \n",
            "  inflating: /content/data_deduplication/498.png  \n",
            "  inflating: /content/data_deduplication/119.png  \n",
            "  inflating: /content/data_deduplication/506.png  \n",
            "  inflating: /content/data_deduplication/619.png  \n",
            "  inflating: /content/data_deduplication/1369.png  \n",
            "  inflating: /content/data_deduplication/1298.png  \n",
            "  inflating: /content/data_deduplication/1061.png  \n",
            "  inflating: /content/data_deduplication/437.png  \n",
            "  inflating: /content/data_deduplication/566.png  \n",
            "  inflating: /content/data_deduplication/1309.png  \n",
            "  inflating: /content/data_deduplication/1452.png  \n",
            "  inflating: /content/data_deduplication/1211.png  \n",
            "  inflating: /content/data_deduplication/197.png  \n",
            "  inflating: /content/data_deduplication/1421.png  \n",
            "  inflating: /content/data_deduplication/954.png  \n",
            "  inflating: /content/data_deduplication/1016.png  \n",
            "  inflating: /content/data_deduplication/1359.png  \n",
            "  inflating: /content/data_deduplication/397.png  \n",
            "  inflating: /content/data_deduplication/685.png  \n",
            "  inflating: /content/data_deduplication/1121.png  \n",
            "  inflating: /content/data_deduplication/1380.png  \n",
            "  inflating: /content/data_deduplication/1354.png  \n",
            "  inflating: /content/data_deduplication/274.png  \n",
            "  inflating: /content/data_deduplication/390.png  \n",
            "  inflating: /content/data_deduplication/1192.png  \n",
            "  inflating: /content/data_deduplication/350.png  \n",
            "  inflating: /content/data_deduplication/591.png  \n",
            "  inflating: /content/data_deduplication/1000.png  \n",
            "  inflating: /content/data_deduplication/158.png  \n",
            "  inflating: /content/data_deduplication/422.png  \n",
            "  inflating: /content/data_deduplication/930.png  \n",
            "  inflating: /content/data_deduplication/548.png  \n",
            "  inflating: /content/data_deduplication/244.png  \n",
            "  inflating: /content/data_deduplication/785.png  \n",
            "  inflating: /content/data_deduplication/202.png  \n",
            "  inflating: /content/data_deduplication/657.png  \n",
            "  inflating: /content/data_deduplication/814.png  \n",
            "  inflating: /content/data_deduplication/820.png  \n",
            "  inflating: /content/data_deduplication/965.png  \n",
            "  inflating: /content/data_deduplication/149.png  \n",
            "  inflating: /content/data_deduplication/1439.png  \n",
            "  inflating: /content/data_deduplication/855.png  \n",
            "  inflating: /content/data_deduplication/1423.png  \n",
            "  inflating: /content/data_deduplication/803.png  \n",
            "  inflating: /content/data_deduplication/1326.png  \n",
            "  inflating: /content/data_deduplication/732.png  \n",
            "  inflating: /content/data_deduplication/1259.png  \n",
            "  inflating: /content/data_deduplication/1082.png  \n",
            "  inflating: /content/data_deduplication/1433.png  \n",
            "  inflating: /content/data_deduplication/1505.png  \n",
            "  inflating: /content/data_deduplication/89.png  \n",
            "  inflating: /content/data_deduplication/1069.png  \n",
            "  inflating: /content/data_deduplication/258.png  \n",
            "  inflating: /content/data_deduplication/934.png  \n",
            "  inflating: /content/data_deduplication/906.png  \n",
            "  inflating: /content/data_deduplication/613.png  \n",
            "  inflating: /content/data_deduplication/752.png  \n",
            "  inflating: /content/data_deduplication/611.png  \n",
            "  inflating: /content/data_deduplication/882.png  \n",
            "  inflating: /content/data_deduplication/375.png  \n",
            "  inflating: /content/data_deduplication/1501.png  \n",
            "  inflating: /content/data_deduplication/893.png  \n",
            "  inflating: /content/data_deduplication/686.png  \n",
            "  inflating: /content/data_deduplication/110.png  \n",
            "  inflating: /content/data_deduplication/1042.png  \n",
            "  inflating: /content/data_deduplication/778.png  \n",
            "  inflating: /content/data_deduplication/1004.png  \n",
            "  inflating: /content/data_deduplication/439.png  \n",
            "  inflating: /content/data_deduplication/537.png  \n",
            "  inflating: /content/data_deduplication/298.png  \n",
            "  inflating: /content/data_deduplication/948.png  \n",
            "  inflating: /content/data_deduplication/660.png  \n",
            "  inflating: /content/data_deduplication/1005.png  \n",
            "  inflating: /content/data_deduplication/1046.png  \n",
            "  inflating: /content/data_deduplication/1329.png  \n",
            "  inflating: /content/data_deduplication/730.png  \n",
            "  inflating: /content/data_deduplication/1067.png  \n",
            "  inflating: /content/data_deduplication/67.png  \n",
            "  inflating: /content/data_deduplication/813.png  \n",
            "  inflating: /content/data_deduplication/715.png  \n",
            "  inflating: /content/data_deduplication/1041.png  \n",
            "  inflating: /content/data_deduplication/1203.png  \n",
            "  inflating: /content/data_deduplication/206.png  \n",
            "  inflating: /content/data_deduplication/388.png  \n",
            "  inflating: /content/data_deduplication/1284.png  \n",
            "  inflating: /content/data_deduplication/1386.png  \n",
            "  inflating: /content/data_deduplication/57.png  \n",
            "  inflating: /content/data_deduplication/1396.png  \n",
            "  inflating: /content/data_deduplication/396.png  \n",
            "  inflating: /content/data_deduplication/490.png  \n",
            "  inflating: /content/data_deduplication/38.png  \n",
            "  inflating: /content/data_deduplication/593.png  \n",
            "  inflating: /content/data_deduplication/1038.png  \n",
            "  inflating: /content/data_deduplication/1508.png  \n",
            "  inflating: /content/data_deduplication/687.png  \n",
            "  inflating: /content/data_deduplication/650.png  \n",
            "  inflating: /content/data_deduplication/689.png  \n",
            "  inflating: /content/data_deduplication/496.png  \n",
            "  inflating: /content/data_deduplication/1021.png  \n",
            "  inflating: /content/data_deduplication/1011.png  \n",
            "  inflating: /content/data_deduplication/960.png  \n",
            "  inflating: /content/data_deduplication/125.png  \n",
            "  inflating: /content/data_deduplication/742.png  \n",
            "  inflating: /content/data_deduplication/480.png  \n",
            "  inflating: /content/data_deduplication/1368.png  \n",
            "  inflating: /content/data_deduplication/264.png  \n",
            "  inflating: /content/data_deduplication/1023.png  \n",
            "  inflating: /content/data_deduplication/952.png  \n",
            "  inflating: /content/data_deduplication/769.png  \n",
            "  inflating: /content/data_deduplication/310.png  \n",
            "  inflating: /content/data_deduplication/327.png  \n",
            "  inflating: /content/data_deduplication/1415.png  \n",
            "  inflating: /content/data_deduplication/33.png  \n",
            "  inflating: /content/data_deduplication/1448.png  \n",
            "  inflating: /content/data_deduplication/590.png  \n",
            "  inflating: /content/data_deduplication/872.png  \n",
            "  inflating: /content/data_deduplication/1336.png  \n",
            "  inflating: /content/data_deduplication/220.png  \n",
            "  inflating: /content/data_deduplication/1253.png  \n",
            "  inflating: /content/data_deduplication/925.png  \n",
            "  inflating: /content/data_deduplication/105.png  \n",
            "  inflating: /content/data_deduplication/616.png  \n",
            "  inflating: /content/data_deduplication/1274.png  \n",
            "  inflating: /content/data_deduplication/577.png  \n",
            "  inflating: /content/data_deduplication/570.png  \n",
            "  inflating: /content/data_deduplication/58.png  \n",
            "  inflating: /content/data_deduplication/1478.png  \n",
            "  inflating: /content/data_deduplication/368.png  \n",
            "  inflating: /content/data_deduplication/644.png  \n",
            "  inflating: /content/data_deduplication/76.png  \n",
            "  inflating: /content/data_deduplication/1458.png  \n",
            "  inflating: /content/data_deduplication/135.png  \n",
            "  inflating: /content/data_deduplication/1198.png  \n",
            "  inflating: /content/data_deduplication/24.png  \n",
            "  inflating: /content/data_deduplication/764.png  \n",
            "  inflating: /content/data_deduplication/283.png  \n",
            "  inflating: /content/data_deduplication/1228.png  \n",
            "  inflating: /content/data_deduplication/180.png  \n",
            "  inflating: /content/data_deduplication/567.png  \n",
            "  inflating: /content/data_deduplication/356.png  \n",
            "  inflating: /content/data_deduplication/798.png  \n",
            "  inflating: /content/data_deduplication/817.png  \n",
            "  inflating: /content/data_deduplication/139.png  \n",
            "  inflating: /content/data_deduplication/286.png  \n",
            "  inflating: /content/data_deduplication/1125.png  \n",
            "  inflating: /content/data_deduplication/1330.png  \n",
            "  inflating: /content/data_deduplication/601.png  \n",
            "  inflating: /content/data_deduplication/646.png  \n",
            "  inflating: /content/data_deduplication/1254.png  \n",
            "  inflating: /content/data_deduplication/43.png  \n",
            "  inflating: /content/data_deduplication/497.png  \n",
            "  inflating: /content/data_deduplication/1378.png  \n",
            "  inflating: /content/data_deduplication/71.png  \n",
            "  inflating: /content/data_deduplication/912.png  \n",
            "  inflating: /content/data_deduplication/1312.png  \n",
            "  inflating: /content/data_deduplication/1081.png  \n",
            "  inflating: /content/data_deduplication/144.png  \n",
            "  inflating: /content/data_deduplication/926.png  \n",
            "  inflating: /content/data_deduplication/1293.png  \n",
            "  inflating: /content/data_deduplication/871.png  \n",
            "  inflating: /content/data_deduplication/260.png  \n",
            "  inflating: /content/data_deduplication/617.png  \n",
            "  inflating: /content/data_deduplication/1013.png  \n",
            "  inflating: /content/data_deduplication/783.png  \n",
            "  inflating: /content/data_deduplication/1487.png  \n",
            "  inflating: /content/data_deduplication/1235.png  \n",
            "  inflating: /content/data_deduplication/682.png  \n",
            "  inflating: /content/data_deduplication/1051.png  \n",
            "  inflating: /content/data_deduplication/597.png  \n",
            "  inflating: /content/data_deduplication/940.png  \n",
            "  inflating: /content/data_deduplication/989.png  \n",
            "  inflating: /content/data_deduplication/465.png  \n",
            "  inflating: /content/data_deduplication/305.png  \n",
            "  inflating: /content/data_deduplication/313.png  \n",
            "  inflating: /content/data_deduplication/126.png  \n",
            "  inflating: /content/data_deduplication/1384.png  \n",
            "  inflating: /content/data_deduplication/1027.png  \n",
            "  inflating: /content/data_deduplication/178.png  \n",
            "  inflating: /content/data_deduplication/705.png  \n",
            "  inflating: /content/data_deduplication/29.png  \n",
            "  inflating: /content/data_deduplication/1376.png  \n",
            "  inflating: /content/data_deduplication/477.png  \n",
            "  inflating: /content/data_deduplication/1095.png  \n",
            "  inflating: /content/data_deduplication/292.png  \n",
            "  inflating: /content/data_deduplication/423.png  \n",
            "  inflating: /content/data_deduplication/932.png  \n",
            "  inflating: /content/data_deduplication/1366.png  \n",
            "  inflating: /content/data_deduplication/950.png  \n",
            "  inflating: /content/data_deduplication/1197.png  \n",
            "  inflating: /content/data_deduplication/826.png  \n",
            "  inflating: /content/data_deduplication/1287.png  \n",
            "  inflating: /content/data_deduplication/634.png  \n",
            "  inflating: /content/data_deduplication/621.png  \n",
            "  inflating: /content/data_deduplication/547.png  \n",
            "  inflating: /content/data_deduplication/1009.png  \n",
            "  inflating: /content/data_deduplication/132.png  \n",
            "  inflating: /content/data_deduplication/649.png  \n",
            "  inflating: /content/data_deduplication/543.png  \n",
            "  inflating: /content/data_deduplication/505.png  \n",
            "  inflating: /content/data_deduplication/28.png  \n",
            "  inflating: /content/data_deduplication/595.png  \n",
            "  inflating: /content/data_deduplication/249.png  \n",
            "  inflating: /content/data_deduplication/1238.png  \n",
            "  inflating: /content/data_deduplication/1394.png  \n",
            "  inflating: /content/data_deduplication/31.png  \n",
            "  inflating: /content/data_deduplication/549.png  \n",
            "  inflating: /content/data_deduplication/287.png  \n",
            "  inflating: /content/data_deduplication/30.png  \n",
            "  inflating: /content/data_deduplication/1319.png  \n",
            "  inflating: /content/data_deduplication/493.png  \n",
            "  inflating: /content/data_deduplication/636.png  \n",
            "  inflating: /content/data_deduplication/1077.png  \n",
            "  inflating: /content/data_deduplication/520.png  \n",
            "  inflating: /content/data_deduplication/913.png  \n",
            "  inflating: /content/data_deduplication/513.png  \n",
            "  inflating: /content/data_deduplication/1403.png  \n",
            "  inflating: /content/data_deduplication/922.png  \n",
            "  inflating: /content/data_deduplication/1459.png  \n",
            "  inflating: /content/data_deduplication/156.png  \n",
            "  inflating: /content/data_deduplication/370.png  \n",
            "  inflating: /content/data_deduplication/1515.png  \n",
            "  inflating: /content/data_deduplication/52.png  \n",
            "  inflating: /content/data_deduplication/17.png  \n",
            "  inflating: /content/data_deduplication/1037.png  \n",
            "  inflating: /content/data_deduplication/1118.png  \n",
            "  inflating: /content/data_deduplication/1427.png  \n",
            "  inflating: /content/data_deduplication/964.png  \n",
            "  inflating: /content/data_deduplication/433.png  \n",
            "  inflating: /content/data_deduplication/576.png  \n",
            "  inflating: /content/data_deduplication/1020.png  \n",
            "  inflating: /content/data_deduplication/1516.png  \n",
            "  inflating: /content/data_deduplication/1472.png  \n",
            "  inflating: /content/data_deduplication/284.png  \n",
            "  inflating: /content/data_deduplication/229.png  \n",
            "  inflating: /content/data_deduplication/656.png  \n",
            "  inflating: /content/data_deduplication/101.png  \n",
            "  inflating: /content/data_deduplication/1135.png  \n",
            "  inflating: /content/data_deduplication/993.png  \n",
            "  inflating: /content/data_deduplication/986.png  \n",
            "  inflating: /content/data_deduplication/630.png  \n",
            "  inflating: /content/data_deduplication/245.png  \n",
            "  inflating: /content/data_deduplication/154.png  \n",
            "  inflating: /content/data_deduplication/766.png  \n",
            "  inflating: /content/data_deduplication/196.png  \n",
            "  inflating: /content/data_deduplication/999.png  \n",
            "  inflating: /content/data_deduplication/41.png  \n",
            "  inflating: /content/data_deduplication/738.png  \n",
            "  inflating: /content/data_deduplication/1048.png  \n",
            "  inflating: /content/data_deduplication/966.png  \n",
            "  inflating: /content/data_deduplication/495.png  \n",
            "  inflating: /content/data_deduplication/836.png  \n",
            "  inflating: /content/data_deduplication/8.png  \n",
            "  inflating: /content/data_deduplication/852.png  \n",
            "  inflating: /content/data_deduplication/13.png  \n",
            "  inflating: /content/data_deduplication/711.png  \n",
            "  inflating: /content/data_deduplication/946.png  \n",
            "  inflating: /content/data_deduplication/436.png  \n",
            "  inflating: /content/data_deduplication/359.png  \n",
            "  inflating: /content/data_deduplication/734.png  \n",
            "  inflating: /content/data_deduplication/491.png  \n",
            "  inflating: /content/data_deduplication/801.png  \n",
            "  inflating: /content/data_deduplication/741.png  \n",
            "  inflating: /content/data_deduplication/962.png  \n",
            "  inflating: /content/data_deduplication/923.png  \n",
            "  inflating: /content/data_deduplication/1026.png  \n",
            "  inflating: /content/data_deduplication/1480.png  \n",
            "  inflating: /content/data_deduplication/842.png  \n",
            "  inflating: /content/data_deduplication/485.png  \n",
            "  inflating: /content/data_deduplication/707.png  \n",
            "  inflating: /content/data_deduplication/1497.png  \n",
            "  inflating: /content/data_deduplication/609.png  \n",
            "  inflating: /content/data_deduplication/1361.png  \n",
            "  inflating: /content/data_deduplication/351.png  \n",
            "  inflating: /content/data_deduplication/915.png  \n",
            "  inflating: /content/data_deduplication/816.png  \n",
            "  inflating: /content/data_deduplication/429.png  \n",
            "  inflating: /content/data_deduplication/937.png  \n",
            "  inflating: /content/data_deduplication/905.png  \n",
            "  inflating: /content/data_deduplication/1499.png  \n",
            "  inflating: /content/data_deduplication/647.png  \n",
            "  inflating: /content/data_deduplication/383.png  \n",
            "  inflating: /content/data_deduplication/256.png  \n",
            "  inflating: /content/data_deduplication/1490.png  \n",
            "  inflating: /content/data_deduplication/1154.png  \n",
            "  inflating: /content/data_deduplication/957.png  \n",
            "  inflating: /content/data_deduplication/1060.png  \n",
            "  inflating: /content/data_deduplication/1165.png  \n",
            "  inflating: /content/data_deduplication/418.png  \n",
            "  inflating: /content/data_deduplication/193.png  \n",
            "  inflating: /content/data_deduplication/228.png  \n",
            "  inflating: /content/data_deduplication/1111.png  \n",
            "  inflating: /content/data_deduplication/780.png  \n",
            "  inflating: /content/data_deduplication/118.png  \n",
            "  inflating: /content/data_deduplication/632.png  \n",
            "  inflating: /content/data_deduplication/321.png  \n",
            "  inflating: /content/data_deduplication/194.png  \n",
            "  inflating: /content/data_deduplication/788.png  \n",
            "  inflating: /content/data_deduplication/784.png  \n",
            "  inflating: /content/data_deduplication/34.png  \n",
            "  inflating: /content/data_deduplication/212.png  \n",
            "  inflating: /content/data_deduplication/401.png  \n",
            "  inflating: /content/data_deduplication/633.png  \n",
            "  inflating: /content/data_deduplication/1149.png  \n",
            "  inflating: /content/data_deduplication/1381.png  \n",
            "  inflating: /content/data_deduplication/69.png  \n",
            "  inflating: /content/data_deduplication/1477.png  \n",
            "  inflating: /content/data_deduplication/1377.png  \n",
            "  inflating: /content/data_deduplication/972.png  \n",
            "  inflating: /content/data_deduplication/1063.png  \n",
            "  inflating: /content/data_deduplication/507.png  \n",
            "  inflating: /content/data_deduplication/488.png  \n",
            "  inflating: /content/data_deduplication/761.png  \n",
            "  inflating: /content/data_deduplication/1304.png  \n",
            "  inflating: /content/data_deduplication/1365.png  \n",
            "  inflating: /content/data_deduplication/1405.png  \n",
            "  inflating: /content/data_deduplication/973.png  \n",
            "  inflating: /content/data_deduplication/438.png  \n",
            "  inflating: /content/data_deduplication/1360.png  \n",
            "  inflating: /content/data_deduplication/928.png  \n",
            "  inflating: /content/data_deduplication/653.png  \n",
            "  inflating: /content/data_deduplication/794.png  \n",
            "  inflating: /content/data_deduplication/376.png  \n",
            "  inflating: /content/data_deduplication/756.png  \n",
            "  inflating: /content/data_deduplication/1093.png  \n",
            "  inflating: /content/data_deduplication/405.png  \n",
            "  inflating: /content/data_deduplication/1268.png  \n",
            "  inflating: /content/data_deduplication/5.png  \n",
            "  inflating: /content/data_deduplication/1134.png  \n",
            "  inflating: /content/data_deduplication/175.png  \n",
            "  inflating: /content/data_deduplication/460.png  \n",
            "  inflating: /content/data_deduplication/109.png  \n",
            "  inflating: /content/data_deduplication/382.png  \n",
            "  inflating: /content/data_deduplication/342.png  \n",
            "  inflating: /content/data_deduplication/432.png  \n",
            "  inflating: /content/data_deduplication/1300.png  \n",
            "  inflating: /content/data_deduplication/1426.png  \n",
            "  inflating: /content/data_deduplication/944.png  \n",
            "  inflating: /content/data_deduplication/1137.png  \n",
            "  inflating: /content/data_deduplication/1217.png  \n",
            "  inflating: /content/data_deduplication/103.png  \n",
            "  inflating: /content/data_deduplication/1414.png  \n",
            "  inflating: /content/data_deduplication/584.png  \n",
            "  inflating: /content/data_deduplication/223.png  \n",
            "  inflating: /content/data_deduplication/476.png  \n",
            "  inflating: /content/data_deduplication/177.png  \n",
            "  inflating: /content/data_deduplication/862.png  \n",
            "  inflating: /content/data_deduplication/740.png  \n",
            "  inflating: /content/data_deduplication/551.png  \n",
            "  inflating: /content/data_deduplication/503.png  \n",
            "  inflating: /content/data_deduplication/1447.png  \n",
            "  inflating: /content/data_deduplication/708.png  \n",
            "  inflating: /content/data_deduplication/171.png  \n",
            "  inflating: /content/data_deduplication/36.png  \n",
            "  inflating: /content/data_deduplication/1234.png  \n",
            "  inflating: /content/data_deduplication/117.png  \n",
            "  inflating: /content/data_deduplication/528.png  \n",
            "  inflating: /content/data_deduplication/1116.png  \n",
            "  inflating: /content/data_deduplication/18.png  \n",
            "  inflating: /content/data_deduplication/1387.png  \n",
            "  inflating: /content/data_deduplication/755.png  \n",
            "  inflating: /content/data_deduplication/1188.png  \n",
            "  inflating: /content/data_deduplication/839.png  \n",
            "  inflating: /content/data_deduplication/444.png  \n",
            "  inflating: /content/data_deduplication/1164.png  \n",
            "  inflating: /content/data_deduplication/1173.png  \n",
            "  inflating: /content/data_deduplication/108.png  \n",
            "  inflating: /content/data_deduplication/2.png  \n",
            "  inflating: /content/data_deduplication/991.png  \n",
            "  inflating: /content/data_deduplication/1431.png  \n",
            "  inflating: /content/data_deduplication/1057.png  \n",
            "  inflating: /content/data_deduplication/278.png  \n",
            "  inflating: /content/data_deduplication/810.png  \n",
            "  inflating: /content/data_deduplication/704.png  \n",
            "  inflating: /content/data_deduplication/981.png  \n",
            "  inflating: /content/data_deduplication/1150.png  \n",
            "  inflating: /content/data_deduplication/96.png  \n",
            "  inflating: /content/data_deduplication/1232.png  \n",
            "  inflating: /content/data_deduplication/75.png  \n",
            "  inflating: /content/data_deduplication/424.png  \n",
            "  inflating: /content/data_deduplication/1166.png  \n",
            "  inflating: /content/data_deduplication/160.png  \n",
            "  inflating: /content/data_deduplication/1425.png  \n",
            "  inflating: /content/data_deduplication/533.png  \n",
            "  inflating: /content/data_deduplication/793.png  \n",
            "  inflating: /content/data_deduplication/1153.png  \n",
            "  inflating: /content/data_deduplication/97.png  \n",
            "  inflating: /content/data_deduplication/224.png  \n",
            "  inflating: /content/data_deduplication/240.png  \n",
            "  inflating: /content/data_deduplication/1006.png  \n",
            "  inflating: /content/data_deduplication/415.png  \n",
            "  inflating: /content/data_deduplication/1385.png  \n",
            "  inflating: /content/data_deduplication/995.png  \n",
            "  inflating: /content/data_deduplication/6.png  \n",
            "  inflating: /content/data_deduplication/1272.png  \n",
            "  inflating: /content/data_deduplication/337.png  \n",
            "  inflating: /content/data_deduplication/859.png  \n",
            "  inflating: /content/data_deduplication/758.png  \n",
            "  inflating: /content/data_deduplication/1207.png  \n",
            "  inflating: /content/data_deduplication/1262.png  \n",
            "  inflating: /content/data_deduplication/974.png  \n",
            "  inflating: /content/data_deduplication/79.png  \n",
            "  inflating: /content/data_deduplication/574.png  \n",
            "  inflating: /content/data_deduplication/371.png  \n",
            "  inflating: /content/data_deduplication/750.png  \n",
            "  inflating: /content/data_deduplication/953.png  \n",
            "  inflating: /content/data_deduplication/1101.png  \n",
            "  inflating: /content/data_deduplication/1280.png  \n",
            "  inflating: /content/data_deduplication/1382.png  \n",
            "  inflating: /content/data_deduplication/237.png  \n",
            "  inflating: /content/data_deduplication/714.png  \n",
            "  inflating: /content/data_deduplication/782.png  \n",
            "  inflating: /content/data_deduplication/143.png  \n",
            "  inflating: /content/data_deduplication/499.png  \n",
            "  inflating: /content/data_deduplication/806.png  \n",
            "  inflating: /content/data_deduplication/352.png  \n",
            "  inflating: /content/data_deduplication/927.png  \n",
            "  inflating: /content/data_deduplication/1401.png  \n",
            "  inflating: /content/data_deduplication/1289.png  \n",
            "  inflating: /content/data_deduplication/727.png  \n",
            "  inflating: /content/data_deduplication/856.png  \n",
            "  inflating: /content/data_deduplication/137.png  \n",
            "  inflating: /content/data_deduplication/300.png  \n",
            "  inflating: /content/data_deduplication/1273.png  \n",
            "  inflating: /content/data_deduplication/112.png  \n",
            "  inflating: /content/data_deduplication/387.png  \n",
            "  inflating: /content/data_deduplication/1305.png  \n",
            "  inflating: /content/data_deduplication/473.png  \n",
            "  inflating: /content/data_deduplication/1045.png  \n",
            "  inflating: /content/data_deduplication/733.png  \n",
            "  inflating: /content/data_deduplication/760.png  \n",
            "  inflating: /content/data_deduplication/4.png  \n",
            "  inflating: /content/data_deduplication/66.png  \n",
            "  inflating: /content/data_deduplication/961.png  \n",
            "  inflating: /content/data_deduplication/1302.png  \n",
            "  inflating: /content/data_deduplication/364.png  \n",
            "  inflating: /content/data_deduplication/1428.png  \n",
            "  inflating: /content/data_deduplication/853.png  \n",
            "  inflating: /content/data_deduplication/614.png  \n",
            "  inflating: /content/data_deduplication/984.png  \n",
            "  inflating: /content/data_deduplication/1227.png  \n",
            "  inflating: /content/data_deduplication/693.png  \n",
            "  inflating: /content/data_deduplication/718.png  \n",
            "  inflating: /content/data_deduplication/98.png  \n",
            "  inflating: /content/data_deduplication/987.png  \n",
            "  inflating: /content/data_deduplication/1451.png  \n",
            "  inflating: /content/data_deduplication/124.png  \n",
            "  inflating: /content/data_deduplication/81.png  \n",
            "  inflating: /content/data_deduplication/326.png  \n",
            "  inflating: /content/data_deduplication/174.png  \n",
            "  inflating: /content/data_deduplication/1339.png  \n",
            "  inflating: /content/data_deduplication/128.png  \n",
            "  inflating: /content/data_deduplication/1128.png  \n",
            "  inflating: /content/data_deduplication/1066.png  \n",
            "  inflating: /content/data_deduplication/815.png  \n",
            "  inflating: /content/data_deduplication/737.png  \n",
            "  inflating: /content/data_deduplication/531.png  \n",
            "  inflating: /content/data_deduplication/583.png  \n",
            "  inflating: /content/data_deduplication/808.png  \n",
            "  inflating: /content/data_deduplication/1181.png  \n",
            "  inflating: /content/data_deduplication/838.png  \n",
            "  inflating: /content/data_deduplication/958.png  \n",
            "  inflating: /content/data_deduplication/500.png  \n",
            "  inflating: /content/data_deduplication/1291.png  \n",
            "  inflating: /content/data_deduplication/211.png  \n",
            "  inflating: /content/data_deduplication/357.png  \n",
            "  inflating: /content/data_deduplication/821.png  \n",
            "  inflating: /content/data_deduplication/1199.png  \n",
            "  inflating: /content/data_deduplication/210.png  \n",
            "  inflating: /content/data_deduplication/448.png  \n",
            "  inflating: /content/data_deduplication/293.png  \n",
            "  inflating: /content/data_deduplication/311.png  \n",
            "  inflating: /content/data_deduplication/560.png  \n",
            "  inflating: /content/data_deduplication/102.png  \n",
            "  inflating: /content/data_deduplication/1353.png  \n",
            "  inflating: /content/data_deduplication/90.png  \n",
            "  inflating: /content/data_deduplication/1474.png  \n",
            "  inflating: /content/data_deduplication/744.png  \n",
            "  inflating: /content/data_deduplication/1224.png  \n",
            "  inflating: /content/data_deduplication/452.png  \n",
            "  inflating: /content/data_deduplication/1375.png  \n",
            "  inflating: /content/data_deduplication/248.png  \n",
            "  inflating: /content/data_deduplication/1503.png  \n",
            "  inflating: /content/data_deduplication/721.png  \n",
            "  inflating: /content/data_deduplication/1464.png  \n",
            "  inflating: /content/data_deduplication/392.png  \n",
            "  inflating: /content/data_deduplication/73.png  \n",
            "  inflating: /content/data_deduplication/1410.png  \n",
            "  inflating: /content/data_deduplication/294.png  \n",
            "  inflating: /content/data_deduplication/312.png  \n",
            "  inflating: /content/data_deduplication/610.png  \n",
            "  inflating: /content/data_deduplication/120.png  \n",
            "  inflating: /content/data_deduplication/164.png  \n",
            "  inflating: /content/data_deduplication/199.png  \n",
            "  inflating: /content/data_deduplication/1002.png  \n",
            "  inflating: /content/data_deduplication/1408.png  \n",
            "  inflating: /content/data_deduplication/1080.png  \n",
            "  inflating: /content/data_deduplication/1098.png  \n",
            "  inflating: /content/data_deduplication/1206.png  \n",
            "  inflating: /content/data_deduplication/297.png  \n",
            "  inflating: /content/data_deduplication/25.png  \n",
            "  inflating: /content/data_deduplication/360.png  \n",
            "  inflating: /content/data_deduplication/1271.png  \n",
            "  inflating: /content/data_deduplication/1450.png  \n",
            "  inflating: /content/data_deduplication/104.png  \n",
            "  inflating: /content/data_deduplication/602.png  \n",
            "  inflating: /content/data_deduplication/346.png  \n",
            "  inflating: /content/data_deduplication/252.png  \n",
            "  inflating: /content/data_deduplication/679.png  \n",
            "  inflating: /content/data_deduplication/399.png  \n",
            "  inflating: /content/data_deduplication/706.png  \n",
            "  inflating: /content/data_deduplication/450.png  \n",
            "  inflating: /content/data_deduplication/87.png  \n",
            "  inflating: /content/data_deduplication/943.png  \n",
            "  inflating: /content/data_deduplication/205.png  \n",
            "  inflating: /content/data_deduplication/148.png  \n",
            "  inflating: /content/data_deduplication/1133.png  \n",
            "  inflating: /content/data_deduplication/746.png  \n",
            "  inflating: /content/data_deduplication/340.png  \n",
            "  inflating: /content/data_deduplication/858.png  \n",
            "  inflating: /content/data_deduplication/1391.png  \n",
            "  inflating: /content/data_deduplication/1160.png  \n",
            "  inflating: /content/data_deduplication/319.png  \n",
            "  inflating: /content/data_deduplication/1315.png  \n",
            "  inflating: /content/data_deduplication/1392.png  \n",
            "  inflating: /content/data_deduplication/147.png  \n",
            "  inflating: /content/data_deduplication/1278.png  \n",
            "  inflating: /content/data_deduplication/1457.png  \n",
            "  inflating: /content/data_deduplication/990.png  \n",
            "  inflating: /content/data_deduplication/1356.png  \n",
            "  inflating: /content/data_deduplication/1346.png  \n",
            "  inflating: /content/data_deduplication/1001.png  \n",
            "  inflating: /content/data_deduplication/539.png  \n",
            "  inflating: /content/data_deduplication/668.png  \n",
            "  inflating: /content/data_deduplication/190.png  \n",
            "  inflating: /content/data_deduplication/724.png  \n",
            "  inflating: /content/data_deduplication/1246.png  \n",
            "  inflating: /content/data_deduplication/1028.png  \n",
            "  inflating: /content/data_deduplication/389.png  \n",
            "  inflating: /content/data_deduplication/296.png  \n",
            "  inflating: /content/data_deduplication/637.png  \n",
            "  inflating: /content/data_deduplication/23.png  \n",
            "  inflating: /content/data_deduplication/200.png  \n",
            "  inflating: /content/data_deduplication/840.png  \n",
            "  inflating: /content/data_deduplication/1308.png  \n",
            "  inflating: /content/data_deduplication/904.png  \n",
            "  inflating: /content/data_deduplication/979.png  \n",
            "  inflating: /content/data_deduplication/1143.png  \n",
            "  inflating: /content/data_deduplication/1062.png  \n",
            "  inflating: /content/data_deduplication/1036.png  \n",
            "  inflating: /content/data_deduplication/166.png  \n",
            "  inflating: /content/data_deduplication/133.png  \n",
            "  inflating: /content/data_deduplication/306.png  \n",
            "  inflating: /content/data_deduplication/571.png  \n",
            "  inflating: /content/data_deduplication/122.png  \n",
            "  inflating: /content/data_deduplication/42.png  \n",
            "  inflating: /content/data_deduplication/271.png  \n",
            "  inflating: /content/data_deduplication/1485.png  \n",
            "  inflating: /content/data_deduplication/138.png  \n",
            "  inflating: /content/data_deduplication/391.png  \n",
            "  inflating: /content/data_deduplication/1147.png  \n",
            "  inflating: /content/data_deduplication/772.png  \n",
            "  inflating: /content/data_deduplication/985.png  \n",
            "  inflating: /content/data_deduplication/631.png  \n",
            "  inflating: /content/data_deduplication/419.png  \n",
            "  inflating: /content/data_deduplication/1506.png  \n",
            "  inflating: /content/data_deduplication/787.png  \n",
            "  inflating: /content/data_deduplication/282.png  \n",
            "  inflating: /content/data_deduplication/466.png  \n",
            "  inflating: /content/data_deduplication/1341.png  \n",
            "  inflating: /content/data_deduplication/1156.png  \n",
            "  inflating: /content/data_deduplication/1269.png  \n",
            "  inflating: /content/data_deduplication/1171.png  \n",
            "  inflating: /content/data_deduplication/596.png  \n",
            "  inflating: /content/data_deduplication/1301.png  \n",
            "  inflating: /content/data_deduplication/1208.png  \n",
            "  inflating: /content/data_deduplication/1347.png  \n"
          ]
        }
      ]
    },
    {
      "cell_type": "code",
      "source": [
        "import os\n",
        "import shutil\n",
        "import torch\n",
        "from torchvision import transforms\n",
        "from transformers import AutoModel, AutoFeatureExtractor\n",
        "from PIL import Image\n",
        "import numpy as np\n",
        "from sklearn.cluster import KMeans\n",
        "from tqdm import tqdm\n",
        "\n",
        "# 加载ViT编码器和特征提取器\n",
        "model_name = \"google/vit-base-patch16-224-in21k\"\n",
        "extractor = AutoFeatureExtractor.from_pretrained(model_name)\n",
        "model = AutoModel.from_pretrained(model_name)\n",
        "\n",
        "# 设置图像预处理\n",
        "transform = transforms.Compose([\n",
        "    transforms.Resize((224, 224)),\n",
        "    transforms.ToTensor(),\n",
        "    transforms.Normalize(mean=[0.485, 0.456, 0.406], std=[0.229, 0.224, 0.225]),\n",
        "])\n",
        "\n",
        "# 加载图像并提取特征向量\n",
        "def extract_features(image_path):\n",
        "    image = Image.open(image_path).convert(\"RGB\")\n",
        "    image = transform(image).unsqueeze(0)  # 扩展batch维度\n",
        "    with torch.no_grad():\n",
        "        features = model(image).last_hidden_state\n",
        "    return features.mean(dim=1).squeeze().cpu().numpy()  # 获取特征向量的均值\n",
        "\n",
        "# 从去重后的图像中选择152张代表性图像\n",
        "def select_representative_images(image_dir, n_clusters=152):\n",
        "    image_paths = [os.path.join(image_dir, img) for img in os.listdir(image_dir) if img.endswith(\".jpg\") or img.endswith(\".png\")]\n",
        "\n",
        "    # 提取图像特征\n",
        "    features_list = []\n",
        "    for img_path in tqdm(image_paths, desc=\"Extracting features\"):\n",
        "        features = extract_features(img_path)\n",
        "        features_list.append(features)\n",
        "\n",
        "    # 执行k-means聚类\n",
        "    kmeans = KMeans(n_clusters=n_clusters, random_state=42)\n",
        "    kmeans.fit(features_list)\n",
        "\n",
        "    # 选择每个聚类中的中心点附近的代表性图像\n",
        "    selected_images = []\n",
        "    for cluster_idx in range(n_clusters):\n",
        "        # 找到每个聚类中心的最近图像\n",
        "        cluster_center = kmeans.cluster_centers_[cluster_idx]\n",
        "        distances = np.linalg.norm(np.array(features_list) - cluster_center, axis=1)\n",
        "        closest_idx = np.argmin(distances)\n",
        "        selected_images.append(image_paths[closest_idx])\n",
        "\n",
        "    return selected_images\n",
        "\n",
        "# 设置去重后的图像文件夹路径\n",
        "image_dir = './data_deduplication'\n",
        "output_dir = './data_kmeans'\n",
        "\n",
        "# 确保输出文件夹存在\n",
        "os.makedirs(output_dir, exist_ok=True)\n",
        "\n",
        "# 从去重后的图像中选择152张代表性图像\n",
        "representative_images = select_representative_images(image_dir, n_clusters=152)\n",
        "\n",
        "# 将选定的152张代表性图像复制到目标文件夹\n",
        "for img_path in representative_images:\n",
        "    # 获取文件名\n",
        "    img_name = os.path.basename(img_path)\n",
        "    # 构造目标路径\n",
        "    target_path = os.path.join(output_dir, img_name)\n",
        "    # 复制文件\n",
        "    shutil.copy(img_path, target_path)\n",
        "\n",
        "print(f\"选择的152张代表性图像已保存到: {output_dir}\")"
      ],
      "metadata": {
        "colab": {
          "base_uri": "https://localhost:8080/",
          "height": 312,
          "referenced_widgets": [
            "0650cb5a5f5944e39b466861fce25305",
            "d9323271d61b4b2c927479e01dd4ef55",
            "d887d75d539544e28c1159584f9dc2e0",
            "ff18641969ed499fbbeb1e617261ef06",
            "d89a77e1f4da4c269b8b59740d85d9f0",
            "c5b3602f54dc450a901bd07682a9c4e7",
            "b8ed77ffa01944ef82f31458a1d0412d",
            "aa7854b09f0340de94bacd6337d8b970",
            "2e68bc7853144259827c67f4127901a1",
            "b1b733571fa94ce79c82cbaecf2438ad",
            "d1b0b908e8674dec9089fba8ea7af15e",
            "37db429cce5f4104983d1c85294b712e",
            "f8c672d9fe374eb789628f24257fbbaf",
            "e726c6af6a804113a29c0fd641dd256f",
            "413b1f5d7d2b4f5c9197278b64c45f79",
            "4e72d2dff5e643bfa1820429595bcdfc",
            "dce02f36673944d5a4a795193dc1b1f5",
            "5cb15bda195e44f99e983c1def8401e6",
            "b174e76ef4af4976a3ebb6eb69095152",
            "d7de7f6a28264b43bc006994d9ef714d",
            "78ae5a88318b46529a907ce155c46fa4",
            "214e4b5b2ea94d408478509c72a16d57",
            "3400b101d92a4ead94945f746a4d9b7d",
            "63dd6b1bdeb64c4b9de02172eb5f20ff",
            "f8924ebd79b6453ab781dcd8f37cc96a",
            "f28f123795a54fe584b220d20e61e308",
            "1607834f8e90438b993e8edc5feaed0a",
            "871127aa207148f886429bc9055190f5",
            "1fc48b91ad214048ad0e25e661bf0afa",
            "acf6774c25db4dfc8e04b36feb00131c",
            "ad1e8e817c0c4b1095923541cd5b2643",
            "a2c14c287aa445ddae5fe4ef017aa0a7",
            "a261613a5b544f0ab7f04ecbef7dd5cd"
          ]
        },
        "id": "AJlf_naKXM3w",
        "outputId": "b2dde814-85c5-4694-f12c-244e0bb5c242"
      },
      "execution_count": 3,
      "outputs": [
        {
          "output_type": "stream",
          "name": "stderr",
          "text": [
            "/usr/local/lib/python3.11/dist-packages/huggingface_hub/utils/_auth.py:94: UserWarning: \n",
            "The secret `HF_TOKEN` does not exist in your Colab secrets.\n",
            "To authenticate with the Hugging Face Hub, create a token in your settings tab (https://huggingface.co/settings/tokens), set it as secret in your Google Colab and restart your session.\n",
            "You will be able to reuse this secret in all of your notebooks.\n",
            "Please note that authentication is recommended but still optional to access public models or datasets.\n",
            "  warnings.warn(\n"
          ]
        },
        {
          "output_type": "display_data",
          "data": {
            "text/plain": [
              "preprocessor_config.json:   0%|          | 0.00/160 [00:00<?, ?B/s]"
            ],
            "application/vnd.jupyter.widget-view+json": {
              "version_major": 2,
              "version_minor": 0,
              "model_id": "0650cb5a5f5944e39b466861fce25305"
            }
          },
          "metadata": {}
        },
        {
          "output_type": "display_data",
          "data": {
            "text/plain": [
              "config.json:   0%|          | 0.00/502 [00:00<?, ?B/s]"
            ],
            "application/vnd.jupyter.widget-view+json": {
              "version_major": 2,
              "version_minor": 0,
              "model_id": "37db429cce5f4104983d1c85294b712e"
            }
          },
          "metadata": {}
        },
        {
          "output_type": "stream",
          "name": "stderr",
          "text": [
            "/usr/local/lib/python3.11/dist-packages/transformers/models/vit/feature_extraction_vit.py:28: FutureWarning: The class ViTFeatureExtractor is deprecated and will be removed in version 5 of Transformers. Please use ViTImageProcessor instead.\n",
            "  warnings.warn(\n"
          ]
        },
        {
          "output_type": "display_data",
          "data": {
            "text/plain": [
              "model.safetensors:   0%|          | 0.00/346M [00:00<?, ?B/s]"
            ],
            "application/vnd.jupyter.widget-view+json": {
              "version_major": 2,
              "version_minor": 0,
              "model_id": "3400b101d92a4ead94945f746a4d9b7d"
            }
          },
          "metadata": {}
        },
        {
          "output_type": "stream",
          "name": "stderr",
          "text": [
            "Extracting features: 100%|██████████| 776/776 [01:20<00:00,  9.59it/s]\n"
          ]
        },
        {
          "output_type": "stream",
          "name": "stdout",
          "text": [
            "选择的152张代表性图像已保存到: ./data_kmeans\n"
          ]
        }
      ]
    },
    {
      "cell_type": "code",
      "source": [
        "import shutil\n",
        "\n",
        "# 定义要压缩的文件夹路径和目标ZIP文件路径\n",
        "folder_path = '/content/data_kmeans'\n",
        "zip_path = '/content/drive/MyDrive/kmeans0219/data_kmeans.zip'\n",
        "\n",
        "# 压缩文件夹为ZIP文件\n",
        "shutil.make_archive(zip_path.replace('.zip', ''), 'zip', folder_path)"
      ],
      "metadata": {
        "colab": {
          "base_uri": "https://localhost:8080/",
          "height": 35
        },
        "id": "9R7ROX3CXyT1",
        "outputId": "f8f64955-fbfc-4e09-a997-b24198774e8d"
      },
      "execution_count": 4,
      "outputs": [
        {
          "output_type": "execute_result",
          "data": {
            "text/plain": [
              "'/content/drive/MyDrive/kmeans0219/data_kmeans.zip'"
            ],
            "application/vnd.google.colaboratory.intrinsic+json": {
              "type": "string"
            }
          },
          "metadata": {},
          "execution_count": 4
        }
      ]
    }
  ]
}