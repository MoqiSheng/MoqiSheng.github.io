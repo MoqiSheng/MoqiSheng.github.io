{
  "nbformat": 4,
  "nbformat_minor": 0,
  "metadata": {
    "colab": {
      "provenance": [],
      "gpuType": "L4",
      "authorship_tag": "ABX9TyNk9mgsK0gFmj8O3mAYPL1j",
      "include_colab_link": true
    },
    "kernelspec": {
      "name": "python3",
      "display_name": "Python 3"
    },
    "language_info": {
      "name": "python"
    },
    "accelerator": "GPU"
  },
  "cells": [
    {
      "cell_type": "markdown",
      "metadata": {
        "id": "view-in-github",
        "colab_type": "text"
      },
      "source": [
        "<a href=\"https://colab.research.google.com/github/MoqiSheng/MoqiSheng.github.io/blob/main/GeometricMedian_add0203.ipynb\" target=\"_parent\"><img src=\"https://colab.research.google.com/assets/colab-badge.svg\" alt=\"Open In Colab\"/></a>"
      ]
    },
    {
      "cell_type": "code",
      "execution_count": 7,
      "metadata": {
        "colab": {
          "base_uri": "https://localhost:8080/"
        },
        "id": "fHDSoa3Ju8K9",
        "outputId": "0831a9a5-aa2d-461d-a3e1-05c178e4a973"
      },
      "outputs": [
        {
          "metadata": {
            "tags": null
          },
          "name": "stdout",
          "output_type": "stream",
          "text": [
            "Drive already mounted at /content/drive; to attempt to forcibly remount, call drive.mount(\"/content/drive\", force_remount=True).\n"
          ]
        }
      ],
      "source": [
        "from google.colab import drive\n",
        "drive.mount('/content/drive')"
      ]
    },
    {
      "cell_type": "code",
      "source": [
        "!unzip /content/drive/MyDrive/UrbanASIFpro/Anchor_types.zip -d /content/Anchor_image"
      ],
      "metadata": {
        "colab": {
          "base_uri": "https://localhost:8080/"
        },
        "id": "5o1-yrC7vFwE",
        "outputId": "c219128e-c03e-4cd3-d5d0-3ae12daa832b"
      },
      "execution_count": 8,
      "outputs": [
        {
          "output_type": "stream",
          "name": "stdout",
          "text": [
            "Archive:  /content/drive/MyDrive/UrbanASIFpro/Anchor_types.zip\n",
            "replace /content/Anchor_image/civic, governmental and cultural/1162.png? [y]es, [n]o, [A]ll, [N]one, [r]ename: "
          ]
        }
      ]
    },
    {
      "cell_type": "code",
      "source": [
        "import os\n",
        "import torch\n",
        "from transformers import ViTFeatureExtractor, ViTModel\n",
        "from PIL import Image\n",
        "from tqdm import tqdm\n",
        "import numpy as np\n",
        "\n",
        "# 获取脚本所在的目录路径并切换当前工作目录\n",
        "# abspath = os.path.abspath(__file__)  # 获取脚本文件的绝对路径\n",
        "# dname = os.path.dirname(abspath)     # 提取脚本所在目录的路径\n",
        "# os.chdir(dname)                      # 切换当前工作目录到脚本所在的目录\n",
        "\n",
        "# 加载预训练的 google/vit-base-patch16-224-in21k 模型\n",
        "device = \"cuda\" if torch.cuda.is_available() else \"cpu\"\n",
        "model = ViTModel.from_pretrained(\"google/vit-base-patch16-224-in21k\").to(device)\n",
        "feature_extractor = ViTFeatureExtractor.from_pretrained(\"google/vit-base-patch16-224-in21k\")\n",
        "\n",
        "# Weiszfeld 算法实现\n",
        "def compute_weiszfeld_median(vectors):\n",
        "    \"\"\"\n",
        "    使用 Weiszfeld 算法计算加权几何中位数\n",
        "    \"\"\"\n",
        "    vectors = torch.stack(vectors, dim=0)\n",
        "    # 初始化几何中位数为第一个向量\n",
        "    median = vectors[0]\n",
        "\n",
        "    # Weiszfeld算法迭代\n",
        "    epsilon = 1e-6\n",
        "    max_iterations = 1000\n",
        "    for _ in range(max_iterations):\n",
        "        distances = torch.norm(vectors - median, dim=-1)  # 计算到每个向量的距离\n",
        "        weights = 1.0 / (distances + epsilon)  # 防止除以零，加入一个小的偏移量\n",
        "        weighted_vectors = (weights.unsqueeze(-1) * vectors).sum(dim=0)  # 加权平均\n",
        "        new_median = weighted_vectors / weights.sum()  # 更新几何中位数\n",
        "\n",
        "        # 如果变化小于阈值，则停止迭代\n",
        "        if torch.norm(new_median - median) < epsilon:\n",
        "            break\n",
        "        median = new_median\n",
        "\n",
        "    return median\n",
        "\n",
        "# 定义特征提取函数 extract_features\n",
        "def extract_features(image_folder):\n",
        "    image_features_list = []\n",
        "    # 读取 image_folder 中所有扩展名为 .jpg 或 .png 的文件，并将文件名按自然数顺序排序（例如，1.jpg、2.jpg、3.jpg 顺序排列）\n",
        "    image_paths = sorted(\n",
        "        [os.path.join(image_folder, img) for img in os.listdir(image_folder) if img.lower().endswith(('.jpg', '.png'))],\n",
        "        key=lambda x: int(os.path.splitext(os.path.basename(x))[0])\n",
        "    )\n",
        "\n",
        "    for image_path in tqdm(image_paths, desc=f\"Processing {image_folder}\"):\n",
        "        try:\n",
        "            # 加载并预处理图像\n",
        "            image = Image.open(image_path)\n",
        "            inputs = feature_extractor(images=image, return_tensors=\"pt\").to(device)  # 使用 ViTFeatureExtractor 进行预处理\n",
        "\n",
        "            # 获取图像特征\n",
        "            with torch.no_grad():  # 禁用了梯度计算（不需要反向传播）\n",
        "                outputs = model(**inputs)  # 获取模型输出\n",
        "                image_features = outputs.last_hidden_state[:, 0]  # 取 [CLS] token 的特征\n",
        "                image_features /= image_features.norm(dim=-1, keepdim=True)  # 归一化处理\n",
        "                image_features_list.append(image_features.cpu())  # 将特征向量移动到 CPU ，然后将其追加到列表中\n",
        "        except Exception as e:\n",
        "            print(f\"Error processing {image_path}: {e}\")\n",
        "\n",
        "    return image_features_list\n",
        "\n",
        "# 遍历所有文件夹，计算几何中位数并保存结果\n",
        "def process_folders(base_folder):\n",
        "    for folder_name in os.listdir(base_folder):\n",
        "        folder_path = os.path.join(base_folder, folder_name)\n",
        "        if os.path.isdir(folder_path):\n",
        "            print(f\"Processing folder: {folder_name}\")\n",
        "\n",
        "            # 提取该文件夹内所有图片的特征\n",
        "            image_features_list = extract_features(folder_path)\n",
        "\n",
        "            if image_features_list:\n",
        "                # 计算该文件夹的几何中位数\n",
        "                weiszfeld_median = compute_weiszfeld_median(image_features_list)\n",
        "\n",
        "                # 获取文件夹名称的第一个单词\n",
        "                first_word = folder_name.split()[0]\n",
        "\n",
        "                # 保存几何中位数，文件名为文件夹名的第一个单词\n",
        "                output_file = os.path.join(base_folder, f\"{first_word}.pt\")\n",
        "                torch.save(weiszfeld_median, output_file)\n",
        "                print(f\"Geometric median saved to {output_file}\")\n",
        "            else:\n",
        "                print(f\"No valid images found in {folder_path}\")\n",
        "\n",
        "# 调用函数，处理文件夹中的图片\n",
        "process_folders('./Anchor_image')"
      ],
      "metadata": {
        "colab": {
          "base_uri": "https://localhost:8080/"
        },
        "id": "H-L59zzlvsIA",
        "outputId": "e8df7b17-9bbc-4f57-e9e1-6888f535bc34"
      },
      "execution_count": null,
      "outputs": [
        {
          "output_type": "stream",
          "name": "stdout",
          "text": [
            "Processing folder: civic, governmental and cultural\n"
          ]
        },
        {
          "output_type": "stream",
          "name": "stderr",
          "text": [
            "Processing ./Anchor_image/civic, governmental and cultural: 100%|██████████| 10/10 [00:00<00:00, 61.87it/s]\n"
          ]
        },
        {
          "output_type": "stream",
          "name": "stdout",
          "text": [
            "Geometric median saved to ./Anchor_image/civic,.pt\n",
            "Processing folder: transportation\n"
          ]
        },
        {
          "output_type": "stream",
          "name": "stderr",
          "text": [
            "Processing ./Anchor_image/transportation: 100%|██████████| 6/6 [00:00<00:00, 64.71it/s]\n"
          ]
        },
        {
          "output_type": "stream",
          "name": "stdout",
          "text": [
            "Geometric median saved to ./Anchor_image/transportation.pt\n",
            "Processing folder: hotel\n"
          ]
        },
        {
          "output_type": "stream",
          "name": "stderr",
          "text": [
            "Processing ./Anchor_image/hotel: 100%|██████████| 6/6 [00:00<00:00, 63.85it/s]\n"
          ]
        },
        {
          "output_type": "stream",
          "name": "stdout",
          "text": [
            "Geometric median saved to ./Anchor_image/hotel.pt\n",
            "Processing folder: sports and recreation\n"
          ]
        },
        {
          "output_type": "stream",
          "name": "stderr",
          "text": [
            "Processing ./Anchor_image/sports and recreation: 100%|██████████| 5/5 [00:00<00:00, 63.98it/s]\n"
          ]
        },
        {
          "output_type": "stream",
          "name": "stdout",
          "text": [
            "Geometric median saved to ./Anchor_image/sports.pt\n",
            "Processing folder: residential\n"
          ]
        },
        {
          "output_type": "stream",
          "name": "stderr",
          "text": [
            "Processing ./Anchor_image/residential: 100%|██████████| 39/39 [00:00<00:00, 63.50it/s]\n"
          ]
        },
        {
          "output_type": "stream",
          "name": "stdout",
          "text": [
            "Geometric median saved to ./Anchor_image/residential.pt\n",
            "Processing folder: health care\n"
          ]
        },
        {
          "output_type": "stream",
          "name": "stderr",
          "text": [
            "Processing ./Anchor_image/health care: 100%|██████████| 7/7 [00:00<00:00, 63.45it/s]\n"
          ]
        },
        {
          "output_type": "stream",
          "name": "stdout",
          "text": [
            "Geometric median saved to ./Anchor_image/health.pt\n",
            "Processing folder: industrial\n"
          ]
        },
        {
          "output_type": "stream",
          "name": "stderr",
          "text": [
            "Processing ./Anchor_image/industrial: 100%|██████████| 27/27 [00:00<00:00, 64.74it/s]\n"
          ]
        },
        {
          "output_type": "stream",
          "name": "stdout",
          "text": [
            "Geometric median saved to ./Anchor_image/industrial.pt\n",
            "Processing folder: .ipynb_checkpoints\n"
          ]
        },
        {
          "output_type": "stream",
          "name": "stderr",
          "text": [
            "Processing ./Anchor_image/.ipynb_checkpoints: 0it [00:00, ?it/s]\n"
          ]
        },
        {
          "output_type": "stream",
          "name": "stdout",
          "text": [
            "No valid images found in ./Anchor_image/.ipynb_checkpoints\n",
            "Processing folder: commercial\n"
          ]
        },
        {
          "output_type": "stream",
          "name": "stderr",
          "text": [
            "Processing ./Anchor_image/commercial: 100%|██████████| 30/30 [00:00<00:00, 64.46it/s]\n"
          ]
        },
        {
          "output_type": "stream",
          "name": "stdout",
          "text": [
            "Geometric median saved to ./Anchor_image/commercial.pt\n",
            "Processing folder: education\n"
          ]
        },
        {
          "output_type": "stream",
          "name": "stderr",
          "text": [
            "Processing ./Anchor_image/education: 100%|██████████| 17/17 [00:00<00:00, 63.73it/s]\n"
          ]
        },
        {
          "output_type": "stream",
          "name": "stdout",
          "text": [
            "Geometric median saved to ./Anchor_image/education.pt\n",
            "Processing folder: outdoors and natural\n"
          ]
        },
        {
          "output_type": "stream",
          "name": "stderr",
          "text": [
            "Processing ./Anchor_image/outdoors and natural: 100%|██████████| 5/5 [00:00<00:00, 64.91it/s]"
          ]
        },
        {
          "output_type": "stream",
          "name": "stdout",
          "text": [
            "Geometric median saved to ./Anchor_image/outdoors.pt\n"
          ]
        },
        {
          "output_type": "stream",
          "name": "stderr",
          "text": [
            "\n"
          ]
        }
      ]
    },
    {
      "cell_type": "code",
      "source": [
        "#将civic的，逗号去除"
      ],
      "metadata": {
        "id": "oL2p1rhL4uQX"
      },
      "execution_count": null,
      "outputs": []
    },
    {
      "cell_type": "code",
      "source": [
        "!unzip /content/drive/MyDrive/UrbanASIFpro/Anchor.zip -d /content/Data"
      ],
      "metadata": {
        "colab": {
          "base_uri": "https://localhost:8080/"
        },
        "id": "2E1hd6qcztb2",
        "outputId": "3341e1e8-68de-4df1-d6a1-6162e933e9e7"
      },
      "execution_count": null,
      "outputs": [
        {
          "output_type": "stream",
          "name": "stdout",
          "text": [
            "Archive:  /content/drive/MyDrive/UrbanASIFpro/Anchor.zip\n",
            "  inflating: /content/Data/1007.png  \n",
            "  inflating: /content/Data/1037.png  \n",
            "  inflating: /content/Data/1039.png  \n",
            "  inflating: /content/Data/1052.png  \n",
            "  inflating: /content/Data/1094.png  \n",
            "  inflating: /content/Data/1095.png  \n",
            "  inflating: /content/Data/1097.png  \n",
            "  inflating: /content/Data/1104.png  \n",
            "  inflating: /content/Data/111.png   \n",
            "  inflating: /content/Data/1112.png  \n",
            "  inflating: /content/Data/1117.png  \n",
            "  inflating: /content/Data/1140.png  \n",
            "  inflating: /content/Data/1142.png  \n",
            "  inflating: /content/Data/115.png   \n",
            "  inflating: /content/Data/1162.png  \n",
            "  inflating: /content/Data/1172.png  \n",
            "  inflating: /content/Data/118.png   \n",
            "  inflating: /content/Data/1193.png  \n",
            "  inflating: /content/Data/1194.png  \n",
            "  inflating: /content/Data/1201.png  \n",
            "  inflating: /content/Data/1202.png  \n",
            "  inflating: /content/Data/1206.png  \n",
            "  inflating: /content/Data/1216.png  \n",
            "  inflating: /content/Data/1224.png  \n",
            "  inflating: /content/Data/1271.png  \n",
            "  inflating: /content/Data/1274.png  \n",
            "  inflating: /content/Data/1277.png  \n",
            "  inflating: /content/Data/129.png   \n",
            "  inflating: /content/Data/1290.png  \n",
            "  inflating: /content/Data/1291.png  \n",
            "  inflating: /content/Data/1293.png  \n",
            "  inflating: /content/Data/1300.png  \n",
            "  inflating: /content/Data/1309.png  \n",
            "  inflating: /content/Data/1312.png  \n",
            "  inflating: /content/Data/1332.png  \n",
            "  inflating: /content/Data/1341.png  \n",
            "  inflating: /content/Data/1343.png  \n",
            "  inflating: /content/Data/1370.png  \n",
            "  inflating: /content/Data/1377.png  \n",
            "  inflating: /content/Data/1395.png  \n",
            "  inflating: /content/Data/140.png   \n",
            "  inflating: /content/Data/1400.png  \n",
            "  inflating: /content/Data/1405.png  \n",
            "  inflating: /content/Data/1409.png  \n",
            "  inflating: /content/Data/1412.png  \n",
            "  inflating: /content/Data/1432.png  \n",
            "  inflating: /content/Data/1443.png  \n",
            "  inflating: /content/Data/1466.png  \n",
            "  inflating: /content/Data/1483.png  \n",
            "  inflating: /content/Data/1487.png  \n",
            "  inflating: /content/Data/1493.png  \n",
            "  inflating: /content/Data/1505.png  \n",
            "  inflating: /content/Data/1509.png  \n",
            "  inflating: /content/Data/1510.png  \n",
            "  inflating: /content/Data/158.png   \n",
            "  inflating: /content/Data/164.png   \n",
            "  inflating: /content/Data/165.png   \n",
            "  inflating: /content/Data/171.png   \n",
            "  inflating: /content/Data/174.png   \n",
            "  inflating: /content/Data/176.png   \n",
            "  inflating: /content/Data/195.png   \n",
            "  inflating: /content/Data/197.png   \n",
            "  inflating: /content/Data/198.png   \n",
            "  inflating: /content/Data/200.png   \n",
            "  inflating: /content/Data/209.png   \n",
            "  inflating: /content/Data/215.png   \n",
            "  inflating: /content/Data/225.png   \n",
            "  inflating: /content/Data/241.png   \n",
            "  inflating: /content/Data/246.png   \n",
            "  inflating: /content/Data/250.png   \n",
            "  inflating: /content/Data/253.png   \n",
            "  inflating: /content/Data/255.png   \n",
            "  inflating: /content/Data/259.png   \n",
            "  inflating: /content/Data/268.png   \n",
            "  inflating: /content/Data/277.png   \n",
            "  inflating: /content/Data/280.png   \n",
            "  inflating: /content/Data/289.png   \n",
            "  inflating: /content/Data/297.png   \n",
            "  inflating: /content/Data/32.png    \n",
            "  inflating: /content/Data/34.png    \n",
            "  inflating: /content/Data/345.png   \n",
            "  inflating: /content/Data/35.png    \n",
            "  inflating: /content/Data/363.png   \n",
            "  inflating: /content/Data/374.png   \n",
            "  inflating: /content/Data/376.png   \n",
            "  inflating: /content/Data/389.png   \n",
            "  inflating: /content/Data/425.png   \n",
            "  inflating: /content/Data/430.png   \n",
            "  inflating: /content/Data/442.png   \n",
            "  inflating: /content/Data/453.png   \n",
            "  inflating: /content/Data/46.png    \n",
            "  inflating: /content/Data/461.png   \n",
            "  inflating: /content/Data/464.png   \n",
            "  inflating: /content/Data/467.png   \n",
            "  inflating: /content/Data/508.png   \n",
            "  inflating: /content/Data/531.png   \n",
            "  inflating: /content/Data/538.png   \n",
            "  inflating: /content/Data/544.png   \n",
            "  inflating: /content/Data/548.png   \n",
            "  inflating: /content/Data/561.png   \n",
            "  inflating: /content/Data/585.png   \n",
            "  inflating: /content/Data/601.png   \n",
            "  inflating: /content/Data/606.png   \n",
            "  inflating: /content/Data/616.png   \n",
            "  inflating: /content/Data/618.png   \n",
            "  inflating: /content/Data/621.png   \n",
            "  inflating: /content/Data/629.png   \n",
            "  inflating: /content/Data/644.png   \n",
            "  inflating: /content/Data/645.png   \n",
            "  inflating: /content/Data/65.png    \n",
            "  inflating: /content/Data/666.png   \n",
            "  inflating: /content/Data/670.png   \n",
            "  inflating: /content/Data/674.png   \n",
            "  inflating: /content/Data/676.png   \n",
            "  inflating: /content/Data/678.png   \n",
            "  inflating: /content/Data/690.png   \n",
            "  inflating: /content/Data/704.png   \n",
            "  inflating: /content/Data/712.png   \n",
            "  inflating: /content/Data/715.png   \n",
            "  inflating: /content/Data/717.png   \n",
            "  inflating: /content/Data/747.png   \n",
            "  inflating: /content/Data/758.png   \n",
            "  inflating: /content/Data/76.png    \n",
            "  inflating: /content/Data/769.png   \n",
            "  inflating: /content/Data/77.png    \n",
            "  inflating: /content/Data/774.png   \n",
            "  inflating: /content/Data/78.png    \n",
            "  inflating: /content/Data/79.png    \n",
            "  inflating: /content/Data/793.png   \n",
            "  inflating: /content/Data/825.png   \n",
            "  inflating: /content/Data/826.png   \n",
            "  inflating: /content/Data/827.png   \n",
            "  inflating: /content/Data/830.png   \n",
            "  inflating: /content/Data/840.png   \n",
            "  inflating: /content/Data/849.png   \n",
            "  inflating: /content/Data/850.png   \n",
            "  inflating: /content/Data/851.png   \n",
            "  inflating: /content/Data/87.png    \n",
            "  inflating: /content/Data/871.png   \n",
            "  inflating: /content/Data/885.png   \n",
            "  inflating: /content/Data/890.png   \n",
            "  inflating: /content/Data/910.png   \n",
            "  inflating: /content/Data/912.png   \n",
            "  inflating: /content/Data/914.png   \n",
            "  inflating: /content/Data/932.png   \n",
            "  inflating: /content/Data/936.png   \n",
            "  inflating: /content/Data/947.png   \n",
            "  inflating: /content/Data/960.png   \n",
            "  inflating: /content/Data/972.png   \n",
            "  inflating: /content/Data/989.png   \n",
            "  inflating: /content/Data/991.png   \n",
            "  inflating: /content/Data/992.png   \n"
          ]
        }
      ]
    },
    {
      "cell_type": "code",
      "source": [
        "import os\n",
        "import torch\n",
        "import pandas as pd\n",
        "from transformers import ViTFeatureExtractor, ViTModel\n",
        "from PIL import Image\n",
        "from tqdm import tqdm\n",
        "import re  # 导入正则表达式模块\n",
        "\n",
        "# 加载预训练的 google/vit-base-patch16-224-in21k 模型\n",
        "device = \"cuda\" if torch.cuda.is_available() else \"cpu\"\n",
        "model = ViTModel.from_pretrained(\"google/vit-base-patch16-224-in21k\").to(device)\n",
        "feature_extractor = ViTFeatureExtractor.from_pretrained(\"google/vit-base-patch16-224-in21k\")\n",
        "\n",
        "# 加载 anchor.csv 并将其转换为 DataFrame\n",
        "csv_file = './anchor.csv'\n",
        "df = pd.read_csv(csv_file)\n",
        "print(f\"Loaded {len(df)} rows from {csv_file}\")\n",
        "\n",
        "# 定义特征提取函数 extract_features\n",
        "def extract_features(image_folder, output_file):\n",
        "    image_features_list = []\n",
        "\n",
        "    # 读取 image_folder 中所有扩展名为 .jpg 或 .png 的文件，并将文件名按自然数顺序排序（例如，1.jpg、2.jpg、3.jpg 顺序排列）\n",
        "    image_paths = sorted(\n",
        "        [os.path.join(image_folder, img) for img in os.listdir(image_folder) if img.lower().endswith(('.jpg', '.png'))],\n",
        "        key=lambda x: int(os.path.splitext(os.path.basename(x))[0])\n",
        "    )\n",
        "    print(f\"Found {len(image_paths)} images in {image_folder}\")\n",
        "\n",
        "    for image_path in tqdm(image_paths, desc=f\"Processing {image_folder}\"):\n",
        "        try:\n",
        "            # 获取图片ID\n",
        "            image_id = os.path.splitext(os.path.basename(image_path))[0]\n",
        "\n",
        "            # 从 CSV 文件中获取对应的 urban_function_category 列的第一个单词\n",
        "            primary_function = df.loc[df['ID'] == int(image_id), 'urban_function_category'].values\n",
        "            if primary_function.size == 0:\n",
        "                print(f\"Warning: No primary_function found for image ID {image_id}, skipping.\")\n",
        "                continue  # 如果没有找到对应的行，跳过该图片\n",
        "\n",
        "            # 使用正则表达式去除标点符号，提取第一个单词\n",
        "            # 正则表达式 '[^\\w\\s]' 用于去除所有非字母和空格字符\n",
        "            first_word = re.sub(r'[^\\w\\s]', '', primary_function[0]).split()[0]  # 去掉标点符号并取第一个单词\n",
        "            print(f\"Image {image_id}: Primary function is {primary_function[0]}, using {first_word} as the embedding keyword.\")\n",
        "\n",
        "            # 加载并预处理图像\n",
        "            image = Image.open(image_path)\n",
        "            inputs = feature_extractor(images=image, return_tensors=\"pt\").to(device)  # 使用 ViTFeatureExtractor 进行预处理\n",
        "\n",
        "            # 获取图像特征\n",
        "            with torch.no_grad():  # 禁用了梯度计算（不需要反向传播）\n",
        "                outputs = model(**inputs)  # 获取模型输出\n",
        "                image_features = outputs.last_hidden_state[:, 0]  # 取 [CLS] token 的特征\n",
        "                image_features /= image_features.norm(dim=-1, keepdim=True)  # 归一化处理\n",
        "                image_features *= 0.1  # 对图像特征向量进行 0.8 的缩放\n",
        "                print(f\"Image {image_id}: Extracted features and scaled by 0.8\")\n",
        "\n",
        "                # 加载与第一个单词对应的嵌入文件（.pt）\n",
        "                embedding_file = f'./Anchor_image/{first_word}.pt'\n",
        "                if os.path.exists(embedding_file):\n",
        "                    word_embedding = torch.load(embedding_file).to(device)\n",
        "                    image_features += 0.9 * word_embedding  # 加权叠加\n",
        "                    print(f\"Image {image_id}: Added embedding from {first_word}.pt with weight 0.2\")\n",
        "                else:\n",
        "                    print(f\"Warning: Embedding file {embedding_file} not found, skipping embedding addition.\")\n",
        "\n",
        "                image_features_list.append(image_features.cpu())  # 将特征向量移动到 CPU ，然后将其追加到列表中\n",
        "\n",
        "        except Exception as e:\n",
        "            print(f\"Error processing {image_path}: {e}\")\n",
        "\n",
        "    # 将所有图像特征保存为矩阵\n",
        "    if image_features_list:\n",
        "        image_features = torch.cat(image_features_list, dim=0)  # 将存储在 image_features_list 中的所有图像特征向量拼接成一个大的张量\n",
        "        torch.save(image_features, output_file)\n",
        "        print(f\"Features saved to {output_file}\")\n",
        "    else:\n",
        "        print(f\"No valid images found in {image_folder}\")\n",
        "\n",
        "# 调用特征提取函数，提取并保存每个城市的特征\n",
        "extract_features('./Data', './imgs_anchor.pt')"
      ],
      "metadata": {
        "id": "JYojOvZZ3FRZ",
        "outputId": "2d57d8b4-9739-4a68-c965-6cbff3cf2904",
        "colab": {
          "base_uri": "https://localhost:8080/"
        }
      },
      "execution_count": 20,
      "outputs": [
        {
          "output_type": "stream",
          "name": "stderr",
          "text": [
            "/usr/local/lib/python3.11/dist-packages/transformers/models/vit/feature_extraction_vit.py:28: FutureWarning: The class ViTFeatureExtractor is deprecated and will be removed in version 5 of Transformers. Please use ViTImageProcessor instead.\n",
            "  warnings.warn(\n"
          ]
        },
        {
          "output_type": "stream",
          "name": "stdout",
          "text": [
            "Loaded 152 rows from ./anchor.csv\n",
            "Found 152 images in ./Data\n"
          ]
        },
        {
          "output_type": "stream",
          "name": "stderr",
          "text": [
            "Processing ./Data:   0%|          | 0/152 [00:00<?, ?it/s]<ipython-input-20-68afe01435b6>:61: FutureWarning: You are using `torch.load` with `weights_only=False` (the current default value), which uses the default pickle module implicitly. It is possible to construct malicious pickle data which will execute arbitrary code during unpickling (See https://github.com/pytorch/pytorch/blob/main/SECURITY.md#untrusted-models for more details). In a future release, the default value for `weights_only` will be flipped to `True`. This limits the functions that could be executed during unpickling. Arbitrary objects will no longer be allowed to be loaded via this mode unless they are explicitly allowlisted by the user via `torch.serialization.add_safe_globals`. We recommend you start setting `weights_only=True` for any use case where you don't have full control of the loaded file. Please open an issue on GitHub for any issues related to this experimental feature.\n",
            "  word_embedding = torch.load(embedding_file).to(device)\n",
            "Processing ./Data:   4%|▍         | 6/152 [00:00<00:02, 55.56it/s]"
          ]
        },
        {
          "output_type": "stream",
          "name": "stdout",
          "text": [
            "Image 32: Primary function is residential, using residential as the embedding keyword.\n",
            "Image 32: Extracted features and scaled by 0.8\n",
            "Image 32: Added embedding from residential.pt with weight 0.2\n",
            "Image 34: Primary function is commercial, using commercial as the embedding keyword.\n",
            "Image 34: Extracted features and scaled by 0.8\n",
            "Image 34: Added embedding from commercial.pt with weight 0.2\n",
            "Image 35: Primary function is residential, using residential as the embedding keyword.\n",
            "Image 35: Extracted features and scaled by 0.8\n",
            "Image 35: Added embedding from residential.pt with weight 0.2\n",
            "Image 46: Primary function is education, using education as the embedding keyword.\n",
            "Image 46: Extracted features and scaled by 0.8\n",
            "Image 46: Added embedding from education.pt with weight 0.2\n",
            "Image 65: Primary function is education, using education as the embedding keyword.\n",
            "Image 65: Extracted features and scaled by 0.8\n",
            "Image 65: Added embedding from education.pt with weight 0.2\n",
            "Image 76: Primary function is commercial, using commercial as the embedding keyword.\n",
            "Image 76: Extracted features and scaled by 0.8\n",
            "Image 76: Added embedding from commercial.pt with weight 0.2\n",
            "Image 77: Primary function is commercial, using commercial as the embedding keyword.\n",
            "Image 77: Extracted features and scaled by 0.8\n",
            "Image 77: Added embedding from commercial.pt with weight 0.2\n",
            "Image 78: Primary function is residential, using residential as the embedding keyword.\n",
            "Image 78: Extracted features and scaled by 0.8\n",
            "Image 78: Added embedding from residential.pt with weight 0.2\n",
            "Image 79: Primary function is civic, governmental, and cultural, using civic as the embedding keyword.\n",
            "Image 79: Extracted features and scaled by 0.8\n",
            "Image 79: Added embedding from civic.pt with weight 0.2\n",
            "Image 87: Primary function is transportation, using transportation as the embedding keyword.\n",
            "Image 87: Extracted features and scaled by 0.8\n",
            "Image 87: Added embedding from transportation.pt with weight 0.2\n",
            "Image 111: Primary function is commercial, using commercial as the embedding keyword.\n",
            "Image 111: Extracted features and scaled by 0.8\n",
            "Image 111: Added embedding from commercial.pt with weight 0.2\n",
            "Image 115: Primary function is industrial, using industrial as the embedding keyword.\n"
          ]
        },
        {
          "output_type": "stream",
          "name": "stderr",
          "text": [
            "Processing ./Data:  12%|█▏        | 18/152 [00:00<00:02, 56.66it/s]"
          ]
        },
        {
          "output_type": "stream",
          "name": "stdout",
          "text": [
            "Image 115: Extracted features and scaled by 0.8\n",
            "Image 115: Added embedding from industrial.pt with weight 0.2\n",
            "Image 118: Primary function is residential, using residential as the embedding keyword.\n",
            "Image 118: Extracted features and scaled by 0.8\n",
            "Image 118: Added embedding from residential.pt with weight 0.2\n",
            "Image 129: Primary function is industrial, using industrial as the embedding keyword.\n",
            "Image 129: Extracted features and scaled by 0.8\n",
            "Image 129: Added embedding from industrial.pt with weight 0.2\n",
            "Image 140: Primary function is commercial, using commercial as the embedding keyword.\n",
            "Image 140: Extracted features and scaled by 0.8\n",
            "Image 140: Added embedding from commercial.pt with weight 0.2\n",
            "Image 158: Primary function is residential, using residential as the embedding keyword.\n",
            "Image 158: Extracted features and scaled by 0.8\n",
            "Image 158: Added embedding from residential.pt with weight 0.2\n",
            "Image 164: Primary function is transportation, using transportation as the embedding keyword.\n",
            "Image 164: Extracted features and scaled by 0.8\n",
            "Image 164: Added embedding from transportation.pt with weight 0.2\n",
            "Image 165: Primary function is residential, using residential as the embedding keyword.\n",
            "Image 165: Extracted features and scaled by 0.8\n",
            "Image 165: Added embedding from residential.pt with weight 0.2\n",
            "Image 171: Primary function is transportation, using transportation as the embedding keyword.\n",
            "Image 171: Extracted features and scaled by 0.8\n",
            "Image 171: Added embedding from transportation.pt with weight 0.2\n",
            "Image 174: Primary function is education, using education as the embedding keyword.\n",
            "Image 174: Extracted features and scaled by 0.8\n",
            "Image 174: Added embedding from education.pt with weight 0.2\n",
            "Image 176: Primary function is hotel, using hotel as the embedding keyword.\n",
            "Image 176: Extracted features and scaled by 0.8\n",
            "Image 176: Added embedding from hotel.pt with weight 0.2\n",
            "Image 195: Primary function is commercial, using commercial as the embedding keyword.\n",
            "Image 195: Extracted features and scaled by 0.8\n",
            "Image 195: Added embedding from commercial.pt with weight 0.2\n",
            "Image 197: Primary function is hotel, using hotel as the embedding keyword.\n",
            "Image 197: Extracted features and scaled by 0.8\n",
            "Image 197: Added embedding from hotel.pt with weight 0.2\n",
            "Image 198: Primary function is civic, governmental, and cultural, using civic as the embedding keyword.\n"
          ]
        },
        {
          "output_type": "stream",
          "name": "stderr",
          "text": [
            "Processing ./Data:  20%|█▉        | 30/152 [00:00<00:02, 57.24it/s]"
          ]
        },
        {
          "output_type": "stream",
          "name": "stdout",
          "text": [
            "Image 198: Extracted features and scaled by 0.8\n",
            "Image 198: Added embedding from civic.pt with weight 0.2\n",
            "Image 200: Primary function is health care, using health as the embedding keyword.\n",
            "Image 200: Extracted features and scaled by 0.8\n",
            "Image 200: Added embedding from health.pt with weight 0.2\n",
            "Image 209: Primary function is commercial, using commercial as the embedding keyword.\n",
            "Image 209: Extracted features and scaled by 0.8\n",
            "Image 209: Added embedding from commercial.pt with weight 0.2\n",
            "Image 215: Primary function is commercial, using commercial as the embedding keyword.\n",
            "Image 215: Extracted features and scaled by 0.8\n",
            "Image 215: Added embedding from commercial.pt with weight 0.2\n",
            "Image 225: Primary function is residential, using residential as the embedding keyword.\n",
            "Image 225: Extracted features and scaled by 0.8\n",
            "Image 225: Added embedding from residential.pt with weight 0.2\n",
            "Image 241: Primary function is commercial, using commercial as the embedding keyword.\n",
            "Image 241: Extracted features and scaled by 0.8\n",
            "Image 241: Added embedding from commercial.pt with weight 0.2\n",
            "Image 246: Primary function is residential, using residential as the embedding keyword.\n",
            "Image 246: Extracted features and scaled by 0.8\n",
            "Image 246: Added embedding from residential.pt with weight 0.2\n",
            "Image 250: Primary function is commercial, using commercial as the embedding keyword.\n",
            "Image 250: Extracted features and scaled by 0.8\n",
            "Image 250: Added embedding from commercial.pt with weight 0.2\n",
            "Image 253: Primary function is industrial, using industrial as the embedding keyword.\n",
            "Image 253: Extracted features and scaled by 0.8\n",
            "Image 253: Added embedding from industrial.pt with weight 0.2\n",
            "Image 255: Primary function is transportation, using transportation as the embedding keyword.\n",
            "Image 255: Extracted features and scaled by 0.8\n",
            "Image 255: Added embedding from transportation.pt with weight 0.2\n",
            "Image 259: Primary function is commercial, using commercial as the embedding keyword.\n",
            "Image 259: Extracted features and scaled by 0.8\n",
            "Image 259: Added embedding from commercial.pt with weight 0.2\n",
            "Image 268: Primary function is industrial, using industrial as the embedding keyword.\n",
            "Image 268: Extracted features and scaled by 0.8\n",
            "Image 268: Added embedding from industrial.pt with weight 0.2\n",
            "Image 277: Primary function is residential, using residential as the embedding keyword.\n"
          ]
        },
        {
          "output_type": "stream",
          "name": "stderr",
          "text": [
            "Processing ./Data:  28%|██▊       | 42/152 [00:00<00:01, 57.39it/s]"
          ]
        },
        {
          "output_type": "stream",
          "name": "stdout",
          "text": [
            "Image 277: Extracted features and scaled by 0.8\n",
            "Image 277: Added embedding from residential.pt with weight 0.2\n",
            "Image 280: Primary function is commercial, using commercial as the embedding keyword.\n",
            "Image 280: Extracted features and scaled by 0.8\n",
            "Image 280: Added embedding from commercial.pt with weight 0.2\n",
            "Image 289: Primary function is residential, using residential as the embedding keyword.\n",
            "Image 289: Extracted features and scaled by 0.8\n",
            "Image 289: Added embedding from residential.pt with weight 0.2\n",
            "Image 297: Primary function is residential, using residential as the embedding keyword.\n",
            "Image 297: Extracted features and scaled by 0.8\n",
            "Image 297: Added embedding from residential.pt with weight 0.2\n",
            "Image 345: Primary function is industrial, using industrial as the embedding keyword.\n",
            "Image 345: Extracted features and scaled by 0.8\n",
            "Image 345: Added embedding from industrial.pt with weight 0.2\n",
            "Image 363: Primary function is industrial, using industrial as the embedding keyword.\n",
            "Image 363: Extracted features and scaled by 0.8\n",
            "Image 363: Added embedding from industrial.pt with weight 0.2\n",
            "Image 374: Primary function is commercial, using commercial as the embedding keyword.\n",
            "Image 374: Extracted features and scaled by 0.8\n",
            "Image 374: Added embedding from commercial.pt with weight 0.2\n",
            "Image 376: Primary function is commercial, using commercial as the embedding keyword.\n",
            "Image 376: Extracted features and scaled by 0.8\n",
            "Image 376: Added embedding from commercial.pt with weight 0.2\n",
            "Image 389: Primary function is residential, using residential as the embedding keyword.\n",
            "Image 389: Extracted features and scaled by 0.8\n",
            "Image 389: Added embedding from residential.pt with weight 0.2\n",
            "Image 425: Primary function is industrial, using industrial as the embedding keyword.\n",
            "Image 425: Extracted features and scaled by 0.8\n",
            "Image 425: Added embedding from industrial.pt with weight 0.2\n",
            "Image 430: Primary function is commercial, using commercial as the embedding keyword.\n",
            "Image 430: Extracted features and scaled by 0.8\n",
            "Image 430: Added embedding from commercial.pt with weight 0.2\n",
            "Image 442: Primary function is commercial, using commercial as the embedding keyword.\n",
            "Image 442: Extracted features and scaled by 0.8\n",
            "Image 442: Added embedding from commercial.pt with weight 0.2\n",
            "Image 453: Primary function is transportation, using transportation as the embedding keyword.\n"
          ]
        },
        {
          "output_type": "stream",
          "name": "stderr",
          "text": [
            "Processing ./Data:  36%|███▌      | 54/152 [00:00<00:01, 56.38it/s]"
          ]
        },
        {
          "output_type": "stream",
          "name": "stdout",
          "text": [
            "Image 453: Extracted features and scaled by 0.8\n",
            "Image 453: Added embedding from transportation.pt with weight 0.2\n",
            "Image 461: Primary function is commercial, using commercial as the embedding keyword.\n",
            "Image 461: Extracted features and scaled by 0.8\n",
            "Image 461: Added embedding from commercial.pt with weight 0.2\n",
            "Image 464: Primary function is residential, using residential as the embedding keyword.\n",
            "Image 464: Extracted features and scaled by 0.8\n",
            "Image 464: Added embedding from residential.pt with weight 0.2\n",
            "Image 467: Primary function is residential, using residential as the embedding keyword.\n",
            "Image 467: Extracted features and scaled by 0.8\n",
            "Image 467: Added embedding from residential.pt with weight 0.2\n",
            "Image 508: Primary function is residential, using residential as the embedding keyword.\n",
            "Image 508: Extracted features and scaled by 0.8\n",
            "Image 508: Added embedding from residential.pt with weight 0.2\n",
            "Image 531: Primary function is industrial, using industrial as the embedding keyword.\n",
            "Image 531: Extracted features and scaled by 0.8\n",
            "Image 531: Added embedding from industrial.pt with weight 0.2\n",
            "Image 538: Primary function is commercial, using commercial as the embedding keyword.\n",
            "Image 538: Extracted features and scaled by 0.8\n",
            "Image 538: Added embedding from commercial.pt with weight 0.2\n",
            "Image 544: Primary function is residential, using residential as the embedding keyword.\n",
            "Image 544: Extracted features and scaled by 0.8\n",
            "Image 544: Added embedding from residential.pt with weight 0.2\n",
            "Image 548: Primary function is commercial, using commercial as the embedding keyword.\n",
            "Image 548: Extracted features and scaled by 0.8\n",
            "Image 548: Added embedding from commercial.pt with weight 0.2\n",
            "Image 561: Primary function is residential, using residential as the embedding keyword.\n",
            "Image 561: Extracted features and scaled by 0.8\n",
            "Image 561: Added embedding from residential.pt with weight 0.2\n",
            "Image 585: Primary function is industrial, using industrial as the embedding keyword.\n",
            "Image 585: Extracted features and scaled by 0.8\n",
            "Image 585: Added embedding from industrial.pt with weight 0.2\n",
            "Image 601: Primary function is outdoors and natural, using outdoors as the embedding keyword.\n",
            "Image 601: Extracted features and scaled by 0.8\n"
          ]
        },
        {
          "output_type": "stream",
          "name": "stderr",
          "text": [
            "Processing ./Data:  43%|████▎     | 66/152 [00:01<00:01, 55.84it/s]"
          ]
        },
        {
          "output_type": "stream",
          "name": "stdout",
          "text": [
            "Image 601: Added embedding from outdoors.pt with weight 0.2\n",
            "Image 606: Primary function is commercial, using commercial as the embedding keyword.\n",
            "Image 606: Extracted features and scaled by 0.8\n",
            "Image 606: Added embedding from commercial.pt with weight 0.2\n",
            "Image 616: Primary function is commercial, using commercial as the embedding keyword.\n",
            "Image 616: Extracted features and scaled by 0.8\n",
            "Image 616: Added embedding from commercial.pt with weight 0.2\n",
            "Image 618: Primary function is industrial, using industrial as the embedding keyword.\n",
            "Image 618: Extracted features and scaled by 0.8\n",
            "Image 618: Added embedding from industrial.pt with weight 0.2\n",
            "Image 621: Primary function is education, using education as the embedding keyword.\n",
            "Image 621: Extracted features and scaled by 0.8\n",
            "Image 621: Added embedding from education.pt with weight 0.2\n",
            "Image 629: Primary function is residential, using residential as the embedding keyword.\n",
            "Image 629: Extracted features and scaled by 0.8\n",
            "Image 629: Added embedding from residential.pt with weight 0.2\n",
            "Image 644: Primary function is commercial, using commercial as the embedding keyword.\n",
            "Image 644: Extracted features and scaled by 0.8\n",
            "Image 644: Added embedding from commercial.pt with weight 0.2\n",
            "Image 645: Primary function is residential, using residential as the embedding keyword.\n",
            "Image 645: Extracted features and scaled by 0.8\n",
            "Image 645: Added embedding from residential.pt with weight 0.2\n",
            "Image 666: Primary function is industrial, using industrial as the embedding keyword.\n",
            "Image 666: Extracted features and scaled by 0.8\n",
            "Image 666: Added embedding from industrial.pt with weight 0.2\n",
            "Image 670: Primary function is residential, using residential as the embedding keyword.\n",
            "Image 670: Extracted features and scaled by 0.8\n",
            "Image 670: Added embedding from residential.pt with weight 0.2\n",
            "Image 674: Primary function is residential, using residential as the embedding keyword.\n",
            "Image 674: Extracted features and scaled by 0.8\n",
            "Image 674: Added embedding from residential.pt with weight 0.2\n",
            "Image 676: Primary function is industrial, using industrial as the embedding keyword.\n",
            "Image 676: Extracted features and scaled by 0.8\n",
            "Image 676: Added embedding from industrial.pt with weight 0.2\n"
          ]
        },
        {
          "output_type": "stream",
          "name": "stderr",
          "text": [
            "Processing ./Data:  51%|█████▏    | 78/152 [00:01<00:01, 54.83it/s]"
          ]
        },
        {
          "output_type": "stream",
          "name": "stdout",
          "text": [
            "Image 678: Primary function is residential, using residential as the embedding keyword.\n",
            "Image 678: Extracted features and scaled by 0.8\n",
            "Image 678: Added embedding from residential.pt with weight 0.2\n",
            "Image 690: Primary function is commercial, using commercial as the embedding keyword.\n",
            "Image 690: Extracted features and scaled by 0.8\n",
            "Image 690: Added embedding from commercial.pt with weight 0.2\n",
            "Image 704: Primary function is sports and recreation, using sports as the embedding keyword.\n",
            "Image 704: Extracted features and scaled by 0.8\n",
            "Image 704: Added embedding from sports.pt with weight 0.2\n",
            "Image 712: Primary function is industrial, using industrial as the embedding keyword.\n",
            "Image 712: Extracted features and scaled by 0.8\n",
            "Image 712: Added embedding from industrial.pt with weight 0.2\n",
            "Image 715: Primary function is residential, using residential as the embedding keyword.\n",
            "Image 715: Extracted features and scaled by 0.8\n",
            "Image 715: Added embedding from residential.pt with weight 0.2\n",
            "Image 717: Primary function is sports and recreation, using sports as the embedding keyword.\n",
            "Image 717: Extracted features and scaled by 0.8\n",
            "Image 717: Added embedding from sports.pt with weight 0.2\n",
            "Image 747: Primary function is industrial, using industrial as the embedding keyword.\n",
            "Image 747: Extracted features and scaled by 0.8\n",
            "Image 747: Added embedding from industrial.pt with weight 0.2\n",
            "Image 758: Primary function is commercial, using commercial as the embedding keyword.\n",
            "Image 758: Extracted features and scaled by 0.8\n",
            "Image 758: Added embedding from commercial.pt with weight 0.2\n",
            "Image 769: Primary function is industrial, using industrial as the embedding keyword.\n",
            "Image 769: Extracted features and scaled by 0.8\n",
            "Image 769: Added embedding from industrial.pt with weight 0.2\n",
            "Image 774: Primary function is industrial, using industrial as the embedding keyword.\n",
            "Image 774: Extracted features and scaled by 0.8\n",
            "Image 774: Added embedding from industrial.pt with weight 0.2\n",
            "Image 793: Primary function is residential, using residential as the embedding keyword.\n"
          ]
        },
        {
          "output_type": "stream",
          "name": "stderr",
          "text": [
            "Processing ./Data:  59%|█████▉    | 90/152 [00:01<00:01, 55.81it/s]"
          ]
        },
        {
          "output_type": "stream",
          "name": "stdout",
          "text": [
            "Image 793: Extracted features and scaled by 0.8\n",
            "Image 793: Added embedding from residential.pt with weight 0.2\n",
            "Image 825: Primary function is outdoors and natural, using outdoors as the embedding keyword.\n",
            "Image 825: Extracted features and scaled by 0.8\n",
            "Image 825: Added embedding from outdoors.pt with weight 0.2\n",
            "Image 826: Primary function is transportation, using transportation as the embedding keyword.\n",
            "Image 826: Extracted features and scaled by 0.8\n",
            "Image 826: Added embedding from transportation.pt with weight 0.2\n",
            "Image 827: Primary function is industrial, using industrial as the embedding keyword.\n",
            "Image 827: Extracted features and scaled by 0.8\n",
            "Image 827: Added embedding from industrial.pt with weight 0.2\n",
            "Image 830: Primary function is residential, using residential as the embedding keyword.\n",
            "Image 830: Extracted features and scaled by 0.8\n",
            "Image 830: Added embedding from residential.pt with weight 0.2\n",
            "Image 840: Primary function is industrial, using industrial as the embedding keyword.\n",
            "Image 840: Extracted features and scaled by 0.8\n",
            "Image 840: Added embedding from industrial.pt with weight 0.2\n",
            "Image 849: Primary function is residential, using residential as the embedding keyword.\n",
            "Image 849: Extracted features and scaled by 0.8\n",
            "Image 849: Added embedding from residential.pt with weight 0.2\n",
            "Image 850: Primary function is industrial, using industrial as the embedding keyword.\n",
            "Image 850: Extracted features and scaled by 0.8\n",
            "Image 850: Added embedding from industrial.pt with weight 0.2\n",
            "Image 851: Primary function is residential, using residential as the embedding keyword.\n",
            "Image 851: Extracted features and scaled by 0.8\n",
            "Image 851: Added embedding from residential.pt with weight 0.2\n",
            "Image 871: Primary function is residential, using residential as the embedding keyword.\n",
            "Image 871: Extracted features and scaled by 0.8\n",
            "Image 871: Added embedding from residential.pt with weight 0.2\n",
            "Image 885: Primary function is industrial, using industrial as the embedding keyword.\n",
            "Image 885: Extracted features and scaled by 0.8\n",
            "Image 885: Added embedding from industrial.pt with weight 0.2\n",
            "Image 890: Primary function is health care, using health as the embedding keyword.\n",
            "Image 890: Extracted features and scaled by 0.8\n",
            "Image 890: Added embedding from health.pt with weight 0.2\n",
            "Image 910: Primary function is industrial, using industrial as the embedding keyword.\n"
          ]
        },
        {
          "output_type": "stream",
          "name": "stderr",
          "text": [
            "Processing ./Data:  67%|██████▋   | 102/152 [00:01<00:00, 56.69it/s]"
          ]
        },
        {
          "output_type": "stream",
          "name": "stdout",
          "text": [
            "Image 910: Extracted features and scaled by 0.8\n",
            "Image 910: Added embedding from industrial.pt with weight 0.2\n",
            "Image 912: Primary function is residential, using residential as the embedding keyword.\n",
            "Image 912: Extracted features and scaled by 0.8\n",
            "Image 912: Added embedding from residential.pt with weight 0.2\n",
            "Image 914: Primary function is residential, using residential as the embedding keyword.\n",
            "Image 914: Extracted features and scaled by 0.8\n",
            "Image 914: Added embedding from residential.pt with weight 0.2\n",
            "Image 932: Primary function is hotel, using hotel as the embedding keyword.\n",
            "Image 932: Extracted features and scaled by 0.8\n",
            "Image 932: Added embedding from hotel.pt with weight 0.2\n",
            "Image 936: Primary function is residential, using residential as the embedding keyword.\n",
            "Image 936: Extracted features and scaled by 0.8\n",
            "Image 936: Added embedding from residential.pt with weight 0.2\n",
            "Image 947: Primary function is residential, using residential as the embedding keyword.\n",
            "Image 947: Extracted features and scaled by 0.8\n",
            "Image 947: Added embedding from residential.pt with weight 0.2\n",
            "Image 960: Primary function is commercial, using commercial as the embedding keyword.\n",
            "Image 960: Extracted features and scaled by 0.8\n",
            "Image 960: Added embedding from commercial.pt with weight 0.2\n",
            "Image 972: Primary function is outdoors and natural, using outdoors as the embedding keyword.\n",
            "Image 972: Extracted features and scaled by 0.8\n",
            "Image 972: Added embedding from outdoors.pt with weight 0.2\n",
            "Image 989: Primary function is residential, using residential as the embedding keyword.\n",
            "Image 989: Extracted features and scaled by 0.8\n",
            "Image 989: Added embedding from residential.pt with weight 0.2\n",
            "Image 991: Primary function is outdoors and natural, using outdoors as the embedding keyword.\n",
            "Image 991: Extracted features and scaled by 0.8\n",
            "Image 991: Added embedding from outdoors.pt with weight 0.2\n",
            "Image 992: Primary function is residential, using residential as the embedding keyword.\n",
            "Image 992: Extracted features and scaled by 0.8\n",
            "Image 992: Added embedding from residential.pt with weight 0.2\n",
            "Image 1007: Primary function is commercial, using commercial as the embedding keyword.\n",
            "Image 1007: Extracted features and scaled by 0.8\n",
            "Image 1007: Added embedding from commercial.pt with weight 0.2\n",
            "Image 1037: Primary function is residential, using residential as the embedding keyword.\n"
          ]
        },
        {
          "output_type": "stream",
          "name": "stderr",
          "text": [
            "Processing ./Data:  75%|███████▌  | 114/152 [00:02<00:00, 57.10it/s]"
          ]
        },
        {
          "output_type": "stream",
          "name": "stdout",
          "text": [
            "Image 1037: Extracted features and scaled by 0.8\n",
            "Image 1037: Added embedding from residential.pt with weight 0.2\n",
            "Image 1039: Primary function is hotel, using hotel as the embedding keyword.\n",
            "Image 1039: Extracted features and scaled by 0.8\n",
            "Image 1039: Added embedding from hotel.pt with weight 0.2\n",
            "Image 1052: Primary function is residential, using residential as the embedding keyword.\n",
            "Image 1052: Extracted features and scaled by 0.8\n",
            "Image 1052: Added embedding from residential.pt with weight 0.2\n",
            "Image 1094: Primary function is commercial, using commercial as the embedding keyword.\n",
            "Image 1094: Extracted features and scaled by 0.8\n",
            "Image 1094: Added embedding from commercial.pt with weight 0.2\n",
            "Image 1095: Primary function is residential, using residential as the embedding keyword.\n",
            "Image 1095: Extracted features and scaled by 0.8\n",
            "Image 1095: Added embedding from residential.pt with weight 0.2\n",
            "Image 1097: Primary function is industrial, using industrial as the embedding keyword.\n",
            "Image 1097: Extracted features and scaled by 0.8\n",
            "Image 1097: Added embedding from industrial.pt with weight 0.2\n",
            "Image 1104: Primary function is industrial, using industrial as the embedding keyword.\n",
            "Image 1104: Extracted features and scaled by 0.8\n",
            "Image 1104: Added embedding from industrial.pt with weight 0.2\n",
            "Image 1112: Primary function is education, using education as the embedding keyword.\n",
            "Image 1112: Extracted features and scaled by 0.8\n",
            "Image 1112: Added embedding from education.pt with weight 0.2\n",
            "Image 1117: Primary function is industrial, using industrial as the embedding keyword.\n",
            "Image 1117: Extracted features and scaled by 0.8\n",
            "Image 1117: Added embedding from industrial.pt with weight 0.2\n",
            "Image 1140: Primary function is commercial, using commercial as the embedding keyword.\n",
            "Image 1140: Extracted features and scaled by 0.8\n",
            "Image 1140: Added embedding from commercial.pt with weight 0.2\n",
            "Image 1142: Primary function is education, using education as the embedding keyword.\n",
            "Image 1142: Extracted features and scaled by 0.8\n",
            "Image 1142: Added embedding from education.pt with weight 0.2\n",
            "Image 1162: Primary function is civic, governmental, and cultural, using civic as the embedding keyword.\n",
            "Image 1162: Extracted features and scaled by 0.8\n",
            "Image 1162: Added embedding from civic.pt with weight 0.2\n",
            "Image 1172: Primary function is outdoors and natural, using outdoors as the embedding keyword.\n"
          ]
        },
        {
          "output_type": "stream",
          "name": "stderr",
          "text": [
            "Processing ./Data:  83%|████████▎ | 126/152 [00:02<00:00, 57.46it/s]"
          ]
        },
        {
          "output_type": "stream",
          "name": "stdout",
          "text": [
            "Image 1172: Extracted features and scaled by 0.8\n",
            "Image 1172: Added embedding from outdoors.pt with weight 0.2\n",
            "Image 1193: Primary function is hotel, using hotel as the embedding keyword.\n",
            "Image 1193: Extracted features and scaled by 0.8\n",
            "Image 1193: Added embedding from hotel.pt with weight 0.2\n",
            "Image 1194: Primary function is commercial, using commercial as the embedding keyword.\n",
            "Image 1194: Extracted features and scaled by 0.8\n",
            "Image 1194: Added embedding from commercial.pt with weight 0.2\n",
            "Image 1201: Primary function is residential, using residential as the embedding keyword.\n",
            "Image 1201: Extracted features and scaled by 0.8\n",
            "Image 1201: Added embedding from residential.pt with weight 0.2\n",
            "Image 1202: Primary function is industrial, using industrial as the embedding keyword.\n",
            "Image 1202: Extracted features and scaled by 0.8\n",
            "Image 1202: Added embedding from industrial.pt with weight 0.2\n",
            "Image 1206: Primary function is industrial, using industrial as the embedding keyword.\n",
            "Image 1206: Extracted features and scaled by 0.8\n",
            "Image 1206: Added embedding from industrial.pt with weight 0.2\n",
            "Image 1216: Primary function is residential, using residential as the embedding keyword.\n",
            "Image 1216: Extracted features and scaled by 0.8\n",
            "Image 1216: Added embedding from residential.pt with weight 0.2\n",
            "Image 1224: Primary function is industrial, using industrial as the embedding keyword.\n",
            "Image 1224: Extracted features and scaled by 0.8\n",
            "Image 1224: Added embedding from industrial.pt with weight 0.2\n",
            "Image 1271: Primary function is civic, governmental, and cultural, using civic as the embedding keyword.\n",
            "Image 1271: Extracted features and scaled by 0.8\n",
            "Image 1271: Added embedding from civic.pt with weight 0.2\n",
            "Image 1274: Primary function is commercial, using commercial as the embedding keyword.\n",
            "Image 1274: Extracted features and scaled by 0.8\n",
            "Image 1274: Added embedding from commercial.pt with weight 0.2\n",
            "Image 1277: Primary function is health care, using health as the embedding keyword.\n",
            "Image 1277: Extracted features and scaled by 0.8\n",
            "Image 1277: Added embedding from health.pt with weight 0.2\n",
            "Image 1290: Primary function is civic, governmental, and cultural, using civic as the embedding keyword.\n",
            "Image 1290: Extracted features and scaled by 0.8\n",
            "Image 1290: Added embedding from civic.pt with weight 0.2\n",
            "Image 1291: Primary function is civic, governmental, and cultural, using civic as the embedding keyword.\n"
          ]
        },
        {
          "output_type": "stream",
          "name": "stderr",
          "text": [
            "Processing ./Data:  91%|█████████ | 138/152 [00:02<00:00, 56.98it/s]"
          ]
        },
        {
          "output_type": "stream",
          "name": "stdout",
          "text": [
            "Image 1291: Extracted features and scaled by 0.8\n",
            "Image 1291: Added embedding from civic.pt with weight 0.2\n",
            "Image 1293: Primary function is civic, governmental, and cultural, using civic as the embedding keyword.\n",
            "Image 1293: Extracted features and scaled by 0.8\n",
            "Image 1293: Added embedding from civic.pt with weight 0.2\n",
            "Image 1300: Primary function is education, using education as the embedding keyword.\n",
            "Image 1300: Extracted features and scaled by 0.8\n",
            "Image 1300: Added embedding from education.pt with weight 0.2\n",
            "Image 1309: Primary function is education, using education as the embedding keyword.\n",
            "Image 1309: Extracted features and scaled by 0.8\n",
            "Image 1309: Added embedding from education.pt with weight 0.2\n",
            "Image 1312: Primary function is education, using education as the embedding keyword.\n",
            "Image 1312: Extracted features and scaled by 0.8\n",
            "Image 1312: Added embedding from education.pt with weight 0.2\n",
            "Image 1332: Primary function is education, using education as the embedding keyword.\n",
            "Image 1332: Extracted features and scaled by 0.8\n",
            "Image 1332: Added embedding from education.pt with weight 0.2\n",
            "Image 1341: Primary function is sports and recreation, using sports as the embedding keyword.\n",
            "Image 1341: Extracted features and scaled by 0.8\n",
            "Image 1341: Added embedding from sports.pt with weight 0.2\n",
            "Image 1343: Primary function is education, using education as the embedding keyword.\n",
            "Image 1343: Extracted features and scaled by 0.8\n",
            "Image 1343: Added embedding from education.pt with weight 0.2\n",
            "Image 1370: Primary function is health care, using health as the embedding keyword.\n",
            "Image 1370: Extracted features and scaled by 0.8\n",
            "Image 1370: Added embedding from health.pt with weight 0.2\n",
            "Image 1377: Primary function is sports and recreation, using sports as the embedding keyword.\n",
            "Image 1377: Extracted features and scaled by 0.8\n",
            "Image 1377: Added embedding from sports.pt with weight 0.2\n",
            "Image 1395: Primary function is education, using education as the embedding keyword.\n",
            "Image 1395: Extracted features and scaled by 0.8\n",
            "Image 1395: Added embedding from education.pt with weight 0.2\n",
            "Image 1400: Primary function is education, using education as the embedding keyword.\n",
            "Image 1400: Extracted features and scaled by 0.8\n",
            "Image 1400: Added embedding from education.pt with weight 0.2\n",
            "Image 1405: Primary function is education, using education as the embedding keyword.\n"
          ]
        },
        {
          "output_type": "stream",
          "name": "stderr",
          "text": [
            "Processing ./Data: 100%|██████████| 152/152 [00:02<00:00, 56.59it/s]"
          ]
        },
        {
          "output_type": "stream",
          "name": "stdout",
          "text": [
            "Image 1405: Extracted features and scaled by 0.8\n",
            "Image 1405: Added embedding from education.pt with weight 0.2\n",
            "Image 1409: Primary function is health care, using health as the embedding keyword.\n",
            "Image 1409: Extracted features and scaled by 0.8\n",
            "Image 1409: Added embedding from health.pt with weight 0.2\n",
            "Image 1412: Primary function is health care, using health as the embedding keyword.\n",
            "Image 1412: Extracted features and scaled by 0.8\n",
            "Image 1412: Added embedding from health.pt with weight 0.2\n",
            "Image 1432: Primary function is civic, governmental, and cultural, using civic as the embedding keyword.\n",
            "Image 1432: Extracted features and scaled by 0.8\n",
            "Image 1432: Added embedding from civic.pt with weight 0.2\n",
            "Image 1443: Primary function is education, using education as the embedding keyword.\n",
            "Image 1443: Extracted features and scaled by 0.8\n",
            "Image 1443: Added embedding from education.pt with weight 0.2\n",
            "Image 1466: Primary function is education, using education as the embedding keyword.\n",
            "Image 1466: Extracted features and scaled by 0.8\n",
            "Image 1466: Added embedding from education.pt with weight 0.2\n",
            "Image 1483: Primary function is sports and recreation, using sports as the embedding keyword.\n",
            "Image 1483: Extracted features and scaled by 0.8\n",
            "Image 1483: Added embedding from sports.pt with weight 0.2\n",
            "Image 1487: Primary function is hotel, using hotel as the embedding keyword.\n",
            "Image 1487: Extracted features and scaled by 0.8\n",
            "Image 1487: Added embedding from hotel.pt with weight 0.2\n",
            "Image 1493: Primary function is education, using education as the embedding keyword.\n",
            "Image 1493: Extracted features and scaled by 0.8\n",
            "Image 1493: Added embedding from education.pt with weight 0.2\n",
            "Image 1505: Primary function is health care, using health as the embedding keyword.\n",
            "Image 1505: Extracted features and scaled by 0.8\n",
            "Image 1505: Added embedding from health.pt with weight 0.2\n",
            "Image 1509: Primary function is civic, governmental, and cultural, using civic as the embedding keyword.\n",
            "Image 1509: Extracted features and scaled by 0.8\n",
            "Image 1509: Added embedding from civic.pt with weight 0.2\n",
            "Image 1510: Primary function is civic, governmental, and cultural, using civic as the embedding keyword.\n",
            "Image 1510: Extracted features and scaled by 0.8\n",
            "Image 1510: Added embedding from civic.pt with weight 0.2\n",
            "Features saved to ./imgs_anchor.pt\n"
          ]
        },
        {
          "output_type": "stream",
          "name": "stderr",
          "text": [
            "\n"
          ]
        }
      ]
    }
  ]
}